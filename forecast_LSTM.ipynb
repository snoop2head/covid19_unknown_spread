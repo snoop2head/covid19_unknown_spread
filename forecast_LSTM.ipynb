{
  "nbformat": 4,
  "nbformat_minor": 0,
  "metadata": {
    "language_info": {
      "codemirror_mode": {
        "name": "ipython",
        "version": 3
      },
      "file_extension": ".py",
      "mimetype": "text/x-python",
      "name": "python",
      "nbconvert_exporter": "python",
      "pygments_lexer": "ipython3",
      "version": "3.7.4-final"
    },
    "orig_nbformat": 2,
    "kernelspec": {
      "name": "python_defaultSpec_1595456381049",
      "display_name": "Python 3.7.4 64-bit ('base': conda)"
    },
    "colab": {
      "name": "forecast_LSTM.ipynb",
      "provenance": [],
      "collapsed_sections": [],
      "machine_shape": "hm",
      "include_colab_link": true
    },
    "accelerator": "GPU"
  },
  "cells": [
    {
      "cell_type": "markdown",
      "metadata": {
        "id": "view-in-github",
        "colab_type": "text"
      },
      "source": [
        "<a href=\"https://colab.research.google.com/github/snoop2head/covid19_unknown_spread/blob/master/forecast_LSTM.ipynb\" target=\"_parent\"><img src=\"https://colab.research.google.com/assets/colab-badge.svg\" alt=\"Open In Colab\"/></a>"
      ]
    },
    {
      "cell_type": "markdown",
      "metadata": {
        "id": "XGFldZbskJuF",
        "colab_type": "text"
      },
      "source": [
        "<p>\n",
        "Prepared by Vytautas Bielinskas. 2020. <br>\n",
        "Download data from: https://finance.yahoo.com/quote/GOOG/history/\n",
        "</p>\n",
        "\n",
        "<h2>PART 1. Data Pre-processing</h2>"
      ]
    },
    {
      "cell_type": "markdown",
      "metadata": {
        "id": "EkELSagykJuF",
        "colab_type": "text"
      },
      "source": [
        "<h3>Step #0. Fire the system</h3>"
      ]
    },
    {
      "cell_type": "code",
      "metadata": {
        "tags": [],
        "id": "1jT2wrd7kJuG",
        "colab_type": "code",
        "colab": {}
      },
      "source": [
        "# Import modules and packages\n",
        "import numpy as np\n",
        "import pandas as pd\n",
        "import matplotlib.pyplot as plt\n",
        "import datetime as dt\n",
        "from datetime import datetime\n",
        "\n",
        "from keras.callbacks import EarlyStopping, ReduceLROnPlateau, ModelCheckpoint, TensorBoard\n",
        "\n",
        "%matplotlib inline"
      ],
      "execution_count": 1,
      "outputs": []
    },
    {
      "cell_type": "code",
      "metadata": {
        "id": "JMV8QTgKpHiv",
        "colab_type": "code",
        "colab": {
          "base_uri": "https://localhost:8080/",
          "height": 35
        },
        "outputId": "a5a98747-3b77-41d4-b892-4f496edd68a0"
      },
      "source": [
        "!git clone https://github.com/snoop2head/covid19_unknown_spread.git"
      ],
      "execution_count": 2,
      "outputs": [
        {
          "output_type": "stream",
          "text": [
            "fatal: destination path 'covid19_unknown_spread' already exists and is not an empty directory.\n"
          ],
          "name": "stdout"
        }
      ]
    },
    {
      "cell_type": "code",
      "metadata": {
        "id": "inX5sMF9pPjn",
        "colab_type": "code",
        "colab": {
          "base_uri": "https://localhost:8080/",
          "height": 35
        },
        "outputId": "b8133758-1469-4624-8cb2-145ca7ef5784"
      },
      "source": [
        "%cd covid19_unknown_spread/"
      ],
      "execution_count": 3,
      "outputs": [
        {
          "output_type": "stream",
          "text": [
            "/content/covid19_unknown_spread\n"
          ],
          "name": "stdout"
        }
      ]
    },
    {
      "cell_type": "code",
      "metadata": {
        "id": "wr8HGdSgpT0-",
        "colab_type": "code",
        "colab": {
          "base_uri": "https://localhost:8080/",
          "height": 105
        },
        "outputId": "b09e2fa3-b3e0-492a-f7f5-32d859e823f1"
      },
      "source": [
        "!ls -a"
      ],
      "execution_count": 4,
      "outputs": [
        {
          "output_type": "stream",
          "text": [
            ".\t\t\t      .git\t       README.md\n",
            "..\t\t\t      .gitignore       track_unknown_paths.ipynb\n",
            "dataset\t\t\t      img\t       weights.h5\n",
            "dataset_predict\t\t      korean-calendar  wrangle_prediction.ipynb\n",
            "forecast_seoul_covid19.ipynb  logs\n"
          ],
          "name": "stdout"
        }
      ]
    },
    {
      "cell_type": "markdown",
      "metadata": {
        "id": "JdXQgw_pkJuJ",
        "colab_type": "text"
      },
      "source": [
        "<h3>Step #1. Read data</h3>"
      ]
    },
    {
      "cell_type": "code",
      "metadata": {
        "tags": [],
        "id": "oM8HBy2vkJuK",
        "colab_type": "code",
        "colab": {
          "base_uri": "https://localhost:8080/",
          "height": 206
        },
        "outputId": "6ae3b2da-5b94-4acc-fcef-a1ebba30a8a0"
      },
      "source": [
        "# Importing Training Set\n",
        "dataset_train = pd.read_csv('./dataset_predict/df_train.csv')\n",
        "dataset_train = dataset_train.fillna(\"0\")\n",
        "dataset_train.head()"
      ],
      "execution_count": 5,
      "outputs": [
        {
          "output_type": "execute_result",
          "data": {
            "text/html": [
              "<div>\n",
              "<style scoped>\n",
              "    .dataframe tbody tr th:only-of-type {\n",
              "        vertical-align: middle;\n",
              "    }\n",
              "\n",
              "    .dataframe tbody tr th {\n",
              "        vertical-align: top;\n",
              "    }\n",
              "\n",
              "    .dataframe thead th {\n",
              "        text-align: right;\n",
              "    }\n",
              "</style>\n",
              "<table border=\"1\" class=\"dataframe\">\n",
              "  <thead>\n",
              "    <tr style=\"text-align: right;\">\n",
              "      <th></th>\n",
              "      <th>date</th>\n",
              "      <th>new_confirmed</th>\n",
              "      <th>new_untracked</th>\n",
              "      <th>new_no_paths</th>\n",
              "      <th>is_holiday</th>\n",
              "      <th>is_weekend</th>\n",
              "      <th>gov_policy</th>\n",
              "    </tr>\n",
              "  </thead>\n",
              "  <tbody>\n",
              "    <tr>\n",
              "      <th>0</th>\n",
              "      <td>2020-01-24</td>\n",
              "      <td>1</td>\n",
              "      <td>0</td>\n",
              "      <td>0</td>\n",
              "      <td>1</td>\n",
              "      <td>1</td>\n",
              "      <td>0</td>\n",
              "    </tr>\n",
              "    <tr>\n",
              "      <th>1</th>\n",
              "      <td>2020-01-25</td>\n",
              "      <td>0</td>\n",
              "      <td>0</td>\n",
              "      <td>0</td>\n",
              "      <td>1</td>\n",
              "      <td>1</td>\n",
              "      <td>0</td>\n",
              "    </tr>\n",
              "    <tr>\n",
              "      <th>2</th>\n",
              "      <td>2020-01-26</td>\n",
              "      <td>0</td>\n",
              "      <td>0</td>\n",
              "      <td>0</td>\n",
              "      <td>1</td>\n",
              "      <td>1</td>\n",
              "      <td>0</td>\n",
              "    </tr>\n",
              "    <tr>\n",
              "      <th>3</th>\n",
              "      <td>2020-01-27</td>\n",
              "      <td>0</td>\n",
              "      <td>0</td>\n",
              "      <td>0</td>\n",
              "      <td>0</td>\n",
              "      <td>0</td>\n",
              "      <td>0</td>\n",
              "    </tr>\n",
              "    <tr>\n",
              "      <th>4</th>\n",
              "      <td>2020-01-28</td>\n",
              "      <td>0</td>\n",
              "      <td>0</td>\n",
              "      <td>0</td>\n",
              "      <td>0</td>\n",
              "      <td>0</td>\n",
              "      <td>0</td>\n",
              "    </tr>\n",
              "  </tbody>\n",
              "</table>\n",
              "</div>"
            ],
            "text/plain": [
              "         date  new_confirmed  new_untracked  ... is_holiday  is_weekend  gov_policy\n",
              "0  2020-01-24              1              0  ...          1           1           0\n",
              "1  2020-01-25              0              0  ...          1           1           0\n",
              "2  2020-01-26              0              0  ...          1           1           0\n",
              "3  2020-01-27              0              0  ...          0           0           0\n",
              "4  2020-01-28              0              0  ...          0           0           0\n",
              "\n",
              "[5 rows x 7 columns]"
            ]
          },
          "metadata": {
            "tags": []
          },
          "execution_count": 5
        }
      ]
    },
    {
      "cell_type": "code",
      "metadata": {
        "id": "h4sY4o4XBj5F",
        "colab_type": "code",
        "colab": {
          "base_uri": "https://localhost:8080/",
          "height": 70
        },
        "outputId": "88651d32-60b2-44d3-d24f-5be49341824d"
      },
      "source": [
        "# Select features (columns) to be involved intro training and predictions\n",
        "cols = list(dataset_train)[1:5]\n",
        "\n",
        "# Extract dates (will be used in visualization)\n",
        "datelist_train = list(dataset_train['date'])\n",
        "datelist_train = [dt.datetime.strptime(date, '%Y-%m-%d').date() for date in datelist_train]\n",
        "\n",
        "print('Training set shape == {}'.format(dataset_train.shape))\n",
        "print('All timestamps == {}'.format(len(datelist_train)))\n",
        "print('Featured selected: {}'.format(cols))"
      ],
      "execution_count": 6,
      "outputs": [
        {
          "output_type": "stream",
          "text": [
            "Training set shape == (239, 7)\n",
            "All timestamps == 239\n",
            "Featured selected: ['new_confirmed', 'new_untracked', 'new_no_paths', 'is_holiday']\n"
          ],
          "name": "stdout"
        }
      ]
    },
    {
      "cell_type": "markdown",
      "metadata": {
        "id": "GjjaQCHLkJuM",
        "colab_type": "text"
      },
      "source": [
        "<h3>Step #2. Data pre-processing</h3>\n",
        "<p>\n",
        "Removing all commas and convert data to matrix shape format.\n",
        "</p>"
      ]
    },
    {
      "cell_type": "code",
      "metadata": {
        "tags": [],
        "id": "8GaVoXjjkJuN",
        "colab_type": "code",
        "colab": {
          "base_uri": "https://localhost:8080/",
          "height": 424
        },
        "outputId": "1b91adad-63f9-4685-ff2e-bca337a1ab6e"
      },
      "source": [
        "dataset_train = dataset_train[cols].astype(str)\n",
        "for i in cols:\n",
        "    for j in range(0, len(dataset_train)):\n",
        "        dataset_train[i][j] = dataset_train[i][j].replace(',', '')\n",
        "        dataset_train[i][j] = dataset_train[i][j].replace('True', '1')\n",
        "        dataset_train[i][j] = dataset_train[i][j].replace('False', '0')\n",
        "\n",
        "dataset_train = dataset_train.astype(float)\n",
        "\n",
        "dataset_train"
      ],
      "execution_count": 7,
      "outputs": [
        {
          "output_type": "execute_result",
          "data": {
            "text/html": [
              "<div>\n",
              "<style scoped>\n",
              "    .dataframe tbody tr th:only-of-type {\n",
              "        vertical-align: middle;\n",
              "    }\n",
              "\n",
              "    .dataframe tbody tr th {\n",
              "        vertical-align: top;\n",
              "    }\n",
              "\n",
              "    .dataframe thead th {\n",
              "        text-align: right;\n",
              "    }\n",
              "</style>\n",
              "<table border=\"1\" class=\"dataframe\">\n",
              "  <thead>\n",
              "    <tr style=\"text-align: right;\">\n",
              "      <th></th>\n",
              "      <th>new_confirmed</th>\n",
              "      <th>new_untracked</th>\n",
              "      <th>new_no_paths</th>\n",
              "      <th>is_holiday</th>\n",
              "    </tr>\n",
              "  </thead>\n",
              "  <tbody>\n",
              "    <tr>\n",
              "      <th>0</th>\n",
              "      <td>1.0</td>\n",
              "      <td>0.0</td>\n",
              "      <td>0.0</td>\n",
              "      <td>1.0</td>\n",
              "    </tr>\n",
              "    <tr>\n",
              "      <th>1</th>\n",
              "      <td>0.0</td>\n",
              "      <td>0.0</td>\n",
              "      <td>0.0</td>\n",
              "      <td>1.0</td>\n",
              "    </tr>\n",
              "    <tr>\n",
              "      <th>2</th>\n",
              "      <td>0.0</td>\n",
              "      <td>0.0</td>\n",
              "      <td>0.0</td>\n",
              "      <td>1.0</td>\n",
              "    </tr>\n",
              "    <tr>\n",
              "      <th>3</th>\n",
              "      <td>0.0</td>\n",
              "      <td>0.0</td>\n",
              "      <td>0.0</td>\n",
              "      <td>0.0</td>\n",
              "    </tr>\n",
              "    <tr>\n",
              "      <th>4</th>\n",
              "      <td>0.0</td>\n",
              "      <td>0.0</td>\n",
              "      <td>0.0</td>\n",
              "      <td>0.0</td>\n",
              "    </tr>\n",
              "    <tr>\n",
              "      <th>...</th>\n",
              "      <td>...</td>\n",
              "      <td>...</td>\n",
              "      <td>...</td>\n",
              "      <td>...</td>\n",
              "    </tr>\n",
              "    <tr>\n",
              "      <th>234</th>\n",
              "      <td>36.0</td>\n",
              "      <td>10.0</td>\n",
              "      <td>10.0</td>\n",
              "      <td>0.0</td>\n",
              "    </tr>\n",
              "    <tr>\n",
              "      <th>235</th>\n",
              "      <td>49.0</td>\n",
              "      <td>14.0</td>\n",
              "      <td>13.0</td>\n",
              "      <td>0.0</td>\n",
              "    </tr>\n",
              "    <tr>\n",
              "      <th>236</th>\n",
              "      <td>62.0</td>\n",
              "      <td>27.0</td>\n",
              "      <td>16.0</td>\n",
              "      <td>0.0</td>\n",
              "    </tr>\n",
              "    <tr>\n",
              "      <th>237</th>\n",
              "      <td>43.0</td>\n",
              "      <td>13.0</td>\n",
              "      <td>15.0</td>\n",
              "      <td>0.0</td>\n",
              "    </tr>\n",
              "    <tr>\n",
              "      <th>238</th>\n",
              "      <td>40.0</td>\n",
              "      <td>8.0</td>\n",
              "      <td>10.0</td>\n",
              "      <td>0.0</td>\n",
              "    </tr>\n",
              "  </tbody>\n",
              "</table>\n",
              "<p>239 rows × 4 columns</p>\n",
              "</div>"
            ],
            "text/plain": [
              "     new_confirmed  new_untracked  new_no_paths  is_holiday\n",
              "0              1.0            0.0           0.0         1.0\n",
              "1              0.0            0.0           0.0         1.0\n",
              "2              0.0            0.0           0.0         1.0\n",
              "3              0.0            0.0           0.0         0.0\n",
              "4              0.0            0.0           0.0         0.0\n",
              "..             ...            ...           ...         ...\n",
              "234           36.0           10.0          10.0         0.0\n",
              "235           49.0           14.0          13.0         0.0\n",
              "236           62.0           27.0          16.0         0.0\n",
              "237           43.0           13.0          15.0         0.0\n",
              "238           40.0            8.0          10.0         0.0\n",
              "\n",
              "[239 rows x 4 columns]"
            ]
          },
          "metadata": {
            "tags": []
          },
          "execution_count": 7
        }
      ]
    },
    {
      "cell_type": "code",
      "metadata": {
        "id": "2965N9VECjr_",
        "colab_type": "code",
        "colab": {
          "base_uri": "https://localhost:8080/",
          "height": 1000
        },
        "outputId": "b96ee372-8679-4ad6-c180-4b3de2201154"
      },
      "source": [
        "# Using multiple features (predictors)\n",
        "training_set = dataset_train.values\n",
        "\n",
        "print('Shape of training set == {}.'.format(training_set.shape))\n",
        "training_set"
      ],
      "execution_count": 8,
      "outputs": [
        {
          "output_type": "stream",
          "text": [
            "Shape of training set == (239, 4).\n"
          ],
          "name": "stdout"
        },
        {
          "output_type": "execute_result",
          "data": {
            "text/plain": [
              "array([[  1.,   0.,   0.,   1.],\n",
              "       [  0.,   0.,   0.,   1.],\n",
              "       [  0.,   0.,   0.,   1.],\n",
              "       [  0.,   0.,   0.,   0.],\n",
              "       [  0.,   0.,   0.,   0.],\n",
              "       [  0.,   0.,   0.,   0.],\n",
              "       [  3.,   0.,   1.,   0.],\n",
              "       [  3.,   0.,   2.,   0.],\n",
              "       [  0.,   0.,   0.,   0.],\n",
              "       [  1.,   0.,   0.,   0.],\n",
              "       [  0.,   0.,   0.,   0.],\n",
              "       [  0.,   0.,   0.,   0.],\n",
              "       [  2.,   0.,   0.,   0.],\n",
              "       [  1.,   0.,   0.,   0.],\n",
              "       [  1.,   0.,   0.,   0.],\n",
              "       [  0.,   0.,   0.,   0.],\n",
              "       [  0.,   0.,   0.,   0.],\n",
              "       [  0.,   0.,   0.,   0.],\n",
              "       [  0.,   0.,   0.,   0.],\n",
              "       [  0.,   0.,   0.,   0.],\n",
              "       [  0.,   0.,   0.,   0.],\n",
              "       [  0.,   0.,   0.,   0.],\n",
              "       [  0.,   0.,   0.,   0.],\n",
              "       [  2.,   0.,   2.,   0.],\n",
              "       [  0.,   0.,   0.,   0.],\n",
              "       [  0.,   0.,   0.,   0.],\n",
              "       [  2.,   0.,   2.,   0.],\n",
              "       [  5.,   0.,   4.,   0.],\n",
              "       [  2.,   0.,   2.,   0.],\n",
              "       [  4.,   0.,   2.,   0.],\n",
              "       [  4.,   0.,   1.,   0.],\n",
              "       [  4.,   0.,   1.,   0.],\n",
              "       [ 16.,   6.,   8.,   0.],\n",
              "       [ 10.,   1.,   1.,   0.],\n",
              "       [ 13.,   2.,   4.,   0.],\n",
              "       [  8.,   2.,   3.,   0.],\n",
              "       [  5.,   0.,   1.,   0.],\n",
              "       [  6.,   0.,   2.,   1.],\n",
              "       [  6.,   2.,   0.,   0.],\n",
              "       [  1.,   0.,   1.,   0.],\n",
              "       [  5.,   1.,   1.,   0.],\n",
              "       [  1.,   1.,   0.,   0.],\n",
              "       [  7.,   0.,   4.,   0.],\n",
              "       [  7.,   0.,   5.,   0.],\n",
              "       [ 10.,   0.,   3.,   0.],\n",
              "       [ 26.,   3.,   1.,   0.],\n",
              "       [ 46.,   0.,   3.,   0.],\n",
              "       [ 17.,   4.,   0.,   0.],\n",
              "       [ 12.,   1.,   1.,   0.],\n",
              "       [  9.,   1.,   1.,   0.],\n",
              "       [  8.,   1.,   3.,   0.],\n",
              "       [  6.,   1.,   2.,   0.],\n",
              "       [ 13.,   5.,   1.,   0.],\n",
              "       [  4.,   0.,   0.,   0.],\n",
              "       [ 11.,   2.,   0.,   0.],\n",
              "       [ 17.,   1.,   2.,   0.],\n",
              "       [ 17.,   1.,   4.,   0.],\n",
              "       [  8.,   0.,   3.,   0.],\n",
              "       [  6.,   0.,   1.,   0.],\n",
              "       [  5.,   1.,   0.,   0.],\n",
              "       [ 14.,   0.,   3.,   0.],\n",
              "       [ 13.,   1.,   1.,   0.],\n",
              "       [ 14.,   0.,   2.,   0.],\n",
              "       [ 15.,   0.,   0.,   0.],\n",
              "       [ 22.,   0.,   2.,   0.],\n",
              "       [ 22.,   1.,   2.,   0.],\n",
              "       [ 19.,   0.,   2.,   0.],\n",
              "       [ 24.,   1.,   0.,   0.],\n",
              "       [ 16.,   0.,   0.,   0.],\n",
              "       [ 19.,   0.,   1.,   0.],\n",
              "       [ 20.,   2.,   4.,   0.],\n",
              "       [ 19.,   0.,   7.,   0.],\n",
              "       [ 11.,   1.,   0.,   0.],\n",
              "       [  8.,   1.,   1.,   0.],\n",
              "       [ 10.,   2.,   0.,   0.],\n",
              "       [ 11.,   1.,   2.,   0.],\n",
              "       [  5.,   1.,   1.,   0.],\n",
              "       [  3.,   0.,   1.,   0.],\n",
              "       [  2.,   0.,   1.,   0.],\n",
              "       [  8.,   0.,   1.,   0.],\n",
              "       [  3.,   0.,   0.,   0.],\n",
              "       [  5.,   0.,   1.,   0.],\n",
              "       [  1.,   0.,   0.,   0.],\n",
              "       [  2.,   0.,   1.,   0.],\n",
              "       [  2.,   0.,   0.,   0.],\n",
              "       [  1.,   0.,   0.,   0.],\n",
              "       [  1.,   1.,   0.,   0.],\n",
              "       [  1.,   0.,   0.,   0.],\n",
              "       [  2.,   0.,   0.,   0.],\n",
              "       [  0.,   0.,   0.,   0.],\n",
              "       [  0.,   0.,   0.,   0.],\n",
              "       [  1.,   0.,   0.,   0.],\n",
              "       [  0.,   0.,   0.,   0.],\n",
              "       [  0.,   0.,   0.,   0.],\n",
              "       [  4.,   0.,   0.,   0.],\n",
              "       [  0.,   0.,   0.,   0.],\n",
              "       [  0.,   0.,   0.,   0.],\n",
              "       [  1.,   0.,   0.,   1.],\n",
              "       [  1.,   0.,   0.,   0.],\n",
              "       [  2.,   0.,   0.,   0.],\n",
              "       [  0.,   0.,   0.,   0.],\n",
              "       [  0.,   0.,   0.,   0.],\n",
              "       [  0.,   0.,   0.,   1.],\n",
              "       [  0.,   0.,   0.,   0.],\n",
              "       [  0.,   0.,   0.,   0.],\n",
              "       [ 13.,   0.,   1.,   0.],\n",
              "       [ 18.,   0.,   0.,   0.],\n",
              "       [ 20.,   0.,   0.,   0.],\n",
              "       [ 12.,   0.,   0.,   0.],\n",
              "       [  8.,   0.,   0.,   0.],\n",
              "       [  5.,   0.,   0.,   0.],\n",
              "       [ 12.,   0.,   0.,   0.],\n",
              "       [  6.,   1.,   0.,   0.],\n",
              "       [  4.,   0.,   0.,   0.],\n",
              "       [  1.,   0.,   0.,   0.],\n",
              "       [  7.,   0.,   2.,   0.],\n",
              "       [  9.,   0.,   0.,   0.],\n",
              "       [  4.,   0.,   1.,   0.],\n",
              "       [  3.,   0.,   0.,   0.],\n",
              "       [  3.,   0.,   0.,   0.],\n",
              "       [  6.,   0.,   1.,   0.],\n",
              "       [  7.,   1.,   0.,   0.],\n",
              "       [  8.,   0.,   1.,   0.],\n",
              "       [ 19.,   3.,   3.,   0.],\n",
              "       [ 25.,   3.,   0.,   0.],\n",
              "       [ 19.,   1.,   2.,   0.],\n",
              "       [  9.,   2.,   1.,   0.],\n",
              "       [  6.,   1.,   0.,   0.],\n",
              "       [  1.,   0.,   0.,   0.],\n",
              "       [ 14.,   2.,   2.,   0.],\n",
              "       [ 20.,   2.,   3.,   0.],\n",
              "       [ 14.,   3.,   0.,   0.],\n",
              "       [ 15.,   2.,   2.,   0.],\n",
              "       [ 27.,   2.,   0.,   0.],\n",
              "       [ 29.,   4.,   0.,   1.],\n",
              "       [ 15.,   3.,   0.,   0.],\n",
              "       [ 18.,   3.,   0.,   0.],\n",
              "       [ 14.,   3.,   0.,   0.],\n",
              "       [ 19.,   3.,   1.,   0.],\n",
              "       [ 25.,   3.,   1.,   0.],\n",
              "       [ 30.,   7.,   0.,   0.],\n",
              "       [ 12.,   3.,   0.,   0.],\n",
              "       [  7.,   3.,   0.,   0.],\n",
              "       [ 11.,   1.,   0.,   0.],\n",
              "       [ 14.,   2.,   4.,   0.],\n",
              "       [ 24.,   3.,   2.,   0.],\n",
              "       [ 18.,   4.,   2.,   0.],\n",
              "       [ 16.,   2.,   4.,   0.],\n",
              "       [ 15.,   2.,   1.,   0.],\n",
              "       [  8.,   2.,   1.,   0.],\n",
              "       [  4.,   1.,   1.,   0.],\n",
              "       [ 10.,   3.,   2.,   0.],\n",
              "       [  9.,   3.,   1.,   0.],\n",
              "       [ 17.,   1.,   5.,   0.],\n",
              "       [ 17.,   0.,   0.,   0.],\n",
              "       [ 14.,   2.,   1.,   0.],\n",
              "       [  7.,   1.,   1.,   0.],\n",
              "       [  8.,   3.,   0.,   0.],\n",
              "       [  9.,   2.,   2.,   0.],\n",
              "       [ 13.,   5.,   1.,   0.],\n",
              "       [ 11.,   2.,   2.,   0.],\n",
              "       [  7.,   1.,   2.,   0.],\n",
              "       [ 16.,   0.,   2.,   0.],\n",
              "       [  3.,   0.,   0.,   0.],\n",
              "       [  3.,   2.,   0.,   0.],\n",
              "       [ 10.,   3.,   1.,   0.],\n",
              "       [  8.,   0.,   1.,   0.],\n",
              "       [  8.,   2.,   2.,   0.],\n",
              "       [  8.,   2.,   0.,   0.],\n",
              "       [  7.,   1.,   2.,   0.],\n",
              "       [ 13.,   1.,   2.,   0.],\n",
              "       [  7.,   1.,   1.,   0.],\n",
              "       [  6.,   1.,   0.,   0.],\n",
              "       [  7.,   3.,   0.,   0.],\n",
              "       [  9.,   2.,   0.,   0.],\n",
              "       [  6.,   1.,   0.,   0.],\n",
              "       [ 10.,   1.,   2.,   0.],\n",
              "       [  3.,   0.,   2.,   0.],\n",
              "       [ 21.,   2.,   1.,   0.],\n",
              "       [ 17.,   4.,   0.,   0.],\n",
              "       [ 11.,   1.,   3.,   0.],\n",
              "       [ 21.,   2.,   1.,   0.],\n",
              "       [ 11.,   1.,   0.,   0.],\n",
              "       [  7.,   2.,   1.,   0.],\n",
              "       [  9.,   1.,   0.,   0.],\n",
              "       [  6.,   1.,   0.,   0.],\n",
              "       [  9.,   3.,   1.,   0.],\n",
              "       [  3.,   1.,   0.,   0.],\n",
              "       [  9.,   1.,   2.,   0.],\n",
              "       [  2.,   2.,   0.,   0.],\n",
              "       [  4.,   0.,   0.,   0.],\n",
              "       [  5.,   1.,   0.,   0.],\n",
              "       [  9.,   2.,   2.,   0.],\n",
              "       [  6.,   0.,   1.,   0.],\n",
              "       [  9.,   2.,   1.,   0.],\n",
              "       [  9.,   2.,   1.,   0.],\n",
              "       [ 17.,   5.,   3.,   0.],\n",
              "       [ 13.,   1.,   2.,   0.],\n",
              "       [ 13.,   3.,   1.,   0.],\n",
              "       [  6.,   1.,   0.,   0.],\n",
              "       [ 15.,   4.,   1.,   0.],\n",
              "       [ 26.,   5.,   6.,   0.],\n",
              "       [ 33.,   1.,   6.,   0.],\n",
              "       [ 73.,   4.,   7.,   0.],\n",
              "       [146.,   6.,   7.,   1.],\n",
              "       [ 91.,   4.,   7.,   0.],\n",
              "       [132.,   7.,   5.,   0.],\n",
              "       [151.,  18.,   6.,   0.],\n",
              "       [135.,  19.,  18.,   0.],\n",
              "       [126.,  28.,  21.,   0.],\n",
              "       [128.,  31.,  25.,   0.],\n",
              "       [143.,  43.,  28.,   0.],\n",
              "       [ 98.,  25.,  25.,   0.],\n",
              "       [136.,  43.,  32.,   0.],\n",
              "       [116.,  34.,  25.,   0.],\n",
              "       [157.,  44.,  31.,   0.],\n",
              "       [160.,  37.,  36.,   0.],\n",
              "       [118.,  33.,  34.,   0.],\n",
              "       [167.,  22.,  35.,   0.],\n",
              "       [ 70.,  17.,  16.,   0.],\n",
              "       [104.,  18.,  24.,   0.],\n",
              "       [ 87.,  20.,  16.,   0.],\n",
              "       [ 64.,  12.,  17.,   0.],\n",
              "       [ 46.,   6.,  12.,   0.],\n",
              "       [ 55.,   6.,  19.,   0.],\n",
              "       [ 58.,  19.,  11.,   0.],\n",
              "       [ 44.,  13.,  10.,   0.],\n",
              "       [ 76.,  19.,  18.,   0.],\n",
              "       [ 30.,  10.,  11.,   0.],\n",
              "       [ 47.,   9.,  11.,   0.],\n",
              "       [ 64.,   9.,  12.,   0.],\n",
              "       [ 49.,  13.,  11.,   0.],\n",
              "       [ 34.,  13.,  12.,   0.],\n",
              "       [ 41.,   8.,  15.,   0.],\n",
              "       [ 36.,  10.,  10.,   0.],\n",
              "       [ 49.,  14.,  13.,   0.],\n",
              "       [ 62.,  27.,  16.,   0.],\n",
              "       [ 43.,  13.,  15.,   0.],\n",
              "       [ 40.,   8.,  10.,   0.]])"
            ]
          },
          "metadata": {
            "tags": []
          },
          "execution_count": 8
        }
      ]
    },
    {
      "cell_type": "code",
      "metadata": {
        "tags": [],
        "id": "q_Q3GNtikJuQ",
        "colab_type": "code",
        "colab": {
          "base_uri": "https://localhost:8080/",
          "height": 1000
        },
        "outputId": "b79e2beb-f2cf-405d-c00f-4fd1cfbc0f89"
      },
      "source": [
        "# Feature Scaling\n",
        "from sklearn.preprocessing import StandardScaler\n",
        "\n",
        "sc = StandardScaler()\n",
        "training_set_scaled = sc.fit_transform(training_set)\n",
        "\n",
        "sc_predict = StandardScaler()\n",
        "sc_predict.fit_transform(training_set[:, 0:1])"
      ],
      "execution_count": 9,
      "outputs": [
        {
          "output_type": "execute_result",
          "data": {
            "text/plain": [
              "array([[-0.58333581],\n",
              "       [-0.61296754],\n",
              "       [-0.61296754],\n",
              "       [-0.61296754],\n",
              "       [-0.61296754],\n",
              "       [-0.61296754],\n",
              "       [-0.52407237],\n",
              "       [-0.52407237],\n",
              "       [-0.61296754],\n",
              "       [-0.58333581],\n",
              "       [-0.61296754],\n",
              "       [-0.61296754],\n",
              "       [-0.55370409],\n",
              "       [-0.58333581],\n",
              "       [-0.58333581],\n",
              "       [-0.61296754],\n",
              "       [-0.61296754],\n",
              "       [-0.61296754],\n",
              "       [-0.61296754],\n",
              "       [-0.61296754],\n",
              "       [-0.61296754],\n",
              "       [-0.61296754],\n",
              "       [-0.61296754],\n",
              "       [-0.55370409],\n",
              "       [-0.61296754],\n",
              "       [-0.61296754],\n",
              "       [-0.55370409],\n",
              "       [-0.46480892],\n",
              "       [-0.55370409],\n",
              "       [-0.49444064],\n",
              "       [-0.49444064],\n",
              "       [-0.49444064],\n",
              "       [-0.13885996],\n",
              "       [-0.3166503 ],\n",
              "       [-0.22775513],\n",
              "       [-0.37591375],\n",
              "       [-0.46480892],\n",
              "       [-0.43517719],\n",
              "       [-0.43517719],\n",
              "       [-0.58333581],\n",
              "       [-0.46480892],\n",
              "       [-0.58333581],\n",
              "       [-0.40554547],\n",
              "       [-0.40554547],\n",
              "       [-0.3166503 ],\n",
              "       [ 0.15745728],\n",
              "       [ 0.75009175],\n",
              "       [-0.10922824],\n",
              "       [-0.25738685],\n",
              "       [-0.34628202],\n",
              "       [-0.37591375],\n",
              "       [-0.43517719],\n",
              "       [-0.22775513],\n",
              "       [-0.49444064],\n",
              "       [-0.28701858],\n",
              "       [-0.10922824],\n",
              "       [-0.10922824],\n",
              "       [-0.37591375],\n",
              "       [-0.43517719],\n",
              "       [-0.46480892],\n",
              "       [-0.19812341],\n",
              "       [-0.22775513],\n",
              "       [-0.19812341],\n",
              "       [-0.16849168],\n",
              "       [ 0.03893038],\n",
              "       [ 0.03893038],\n",
              "       [-0.04996479],\n",
              "       [ 0.09819383],\n",
              "       [-0.13885996],\n",
              "       [-0.04996479],\n",
              "       [-0.02033307],\n",
              "       [-0.04996479],\n",
              "       [-0.28701858],\n",
              "       [-0.37591375],\n",
              "       [-0.3166503 ],\n",
              "       [-0.28701858],\n",
              "       [-0.46480892],\n",
              "       [-0.52407237],\n",
              "       [-0.55370409],\n",
              "       [-0.37591375],\n",
              "       [-0.52407237],\n",
              "       [-0.46480892],\n",
              "       [-0.58333581],\n",
              "       [-0.55370409],\n",
              "       [-0.55370409],\n",
              "       [-0.58333581],\n",
              "       [-0.58333581],\n",
              "       [-0.58333581],\n",
              "       [-0.55370409],\n",
              "       [-0.61296754],\n",
              "       [-0.61296754],\n",
              "       [-0.58333581],\n",
              "       [-0.61296754],\n",
              "       [-0.61296754],\n",
              "       [-0.49444064],\n",
              "       [-0.61296754],\n",
              "       [-0.61296754],\n",
              "       [-0.58333581],\n",
              "       [-0.58333581],\n",
              "       [-0.55370409],\n",
              "       [-0.61296754],\n",
              "       [-0.61296754],\n",
              "       [-0.61296754],\n",
              "       [-0.61296754],\n",
              "       [-0.61296754],\n",
              "       [-0.22775513],\n",
              "       [-0.07959651],\n",
              "       [-0.02033307],\n",
              "       [-0.25738685],\n",
              "       [-0.37591375],\n",
              "       [-0.46480892],\n",
              "       [-0.25738685],\n",
              "       [-0.43517719],\n",
              "       [-0.49444064],\n",
              "       [-0.58333581],\n",
              "       [-0.40554547],\n",
              "       [-0.34628202],\n",
              "       [-0.49444064],\n",
              "       [-0.52407237],\n",
              "       [-0.52407237],\n",
              "       [-0.43517719],\n",
              "       [-0.40554547],\n",
              "       [-0.37591375],\n",
              "       [-0.04996479],\n",
              "       [ 0.12782555],\n",
              "       [-0.04996479],\n",
              "       [-0.34628202],\n",
              "       [-0.43517719],\n",
              "       [-0.58333581],\n",
              "       [-0.19812341],\n",
              "       [-0.02033307],\n",
              "       [-0.19812341],\n",
              "       [-0.16849168],\n",
              "       [ 0.187089  ],\n",
              "       [ 0.24635245],\n",
              "       [-0.16849168],\n",
              "       [-0.07959651],\n",
              "       [-0.19812341],\n",
              "       [-0.04996479],\n",
              "       [ 0.12782555],\n",
              "       [ 0.27598417],\n",
              "       [-0.25738685],\n",
              "       [-0.40554547],\n",
              "       [-0.28701858],\n",
              "       [-0.19812341],\n",
              "       [ 0.09819383],\n",
              "       [-0.07959651],\n",
              "       [-0.13885996],\n",
              "       [-0.16849168],\n",
              "       [-0.37591375],\n",
              "       [-0.49444064],\n",
              "       [-0.3166503 ],\n",
              "       [-0.34628202],\n",
              "       [-0.10922824],\n",
              "       [-0.10922824],\n",
              "       [-0.19812341],\n",
              "       [-0.40554547],\n",
              "       [-0.37591375],\n",
              "       [-0.34628202],\n",
              "       [-0.22775513],\n",
              "       [-0.28701858],\n",
              "       [-0.40554547],\n",
              "       [-0.13885996],\n",
              "       [-0.52407237],\n",
              "       [-0.52407237],\n",
              "       [-0.3166503 ],\n",
              "       [-0.37591375],\n",
              "       [-0.37591375],\n",
              "       [-0.37591375],\n",
              "       [-0.40554547],\n",
              "       [-0.22775513],\n",
              "       [-0.40554547],\n",
              "       [-0.43517719],\n",
              "       [-0.40554547],\n",
              "       [-0.34628202],\n",
              "       [-0.43517719],\n",
              "       [-0.3166503 ],\n",
              "       [-0.52407237],\n",
              "       [ 0.00929866],\n",
              "       [-0.10922824],\n",
              "       [-0.28701858],\n",
              "       [ 0.00929866],\n",
              "       [-0.28701858],\n",
              "       [-0.40554547],\n",
              "       [-0.34628202],\n",
              "       [-0.43517719],\n",
              "       [-0.34628202],\n",
              "       [-0.52407237],\n",
              "       [-0.34628202],\n",
              "       [-0.55370409],\n",
              "       [-0.49444064],\n",
              "       [-0.46480892],\n",
              "       [-0.34628202],\n",
              "       [-0.43517719],\n",
              "       [-0.34628202],\n",
              "       [-0.34628202],\n",
              "       [-0.10922824],\n",
              "       [-0.22775513],\n",
              "       [-0.22775513],\n",
              "       [-0.43517719],\n",
              "       [-0.16849168],\n",
              "       [ 0.15745728],\n",
              "       [ 0.36487934],\n",
              "       [ 1.55014828],\n",
              "       [ 3.7132641 ],\n",
              "       [ 2.0835193 ],\n",
              "       [ 3.29841997],\n",
              "       [ 3.86142272],\n",
              "       [ 3.38731514],\n",
              "       [ 3.12062963],\n",
              "       [ 3.17989307],\n",
              "       [ 3.62436893],\n",
              "       [ 2.29094137],\n",
              "       [ 3.41694686],\n",
              "       [ 2.82431239],\n",
              "       [ 4.03921306],\n",
              "       [ 4.12810823],\n",
              "       [ 2.88357584],\n",
              "       [ 4.33553029],\n",
              "       [ 1.46125311],\n",
              "       [ 2.46873171],\n",
              "       [ 1.96499241],\n",
              "       [ 1.28346277],\n",
              "       [ 0.75009175],\n",
              "       [ 1.01677726],\n",
              "       [ 1.10567243],\n",
              "       [ 0.6908283 ],\n",
              "       [ 1.63904345],\n",
              "       [ 0.27598417],\n",
              "       [ 0.77972347],\n",
              "       [ 1.28346277],\n",
              "       [ 0.83898692],\n",
              "       [ 0.39451106],\n",
              "       [ 0.60193313],\n",
              "       [ 0.45377451],\n",
              "       [ 0.83898692],\n",
              "       [ 1.22419932],\n",
              "       [ 0.66119658],\n",
              "       [ 0.5723014 ]])"
            ]
          },
          "metadata": {
            "tags": []
          },
          "execution_count": 9
        }
      ]
    },
    {
      "cell_type": "code",
      "metadata": {
        "tags": [],
        "id": "E0-J1jL0kJuS",
        "colab_type": "code",
        "colab": {
          "base_uri": "https://localhost:8080/",
          "height": 52
        },
        "outputId": "dce298ad-381a-454f-a712-7eb5e438de0e"
      },
      "source": [
        "# Creating a data structure with 90 timestamps and 1 output\n",
        "X_train = []\n",
        "y_train = []\n",
        "\n",
        "n_future = 20   # Number of days we want top predict into the future\n",
        "n_past = 120     # Number of past days we want to use to predict the future\n",
        "\n",
        "for i in range(n_past, len(training_set_scaled) - n_future +1):\n",
        "    X_train.append(training_set_scaled[i - n_past:i, 0:dataset_train.shape[1] - 1])\n",
        "    y_train.append(training_set_scaled[i + n_future - 1:i + n_future, 0])\n",
        "\n",
        "X_train, y_train = np.array(X_train), np.array(y_train)\n",
        "\n",
        "print('X_train shape == {}.'.format(X_train.shape))\n",
        "print('y_train shape == {}.'.format(y_train.shape))"
      ],
      "execution_count": 10,
      "outputs": [
        {
          "output_type": "stream",
          "text": [
            "X_train shape == (100, 120, 3).\n",
            "y_train shape == (100, 1).\n"
          ],
          "name": "stdout"
        }
      ]
    },
    {
      "cell_type": "code",
      "metadata": {
        "id": "CszNmwxBNAGS",
        "colab_type": "code",
        "colab": {
          "base_uri": "https://localhost:8080/",
          "height": 879
        },
        "outputId": "0c740b7d-c251-4d3c-dcea-714b7d0bfb00"
      },
      "source": [
        "X_train"
      ],
      "execution_count": 11,
      "outputs": [
        {
          "output_type": "execute_result",
          "data": {
            "text/plain": [
              "array([[[-0.58333581, -0.47136401, -0.50553182],\n",
              "        [-0.61296754, -0.47136401, -0.50553182],\n",
              "        [-0.61296754, -0.47136401, -0.50553182],\n",
              "        ...,\n",
              "        [-0.49444064, -0.47136401, -0.35943496],\n",
              "        [-0.52407237, -0.47136401, -0.50553182],\n",
              "        [-0.52407237, -0.47136401, -0.50553182]],\n",
              "\n",
              "       [[-0.61296754, -0.47136401, -0.50553182],\n",
              "        [-0.61296754, -0.47136401, -0.50553182],\n",
              "        [-0.61296754, -0.47136401, -0.50553182],\n",
              "        ...,\n",
              "        [-0.52407237, -0.47136401, -0.50553182],\n",
              "        [-0.52407237, -0.47136401, -0.50553182],\n",
              "        [-0.43517719, -0.47136401, -0.35943496]],\n",
              "\n",
              "       [[-0.61296754, -0.47136401, -0.50553182],\n",
              "        [-0.61296754, -0.47136401, -0.50553182],\n",
              "        [-0.61296754, -0.47136401, -0.50553182],\n",
              "        ...,\n",
              "        [-0.52407237, -0.47136401, -0.50553182],\n",
              "        [-0.43517719, -0.47136401, -0.35943496],\n",
              "        [-0.40554547, -0.34231934, -0.50553182]],\n",
              "\n",
              "       ...,\n",
              "\n",
              "       [[-0.58333581, -0.47136401, -0.50553182],\n",
              "        [-0.58333581, -0.47136401, -0.50553182],\n",
              "        [-0.55370409, -0.47136401, -0.50553182],\n",
              "        ...,\n",
              "        [ 2.82431239,  3.91615484,  3.14688974],\n",
              "        [ 4.03921306,  5.20660157,  4.02347092],\n",
              "        [ 4.12810823,  4.30328886,  4.75395523]],\n",
              "\n",
              "       [[-0.58333581, -0.47136401, -0.50553182],\n",
              "        [-0.55370409, -0.47136401, -0.50553182],\n",
              "        [-0.61296754, -0.47136401, -0.50553182],\n",
              "        ...,\n",
              "        [ 4.03921306,  5.20660157,  4.02347092],\n",
              "        [ 4.12810823,  4.30328886,  4.75395523],\n",
              "        [ 2.88357584,  3.78711017,  4.46176151]],\n",
              "\n",
              "       [[-0.55370409, -0.47136401, -0.50553182],\n",
              "        [-0.61296754, -0.47136401, -0.50553182],\n",
              "        [-0.61296754, -0.47136401, -0.50553182],\n",
              "        ...,\n",
              "        [ 4.12810823,  4.30328886,  4.75395523],\n",
              "        [ 2.88357584,  3.78711017,  4.46176151],\n",
              "        [ 4.33553029,  2.36761878,  4.60785837]]])"
            ]
          },
          "metadata": {
            "tags": []
          },
          "execution_count": 11
        }
      ]
    },
    {
      "cell_type": "markdown",
      "metadata": {
        "id": "zuKXreGtkJuU",
        "colab_type": "text"
      },
      "source": [
        "<h2>PART 2. Create a model. Training</h2>"
      ]
    },
    {
      "cell_type": "markdown",
      "metadata": {
        "id": "bBfYUGGgkJuV",
        "colab_type": "text"
      },
      "source": [
        "<h3>Step #3. Building the LSTM based Neural Network</h3>"
      ]
    },
    {
      "cell_type": "code",
      "metadata": {
        "id": "ozjbJqrjkJuV",
        "colab_type": "code",
        "colab": {}
      },
      "source": [
        "# Import Libraries and packages from Keras\n",
        "from keras.models import Sequential\n",
        "from keras.layers import Dense\n",
        "from keras.layers import LSTM\n",
        "from keras.layers import Dropout\n",
        "from keras.optimizers import Adam"
      ],
      "execution_count": 12,
      "outputs": []
    },
    {
      "cell_type": "code",
      "metadata": {
        "tags": [],
        "id": "cbC9sriXkJuY",
        "colab_type": "code",
        "colab": {}
      },
      "source": [
        "# Initializing the Neural Network based on LSTM\n",
        "model = Sequential()\n",
        "\n",
        "# Adding 1st LSTM layer\n",
        "model.add(LSTM(units=64, return_sequences=True, input_shape=(n_past, dataset_train.shape[1]-1)))\n",
        "\n",
        "# Adding 2nd LSTM layer\n",
        "model.add(LSTM(units=10, return_sequences=False))\n",
        "\n",
        "# Adding Dropout\n",
        "model.add(Dropout(0.25))\n",
        "\n",
        "# Output layer\n",
        "model.add(Dense(units=1, activation='linear'))\n",
        "\n",
        "# Compiling the Neural Network\n",
        "model.compile(optimizer = Adam(learning_rate=0.01), loss='mean_squared_error')"
      ],
      "execution_count": 13,
      "outputs": []
    },
    {
      "cell_type": "markdown",
      "metadata": {
        "id": "ZWyi23opkJua",
        "colab_type": "text"
      },
      "source": [
        "<h3>Step #4. Start training</h3>"
      ]
    },
    {
      "cell_type": "code",
      "metadata": {
        "tags": [],
        "id": "CMXON-U5kJua",
        "colab_type": "code",
        "colab": {
          "base_uri": "https://localhost:8080/",
          "height": 951
        },
        "outputId": "30d17233-9778-46b7-910a-115b1d34a979"
      },
      "source": [
        "%%time\n",
        "es = EarlyStopping(monitor='val_loss', min_delta=1e-10, patience=10, verbose=1)\n",
        "rlr = ReduceLROnPlateau(monitor='val_loss', factor=0.5, patience=10, verbose=1)\n",
        "mcp = ModelCheckpoint(filepath='weights.h5', monitor='val_loss', verbose=1, save_best_only=True, save_weights_only=True)\n",
        "\n",
        "tb = TensorBoard('logs')\n",
        "\n",
        "history = model.fit(X_train, y_train, shuffle=True, epochs=30, callbacks=[es, rlr, mcp, tb], validation_split=0.2, verbose=1, batch_size=256)"
      ],
      "execution_count": 14,
      "outputs": [
        {
          "output_type": "stream",
          "text": [
            "Epoch 1/30\n",
            "1/1 [==============================] - ETA: 0s - loss: 2.5233\n",
            "Epoch 00001: val_loss improved from inf to 1.06397, saving model to weights.h5\n",
            "1/1 [==============================] - 1s 626ms/step - loss: 2.5233 - val_loss: 1.0640\n",
            "Epoch 2/30\n",
            "WARNING:tensorflow:From /usr/local/lib/python3.6/dist-packages/tensorflow/python/ops/summary_ops_v2.py:1277: stop (from tensorflow.python.eager.profiler) is deprecated and will be removed after 2020-07-01.\n",
            "Instructions for updating:\n",
            "use `tf.profiler.experimental.stop` instead.\n",
            "1/1 [==============================] - ETA: 0s - loss: 2.0634\n",
            "Epoch 00002: val_loss did not improve from 1.06397\n",
            "1/1 [==============================] - 0s 25ms/step - loss: 2.0634 - val_loss: 1.4202\n",
            "Epoch 3/30\n",
            "1/1 [==============================] - ETA: 0s - loss: 2.1398\n",
            "Epoch 00003: val_loss did not improve from 1.06397\n",
            "1/1 [==============================] - 0s 23ms/step - loss: 2.1398 - val_loss: 2.2269\n",
            "Epoch 4/30\n",
            "1/1 [==============================] - ETA: 0s - loss: 2.1122\n",
            "Epoch 00004: val_loss did not improve from 1.06397\n",
            "1/1 [==============================] - 0s 21ms/step - loss: 2.1122 - val_loss: 2.7324\n",
            "Epoch 5/30\n",
            "1/1 [==============================] - ETA: 0s - loss: 2.1375\n",
            "Epoch 00005: val_loss did not improve from 1.06397\n",
            "1/1 [==============================] - 0s 22ms/step - loss: 2.1375 - val_loss: 3.0680\n",
            "Epoch 6/30\n",
            "1/1 [==============================] - ETA: 0s - loss: 2.0618\n",
            "Epoch 00006: val_loss did not improve from 1.06397\n",
            "1/1 [==============================] - 0s 22ms/step - loss: 2.0618 - val_loss: 3.3306\n",
            "Epoch 7/30\n",
            "1/1 [==============================] - ETA: 0s - loss: 2.0907\n",
            "Epoch 00007: val_loss did not improve from 1.06397\n",
            "1/1 [==============================] - 0s 23ms/step - loss: 2.0907 - val_loss: 3.4509\n",
            "Epoch 8/30\n",
            "1/1 [==============================] - ETA: 0s - loss: 2.0493\n",
            "Epoch 00008: val_loss did not improve from 1.06397\n",
            "1/1 [==============================] - 0s 25ms/step - loss: 2.0493 - val_loss: 3.4414\n",
            "Epoch 9/30\n",
            "1/1 [==============================] - ETA: 0s - loss: 2.0091\n",
            "Epoch 00009: val_loss did not improve from 1.06397\n",
            "1/1 [==============================] - 0s 25ms/step - loss: 2.0091 - val_loss: 3.4010\n",
            "Epoch 10/30\n",
            "1/1 [==============================] - ETA: 0s - loss: 1.9781\n",
            "Epoch 00010: val_loss did not improve from 1.06397\n",
            "1/1 [==============================] - 0s 24ms/step - loss: 1.9781 - val_loss: 3.4843\n",
            "Epoch 11/30\n",
            "1/1 [==============================] - ETA: 0s - loss: 2.0626\n",
            "Epoch 00011: ReduceLROnPlateau reducing learning rate to 0.004999999888241291.\n",
            "\n",
            "Epoch 00011: val_loss did not improve from 1.06397\n",
            "1/1 [==============================] - 0s 25ms/step - loss: 2.0626 - val_loss: 3.6760\n",
            "Epoch 00011: early stopping\n",
            "CPU times: user 4.99 s, sys: 1.02 s, total: 6 s\n",
            "Wall time: 5.92 s\n"
          ],
          "name": "stdout"
        }
      ]
    },
    {
      "cell_type": "markdown",
      "metadata": {
        "id": "s2pwV32XkJud",
        "colab_type": "text"
      },
      "source": [
        "<p>\n",
        "Notes:<br>\n",
        "<ul>\n",
        "<li><b>EarlyStopping</b> - Stop training when a monitored metric has stopped improving.</li>\n",
        "<li><code>monitor</code> - quantity to be monitored.</li>\n",
        "<li><code>min_delta</code> - minimum change in the monitored quantity to qualify as an improvement, i.e. an absolute change of less than <code>min_delta</code>, will count as no improvement.</li>\n",
        "<li><code>patience</code> - number of epochs with no improvement after which training will be stopped.</li>\n",
        "</ul>\n",
        "\n",
        "<ul>\n",
        "<li><b>ReduceLROnPlateau</b> - Reduce learning rate when a metric has stopped improving.</li>\n",
        "<li><code>factor</code> - factor by which the learning rate will be reduced. <code>new_lr = lr * factor</code>.</li>\n",
        "</ul>\n",
        "</p>\n",
        "\n",
        "<hr>\n",
        "\n",
        "<p>\n",
        "The last date for our training set is <code>30-Dec-2016</code>.<br>\n",
        "</p>\n",
        "\n",
        "<p>\n",
        "We will perform predictions for the next <b>20</b> days, since <b>2017-01-01</b> to <b>2017-01-20</b>.\n",
        "</p>"
      ]
    },
    {
      "cell_type": "markdown",
      "metadata": {
        "id": "rnWNdTFUkJud",
        "colab_type": "text"
      },
      "source": [
        "<h2>PART 3. Make future predictions</h2>"
      ]
    },
    {
      "cell_type": "code",
      "metadata": {
        "id": "rtIGACswkJud",
        "colab_type": "code",
        "colab": {}
      },
      "source": [
        "# Generate list of sequence of days for predictions\n",
        "datelist_future = pd.date_range(datelist_train[-1], periods=n_future, freq='1d').tolist()\n",
        "\n",
        "'''\n",
        "Remeber, we have datelist_train from begining.\n",
        "'''\n",
        "\n",
        "# Convert Pandas Timestamp to Datetime object (for transformation) --> FUTURE\n",
        "datelist_future_ = []\n",
        "for this_timestamp in datelist_future:\n",
        "    datelist_future_.append(this_timestamp.date())"
      ],
      "execution_count": 15,
      "outputs": []
    },
    {
      "cell_type": "markdown",
      "metadata": {
        "id": "JJ-dHrgekJug",
        "colab_type": "text"
      },
      "source": [
        "<h3>Step #5. Make predictions for future dates</h3>"
      ]
    },
    {
      "cell_type": "code",
      "metadata": {
        "tags": [],
        "id": "FV8ZRL2IkJug",
        "colab_type": "code",
        "colab": {}
      },
      "source": [
        "# Perform predictions\n",
        "predictions_future = model.predict(X_train[-n_future:])"
      ],
      "execution_count": 16,
      "outputs": []
    },
    {
      "cell_type": "code",
      "metadata": {
        "id": "OZjF8p50MkED",
        "colab_type": "code",
        "colab": {
          "base_uri": "https://localhost:8080/",
          "height": 35
        },
        "outputId": "1f809a70-ccd9-4b5a-be9d-cc4406554827"
      },
      "source": [
        "len(X_train)"
      ],
      "execution_count": 17,
      "outputs": [
        {
          "output_type": "execute_result",
          "data": {
            "text/plain": [
              "100"
            ]
          },
          "metadata": {
            "tags": []
          },
          "execution_count": 17
        }
      ]
    },
    {
      "cell_type": "code",
      "metadata": {
        "id": "BFqvWZvTMdk7",
        "colab_type": "code",
        "colab": {}
      },
      "source": [
        "predictions_train = model.predict(X_train)"
      ],
      "execution_count": 23,
      "outputs": []
    },
    {
      "cell_type": "code",
      "metadata": {
        "tags": [],
        "id": "RLhhT_rukJui",
        "colab_type": "code",
        "colab": {
          "base_uri": "https://localhost:8080/",
          "height": 468
        },
        "outputId": "4ef1b977-3189-4e86-d197-e44a30aa0d60"
      },
      "source": [
        "# Inverse the predictions to original measurements\n",
        "\n",
        "# ---> Special function: convert <datetime.date> to <Timestamp>\n",
        "def datetime_to_timestamp(x):\n",
        "    '''\n",
        "        x : a given datetime value (datetime.date)\n",
        "    '''\n",
        "    return datetime.strptime(x.strftime('%Y%m%d'), '%Y%m%d')\n",
        "\n",
        "\n",
        "y_pred_future = sc_predict.inverse_transform(predictions_future)\n",
        "y_pred_train = sc_predict.inverse_transform(predictions_train)\n",
        "\n",
        "PREDICTIONS_FUTURE = pd.DataFrame(y_pred_future, columns=['new_confirmed']).set_index(pd.Series(datelist_future))\n",
        "PREDICTION_TRAIN = pd.DataFrame(y_pred_train, columns=['new_confirmed']).set_index(pd.Series(datelist_train[2 * n_past + n_future -1:]))\n",
        "\n",
        "# Convert <datetime.date> to <Timestamp> for PREDCITION_TRAIN\n",
        "PREDICTION_TRAIN.index = PREDICTION_TRAIN.index.to_series().apply(datetime_to_timestamp)\n",
        "\n",
        "PREDICTION_TRAIN.tail(3)"
      ],
      "execution_count": 24,
      "outputs": [
        {
          "output_type": "stream",
          "text": [
            "/usr/local/lib/python3.6/dist-packages/ipykernel_launcher.py:15: DeprecationWarning: The default dtype for empty Series will be 'object' instead of 'float64' in a future version. Specify a dtype explicitly to silence this warning.\n",
            "  from ipykernel import kernelapp as app\n"
          ],
          "name": "stderr"
        },
        {
          "output_type": "error",
          "ename": "ValueError",
          "evalue": "ignored",
          "traceback": [
            "\u001b[0;31m---------------------------------------------------------------------------\u001b[0m",
            "\u001b[0;31mValueError\u001b[0m                                Traceback (most recent call last)",
            "\u001b[0;32m<ipython-input-24-e29943ad0585>\u001b[0m in \u001b[0;36m<module>\u001b[0;34m()\u001b[0m\n\u001b[1;32m     13\u001b[0m \u001b[0;34m\u001b[0m\u001b[0m\n\u001b[1;32m     14\u001b[0m \u001b[0mPREDICTIONS_FUTURE\u001b[0m \u001b[0;34m=\u001b[0m \u001b[0mpd\u001b[0m\u001b[0;34m.\u001b[0m\u001b[0mDataFrame\u001b[0m\u001b[0;34m(\u001b[0m\u001b[0my_pred_future\u001b[0m\u001b[0;34m,\u001b[0m \u001b[0mcolumns\u001b[0m\u001b[0;34m=\u001b[0m\u001b[0;34m[\u001b[0m\u001b[0;34m'new_confirmed'\u001b[0m\u001b[0;34m]\u001b[0m\u001b[0;34m)\u001b[0m\u001b[0;34m.\u001b[0m\u001b[0mset_index\u001b[0m\u001b[0;34m(\u001b[0m\u001b[0mpd\u001b[0m\u001b[0;34m.\u001b[0m\u001b[0mSeries\u001b[0m\u001b[0;34m(\u001b[0m\u001b[0mdatelist_future\u001b[0m\u001b[0;34m)\u001b[0m\u001b[0;34m)\u001b[0m\u001b[0;34m\u001b[0m\u001b[0;34m\u001b[0m\u001b[0m\n\u001b[0;32m---> 15\u001b[0;31m \u001b[0mPREDICTION_TRAIN\u001b[0m \u001b[0;34m=\u001b[0m \u001b[0mpd\u001b[0m\u001b[0;34m.\u001b[0m\u001b[0mDataFrame\u001b[0m\u001b[0;34m(\u001b[0m\u001b[0my_pred_train\u001b[0m\u001b[0;34m,\u001b[0m \u001b[0mcolumns\u001b[0m\u001b[0;34m=\u001b[0m\u001b[0;34m[\u001b[0m\u001b[0;34m'new_confirmed'\u001b[0m\u001b[0;34m]\u001b[0m\u001b[0;34m)\u001b[0m\u001b[0;34m.\u001b[0m\u001b[0mset_index\u001b[0m\u001b[0;34m(\u001b[0m\u001b[0mpd\u001b[0m\u001b[0;34m.\u001b[0m\u001b[0mSeries\u001b[0m\u001b[0;34m(\u001b[0m\u001b[0mdatelist_train\u001b[0m\u001b[0;34m[\u001b[0m\u001b[0;36m2\u001b[0m \u001b[0;34m*\u001b[0m \u001b[0mn_past\u001b[0m \u001b[0;34m+\u001b[0m \u001b[0mn_future\u001b[0m \u001b[0;34m-\u001b[0m\u001b[0;36m1\u001b[0m\u001b[0;34m:\u001b[0m\u001b[0;34m]\u001b[0m\u001b[0;34m)\u001b[0m\u001b[0;34m)\u001b[0m\u001b[0;34m\u001b[0m\u001b[0;34m\u001b[0m\u001b[0m\n\u001b[0m\u001b[1;32m     16\u001b[0m \u001b[0;34m\u001b[0m\u001b[0m\n\u001b[1;32m     17\u001b[0m \u001b[0;31m# Convert <datetime.date> to <Timestamp> for PREDCITION_TRAIN\u001b[0m\u001b[0;34m\u001b[0m\u001b[0;34m\u001b[0m\u001b[0;34m\u001b[0m\u001b[0m\n",
            "\u001b[0;32m/usr/local/lib/python3.6/dist-packages/pandas/core/frame.py\u001b[0m in \u001b[0;36mset_index\u001b[0;34m(self, keys, drop, append, inplace, verify_integrity)\u001b[0m\n\u001b[1;32m   4345\u001b[0m                 \u001b[0;31m# ensure_index_from_sequences would not raise for append=False.\u001b[0m\u001b[0;34m\u001b[0m\u001b[0;34m\u001b[0m\u001b[0;34m\u001b[0m\u001b[0m\n\u001b[1;32m   4346\u001b[0m                 raise ValueError(\n\u001b[0;32m-> 4347\u001b[0;31m                     \u001b[0;34mf\"Length mismatch: Expected {len(self)} rows, \"\u001b[0m\u001b[0;34m\u001b[0m\u001b[0;34m\u001b[0m\u001b[0m\n\u001b[0m\u001b[1;32m   4348\u001b[0m                     \u001b[0;34mf\"received array of length {len(arrays[-1])}\"\u001b[0m\u001b[0;34m\u001b[0m\u001b[0;34m\u001b[0m\u001b[0m\n\u001b[1;32m   4349\u001b[0m                 )\n",
            "\u001b[0;31mValueError\u001b[0m: Length mismatch: Expected 100 rows, received array of length 0"
          ]
        }
      ]
    },
    {
      "cell_type": "markdown",
      "metadata": {
        "id": "BxEy076tkJuk",
        "colab_type": "text"
      },
      "source": [
        "<h3>Step #6. Visualize the Predictions</h3>"
      ]
    },
    {
      "cell_type": "code",
      "metadata": {
        "tags": [],
        "id": "-3amEKlrkJup",
        "colab_type": "code",
        "colab": {}
      },
      "source": [
        "# Parse training set timestamp for better visualization\n",
        "dataset_train = pd.DataFrame(dataset_train, columns=cols)\n",
        "dataset_train.index = datelist_train\n",
        "dataset_train.index = pd.to_datetime(dataset_train.index)"
      ],
      "execution_count": 25,
      "outputs": []
    },
    {
      "cell_type": "code",
      "metadata": {
        "id": "Y1dhb068kJul",
        "colab_type": "code",
        "colab": {
          "base_uri": "https://localhost:8080/",
          "height": 592
        },
        "outputId": "d1c94a03-b01d-4dfb-879d-85772d7e0a77"
      },
      "source": [
        "# Set plot size \n",
        "from pylab import rcParams\n",
        "rcParams['figure.figsize'] = 14, 5\n",
        "\n",
        "# Plot parameters\n",
        "START_DATE_FOR_PLOTTING = '2020-01-31'\n",
        "\n",
        "plt.plot(PREDICTIONS_FUTURE.index, PREDICTIONS_FUTURE['new_confirmed'], color='r', label='Predicted Confirmed Case')\n",
        "plt.plot(PREDICTION_TRAIN.loc[START_DATE_FOR_PLOTTING:].index, PREDICTION_TRAIN.loc[START_DATE_FOR_PLOTTING:]['new_confirmed'], color='orange', label='Training predictions')\n",
        "plt.plot(dataset_train.loc[START_DATE_FOR_PLOTTING:].index, dataset_train.loc[START_DATE_FOR_PLOTTING:]['new_confirmed'], color='b', label='Actual Confirmed Case')\n",
        "\n",
        "plt.axvline(x = min(PREDICTIONS_FUTURE.index), color='green', linewidth=2, linestyle='--')\n",
        "\n",
        "plt.grid(which='major', color='#cccccc', alpha=0.5)\n",
        "\n",
        "plt.legend(shadow=True)\n",
        "plt.title('Predcitions and Acutal Confirmed Cases', family='Arial', fontsize=12)\n",
        "plt.xlabel('Timeline', family='Arial', fontsize=10)\n",
        "plt.ylabel('Stock Price Value', family='Arial', fontsize=10)\n",
        "plt.xticks(rotation=45, fontsize=8)\n",
        "plt.show()"
      ],
      "execution_count": 26,
      "outputs": [
        {
          "output_type": "error",
          "ename": "NameError",
          "evalue": "ignored",
          "traceback": [
            "\u001b[0;31m---------------------------------------------------------------------------\u001b[0m",
            "\u001b[0;31mNameError\u001b[0m                                 Traceback (most recent call last)",
            "\u001b[0;32m<ipython-input-26-3dea0461aa91>\u001b[0m in \u001b[0;36m<module>\u001b[0;34m()\u001b[0m\n\u001b[1;32m      7\u001b[0m \u001b[0;34m\u001b[0m\u001b[0m\n\u001b[1;32m      8\u001b[0m \u001b[0mplt\u001b[0m\u001b[0;34m.\u001b[0m\u001b[0mplot\u001b[0m\u001b[0;34m(\u001b[0m\u001b[0mPREDICTIONS_FUTURE\u001b[0m\u001b[0;34m.\u001b[0m\u001b[0mindex\u001b[0m\u001b[0;34m,\u001b[0m \u001b[0mPREDICTIONS_FUTURE\u001b[0m\u001b[0;34m[\u001b[0m\u001b[0;34m'new_confirmed'\u001b[0m\u001b[0;34m]\u001b[0m\u001b[0;34m,\u001b[0m \u001b[0mcolor\u001b[0m\u001b[0;34m=\u001b[0m\u001b[0;34m'r'\u001b[0m\u001b[0;34m,\u001b[0m \u001b[0mlabel\u001b[0m\u001b[0;34m=\u001b[0m\u001b[0;34m'Predicted Confirmed Case'\u001b[0m\u001b[0;34m)\u001b[0m\u001b[0;34m\u001b[0m\u001b[0;34m\u001b[0m\u001b[0m\n\u001b[0;32m----> 9\u001b[0;31m \u001b[0mplt\u001b[0m\u001b[0;34m.\u001b[0m\u001b[0mplot\u001b[0m\u001b[0;34m(\u001b[0m\u001b[0mPREDICTION_TRAIN\u001b[0m\u001b[0;34m.\u001b[0m\u001b[0mloc\u001b[0m\u001b[0;34m[\u001b[0m\u001b[0mSTART_DATE_FOR_PLOTTING\u001b[0m\u001b[0;34m:\u001b[0m\u001b[0;34m]\u001b[0m\u001b[0;34m.\u001b[0m\u001b[0mindex\u001b[0m\u001b[0;34m,\u001b[0m \u001b[0mPREDICTION_TRAIN\u001b[0m\u001b[0;34m.\u001b[0m\u001b[0mloc\u001b[0m\u001b[0;34m[\u001b[0m\u001b[0mSTART_DATE_FOR_PLOTTING\u001b[0m\u001b[0;34m:\u001b[0m\u001b[0;34m]\u001b[0m\u001b[0;34m[\u001b[0m\u001b[0;34m'new_confirmed'\u001b[0m\u001b[0;34m]\u001b[0m\u001b[0;34m,\u001b[0m \u001b[0mcolor\u001b[0m\u001b[0;34m=\u001b[0m\u001b[0;34m'orange'\u001b[0m\u001b[0;34m,\u001b[0m \u001b[0mlabel\u001b[0m\u001b[0;34m=\u001b[0m\u001b[0;34m'Training predictions'\u001b[0m\u001b[0;34m)\u001b[0m\u001b[0;34m\u001b[0m\u001b[0;34m\u001b[0m\u001b[0m\n\u001b[0m\u001b[1;32m     10\u001b[0m \u001b[0mplt\u001b[0m\u001b[0;34m.\u001b[0m\u001b[0mplot\u001b[0m\u001b[0;34m(\u001b[0m\u001b[0mdataset_train\u001b[0m\u001b[0;34m.\u001b[0m\u001b[0mloc\u001b[0m\u001b[0;34m[\u001b[0m\u001b[0mSTART_DATE_FOR_PLOTTING\u001b[0m\u001b[0;34m:\u001b[0m\u001b[0;34m]\u001b[0m\u001b[0;34m.\u001b[0m\u001b[0mindex\u001b[0m\u001b[0;34m,\u001b[0m \u001b[0mdataset_train\u001b[0m\u001b[0;34m.\u001b[0m\u001b[0mloc\u001b[0m\u001b[0;34m[\u001b[0m\u001b[0mSTART_DATE_FOR_PLOTTING\u001b[0m\u001b[0;34m:\u001b[0m\u001b[0;34m]\u001b[0m\u001b[0;34m[\u001b[0m\u001b[0;34m'new_confirmed'\u001b[0m\u001b[0;34m]\u001b[0m\u001b[0;34m,\u001b[0m \u001b[0mcolor\u001b[0m\u001b[0;34m=\u001b[0m\u001b[0;34m'b'\u001b[0m\u001b[0;34m,\u001b[0m \u001b[0mlabel\u001b[0m\u001b[0;34m=\u001b[0m\u001b[0;34m'Actual Confirmed Case'\u001b[0m\u001b[0;34m)\u001b[0m\u001b[0;34m\u001b[0m\u001b[0;34m\u001b[0m\u001b[0m\n\u001b[1;32m     11\u001b[0m \u001b[0;34m\u001b[0m\u001b[0m\n",
            "\u001b[0;31mNameError\u001b[0m: name 'PREDICTION_TRAIN' is not defined"
          ]
        },
        {
          "output_type": "display_data",
          "data": {
            "image/png": "[encoded data removed]",
            "text/plain": [
              "<Figure size 1008x360 with 1 Axes>"
            ]
          },
          "metadata": {
            "tags": [],
            "needs_background": "light"
          }
        }
      ]
    },
    {
      "cell_type": "code",
      "metadata": {
        "id": "rmC8jn9ckJun",
        "colab_type": "code",
        "colab": {}
      },
      "source": [
        ""
      ],
      "execution_count": 26,
      "outputs": []
    }
  ]
}