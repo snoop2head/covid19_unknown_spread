{
 "metadata": {
  "language_info": {
   "codemirror_mode": {
    "name": "ipython",
    "version": 3
   },
   "file_extension": ".py",
   "mimetype": "text/x-python",
   "name": "python",
   "nbconvert_exporter": "python",
   "pygments_lexer": "ipython3",
   "version": "3.8.3-final"
  },
  "orig_nbformat": 2,
  "kernelspec": {
   "name": "python38364bitdatavenvfe97dd12d13941c2ad0777a7539abb51",
   "display_name": "Python 3.8.3 64-bit ('data': venv)"
  }
 },
 "nbformat": 4,
 "nbformat_minor": 2,
 "cells": [
  {
   "cell_type": "code",
   "execution_count": 1,
   "metadata": {},
   "outputs": [],
   "source": [
    "import pandas as pd\n",
    "import numpy as np"
   ]
  },
  {
   "cell_type": "code",
   "execution_count": 2,
   "metadata": {},
   "outputs": [],
   "source": [
    "import os\n",
    "from os import fdopen, remove, walk\n",
    "import glob\n",
    "from tempfile import mkstemp\n",
    "import shutil\n",
    "from shutil import move, copymode"
   ]
  },
  {
   "cell_type": "code",
   "execution_count": 3,
   "metadata": {},
   "outputs": [],
   "source": [
    "from datetime import date"
   ]
  },
  {
   "cell_type": "code",
   "execution_count": 4,
   "metadata": {},
   "outputs": [
    {
     "output_type": "execute_result",
     "data": {
      "text/plain": "['/Users/noopy/covid19_unknown_spread/dataset/seoul_covid_8_31_.csv',\n '/Users/noopy/covid19_unknown_spread/dataset/seoul_covid_8_30_.csv',\n '/Users/noopy/covid19_unknown_spread/dataset/seoul_covid_8_17_.csv',\n '/Users/noopy/covid19_unknown_spread/dataset/seoul_covid_8_21_.csv',\n '/Users/noopy/covid19_unknown_spread/dataset/seoul_covid_7_04_.csv']"
     },
     "metadata": {},
     "execution_count": 4
    }
   ],
   "source": [
    "DATASET_PATH = \"/Users/noopy/covid19_unknown_spread/dataset\"\n",
    "datasets = glob.glob(f\"{DATASET_PATH}/*.csv\")\n",
    "datasets[:5]"
   ]
  },
  {
   "cell_type": "code",
   "execution_count": 5,
   "metadata": {
    "tags": []
   },
   "outputs": [],
   "source": [
    "# get oldest file in the dataset folder\n",
    "import os, heapq\n",
    "def newst_files_in_tree(rootfolder, count=1, extension=\".csv\"):\n",
    "    return heapq.nlargest(count,\n",
    "        (os.path.join(dirname, filename)\n",
    "        for dirname, dirnames, filenames in os.walk(rootfolder)\n",
    "        for filename in filenames\n",
    "        if filename.endswith(extension)),\n",
    "        key=lambda fn: os.stat(fn).st_mtime)"
   ]
  },
  {
   "cell_type": "code",
   "execution_count": 6,
   "metadata": {},
   "outputs": [],
   "source": [
    "newst_csv = newst_files_in_tree(DATASET_PATH)[0]"
   ]
  },
  {
   "cell_type": "code",
   "execution_count": 7,
   "metadata": {},
   "outputs": [
    {
     "output_type": "execute_result",
     "data": {
      "text/plain": "        연번     환자    확진일  거주지 여행력            접촉력 퇴원현황\n3656   595  10441  4.09.  성북구   -           확인 중   퇴원\n266   3985  20258  9.01.  강남구   -     강남구 소재 아파트  NaN\n768   3483  18857  8.27.  강동구   -           확인 중  NaN\n1748  2503  16411  8.20.  은평구   -           확인 중   퇴원\n61    4190  20823  9.03.  강동구   -      기타 확진자 접촉  NaN\n2037  2214  15969  8.18.   기타   -  성북구 사랑제일교회 관련  NaN\n2590  1661  14550   8.7.  서초구   -     서초구 확진자 접촉   퇴원\n145   4106  20555  9.02.  서초구   -       중구 소재 은행  NaN\n3706   545  10233  4.04.  송파구   -       #9765 접촉   퇴원\n2350  1901  15132  8.15.  노원구   -  성북구 사랑제일교회 관련   퇴원\n1067  3184  18073  8.25.  송파구   -  성북구 사랑제일교회 관련  NaN\n470   3781  19719  8.30.  도봉구   -  용인시 우리제일교회 관련  NaN\n93    4158  20667  9.03.  강북구   -       관악구 판매업소  NaN\n2110  2141  15670  8.17.  강동구   -  용인시 우리제일교회 관련   퇴원\n2398  1853  15154  8.15.  강서구   -  성북구 사랑제일교회 관련   퇴원",
      "text/html": "<div>\n<style scoped>\n    .dataframe tbody tr th:only-of-type {\n        vertical-align: middle;\n    }\n\n    .dataframe tbody tr th {\n        vertical-align: top;\n    }\n\n    .dataframe thead th {\n        text-align: right;\n    }\n</style>\n<table border=\"1\" class=\"dataframe\">\n  <thead>\n    <tr style=\"text-align: right;\">\n      <th></th>\n      <th>연번</th>\n      <th>환자</th>\n      <th>확진일</th>\n      <th>거주지</th>\n      <th>여행력</th>\n      <th>접촉력</th>\n      <th>퇴원현황</th>\n    </tr>\n  </thead>\n  <tbody>\n    <tr>\n      <th>3656</th>\n      <td>595</td>\n      <td>10441</td>\n      <td>4.09.</td>\n      <td>성북구</td>\n      <td>-</td>\n      <td>확인 중</td>\n      <td>퇴원</td>\n    </tr>\n    <tr>\n      <th>266</th>\n      <td>3985</td>\n      <td>20258</td>\n      <td>9.01.</td>\n      <td>강남구</td>\n      <td>-</td>\n      <td>강남구 소재 아파트</td>\n      <td>NaN</td>\n    </tr>\n    <tr>\n      <th>768</th>\n      <td>3483</td>\n      <td>18857</td>\n      <td>8.27.</td>\n      <td>강동구</td>\n      <td>-</td>\n      <td>확인 중</td>\n      <td>NaN</td>\n    </tr>\n    <tr>\n      <th>1748</th>\n      <td>2503</td>\n      <td>16411</td>\n      <td>8.20.</td>\n      <td>은평구</td>\n      <td>-</td>\n      <td>확인 중</td>\n      <td>퇴원</td>\n    </tr>\n    <tr>\n      <th>61</th>\n      <td>4190</td>\n      <td>20823</td>\n      <td>9.03.</td>\n      <td>강동구</td>\n      <td>-</td>\n      <td>기타 확진자 접촉</td>\n      <td>NaN</td>\n    </tr>\n    <tr>\n      <th>2037</th>\n      <td>2214</td>\n      <td>15969</td>\n      <td>8.18.</td>\n      <td>기타</td>\n      <td>-</td>\n      <td>성북구 사랑제일교회 관련</td>\n      <td>NaN</td>\n    </tr>\n    <tr>\n      <th>2590</th>\n      <td>1661</td>\n      <td>14550</td>\n      <td>8.7.</td>\n      <td>서초구</td>\n      <td>-</td>\n      <td>서초구 확진자 접촉</td>\n      <td>퇴원</td>\n    </tr>\n    <tr>\n      <th>145</th>\n      <td>4106</td>\n      <td>20555</td>\n      <td>9.02.</td>\n      <td>서초구</td>\n      <td>-</td>\n      <td>중구 소재 은행</td>\n      <td>NaN</td>\n    </tr>\n    <tr>\n      <th>3706</th>\n      <td>545</td>\n      <td>10233</td>\n      <td>4.04.</td>\n      <td>송파구</td>\n      <td>-</td>\n      <td>#9765 접촉</td>\n      <td>퇴원</td>\n    </tr>\n    <tr>\n      <th>2350</th>\n      <td>1901</td>\n      <td>15132</td>\n      <td>8.15.</td>\n      <td>노원구</td>\n      <td>-</td>\n      <td>성북구 사랑제일교회 관련</td>\n      <td>퇴원</td>\n    </tr>\n    <tr>\n      <th>1067</th>\n      <td>3184</td>\n      <td>18073</td>\n      <td>8.25.</td>\n      <td>송파구</td>\n      <td>-</td>\n      <td>성북구 사랑제일교회 관련</td>\n      <td>NaN</td>\n    </tr>\n    <tr>\n      <th>470</th>\n      <td>3781</td>\n      <td>19719</td>\n      <td>8.30.</td>\n      <td>도봉구</td>\n      <td>-</td>\n      <td>용인시 우리제일교회 관련</td>\n      <td>NaN</td>\n    </tr>\n    <tr>\n      <th>93</th>\n      <td>4158</td>\n      <td>20667</td>\n      <td>9.03.</td>\n      <td>강북구</td>\n      <td>-</td>\n      <td>관악구 판매업소</td>\n      <td>NaN</td>\n    </tr>\n    <tr>\n      <th>2110</th>\n      <td>2141</td>\n      <td>15670</td>\n      <td>8.17.</td>\n      <td>강동구</td>\n      <td>-</td>\n      <td>용인시 우리제일교회 관련</td>\n      <td>퇴원</td>\n    </tr>\n    <tr>\n      <th>2398</th>\n      <td>1853</td>\n      <td>15154</td>\n      <td>8.15.</td>\n      <td>강서구</td>\n      <td>-</td>\n      <td>성북구 사랑제일교회 관련</td>\n      <td>퇴원</td>\n    </tr>\n  </tbody>\n</table>\n</div>"
     },
     "metadata": {},
     "execution_count": 7
    }
   ],
   "source": [
    "df_temp = pd.read_csv(newst_csv, encoding=\"utf-8\")\n",
    "df_temp.sample(15)"
   ]
  },
  {
   "cell_type": "code",
   "execution_count": 8,
   "metadata": {},
   "outputs": [
    {
     "output_type": "execute_result",
     "data": {
      "text/plain": "array(['확인 중'], dtype=object)"
     },
     "metadata": {},
     "execution_count": 8
    }
   ],
   "source": [
    "# overwrite whatever cell value that contains \"확인\" as \"확인 중\"\n",
    "df_temp.loc[df_temp[\"접촉력\"].str.contains(\"확인\"),\"접촉력\"] = \"확인 중\"\n",
    "\n",
    "# check whether those two arrays are combined\n",
    "df_temp.loc[df_temp[\"접촉력\"].str.contains(\"확인\"),\"접촉력\"].unique()"
   ]
  },
  {
   "cell_type": "code",
   "execution_count": 9,
   "metadata": {},
   "outputs": [],
   "source": [
    "df_temp[\"접촉력\"] = df_temp[\"접촉력\"].str.replace(\"관련\", \"\")\n",
    "df_temp[\"접촉력\"] = df_temp[\"접촉력\"].str.strip()"
   ]
  },
  {
   "cell_type": "code",
   "execution_count": 10,
   "metadata": {
    "tags": []
   },
   "outputs": [
    {
     "output_type": "stream",
     "name": "stdout",
     "text": "223\n"
    },
    {
     "output_type": "execute_result",
     "data": {
      "text/plain": "array(['송파구 소재 병원', '노원구 빛가온교회', '강동구 소재 병원', '성북구 사랑제일교회', '8.15도심집회',\n       '확인 중', '도봉구 운동시설', '타시도 확진자 접촉', '기타 확진자 접촉', '다래경매', '노원구 기도모임',\n       '동작구 카드 발급업체', '광진구 소재병원', '성북구 체대입시', '성북구 요양시설', '중구 소재 은행',\n       '중랑구 소재 체육시설', '관악구 판매업소', '동작구 소재 서울신학교', '용인시 우리제일교회',\n       '노원구 손해보험', '구로구 보성운수', '강서구 서울대효요양병원', '서초구 장애인교육시설', '서대문구 지인모임',\n       '강북구 일가족', '중구 하나은행본점', '강서구 보안회사', '롯데리아 종사자 모임', '해외 접촉 추정',\n       '8.15도심집회(순복음 강북교회)', '영등포구 권능교회', '구로구 아파트', '강남구 소재 아파트',\n       '제주 게스트하우스', '성북구 벧엘장로교회', '중앙보훈병원', '관악구 김혜근의원', '동대문구 sk탁구클럽',\n       '동작구 스터디카페', '극단 산', 'KT가좌지사', '군인권센터', '동작구 요양시설', '여의도 순복음교회',\n       '중구 보험회사(현대해상)', '강서구 병원', '종로구 혜화경찰서', '양천구 되새김교회', '현대커머셜',\n       '8.15도심집회(녹색병원)', '영등포 IFC몰 오케스트로', '고양시 반석교회(케네디상가)', '롯데 자산개발',\n       '골드트레인', '한양대병원', '은평구 헤어콕', '순복음 강북교회', '서대문구 지인 모임', '강동구 어린이집',\n       '광화문집회', '은평구 성경공부모임', '관악구 요양병원', '고대 안암병원', '마포구 푸본생명콜센터',\n       '성동구 가족', '양천구 되새김 교회', '중구 통일상가', '고양시 반석교회  (케네디상가)',\n       '강남구 판매업소(골드트레인)', '양천구 확진자 접촉', '영등포구 확진자 접촉', '강남구 확진자 접촉',\n       '강남구 판매업소', '광진구 확진자 접촉', '고양시 반석교회 (케네디상가)', '구로구 확진자 접촉',\n       '종로구 확진자 접촉', '성북구 확진자 접촉', '서초구 확진자 접촉', '마포구 확진자 접촉',\n       '#14483 접촉', '#14488 접촉', '도봉구 가족', '강남구 커피전문점', '선교회 소모임',\n       '도봉구 확진자 접촉', '송파구 교회', '강서구 확진자 접촉', '송파구 확진자 접촉',\n       '종로구 지인모임 신명투자', '강서구 요양시설', '강남구 사무실 K빌딩', '송파구 지인모임',\n       '관악구 확진자 접촉', '중구 확진자 접촉', '강북구 확진자 접촉', '관악구 사무실', '은평구 확진자 접촉',\n       '강남구 사무실', '강남역삼동 금융회사', '성동구 확진자 접촉', '강남구 이동통신 종사자',\n       '강남구 역삼동 모임', '용산구 확진자 접촉', '왕성교회', '중랑구 일가족', '관악구 일가족',\n       '대전 꿈꾸는 교회', '리치웨이', '동작구 확진자 접촉', '금천구 확진자 접촉', '요양시설',\n       '강동구 확진자 접촉', '시청역', '대자연코리아', '의왕 물류센터', '금천구 도정기 회사', '양천구 운동시설',\n       '대전 다단계', '오렌지라이프', '수도권 개척교회', '타시도 확진자 접촉자', '연아나뉴스클래스',\n       '한국대학생선교회', '해외접촉 추정', 'kb 생명보험', '부천시 쿠팡', '이태원 클럽', '용인 형제',\n       '삼성화재', '서초구 가족', '안양군포 목회자', '영등포 학원', '강남구 동인교회', '원어성경연구회',\n       '#11196 접촉', '삼성서울병원', '#10054 접촉', '#9800 접촉', '#10044 접촉',\n       '#9641 접촉', '구로구 교회', '#10407 접촉', '#10015 접촉', '#9364 접촉',\n       '#10377 접촉', '#9287 접촉', '#10142 접촉', '#9912 접촉', '#9765 접촉',\n       '#10115 접촉', '타시도 확진자 접촉(추정)', '#8063 접촉', '#10084 접촉', '#8601 접촉',\n       '#8717 접촉', '#9946 접촉', '콜센터직원 접촉', '#8271 접촉', '#8669 접촉',\n       '#9734 접촉', '#9621 접촉', '#9572 접촉', '#9525 접촉', '#7914 접촉',\n       '#8791 접촉', '#9219 접촉', '#8057 접촉', '#8079 접촉', '#8646 접촉',\n       '#9020 접촉', '#8245 접촉', '#8709 접촉 추정', '#8881 접촉 추정', '구로구 콜센터',\n       '#8486 접촉', '동대문구', '#8196 접촉', '#8138 접촉', '구로구 콜센터 접촉',\n       '#8044 접촉', '해외 접촉', '#7923 접촉', '신천지 추정', '#7573 접축 추정',\n       '#6959 접촉(추정)', '#7280 접촉(추정)', '#7500 접촉(추정)', '#6727 첩촉',\n       '대구 거주', '#6832 접촉자', '#6921접촉자', '#935 접촉자', '#6937 접촉자',\n       '성동구 아파트', '대구 방문', '부동산 중개 법인', '여의도 건설현장', '대구 확진자 접촉', '명성교회',\n       '#794 접촉(추정)', '#2621번 접촉', '#1247 접촉(추정)', '부동산 중개업', '쇼핑몰',\n       '은평구 병원', '경찰병원', '서울재생병원', '신천지대구교회', '#794 접촉자', '대구 방문(명성교회)',\n       '#780 접촉(추정)', '#56 접촉', '#136 접촉', '대구 거주자', '#6 접촉(추정)',\n       '#30 접촉', '#29 접촉', '#83 접촉', '#6 접촉', '#5 접촉', '#3 접촉'],\n      dtype=object)"
     },
     "metadata": {},
     "execution_count": 10
    }
   ],
   "source": [
    "infection_paths = df_temp[\"접촉력\"].unique()\n",
    "print(len(infection_paths))\n",
    "infection_paths"
   ]
  },
  {
   "cell_type": "code",
   "execution_count": 11,
   "metadata": {},
   "outputs": [
    {
     "output_type": "execute_result",
     "data": {
      "text/plain": "     연번     환자    확진일  거주지 여행력         접촉력 퇴원현황\n0  4251    미부여  9.04.   타시   -   송파구 소재 병원  NaN\n1  4250  20979  9.04.  노원구   -   노원구 빛가온교회  NaN\n2  4249  20974  9.04.  성동구   -   강동구 소재 병원  NaN\n3  4248  20962  9.04.  성북구   -  성북구 사랑제일교회  NaN\n4  4247    미부여  9.03.  성북구   -    8.15도심집회  NaN",
      "text/html": "<div>\n<style scoped>\n    .dataframe tbody tr th:only-of-type {\n        vertical-align: middle;\n    }\n\n    .dataframe tbody tr th {\n        vertical-align: top;\n    }\n\n    .dataframe thead th {\n        text-align: right;\n    }\n</style>\n<table border=\"1\" class=\"dataframe\">\n  <thead>\n    <tr style=\"text-align: right;\">\n      <th></th>\n      <th>연번</th>\n      <th>환자</th>\n      <th>확진일</th>\n      <th>거주지</th>\n      <th>여행력</th>\n      <th>접촉력</th>\n      <th>퇴원현황</th>\n    </tr>\n  </thead>\n  <tbody>\n    <tr>\n      <th>0</th>\n      <td>4251</td>\n      <td>미부여</td>\n      <td>9.04.</td>\n      <td>타시</td>\n      <td>-</td>\n      <td>송파구 소재 병원</td>\n      <td>NaN</td>\n    </tr>\n    <tr>\n      <th>1</th>\n      <td>4250</td>\n      <td>20979</td>\n      <td>9.04.</td>\n      <td>노원구</td>\n      <td>-</td>\n      <td>노원구 빛가온교회</td>\n      <td>NaN</td>\n    </tr>\n    <tr>\n      <th>2</th>\n      <td>4249</td>\n      <td>20974</td>\n      <td>9.04.</td>\n      <td>성동구</td>\n      <td>-</td>\n      <td>강동구 소재 병원</td>\n      <td>NaN</td>\n    </tr>\n    <tr>\n      <th>3</th>\n      <td>4248</td>\n      <td>20962</td>\n      <td>9.04.</td>\n      <td>성북구</td>\n      <td>-</td>\n      <td>성북구 사랑제일교회</td>\n      <td>NaN</td>\n    </tr>\n    <tr>\n      <th>4</th>\n      <td>4247</td>\n      <td>미부여</td>\n      <td>9.03.</td>\n      <td>성북구</td>\n      <td>-</td>\n      <td>8.15도심집회</td>\n      <td>NaN</td>\n    </tr>\n  </tbody>\n</table>\n</div>"
     },
     "metadata": {},
     "execution_count": 11
    }
   ],
   "source": [
    "df_date = df_temp.sort_values([\"연번\"], ascending=False)\n",
    "df_date.head()"
   ]
  },
  {
   "cell_type": "code",
   "execution_count": 12,
   "metadata": {},
   "outputs": [
    {
     "output_type": "execute_result",
     "data": {
      "text/plain": "     연번     환자   확진일  거주지 여행력         접촉력 퇴원현황\n0  4251    미부여  9-04   타시   -   송파구 소재 병원  NaN\n1  4250  20979  9-04  노원구   -   노원구 빛가온교회  NaN\n2  4249  20974  9-04  성동구   -   강동구 소재 병원  NaN\n3  4248  20962  9-04  성북구   -  성북구 사랑제일교회  NaN\n4  4247    미부여  9-03  성북구   -    8.15도심집회  NaN",
      "text/html": "<div>\n<style scoped>\n    .dataframe tbody tr th:only-of-type {\n        vertical-align: middle;\n    }\n\n    .dataframe tbody tr th {\n        vertical-align: top;\n    }\n\n    .dataframe thead th {\n        text-align: right;\n    }\n</style>\n<table border=\"1\" class=\"dataframe\">\n  <thead>\n    <tr style=\"text-align: right;\">\n      <th></th>\n      <th>연번</th>\n      <th>환자</th>\n      <th>확진일</th>\n      <th>거주지</th>\n      <th>여행력</th>\n      <th>접촉력</th>\n      <th>퇴원현황</th>\n    </tr>\n  </thead>\n  <tbody>\n    <tr>\n      <th>0</th>\n      <td>4251</td>\n      <td>미부여</td>\n      <td>9-04</td>\n      <td>타시</td>\n      <td>-</td>\n      <td>송파구 소재 병원</td>\n      <td>NaN</td>\n    </tr>\n    <tr>\n      <th>1</th>\n      <td>4250</td>\n      <td>20979</td>\n      <td>9-04</td>\n      <td>노원구</td>\n      <td>-</td>\n      <td>노원구 빛가온교회</td>\n      <td>NaN</td>\n    </tr>\n    <tr>\n      <th>2</th>\n      <td>4249</td>\n      <td>20974</td>\n      <td>9-04</td>\n      <td>성동구</td>\n      <td>-</td>\n      <td>강동구 소재 병원</td>\n      <td>NaN</td>\n    </tr>\n    <tr>\n      <th>3</th>\n      <td>4248</td>\n      <td>20962</td>\n      <td>9-04</td>\n      <td>성북구</td>\n      <td>-</td>\n      <td>성북구 사랑제일교회</td>\n      <td>NaN</td>\n    </tr>\n    <tr>\n      <th>4</th>\n      <td>4247</td>\n      <td>미부여</td>\n      <td>9-03</td>\n      <td>성북구</td>\n      <td>-</td>\n      <td>8.15도심집회</td>\n      <td>NaN</td>\n    </tr>\n  </tbody>\n</table>\n</div>"
     },
     "metadata": {},
     "execution_count": 12
    }
   ],
   "source": [
    "df_date[\"확진일\"] = df_date[\"확진일\"].str.replace(\".\", \"-\")\n",
    "df_date[\"확진일\"] = df_date[\"확진일\"].str[:-1]\n",
    "df_date.head()"
   ]
  },
  {
   "cell_type": "code",
   "execution_count": 13,
   "metadata": {},
   "outputs": [
    {
     "output_type": "execute_result",
     "data": {
      "text/plain": "     연번     환자         확진일  거주지 여행력         접촉력 퇴원현황\n0  4251    미부여  2020-09-04   타시   -   송파구 소재 병원  NaN\n1  4250  20979  2020-09-04  노원구   -   노원구 빛가온교회  NaN\n2  4249  20974  2020-09-04  성동구   -   강동구 소재 병원  NaN\n3  4248  20962  2020-09-04  성북구   -  성북구 사랑제일교회  NaN\n4  4247    미부여  2020-09-03  성북구   -    8.15도심집회  NaN",
      "text/html": "<div>\n<style scoped>\n    .dataframe tbody tr th:only-of-type {\n        vertical-align: middle;\n    }\n\n    .dataframe tbody tr th {\n        vertical-align: top;\n    }\n\n    .dataframe thead th {\n        text-align: right;\n    }\n</style>\n<table border=\"1\" class=\"dataframe\">\n  <thead>\n    <tr style=\"text-align: right;\">\n      <th></th>\n      <th>연번</th>\n      <th>환자</th>\n      <th>확진일</th>\n      <th>거주지</th>\n      <th>여행력</th>\n      <th>접촉력</th>\n      <th>퇴원현황</th>\n    </tr>\n  </thead>\n  <tbody>\n    <tr>\n      <th>0</th>\n      <td>4251</td>\n      <td>미부여</td>\n      <td>2020-09-04</td>\n      <td>타시</td>\n      <td>-</td>\n      <td>송파구 소재 병원</td>\n      <td>NaN</td>\n    </tr>\n    <tr>\n      <th>1</th>\n      <td>4250</td>\n      <td>20979</td>\n      <td>2020-09-04</td>\n      <td>노원구</td>\n      <td>-</td>\n      <td>노원구 빛가온교회</td>\n      <td>NaN</td>\n    </tr>\n    <tr>\n      <th>2</th>\n      <td>4249</td>\n      <td>20974</td>\n      <td>2020-09-04</td>\n      <td>성동구</td>\n      <td>-</td>\n      <td>강동구 소재 병원</td>\n      <td>NaN</td>\n    </tr>\n    <tr>\n      <th>3</th>\n      <td>4248</td>\n      <td>20962</td>\n      <td>2020-09-04</td>\n      <td>성북구</td>\n      <td>-</td>\n      <td>성북구 사랑제일교회</td>\n      <td>NaN</td>\n    </tr>\n    <tr>\n      <th>4</th>\n      <td>4247</td>\n      <td>미부여</td>\n      <td>2020-09-03</td>\n      <td>성북구</td>\n      <td>-</td>\n      <td>8.15도심집회</td>\n      <td>NaN</td>\n    </tr>\n  </tbody>\n</table>\n</div>"
     },
     "metadata": {},
     "execution_count": 13
    }
   ],
   "source": [
    "df_date[\"확진일\"] = \"2020-0\" + df_date[\"확진일\"]\n",
    "df_date.head()"
   ]
  },
  {
   "cell_type": "code",
   "execution_count": 14,
   "metadata": {},
   "outputs": [
    {
     "output_type": "execute_result",
     "data": {
      "text/plain": "        연번     환자         확진일  거주지 여행력          접촉력 퇴원현황\n3733   518  10134   2020-04-3  송파구  미국     해외 접촉 추정   퇴원\n2323  1928  15157  2020-08-15  성북구   -   성북구 사랑제일교회  NaN\n3232  1019  11875  2020-06-09  관악구   -         리치웨이   퇴원\n785   3466  18901  2020-08-27  은평구   -  동작구 카드 발급업체   사망\n2810  1441  13547  2020-07-14  동작구   -  영등포구 확진자 접촉   퇴원",
      "text/html": "<div>\n<style scoped>\n    .dataframe tbody tr th:only-of-type {\n        vertical-align: middle;\n    }\n\n    .dataframe tbody tr th {\n        vertical-align: top;\n    }\n\n    .dataframe thead th {\n        text-align: right;\n    }\n</style>\n<table border=\"1\" class=\"dataframe\">\n  <thead>\n    <tr style=\"text-align: right;\">\n      <th></th>\n      <th>연번</th>\n      <th>환자</th>\n      <th>확진일</th>\n      <th>거주지</th>\n      <th>여행력</th>\n      <th>접촉력</th>\n      <th>퇴원현황</th>\n    </tr>\n  </thead>\n  <tbody>\n    <tr>\n      <th>3733</th>\n      <td>518</td>\n      <td>10134</td>\n      <td>2020-04-3</td>\n      <td>송파구</td>\n      <td>미국</td>\n      <td>해외 접촉 추정</td>\n      <td>퇴원</td>\n    </tr>\n    <tr>\n      <th>2323</th>\n      <td>1928</td>\n      <td>15157</td>\n      <td>2020-08-15</td>\n      <td>성북구</td>\n      <td>-</td>\n      <td>성북구 사랑제일교회</td>\n      <td>NaN</td>\n    </tr>\n    <tr>\n      <th>3232</th>\n      <td>1019</td>\n      <td>11875</td>\n      <td>2020-06-09</td>\n      <td>관악구</td>\n      <td>-</td>\n      <td>리치웨이</td>\n      <td>퇴원</td>\n    </tr>\n    <tr>\n      <th>785</th>\n      <td>3466</td>\n      <td>18901</td>\n      <td>2020-08-27</td>\n      <td>은평구</td>\n      <td>-</td>\n      <td>동작구 카드 발급업체</td>\n      <td>사망</td>\n    </tr>\n    <tr>\n      <th>2810</th>\n      <td>1441</td>\n      <td>13547</td>\n      <td>2020-07-14</td>\n      <td>동작구</td>\n      <td>-</td>\n      <td>영등포구 확진자 접촉</td>\n      <td>퇴원</td>\n    </tr>\n  </tbody>\n</table>\n</div>"
     },
     "metadata": {},
     "execution_count": 14
    }
   ],
   "source": [
    "df_date.sample(5)"
   ]
  },
  {
   "cell_type": "code",
   "execution_count": 15,
   "metadata": {},
   "outputs": [
    {
     "output_type": "execute_result",
     "data": {
      "text/plain": "     연번     환자         확진일  거주지 여행력         접촉력 퇴원현황\n0  4251    미부여  2020-09-04   타시   -   송파구 소재 병원  NaN\n1  4250  20979  2020-09-04  노원구   -   노원구 빛가온교회  NaN\n2  4249  20974  2020-09-04  성동구   -   강동구 소재 병원  NaN\n3  4248  20962  2020-09-04  성북구   -  성북구 사랑제일교회  NaN\n4  4247    미부여  2020-09-03  성북구   -    8.15도심집회  NaN",
      "text/html": "<div>\n<style scoped>\n    .dataframe tbody tr th:only-of-type {\n        vertical-align: middle;\n    }\n\n    .dataframe tbody tr th {\n        vertical-align: top;\n    }\n\n    .dataframe thead th {\n        text-align: right;\n    }\n</style>\n<table border=\"1\" class=\"dataframe\">\n  <thead>\n    <tr style=\"text-align: right;\">\n      <th></th>\n      <th>연번</th>\n      <th>환자</th>\n      <th>확진일</th>\n      <th>거주지</th>\n      <th>여행력</th>\n      <th>접촉력</th>\n      <th>퇴원현황</th>\n    </tr>\n  </thead>\n  <tbody>\n    <tr>\n      <th>0</th>\n      <td>4251</td>\n      <td>미부여</td>\n      <td>2020-09-04</td>\n      <td>타시</td>\n      <td>-</td>\n      <td>송파구 소재 병원</td>\n      <td>NaN</td>\n    </tr>\n    <tr>\n      <th>1</th>\n      <td>4250</td>\n      <td>20979</td>\n      <td>2020-09-04</td>\n      <td>노원구</td>\n      <td>-</td>\n      <td>노원구 빛가온교회</td>\n      <td>NaN</td>\n    </tr>\n    <tr>\n      <th>2</th>\n      <td>4249</td>\n      <td>20974</td>\n      <td>2020-09-04</td>\n      <td>성동구</td>\n      <td>-</td>\n      <td>강동구 소재 병원</td>\n      <td>NaN</td>\n    </tr>\n    <tr>\n      <th>3</th>\n      <td>4248</td>\n      <td>20962</td>\n      <td>2020-09-04</td>\n      <td>성북구</td>\n      <td>-</td>\n      <td>성북구 사랑제일교회</td>\n      <td>NaN</td>\n    </tr>\n    <tr>\n      <th>4</th>\n      <td>4247</td>\n      <td>미부여</td>\n      <td>2020-09-03</td>\n      <td>성북구</td>\n      <td>-</td>\n      <td>8.15도심집회</td>\n      <td>NaN</td>\n    </tr>\n  </tbody>\n</table>\n</div>"
     },
     "metadata": {},
     "execution_count": 15
    }
   ],
   "source": [
    "df = df_date.copy()\n",
    "df.head()"
   ]
  },
  {
   "cell_type": "code",
   "execution_count": 16,
   "metadata": {},
   "outputs": [
    {
     "output_type": "execute_result",
     "data": {
      "text/plain": "     연번     환자         확진일  거주지 여행력         접촉력 퇴원현황\n0  4251    미부여  2020-09-04   타시   -   송파구 소재 병원  NaN\n1  4250  20979  2020-09-04  노원구   -   노원구 빛가온교회  NaN\n2  4249  20974  2020-09-04  성동구   -   강동구 소재 병원  NaN\n3  4248  20962  2020-09-04  성북구   -  성북구 사랑제일교회  NaN\n4  4247    미부여  2020-09-03  성북구   -    8.15도심집회  NaN",
      "text/html": "<div>\n<style scoped>\n    .dataframe tbody tr th:only-of-type {\n        vertical-align: middle;\n    }\n\n    .dataframe tbody tr th {\n        vertical-align: top;\n    }\n\n    .dataframe thead th {\n        text-align: right;\n    }\n</style>\n<table border=\"1\" class=\"dataframe\">\n  <thead>\n    <tr style=\"text-align: right;\">\n      <th></th>\n      <th>연번</th>\n      <th>환자</th>\n      <th>확진일</th>\n      <th>거주지</th>\n      <th>여행력</th>\n      <th>접촉력</th>\n      <th>퇴원현황</th>\n    </tr>\n  </thead>\n  <tbody>\n    <tr>\n      <th>0</th>\n      <td>4251</td>\n      <td>미부여</td>\n      <td>2020-09-04</td>\n      <td>타시</td>\n      <td>-</td>\n      <td>송파구 소재 병원</td>\n      <td>NaN</td>\n    </tr>\n    <tr>\n      <th>1</th>\n      <td>4250</td>\n      <td>20979</td>\n      <td>2020-09-04</td>\n      <td>노원구</td>\n      <td>-</td>\n      <td>노원구 빛가온교회</td>\n      <td>NaN</td>\n    </tr>\n    <tr>\n      <th>2</th>\n      <td>4249</td>\n      <td>20974</td>\n      <td>2020-09-04</td>\n      <td>성동구</td>\n      <td>-</td>\n      <td>강동구 소재 병원</td>\n      <td>NaN</td>\n    </tr>\n    <tr>\n      <th>3</th>\n      <td>4248</td>\n      <td>20962</td>\n      <td>2020-09-04</td>\n      <td>성북구</td>\n      <td>-</td>\n      <td>성북구 사랑제일교회</td>\n      <td>NaN</td>\n    </tr>\n    <tr>\n      <th>4</th>\n      <td>4247</td>\n      <td>미부여</td>\n      <td>2020-09-03</td>\n      <td>성북구</td>\n      <td>-</td>\n      <td>8.15도심집회</td>\n      <td>NaN</td>\n    </tr>\n  </tbody>\n</table>\n</div>"
     },
     "metadata": {},
     "execution_count": 16
    }
   ],
   "source": [
    "df.loc[(df[\"확진일\"].str.len() < 10), '확진일'] = df.loc[(df[\"확진일\"].str.len() < 10), '확진일'].str.replace(\"-0\", \"-\")\n",
    "df.loc[(df[\"확진일\"].str.len() < 10), '확진일'] = df.loc[(df[\"확진일\"].str.len() < 10), '확진일'].str.replace(\"-\", \"-0\")\n",
    "df.head()"
   ]
  },
  {
   "cell_type": "code",
   "execution_count": 17,
   "metadata": {},
   "outputs": [
    {
     "output_type": "execute_result",
     "data": {
      "text/plain": "        연번     환자         확진일   거주지 여행력           접촉력 퇴원현황\n1183  3068  17592  2020-08-24   노원구   -    성북구 사랑제일교회  NaN\n1567  2684  16917  2020-08-21   송파구   -         광화문집회  NaN\n3041  1210  12397  2020-06-20   성동구   -    금천구 도정기 회사   퇴원\n1435  2816  17148  2020-08-22  영등포구   -     여의도 순복음교회   퇴원\n1704  2547  16488  2020-08-20   강서구   -      성북구 체대입시  NaN\n988   3263  18651  2020-08-26   강서구   -          확인 중  NaN\n2799  1452  13646  2020-07-16   도봉구   -       강남구 사무실   퇴원\n1020  3231  18216  2020-08-25   종로구   -     기타 확진자 접촉  NaN\n1940  2311  15971  2020-08-18   용산구   -          확인 중   퇴원\n410   3841  19918  2020-08-30   관악구   -  동작구 소재 서울신학교  NaN\n2210  2041  15446  2020-08-16   양천구   -    성북구 사랑제일교회   퇴원\n1113  3138  18242  2020-08-25   강서구   -          확인 중  NaN\n1381  2870  16682  2020-08-22   중랑구   -          확인 중   퇴원\n1290  2961  17570  2020-08-23  영등포구   -     여의도 순복음교회  NaN\n51    4200  20666  2020-09-04   강북구   -          확인 중  NaN",
      "text/html": "<div>\n<style scoped>\n    .dataframe tbody tr th:only-of-type {\n        vertical-align: middle;\n    }\n\n    .dataframe tbody tr th {\n        vertical-align: top;\n    }\n\n    .dataframe thead th {\n        text-align: right;\n    }\n</style>\n<table border=\"1\" class=\"dataframe\">\n  <thead>\n    <tr style=\"text-align: right;\">\n      <th></th>\n      <th>연번</th>\n      <th>환자</th>\n      <th>확진일</th>\n      <th>거주지</th>\n      <th>여행력</th>\n      <th>접촉력</th>\n      <th>퇴원현황</th>\n    </tr>\n  </thead>\n  <tbody>\n    <tr>\n      <th>1183</th>\n      <td>3068</td>\n      <td>17592</td>\n      <td>2020-08-24</td>\n      <td>노원구</td>\n      <td>-</td>\n      <td>성북구 사랑제일교회</td>\n      <td>NaN</td>\n    </tr>\n    <tr>\n      <th>1567</th>\n      <td>2684</td>\n      <td>16917</td>\n      <td>2020-08-21</td>\n      <td>송파구</td>\n      <td>-</td>\n      <td>광화문집회</td>\n      <td>NaN</td>\n    </tr>\n    <tr>\n      <th>3041</th>\n      <td>1210</td>\n      <td>12397</td>\n      <td>2020-06-20</td>\n      <td>성동구</td>\n      <td>-</td>\n      <td>금천구 도정기 회사</td>\n      <td>퇴원</td>\n    </tr>\n    <tr>\n      <th>1435</th>\n      <td>2816</td>\n      <td>17148</td>\n      <td>2020-08-22</td>\n      <td>영등포구</td>\n      <td>-</td>\n      <td>여의도 순복음교회</td>\n      <td>퇴원</td>\n    </tr>\n    <tr>\n      <th>1704</th>\n      <td>2547</td>\n      <td>16488</td>\n      <td>2020-08-20</td>\n      <td>강서구</td>\n      <td>-</td>\n      <td>성북구 체대입시</td>\n      <td>NaN</td>\n    </tr>\n    <tr>\n      <th>988</th>\n      <td>3263</td>\n      <td>18651</td>\n      <td>2020-08-26</td>\n      <td>강서구</td>\n      <td>-</td>\n      <td>확인 중</td>\n      <td>NaN</td>\n    </tr>\n    <tr>\n      <th>2799</th>\n      <td>1452</td>\n      <td>13646</td>\n      <td>2020-07-16</td>\n      <td>도봉구</td>\n      <td>-</td>\n      <td>강남구 사무실</td>\n      <td>퇴원</td>\n    </tr>\n    <tr>\n      <th>1020</th>\n      <td>3231</td>\n      <td>18216</td>\n      <td>2020-08-25</td>\n      <td>종로구</td>\n      <td>-</td>\n      <td>기타 확진자 접촉</td>\n      <td>NaN</td>\n    </tr>\n    <tr>\n      <th>1940</th>\n      <td>2311</td>\n      <td>15971</td>\n      <td>2020-08-18</td>\n      <td>용산구</td>\n      <td>-</td>\n      <td>확인 중</td>\n      <td>퇴원</td>\n    </tr>\n    <tr>\n      <th>410</th>\n      <td>3841</td>\n      <td>19918</td>\n      <td>2020-08-30</td>\n      <td>관악구</td>\n      <td>-</td>\n      <td>동작구 소재 서울신학교</td>\n      <td>NaN</td>\n    </tr>\n    <tr>\n      <th>2210</th>\n      <td>2041</td>\n      <td>15446</td>\n      <td>2020-08-16</td>\n      <td>양천구</td>\n      <td>-</td>\n      <td>성북구 사랑제일교회</td>\n      <td>퇴원</td>\n    </tr>\n    <tr>\n      <th>1113</th>\n      <td>3138</td>\n      <td>18242</td>\n      <td>2020-08-25</td>\n      <td>강서구</td>\n      <td>-</td>\n      <td>확인 중</td>\n      <td>NaN</td>\n    </tr>\n    <tr>\n      <th>1381</th>\n      <td>2870</td>\n      <td>16682</td>\n      <td>2020-08-22</td>\n      <td>중랑구</td>\n      <td>-</td>\n      <td>확인 중</td>\n      <td>퇴원</td>\n    </tr>\n    <tr>\n      <th>1290</th>\n      <td>2961</td>\n      <td>17570</td>\n      <td>2020-08-23</td>\n      <td>영등포구</td>\n      <td>-</td>\n      <td>여의도 순복음교회</td>\n      <td>NaN</td>\n    </tr>\n    <tr>\n      <th>51</th>\n      <td>4200</td>\n      <td>20666</td>\n      <td>2020-09-04</td>\n      <td>강북구</td>\n      <td>-</td>\n      <td>확인 중</td>\n      <td>NaN</td>\n    </tr>\n  </tbody>\n</table>\n</div>"
     },
     "metadata": {},
     "execution_count": 17
    }
   ],
   "source": [
    "df.sample(15)"
   ]
  },
  {
   "cell_type": "code",
   "execution_count": 18,
   "metadata": {},
   "outputs": [],
   "source": [
    "df.to_csv(\"./dataset_predict/df_wrangle.csv\", index=False)"
   ]
  },
  {
   "cell_type": "code",
   "execution_count": 19,
   "metadata": {},
   "outputs": [
    {
     "output_type": "execute_result",
     "data": {
      "text/plain": "         date  new_confirmed\n0  2020-08-26            153\n1  2020-08-18            151\n2  2020-08-27            146\n3  2020-08-15            146\n4  2020-08-22            140",
      "text/html": "<div>\n<style scoped>\n    .dataframe tbody tr th:only-of-type {\n        vertical-align: middle;\n    }\n\n    .dataframe tbody tr th {\n        vertical-align: top;\n    }\n\n    .dataframe thead th {\n        text-align: right;\n    }\n</style>\n<table border=\"1\" class=\"dataframe\">\n  <thead>\n    <tr style=\"text-align: right;\">\n      <th></th>\n      <th>date</th>\n      <th>new_confirmed</th>\n    </tr>\n  </thead>\n  <tbody>\n    <tr>\n      <th>0</th>\n      <td>2020-08-26</td>\n      <td>153</td>\n    </tr>\n    <tr>\n      <th>1</th>\n      <td>2020-08-18</td>\n      <td>151</td>\n    </tr>\n    <tr>\n      <th>2</th>\n      <td>2020-08-27</td>\n      <td>146</td>\n    </tr>\n    <tr>\n      <th>3</th>\n      <td>2020-08-15</td>\n      <td>146</td>\n    </tr>\n    <tr>\n      <th>4</th>\n      <td>2020-08-22</td>\n      <td>140</td>\n    </tr>\n  </tbody>\n</table>\n</div>"
     },
     "metadata": {},
     "execution_count": 19
    }
   ],
   "source": [
    "temp = df[\"확진일\"].value_counts().rename_axis('date').reset_index(name='new_confirmed')\n",
    "temp.head()"
   ]
  },
  {
   "cell_type": "code",
   "execution_count": 20,
   "metadata": {},
   "outputs": [
    {
     "output_type": "execute_result",
     "data": {
      "text/plain": "           date  new_confirmed\n189  2020-01-24              1\n170  2020-01-30              3\n163  2020-01-31              3\n192  2020-02-02              1\n174  2020-02-05              2",
      "text/html": "<div>\n<style scoped>\n    .dataframe tbody tr th:only-of-type {\n        vertical-align: middle;\n    }\n\n    .dataframe tbody tr th {\n        vertical-align: top;\n    }\n\n    .dataframe thead th {\n        text-align: right;\n    }\n</style>\n<table border=\"1\" class=\"dataframe\">\n  <thead>\n    <tr style=\"text-align: right;\">\n      <th></th>\n      <th>date</th>\n      <th>new_confirmed</th>\n    </tr>\n  </thead>\n  <tbody>\n    <tr>\n      <th>189</th>\n      <td>2020-01-24</td>\n      <td>1</td>\n    </tr>\n    <tr>\n      <th>170</th>\n      <td>2020-01-30</td>\n      <td>3</td>\n    </tr>\n    <tr>\n      <th>163</th>\n      <td>2020-01-31</td>\n      <td>3</td>\n    </tr>\n    <tr>\n      <th>192</th>\n      <td>2020-02-02</td>\n      <td>1</td>\n    </tr>\n    <tr>\n      <th>174</th>\n      <td>2020-02-05</td>\n      <td>2</td>\n    </tr>\n  </tbody>\n</table>\n</div>"
     },
     "metadata": {},
     "execution_count": 20
    }
   ],
   "source": [
    "df_predict = temp.sort_values(by=\"date\")\n",
    "df_predict.head()"
   ]
  },
  {
   "cell_type": "code",
   "execution_count": 21,
   "metadata": {},
   "outputs": [],
   "source": [
    "df_predict[\"date\"] = pd.to_datetime(df_predict[\"date\"])"
   ]
  },
  {
   "cell_type": "code",
   "execution_count": 22,
   "metadata": {},
   "outputs": [
    {
     "output_type": "execute_result",
     "data": {
      "text/plain": "                 date  new_confirmed\ndate                                \n2020-01-24 2020-01-24              1\n2020-01-30 2020-01-30              3\n2020-01-31 2020-01-31              3\n2020-02-02 2020-02-02              1\n2020-02-05 2020-02-05              2",
      "text/html": "<div>\n<style scoped>\n    .dataframe tbody tr th:only-of-type {\n        vertical-align: middle;\n    }\n\n    .dataframe tbody tr th {\n        vertical-align: top;\n    }\n\n    .dataframe thead th {\n        text-align: right;\n    }\n</style>\n<table border=\"1\" class=\"dataframe\">\n  <thead>\n    <tr style=\"text-align: right;\">\n      <th></th>\n      <th>date</th>\n      <th>new_confirmed</th>\n    </tr>\n    <tr>\n      <th>date</th>\n      <th></th>\n      <th></th>\n    </tr>\n  </thead>\n  <tbody>\n    <tr>\n      <th>2020-01-24</th>\n      <td>2020-01-24</td>\n      <td>1</td>\n    </tr>\n    <tr>\n      <th>2020-01-30</th>\n      <td>2020-01-30</td>\n      <td>3</td>\n    </tr>\n    <tr>\n      <th>2020-01-31</th>\n      <td>2020-01-31</td>\n      <td>3</td>\n    </tr>\n    <tr>\n      <th>2020-02-02</th>\n      <td>2020-02-02</td>\n      <td>1</td>\n    </tr>\n    <tr>\n      <th>2020-02-05</th>\n      <td>2020-02-05</td>\n      <td>2</td>\n    </tr>\n  </tbody>\n</table>\n</div>"
     },
     "metadata": {},
     "execution_count": 22
    }
   ],
   "source": [
    "df_predict.index = pd.DatetimeIndex(df_predict[\"date\"])\n",
    "df_predict.head()"
   ]
  },
  {
   "cell_type": "code",
   "execution_count": 23,
   "metadata": {},
   "outputs": [
    {
     "output_type": "execute_result",
     "data": {
      "text/plain": "                 date  new_confirmed\ndate                                \n2020-01-24 2020-01-24            1.0\n2020-01-25        NaT            NaN\n2020-01-26        NaT            NaN\n2020-01-27        NaT            NaN\n2020-01-28        NaT            NaN",
      "text/html": "<div>\n<style scoped>\n    .dataframe tbody tr th:only-of-type {\n        vertical-align: middle;\n    }\n\n    .dataframe tbody tr th {\n        vertical-align: top;\n    }\n\n    .dataframe thead th {\n        text-align: right;\n    }\n</style>\n<table border=\"1\" class=\"dataframe\">\n  <thead>\n    <tr style=\"text-align: right;\">\n      <th></th>\n      <th>date</th>\n      <th>new_confirmed</th>\n    </tr>\n    <tr>\n      <th>date</th>\n      <th></th>\n      <th></th>\n    </tr>\n  </thead>\n  <tbody>\n    <tr>\n      <th>2020-01-24</th>\n      <td>2020-01-24</td>\n      <td>1.0</td>\n    </tr>\n    <tr>\n      <th>2020-01-25</th>\n      <td>NaT</td>\n      <td>NaN</td>\n    </tr>\n    <tr>\n      <th>2020-01-26</th>\n      <td>NaT</td>\n      <td>NaN</td>\n    </tr>\n    <tr>\n      <th>2020-01-27</th>\n      <td>NaT</td>\n      <td>NaN</td>\n    </tr>\n    <tr>\n      <th>2020-01-28</th>\n      <td>NaT</td>\n      <td>NaN</td>\n    </tr>\n  </tbody>\n</table>\n</div>"
     },
     "metadata": {},
     "execution_count": 23
    }
   ],
   "source": [
    "df_predict = df_predict.resample('D').max()\n",
    "df_predict.head()"
   ]
  },
  {
   "cell_type": "code",
   "execution_count": 24,
   "metadata": {},
   "outputs": [
    {
     "output_type": "execute_result",
     "data": {
      "text/plain": "                 date  new_confirmed\ndate                                \n2020-01-24 2020-01-24            1.0\n2020-01-25 2020-01-25            NaN\n2020-01-26 2020-01-26            NaN\n2020-01-27 2020-01-27            NaN\n2020-01-28 2020-01-28            NaN",
      "text/html": "<div>\n<style scoped>\n    .dataframe tbody tr th:only-of-type {\n        vertical-align: middle;\n    }\n\n    .dataframe tbody tr th {\n        vertical-align: top;\n    }\n\n    .dataframe thead th {\n        text-align: right;\n    }\n</style>\n<table border=\"1\" class=\"dataframe\">\n  <thead>\n    <tr style=\"text-align: right;\">\n      <th></th>\n      <th>date</th>\n      <th>new_confirmed</th>\n    </tr>\n    <tr>\n      <th>date</th>\n      <th></th>\n      <th></th>\n    </tr>\n  </thead>\n  <tbody>\n    <tr>\n      <th>2020-01-24</th>\n      <td>2020-01-24</td>\n      <td>1.0</td>\n    </tr>\n    <tr>\n      <th>2020-01-25</th>\n      <td>2020-01-25</td>\n      <td>NaN</td>\n    </tr>\n    <tr>\n      <th>2020-01-26</th>\n      <td>2020-01-26</td>\n      <td>NaN</td>\n    </tr>\n    <tr>\n      <th>2020-01-27</th>\n      <td>2020-01-27</td>\n      <td>NaN</td>\n    </tr>\n    <tr>\n      <th>2020-01-28</th>\n      <td>2020-01-28</td>\n      <td>NaN</td>\n    </tr>\n  </tbody>\n</table>\n</div>"
     },
     "metadata": {},
     "execution_count": 24
    }
   ],
   "source": [
    "df_predict[\"date\"] = df_predict.index\n",
    "df_predict.head()"
   ]
  },
  {
   "cell_type": "code",
   "execution_count": 25,
   "metadata": {},
   "outputs": [
    {
     "output_type": "execute_result",
     "data": {
      "text/plain": "                 date  new_confirmed\ndate                                \n2020-01-24 2020-01-24            1.0\n2020-01-25 2020-01-25            0.0\n2020-01-26 2020-01-26            0.0\n2020-01-27 2020-01-27            0.0\n2020-01-28 2020-01-28            0.0\n...               ...            ...\n2020-08-31 2020-08-31           94.0\n2020-09-01 2020-09-01          101.0\n2020-09-02 2020-09-02           81.0\n2020-09-03 2020-09-03           62.0\n2020-09-04 2020-09-04           45.0\n\n[225 rows x 2 columns]",
      "text/html": "<div>\n<style scoped>\n    .dataframe tbody tr th:only-of-type {\n        vertical-align: middle;\n    }\n\n    .dataframe tbody tr th {\n        vertical-align: top;\n    }\n\n    .dataframe thead th {\n        text-align: right;\n    }\n</style>\n<table border=\"1\" class=\"dataframe\">\n  <thead>\n    <tr style=\"text-align: right;\">\n      <th></th>\n      <th>date</th>\n      <th>new_confirmed</th>\n    </tr>\n    <tr>\n      <th>date</th>\n      <th></th>\n      <th></th>\n    </tr>\n  </thead>\n  <tbody>\n    <tr>\n      <th>2020-01-24</th>\n      <td>2020-01-24</td>\n      <td>1.0</td>\n    </tr>\n    <tr>\n      <th>2020-01-25</th>\n      <td>2020-01-25</td>\n      <td>0.0</td>\n    </tr>\n    <tr>\n      <th>2020-01-26</th>\n      <td>2020-01-26</td>\n      <td>0.0</td>\n    </tr>\n    <tr>\n      <th>2020-01-27</th>\n      <td>2020-01-27</td>\n      <td>0.0</td>\n    </tr>\n    <tr>\n      <th>2020-01-28</th>\n      <td>2020-01-28</td>\n      <td>0.0</td>\n    </tr>\n    <tr>\n      <th>...</th>\n      <td>...</td>\n      <td>...</td>\n    </tr>\n    <tr>\n      <th>2020-08-31</th>\n      <td>2020-08-31</td>\n      <td>94.0</td>\n    </tr>\n    <tr>\n      <th>2020-09-01</th>\n      <td>2020-09-01</td>\n      <td>101.0</td>\n    </tr>\n    <tr>\n      <th>2020-09-02</th>\n      <td>2020-09-02</td>\n      <td>81.0</td>\n    </tr>\n    <tr>\n      <th>2020-09-03</th>\n      <td>2020-09-03</td>\n      <td>62.0</td>\n    </tr>\n    <tr>\n      <th>2020-09-04</th>\n      <td>2020-09-04</td>\n      <td>45.0</td>\n    </tr>\n  </tbody>\n</table>\n<p>225 rows × 2 columns</p>\n</div>"
     },
     "metadata": {},
     "execution_count": 25
    }
   ],
   "source": [
    "df_predict = df_predict.fillna(0)\n",
    "df_predict"
   ]
  },
  {
   "cell_type": "code",
   "execution_count": 26,
   "metadata": {},
   "outputs": [],
   "source": [
    "df_predict.to_csv(\"dataset_predict/df_predict.csv\", index=False)"
   ]
  },
  {
   "cell_type": "code",
   "execution_count": 27,
   "metadata": {},
   "outputs": [],
   "source": [
    "df_predict =  pd.read_csv(\"dataset_predict/df_predict.csv\", encoding=\"utf-8\")"
   ]
  },
  {
   "cell_type": "code",
   "execution_count": 28,
   "metadata": {},
   "outputs": [
    {
     "output_type": "execute_result",
     "data": {
      "text/plain": "        연번    환자         확진일  거주지 여행력   접촉력 퇴원현황\n5     4246   미부여  2020-09-03  관악구   -  확인 중  NaN\n6     4245   미부여  2020-09-03  마포구   -  확인 중  NaN\n7     4244   미부여  2020-08-30   기타   -  확인 중  NaN\n8     4243   미부여  2020-09-02  마포구   -  확인 중  NaN\n9     4242   미부여  2020-09-03  성동구   -  확인 중  NaN\n...    ...   ...         ...  ...  ..   ...  ...\n4195    56  1768  2020-02-25  고양시   -  확인 중   퇴원\n4209    42  1370  2020-02-25  노원구   -  확인 중   퇴원\n4212    39   924  2020-02-25   평택   -  확인 중   퇴원\n4213    38   907  2020-02-25  관악구   -  확인 중   퇴원\n4216    35   870  2020-02-25   김포   -  확인 중   퇴원\n\n[699 rows x 7 columns]",
      "text/html": "<div>\n<style scoped>\n    .dataframe tbody tr th:only-of-type {\n        vertical-align: middle;\n    }\n\n    .dataframe tbody tr th {\n        vertical-align: top;\n    }\n\n    .dataframe thead th {\n        text-align: right;\n    }\n</style>\n<table border=\"1\" class=\"dataframe\">\n  <thead>\n    <tr style=\"text-align: right;\">\n      <th></th>\n      <th>연번</th>\n      <th>환자</th>\n      <th>확진일</th>\n      <th>거주지</th>\n      <th>여행력</th>\n      <th>접촉력</th>\n      <th>퇴원현황</th>\n    </tr>\n  </thead>\n  <tbody>\n    <tr>\n      <th>5</th>\n      <td>4246</td>\n      <td>미부여</td>\n      <td>2020-09-03</td>\n      <td>관악구</td>\n      <td>-</td>\n      <td>확인 중</td>\n      <td>NaN</td>\n    </tr>\n    <tr>\n      <th>6</th>\n      <td>4245</td>\n      <td>미부여</td>\n      <td>2020-09-03</td>\n      <td>마포구</td>\n      <td>-</td>\n      <td>확인 중</td>\n      <td>NaN</td>\n    </tr>\n    <tr>\n      <th>7</th>\n      <td>4244</td>\n      <td>미부여</td>\n      <td>2020-08-30</td>\n      <td>기타</td>\n      <td>-</td>\n      <td>확인 중</td>\n      <td>NaN</td>\n    </tr>\n    <tr>\n      <th>8</th>\n      <td>4243</td>\n      <td>미부여</td>\n      <td>2020-09-02</td>\n      <td>마포구</td>\n      <td>-</td>\n      <td>확인 중</td>\n      <td>NaN</td>\n    </tr>\n    <tr>\n      <th>9</th>\n      <td>4242</td>\n      <td>미부여</td>\n      <td>2020-09-03</td>\n      <td>성동구</td>\n      <td>-</td>\n      <td>확인 중</td>\n      <td>NaN</td>\n    </tr>\n    <tr>\n      <th>...</th>\n      <td>...</td>\n      <td>...</td>\n      <td>...</td>\n      <td>...</td>\n      <td>...</td>\n      <td>...</td>\n      <td>...</td>\n    </tr>\n    <tr>\n      <th>4195</th>\n      <td>56</td>\n      <td>1768</td>\n      <td>2020-02-25</td>\n      <td>고양시</td>\n      <td>-</td>\n      <td>확인 중</td>\n      <td>퇴원</td>\n    </tr>\n    <tr>\n      <th>4209</th>\n      <td>42</td>\n      <td>1370</td>\n      <td>2020-02-25</td>\n      <td>노원구</td>\n      <td>-</td>\n      <td>확인 중</td>\n      <td>퇴원</td>\n    </tr>\n    <tr>\n      <th>4212</th>\n      <td>39</td>\n      <td>924</td>\n      <td>2020-02-25</td>\n      <td>평택</td>\n      <td>-</td>\n      <td>확인 중</td>\n      <td>퇴원</td>\n    </tr>\n    <tr>\n      <th>4213</th>\n      <td>38</td>\n      <td>907</td>\n      <td>2020-02-25</td>\n      <td>관악구</td>\n      <td>-</td>\n      <td>확인 중</td>\n      <td>퇴원</td>\n    </tr>\n    <tr>\n      <th>4216</th>\n      <td>35</td>\n      <td>870</td>\n      <td>2020-02-25</td>\n      <td>김포</td>\n      <td>-</td>\n      <td>확인 중</td>\n      <td>퇴원</td>\n    </tr>\n  </tbody>\n</table>\n<p>699 rows × 7 columns</p>\n</div>"
     },
     "metadata": {},
     "execution_count": 28
    }
   ],
   "source": [
    "df_untracked = df[df[\"접촉력\"]==\"확인 중\"]\n",
    "df_untracked"
   ]
  },
  {
   "cell_type": "code",
   "execution_count": 29,
   "metadata": {},
   "outputs": [
    {
     "output_type": "execute_result",
     "data": {
      "text/plain": "           date  new_untracked\n0    2020-02-25              6\n1    2020-02-26              1\n2    2020-02-27              2\n3    2020-02-28              2\n4    2020-03-02              2\n..          ...            ...\n119  2020-08-31             16\n120  2020-09-01             18\n121  2020-09-02             17\n122  2020-09-03             11\n123  2020-09-04              6\n\n[124 rows x 2 columns]",
      "text/html": "<div>\n<style scoped>\n    .dataframe tbody tr th:only-of-type {\n        vertical-align: middle;\n    }\n\n    .dataframe tbody tr th {\n        vertical-align: top;\n    }\n\n    .dataframe thead th {\n        text-align: right;\n    }\n</style>\n<table border=\"1\" class=\"dataframe\">\n  <thead>\n    <tr style=\"text-align: right;\">\n      <th></th>\n      <th>date</th>\n      <th>new_untracked</th>\n    </tr>\n  </thead>\n  <tbody>\n    <tr>\n      <th>0</th>\n      <td>2020-02-25</td>\n      <td>6</td>\n    </tr>\n    <tr>\n      <th>1</th>\n      <td>2020-02-26</td>\n      <td>1</td>\n    </tr>\n    <tr>\n      <th>2</th>\n      <td>2020-02-27</td>\n      <td>2</td>\n    </tr>\n    <tr>\n      <th>3</th>\n      <td>2020-02-28</td>\n      <td>2</td>\n    </tr>\n    <tr>\n      <th>4</th>\n      <td>2020-03-02</td>\n      <td>2</td>\n    </tr>\n    <tr>\n      <th>...</th>\n      <td>...</td>\n      <td>...</td>\n    </tr>\n    <tr>\n      <th>119</th>\n      <td>2020-08-31</td>\n      <td>16</td>\n    </tr>\n    <tr>\n      <th>120</th>\n      <td>2020-09-01</td>\n      <td>18</td>\n    </tr>\n    <tr>\n      <th>121</th>\n      <td>2020-09-02</td>\n      <td>17</td>\n    </tr>\n    <tr>\n      <th>122</th>\n      <td>2020-09-03</td>\n      <td>11</td>\n    </tr>\n    <tr>\n      <th>123</th>\n      <td>2020-09-04</td>\n      <td>6</td>\n    </tr>\n  </tbody>\n</table>\n<p>124 rows × 2 columns</p>\n</div>"
     },
     "metadata": {},
     "execution_count": 29
    }
   ],
   "source": [
    "df_untracked_temp = df_untracked.groupby(by=[\"확진일\"]).size()\n",
    "df_untracked_temp = df_untracked_temp.rename_axis('date').reset_index(name='new_untracked')\n",
    "df_untracked_temp"
   ]
  },
  {
   "cell_type": "code",
   "execution_count": 30,
   "metadata": {},
   "outputs": [],
   "source": [
    "df_untracked_no = df_untracked_temp"
   ]
  },
  {
   "cell_type": "code",
   "execution_count": 31,
   "metadata": {},
   "outputs": [
    {
     "output_type": "execute_result",
     "data": {
      "text/plain": "          date  new_confirmed  new_untracked\n0   2020-01-24            1.0            0.0\n1   2020-01-25            0.0            0.0\n2   2020-01-26            0.0            0.0\n3   2020-01-27            0.0            0.0\n4   2020-01-28            0.0            0.0\n5   2020-01-29            0.0            0.0\n6   2020-01-30            3.0            0.0\n7   2020-01-31            3.0            0.0\n8   2020-02-01            0.0            0.0\n9   2020-02-02            1.0            0.0\n10  2020-02-03            0.0            0.0\n11  2020-02-04            0.0            0.0\n12  2020-02-05            2.0            0.0\n13  2020-02-06            1.0            0.0\n14  2020-02-07            1.0            0.0",
      "text/html": "<div>\n<style scoped>\n    .dataframe tbody tr th:only-of-type {\n        vertical-align: middle;\n    }\n\n    .dataframe tbody tr th {\n        vertical-align: top;\n    }\n\n    .dataframe thead th {\n        text-align: right;\n    }\n</style>\n<table border=\"1\" class=\"dataframe\">\n  <thead>\n    <tr style=\"text-align: right;\">\n      <th></th>\n      <th>date</th>\n      <th>new_confirmed</th>\n      <th>new_untracked</th>\n    </tr>\n  </thead>\n  <tbody>\n    <tr>\n      <th>0</th>\n      <td>2020-01-24</td>\n      <td>1.0</td>\n      <td>0.0</td>\n    </tr>\n    <tr>\n      <th>1</th>\n      <td>2020-01-25</td>\n      <td>0.0</td>\n      <td>0.0</td>\n    </tr>\n    <tr>\n      <th>2</th>\n      <td>2020-01-26</td>\n      <td>0.0</td>\n      <td>0.0</td>\n    </tr>\n    <tr>\n      <th>3</th>\n      <td>2020-01-27</td>\n      <td>0.0</td>\n      <td>0.0</td>\n    </tr>\n    <tr>\n      <th>4</th>\n      <td>2020-01-28</td>\n      <td>0.0</td>\n      <td>0.0</td>\n    </tr>\n    <tr>\n      <th>5</th>\n      <td>2020-01-29</td>\n      <td>0.0</td>\n      <td>0.0</td>\n    </tr>\n    <tr>\n      <th>6</th>\n      <td>2020-01-30</td>\n      <td>3.0</td>\n      <td>0.0</td>\n    </tr>\n    <tr>\n      <th>7</th>\n      <td>2020-01-31</td>\n      <td>3.0</td>\n      <td>0.0</td>\n    </tr>\n    <tr>\n      <th>8</th>\n      <td>2020-02-01</td>\n      <td>0.0</td>\n      <td>0.0</td>\n    </tr>\n    <tr>\n      <th>9</th>\n      <td>2020-02-02</td>\n      <td>1.0</td>\n      <td>0.0</td>\n    </tr>\n    <tr>\n      <th>10</th>\n      <td>2020-02-03</td>\n      <td>0.0</td>\n      <td>0.0</td>\n    </tr>\n    <tr>\n      <th>11</th>\n      <td>2020-02-04</td>\n      <td>0.0</td>\n      <td>0.0</td>\n    </tr>\n    <tr>\n      <th>12</th>\n      <td>2020-02-05</td>\n      <td>2.0</td>\n      <td>0.0</td>\n    </tr>\n    <tr>\n      <th>13</th>\n      <td>2020-02-06</td>\n      <td>1.0</td>\n      <td>0.0</td>\n    </tr>\n    <tr>\n      <th>14</th>\n      <td>2020-02-07</td>\n      <td>1.0</td>\n      <td>0.0</td>\n    </tr>\n  </tbody>\n</table>\n</div>"
     },
     "metadata": {},
     "execution_count": 31
    }
   ],
   "source": [
    "df_merged = pd.merge(df_predict, df_untracked_no, how=\"left\", on=\"date\")\n",
    "df_merged = df_merged.fillna(0)\n",
    "df_merged.head(15)"
   ]
  },
  {
   "cell_type": "code",
   "execution_count": 32,
   "metadata": {},
   "outputs": [
    {
     "output_type": "execute_result",
     "data": {
      "text/plain": "           date  new_confirmed  new_untracked\n210  2020-08-21          128.0           32.0\n211  2020-08-22          140.0           44.0\n212  2020-08-23           97.0           25.0\n213  2020-08-24          134.0           45.0\n214  2020-08-25          113.0           34.0\n215  2020-08-26          153.0           45.0\n216  2020-08-27          146.0           34.0\n217  2020-08-28          127.0           35.0\n218  2020-08-29          114.0           20.0\n219  2020-08-30           95.0           20.0\n220  2020-08-31           94.0           16.0\n221  2020-09-01          101.0           18.0\n222  2020-09-02           81.0           17.0\n223  2020-09-03           62.0           11.0\n224  2020-09-04           45.0            6.0",
      "text/html": "<div>\n<style scoped>\n    .dataframe tbody tr th:only-of-type {\n        vertical-align: middle;\n    }\n\n    .dataframe tbody tr th {\n        vertical-align: top;\n    }\n\n    .dataframe thead th {\n        text-align: right;\n    }\n</style>\n<table border=\"1\" class=\"dataframe\">\n  <thead>\n    <tr style=\"text-align: right;\">\n      <th></th>\n      <th>date</th>\n      <th>new_confirmed</th>\n      <th>new_untracked</th>\n    </tr>\n  </thead>\n  <tbody>\n    <tr>\n      <th>210</th>\n      <td>2020-08-21</td>\n      <td>128.0</td>\n      <td>32.0</td>\n    </tr>\n    <tr>\n      <th>211</th>\n      <td>2020-08-22</td>\n      <td>140.0</td>\n      <td>44.0</td>\n    </tr>\n    <tr>\n      <th>212</th>\n      <td>2020-08-23</td>\n      <td>97.0</td>\n      <td>25.0</td>\n    </tr>\n    <tr>\n      <th>213</th>\n      <td>2020-08-24</td>\n      <td>134.0</td>\n      <td>45.0</td>\n    </tr>\n    <tr>\n      <th>214</th>\n      <td>2020-08-25</td>\n      <td>113.0</td>\n      <td>34.0</td>\n    </tr>\n    <tr>\n      <th>215</th>\n      <td>2020-08-26</td>\n      <td>153.0</td>\n      <td>45.0</td>\n    </tr>\n    <tr>\n      <th>216</th>\n      <td>2020-08-27</td>\n      <td>146.0</td>\n      <td>34.0</td>\n    </tr>\n    <tr>\n      <th>217</th>\n      <td>2020-08-28</td>\n      <td>127.0</td>\n      <td>35.0</td>\n    </tr>\n    <tr>\n      <th>218</th>\n      <td>2020-08-29</td>\n      <td>114.0</td>\n      <td>20.0</td>\n    </tr>\n    <tr>\n      <th>219</th>\n      <td>2020-08-30</td>\n      <td>95.0</td>\n      <td>20.0</td>\n    </tr>\n    <tr>\n      <th>220</th>\n      <td>2020-08-31</td>\n      <td>94.0</td>\n      <td>16.0</td>\n    </tr>\n    <tr>\n      <th>221</th>\n      <td>2020-09-01</td>\n      <td>101.0</td>\n      <td>18.0</td>\n    </tr>\n    <tr>\n      <th>222</th>\n      <td>2020-09-02</td>\n      <td>81.0</td>\n      <td>17.0</td>\n    </tr>\n    <tr>\n      <th>223</th>\n      <td>2020-09-03</td>\n      <td>62.0</td>\n      <td>11.0</td>\n    </tr>\n    <tr>\n      <th>224</th>\n      <td>2020-09-04</td>\n      <td>45.0</td>\n      <td>6.0</td>\n    </tr>\n  </tbody>\n</table>\n</div>"
     },
     "metadata": {},
     "execution_count": 32
    }
   ],
   "source": [
    "df_merged.tail(15)"
   ]
  },
  {
   "cell_type": "code",
   "execution_count": 33,
   "metadata": {
    "tags": []
   },
   "outputs": [
    {
     "output_type": "error",
     "ename": "NameError",
     "evalue": "name 'list_infection_paths_no' is not defined",
     "traceback": [
      "\u001b[0;31m---------------------------------------------------------------------------\u001b[0m",
      "\u001b[0;31mNameError\u001b[0m                                 Traceback (most recent call last)",
      "\u001b[0;32m<ipython-input-33-8c186912df94>\u001b[0m in \u001b[0;36m<module>\u001b[0;34m\u001b[0m\n\u001b[1;32m     12\u001b[0m \u001b[0;34m\u001b[0m\u001b[0m\n\u001b[1;32m     13\u001b[0m     \u001b[0minfection_paths_no\u001b[0m \u001b[0;34m=\u001b[0m \u001b[0mlen\u001b[0m\u001b[0;34m(\u001b[0m\u001b[0minfection_paths_known\u001b[0m\u001b[0;34m)\u001b[0m \u001b[0;34m+\u001b[0m \u001b[0mcontact_no\u001b[0m\u001b[0;34m\u001b[0m\u001b[0;34m\u001b[0m\u001b[0m\n\u001b[0;32m---> 14\u001b[0;31m     \u001b[0mlist_infection_paths_no\u001b[0m\u001b[0;34m.\u001b[0m\u001b[0mappend\u001b[0m\u001b[0;34m(\u001b[0m\u001b[0mint\u001b[0m\u001b[0;34m(\u001b[0m\u001b[0minfection_paths_no\u001b[0m\u001b[0;34m)\u001b[0m\u001b[0;34m)\u001b[0m\u001b[0;34m\u001b[0m\u001b[0;34m\u001b[0m\u001b[0m\n\u001b[0m\u001b[1;32m     15\u001b[0m \u001b[0mprint\u001b[0m\u001b[0;34m(\u001b[0m\u001b[0mlist_infection_paths_no\u001b[0m\u001b[0;34m[\u001b[0m\u001b[0;34m:\u001b[0m\u001b[0;36m10\u001b[0m\u001b[0;34m]\u001b[0m\u001b[0;34m)\u001b[0m\u001b[0;34m\u001b[0m\u001b[0;34m\u001b[0m\u001b[0m\n\u001b[1;32m     16\u001b[0m \u001b[0mprint\u001b[0m\u001b[0;34m(\u001b[0m\u001b[0mlist_infection_paths_no\u001b[0m\u001b[0;34m[\u001b[0m\u001b[0;34m-\u001b[0m\u001b[0;36m10\u001b[0m\u001b[0;34m:\u001b[0m\u001b[0;34m]\u001b[0m\u001b[0;34m)\u001b[0m\u001b[0;34m\u001b[0m\u001b[0;34m\u001b[0m\u001b[0m\n",
      "\u001b[0;31mNameError\u001b[0m: name 'list_infection_paths_no' is not defined"
     ]
    }
   ],
   "source": [
    "# list_infection_paths_no = []\n",
    "for index, row in df_merged.iterrows():\n",
    "    filter_end_date = row[\"date\"]\n",
    "    # print(filter_end_date)\n",
    "    df_filtered = df.loc[df['확진일'] <= filter_end_date]\n",
    "    \n",
    "    # 확진자 접촉력이 밝혀진 경우\n",
    "    infection_paths_known = df_filtered[\"접촉력\"].unique()\n",
    "    \n",
    "    # \"기타 확진자 접촉\" 항목 485건 / R0\n",
    "    contact_no = len(df_filtered[df_filtered[\"접촉력\"].str.contains(\"기타 확진자 접촉\")])/1.5\n",
    "    \n",
    "    infection_paths_no = len(infection_paths_known) + contact_no\n",
    "    list_infection_paths_no.append(int(infection_paths_no))\n",
    "print(list_infection_paths_no[:10])\n",
    "print(list_infection_paths_no[-10:])"
   ]
  },
  {
   "cell_type": "code",
   "execution_count": 34,
   "metadata": {},
   "outputs": [
    {
     "output_type": "error",
     "ename": "NameError",
     "evalue": "name 'list_infection_paths_no' is not defined",
     "traceback": [
      "\u001b[0;31m---------------------------------------------------------------------------\u001b[0m",
      "\u001b[0;31mNameError\u001b[0m                                 Traceback (most recent call last)",
      "\u001b[0;32m<ipython-input-34-403f14a647ed>\u001b[0m in \u001b[0;36m<module>\u001b[0;34m\u001b[0m\n\u001b[0;32m----> 1\u001b[0;31m \u001b[0mdf_merged\u001b[0m\u001b[0;34m[\u001b[0m\u001b[0;34m\"no_paths\"\u001b[0m\u001b[0;34m]\u001b[0m \u001b[0;34m=\u001b[0m \u001b[0mlist_infection_paths_no\u001b[0m\u001b[0;34m\u001b[0m\u001b[0;34m\u001b[0m\u001b[0m\n\u001b[0m\u001b[1;32m      2\u001b[0m \u001b[0mdf_merged\u001b[0m\u001b[0;34m[\u001b[0m\u001b[0;34m\"new_confirmed\"\u001b[0m\u001b[0;34m]\u001b[0m \u001b[0;34m=\u001b[0m \u001b[0mdf_merged\u001b[0m\u001b[0;34m[\u001b[0m\u001b[0;34m\"new_confirmed\"\u001b[0m\u001b[0;34m]\u001b[0m\u001b[0;34m.\u001b[0m\u001b[0mapply\u001b[0m\u001b[0;34m(\u001b[0m\u001b[0mint\u001b[0m\u001b[0;34m)\u001b[0m\u001b[0;34m\u001b[0m\u001b[0;34m\u001b[0m\u001b[0m\n\u001b[1;32m      3\u001b[0m \u001b[0mdf_merged\u001b[0m\u001b[0;34m[\u001b[0m\u001b[0;34m\"new_untracked\"\u001b[0m\u001b[0;34m]\u001b[0m \u001b[0;34m=\u001b[0m \u001b[0mdf_merged\u001b[0m\u001b[0;34m[\u001b[0m\u001b[0;34m\"new_untracked\"\u001b[0m\u001b[0;34m]\u001b[0m\u001b[0;34m.\u001b[0m\u001b[0mapply\u001b[0m\u001b[0;34m(\u001b[0m\u001b[0mint\u001b[0m\u001b[0;34m)\u001b[0m\u001b[0;34m\u001b[0m\u001b[0;34m\u001b[0m\u001b[0m\n\u001b[1;32m      4\u001b[0m \u001b[0mdf_merged\u001b[0m\u001b[0;34m.\u001b[0m\u001b[0mhead\u001b[0m\u001b[0;34m(\u001b[0m\u001b[0;34m)\u001b[0m\u001b[0;34m\u001b[0m\u001b[0;34m\u001b[0m\u001b[0m\n",
      "\u001b[0;31mNameError\u001b[0m: name 'list_infection_paths_no' is not defined"
     ]
    }
   ],
   "source": [
    "df_merged[\"no_paths\"] = list_infection_paths_no\n",
    "df_merged[\"new_confirmed\"] = df_merged[\"new_confirmed\"].apply(int)\n",
    "df_merged[\"new_untracked\"] = df_merged[\"new_untracked\"].apply(int)\n",
    "df_merged.head()"
   ]
  },
  {
   "cell_type": "code",
   "execution_count": 35,
   "metadata": {},
   "outputs": [
    {
     "output_type": "execute_result",
     "data": {
      "text/plain": "           date  new_confirmed  new_untracked\n220  2020-08-31           94.0           16.0\n221  2020-09-01          101.0           18.0\n222  2020-09-02           81.0           17.0\n223  2020-09-03           62.0           11.0\n224  2020-09-04           45.0            6.0",
      "text/html": "<div>\n<style scoped>\n    .dataframe tbody tr th:only-of-type {\n        vertical-align: middle;\n    }\n\n    .dataframe tbody tr th {\n        vertical-align: top;\n    }\n\n    .dataframe thead th {\n        text-align: right;\n    }\n</style>\n<table border=\"1\" class=\"dataframe\">\n  <thead>\n    <tr style=\"text-align: right;\">\n      <th></th>\n      <th>date</th>\n      <th>new_confirmed</th>\n      <th>new_untracked</th>\n    </tr>\n  </thead>\n  <tbody>\n    <tr>\n      <th>220</th>\n      <td>2020-08-31</td>\n      <td>94.0</td>\n      <td>16.0</td>\n    </tr>\n    <tr>\n      <th>221</th>\n      <td>2020-09-01</td>\n      <td>101.0</td>\n      <td>18.0</td>\n    </tr>\n    <tr>\n      <th>222</th>\n      <td>2020-09-02</td>\n      <td>81.0</td>\n      <td>17.0</td>\n    </tr>\n    <tr>\n      <th>223</th>\n      <td>2020-09-03</td>\n      <td>62.0</td>\n      <td>11.0</td>\n    </tr>\n    <tr>\n      <th>224</th>\n      <td>2020-09-04</td>\n      <td>45.0</td>\n      <td>6.0</td>\n    </tr>\n  </tbody>\n</table>\n</div>"
     },
     "metadata": {},
     "execution_count": 35
    }
   ],
   "source": [
    "df_merged.tail()"
   ]
  },
  {
   "cell_type": "code",
   "execution_count": 36,
   "metadata": {},
   "outputs": [],
   "source": [
    "df_merged.to_csv(\"dataset_predict/df_predict.csv\", index=False)"
   ]
  },
  {
   "cell_type": "markdown",
   "metadata": {},
   "source": [
    "### check holiday"
   ]
  },
  {
   "cell_type": "code",
   "execution_count": 37,
   "metadata": {},
   "outputs": [
    {
     "output_type": "execute_result",
     "data": {
      "text/plain": "[{'sc': '2000-01-01', 'lc': '1999-11-25', 'w': 7, 'h': True, 'ht': '신정'},\n {'sc': '2000-01-02', 'lc': '1999-11-26', 'w': 1, 'h': False, 'ht': ''},\n {'sc': '2000-01-03', 'lc': '1999-11-27', 'w': 2, 'h': False, 'ht': ''},\n {'sc': '2000-01-04', 'lc': '1999-11-28', 'w': 3, 'h': False, 'ht': ''},\n {'sc': '2000-01-05', 'lc': '1999-11-29', 'w': 4, 'h': False, 'ht': ''},\n {'sc': '2000-01-06', 'lc': '1999-11-30', 'w': 5, 'h': False, 'ht': ''},\n {'sc': '2000-01-07', 'lc': '1999-12-01', 'w': 6, 'h': False, 'ht': ''},\n {'sc': '2000-01-08', 'lc': '1999-12-02', 'w': 7, 'h': False, 'ht': ''},\n {'sc': '2000-01-09', 'lc': '1999-12-03', 'w': 1, 'h': False, 'ht': ''},\n {'sc': '2000-01-10', 'lc': '1999-12-04', 'w': 2, 'h': False, 'ht': ''}]"
     },
     "metadata": {},
     "execution_count": 37
    }
   ],
   "source": [
    "import json\n",
    "\n",
    "list_calendar=[]\n",
    "\n",
    "calendar_file = \"./korean-calendar/korean-calendar.json\"\n",
    "# read file\n",
    "with open(calendar_file, 'r') as myfile:\n",
    "    data=myfile.readlines()\n",
    "\n",
    "data = [x.strip() for x in data] \n",
    "\n",
    "for i in data:\n",
    "    calendar_data = i[43:]\n",
    "    calendar_item = \"{\"+calendar_data\n",
    "    calendar_item_json = json.loads(calendar_item)\n",
    "    list_calendar.append(calendar_item_json)\n",
    "list_calendar[:10]"
   ]
  },
  {
   "cell_type": "code",
   "execution_count": 38,
   "metadata": {},
   "outputs": [
    {
     "output_type": "execute_result",
     "data": {
      "text/plain": "           sc  w      h\n0  2000-01-01  7   True\n1  2000-01-02  1  False\n2  2000-01-03  2  False\n3  2000-01-04  3  False\n4  2000-01-05  4  False",
      "text/html": "<div>\n<style scoped>\n    .dataframe tbody tr th:only-of-type {\n        vertical-align: middle;\n    }\n\n    .dataframe tbody tr th {\n        vertical-align: top;\n    }\n\n    .dataframe thead th {\n        text-align: right;\n    }\n</style>\n<table border=\"1\" class=\"dataframe\">\n  <thead>\n    <tr style=\"text-align: right;\">\n      <th></th>\n      <th>sc</th>\n      <th>w</th>\n      <th>h</th>\n    </tr>\n  </thead>\n  <tbody>\n    <tr>\n      <th>0</th>\n      <td>2000-01-01</td>\n      <td>7</td>\n      <td>True</td>\n    </tr>\n    <tr>\n      <th>1</th>\n      <td>2000-01-02</td>\n      <td>1</td>\n      <td>False</td>\n    </tr>\n    <tr>\n      <th>2</th>\n      <td>2000-01-03</td>\n      <td>2</td>\n      <td>False</td>\n    </tr>\n    <tr>\n      <th>3</th>\n      <td>2000-01-04</td>\n      <td>3</td>\n      <td>False</td>\n    </tr>\n    <tr>\n      <th>4</th>\n      <td>2000-01-05</td>\n      <td>4</td>\n      <td>False</td>\n    </tr>\n  </tbody>\n</table>\n</div>"
     },
     "metadata": {},
     "execution_count": 38
    }
   ],
   "source": [
    "df_calendar = pd.DataFrame(list_calendar)\n",
    "df_calendar = df_calendar[[\"sc\", \"w\", \"h\"]]\n",
    "df_calendar.head()"
   ]
  },
  {
   "cell_type": "code",
   "execution_count": 39,
   "metadata": {},
   "outputs": [],
   "source": [
    "def label_weekend(row):\n",
    "    # sunday\n",
    "    if row['w'] == 1:\n",
    "        return True\n",
    "    # friday\n",
    "    if row['w'] == 6:\n",
    "        return True\n",
    "    # saturday\n",
    "    if row['w'] == 7:\n",
    "        return True\n",
    "    else:\n",
    "        return False"
   ]
  },
  {
   "cell_type": "code",
   "execution_count": 40,
   "metadata": {},
   "outputs": [
    {
     "output_type": "execute_result",
     "data": {
      "text/plain": "           sc  w      h  is_weekend\n0  2000-01-01  7   True        True\n1  2000-01-02  1  False        True\n2  2000-01-03  2  False       False\n3  2000-01-04  3  False       False\n4  2000-01-05  4  False       False\n5  2000-01-06  5  False       False\n6  2000-01-07  6  False        True\n7  2000-01-08  7  False        True\n8  2000-01-09  1  False        True\n9  2000-01-10  2  False       False",
      "text/html": "<div>\n<style scoped>\n    .dataframe tbody tr th:only-of-type {\n        vertical-align: middle;\n    }\n\n    .dataframe tbody tr th {\n        vertical-align: top;\n    }\n\n    .dataframe thead th {\n        text-align: right;\n    }\n</style>\n<table border=\"1\" class=\"dataframe\">\n  <thead>\n    <tr style=\"text-align: right;\">\n      <th></th>\n      <th>sc</th>\n      <th>w</th>\n      <th>h</th>\n      <th>is_weekend</th>\n    </tr>\n  </thead>\n  <tbody>\n    <tr>\n      <th>0</th>\n      <td>2000-01-01</td>\n      <td>7</td>\n      <td>True</td>\n      <td>True</td>\n    </tr>\n    <tr>\n      <th>1</th>\n      <td>2000-01-02</td>\n      <td>1</td>\n      <td>False</td>\n      <td>True</td>\n    </tr>\n    <tr>\n      <th>2</th>\n      <td>2000-01-03</td>\n      <td>2</td>\n      <td>False</td>\n      <td>False</td>\n    </tr>\n    <tr>\n      <th>3</th>\n      <td>2000-01-04</td>\n      <td>3</td>\n      <td>False</td>\n      <td>False</td>\n    </tr>\n    <tr>\n      <th>4</th>\n      <td>2000-01-05</td>\n      <td>4</td>\n      <td>False</td>\n      <td>False</td>\n    </tr>\n    <tr>\n      <th>5</th>\n      <td>2000-01-06</td>\n      <td>5</td>\n      <td>False</td>\n      <td>False</td>\n    </tr>\n    <tr>\n      <th>6</th>\n      <td>2000-01-07</td>\n      <td>6</td>\n      <td>False</td>\n      <td>True</td>\n    </tr>\n    <tr>\n      <th>7</th>\n      <td>2000-01-08</td>\n      <td>7</td>\n      <td>False</td>\n      <td>True</td>\n    </tr>\n    <tr>\n      <th>8</th>\n      <td>2000-01-09</td>\n      <td>1</td>\n      <td>False</td>\n      <td>True</td>\n    </tr>\n    <tr>\n      <th>9</th>\n      <td>2000-01-10</td>\n      <td>2</td>\n      <td>False</td>\n      <td>False</td>\n    </tr>\n  </tbody>\n</table>\n</div>"
     },
     "metadata": {},
     "execution_count": 40
    }
   ],
   "source": [
    "df_calendar[\"is_weekend\"] = df_calendar.apply(lambda row: label_weekend(row), axis=1)\n",
    "df_calendar.head(10)"
   ]
  },
  {
   "cell_type": "code",
   "execution_count": 41,
   "metadata": {},
   "outputs": [],
   "source": [
    "# rename dataframe name\n",
    "df_calendar.rename(columns = {'sc':'date', 'h':'is_holiday'}, inplace = True)"
   ]
  },
  {
   "cell_type": "code",
   "execution_count": 42,
   "metadata": {},
   "outputs": [],
   "source": [
    "df_calendar.to_csv(\"dataset_predict/df_calendar.csv\", index=False)"
   ]
  },
  {
   "cell_type": "code",
   "execution_count": 43,
   "metadata": {},
   "outputs": [],
   "source": [
    "df_calendar_subset = df_calendar[[\"date\", \"is_holiday\", \"is_weekend\"]]"
   ]
  },
  {
   "cell_type": "code",
   "execution_count": 47,
   "metadata": {},
   "outputs": [
    {
     "output_type": "execute_result",
     "data": {
      "text/plain": "           date  new_confirmed  new_untracked  is_holiday  is_weekend\n220  2020-08-31           94.0           16.0       False       False\n221  2020-09-01          101.0           18.0       False       False\n222  2020-09-02           81.0           17.0       False       False\n223  2020-09-03           62.0           11.0       False       False\n224  2020-09-04           45.0            6.0       False        True",
      "text/html": "<div>\n<style scoped>\n    .dataframe tbody tr th:only-of-type {\n        vertical-align: middle;\n    }\n\n    .dataframe tbody tr th {\n        vertical-align: top;\n    }\n\n    .dataframe thead th {\n        text-align: right;\n    }\n</style>\n<table border=\"1\" class=\"dataframe\">\n  <thead>\n    <tr style=\"text-align: right;\">\n      <th></th>\n      <th>date</th>\n      <th>new_confirmed</th>\n      <th>new_untracked</th>\n      <th>is_holiday</th>\n      <th>is_weekend</th>\n    </tr>\n  </thead>\n  <tbody>\n    <tr>\n      <th>220</th>\n      <td>2020-08-31</td>\n      <td>94.0</td>\n      <td>16.0</td>\n      <td>False</td>\n      <td>False</td>\n    </tr>\n    <tr>\n      <th>221</th>\n      <td>2020-09-01</td>\n      <td>101.0</td>\n      <td>18.0</td>\n      <td>False</td>\n      <td>False</td>\n    </tr>\n    <tr>\n      <th>222</th>\n      <td>2020-09-02</td>\n      <td>81.0</td>\n      <td>17.0</td>\n      <td>False</td>\n      <td>False</td>\n    </tr>\n    <tr>\n      <th>223</th>\n      <td>2020-09-03</td>\n      <td>62.0</td>\n      <td>11.0</td>\n      <td>False</td>\n      <td>False</td>\n    </tr>\n    <tr>\n      <th>224</th>\n      <td>2020-09-04</td>\n      <td>45.0</td>\n      <td>6.0</td>\n      <td>False</td>\n      <td>True</td>\n    </tr>\n  </tbody>\n</table>\n</div>"
     },
     "metadata": {},
     "execution_count": 47
    }
   ],
   "source": [
    "df_train = pd.merge(df_merged, df_calendar_subset, how=\"left\", on=\"date\")\n",
    "df_train.tail()"
   ]
  },
  {
   "cell_type": "code",
   "execution_count": 45,
   "metadata": {},
   "outputs": [
    {
     "output_type": "execute_result",
     "data": {
      "text/plain": "           date  new_confirmed  new_untracked  is_holiday  is_weekend\n200  2020-08-11           15.0            4.0       False       False\n201  2020-08-12           26.0            5.0       False       False\n202  2020-08-13           33.0            1.0       False       False\n203  2020-08-14           73.0            4.0       False        True\n204  2020-08-15          146.0            6.0        True        True\n205  2020-08-16           90.0            4.0       False        True\n206  2020-08-17          132.0            7.0       False       False\n207  2020-08-18          151.0           18.0       False       False\n208  2020-08-19          135.0           19.0       False       False\n209  2020-08-20          126.0           28.0       False       False",
      "text/html": "<div>\n<style scoped>\n    .dataframe tbody tr th:only-of-type {\n        vertical-align: middle;\n    }\n\n    .dataframe tbody tr th {\n        vertical-align: top;\n    }\n\n    .dataframe thead th {\n        text-align: right;\n    }\n</style>\n<table border=\"1\" class=\"dataframe\">\n  <thead>\n    <tr style=\"text-align: right;\">\n      <th></th>\n      <th>date</th>\n      <th>new_confirmed</th>\n      <th>new_untracked</th>\n      <th>is_holiday</th>\n      <th>is_weekend</th>\n    </tr>\n  </thead>\n  <tbody>\n    <tr>\n      <th>200</th>\n      <td>2020-08-11</td>\n      <td>15.0</td>\n      <td>4.0</td>\n      <td>False</td>\n      <td>False</td>\n    </tr>\n    <tr>\n      <th>201</th>\n      <td>2020-08-12</td>\n      <td>26.0</td>\n      <td>5.0</td>\n      <td>False</td>\n      <td>False</td>\n    </tr>\n    <tr>\n      <th>202</th>\n      <td>2020-08-13</td>\n      <td>33.0</td>\n      <td>1.0</td>\n      <td>False</td>\n      <td>False</td>\n    </tr>\n    <tr>\n      <th>203</th>\n      <td>2020-08-14</td>\n      <td>73.0</td>\n      <td>4.0</td>\n      <td>False</td>\n      <td>True</td>\n    </tr>\n    <tr>\n      <th>204</th>\n      <td>2020-08-15</td>\n      <td>146.0</td>\n      <td>6.0</td>\n      <td>True</td>\n      <td>True</td>\n    </tr>\n    <tr>\n      <th>205</th>\n      <td>2020-08-16</td>\n      <td>90.0</td>\n      <td>4.0</td>\n      <td>False</td>\n      <td>True</td>\n    </tr>\n    <tr>\n      <th>206</th>\n      <td>2020-08-17</td>\n      <td>132.0</td>\n      <td>7.0</td>\n      <td>False</td>\n      <td>False</td>\n    </tr>\n    <tr>\n      <th>207</th>\n      <td>2020-08-18</td>\n      <td>151.0</td>\n      <td>18.0</td>\n      <td>False</td>\n      <td>False</td>\n    </tr>\n    <tr>\n      <th>208</th>\n      <td>2020-08-19</td>\n      <td>135.0</td>\n      <td>19.0</td>\n      <td>False</td>\n      <td>False</td>\n    </tr>\n    <tr>\n      <th>209</th>\n      <td>2020-08-20</td>\n      <td>126.0</td>\n      <td>28.0</td>\n      <td>False</td>\n      <td>False</td>\n    </tr>\n  </tbody>\n</table>\n</div>"
     },
     "metadata": {},
     "execution_count": 45
    }
   ],
   "source": [
    "df_train[-25:-15]"
   ]
  },
  {
   "cell_type": "code",
   "execution_count": 46,
   "metadata": {},
   "outputs": [],
   "source": [
    "df_train.to_csv(\"./dataset_predict/df_train.csv\", index=False)"
   ]
  },
  {
   "cell_type": "code",
   "execution_count": 52,
   "metadata": {},
   "outputs": [
    {
     "output_type": "execute_result",
     "data": {
      "text/plain": "     new_confirmed  new_untracked  is_holiday  is_weekend\n0              1.0            0.0         1.0         1.0\n1              0.0            0.0         1.0         1.0\n2              0.0            0.0         1.0         1.0\n3              0.0            0.0         0.0         0.0\n4              0.0            0.0         0.0         0.0\n..             ...            ...         ...         ...\n220           94.0           16.0         0.0         0.0\n221          101.0           18.0         0.0         0.0\n222           81.0           17.0         0.0         0.0\n223           62.0           11.0         0.0         0.0\n224           45.0            6.0         0.0         1.0\n\n[225 rows x 4 columns]",
      "text/html": "<div>\n<style scoped>\n    .dataframe tbody tr th:only-of-type {\n        vertical-align: middle;\n    }\n\n    .dataframe tbody tr th {\n        vertical-align: top;\n    }\n\n    .dataframe thead th {\n        text-align: right;\n    }\n</style>\n<table border=\"1\" class=\"dataframe\">\n  <thead>\n    <tr style=\"text-align: right;\">\n      <th></th>\n      <th>new_confirmed</th>\n      <th>new_untracked</th>\n      <th>is_holiday</th>\n      <th>is_weekend</th>\n    </tr>\n  </thead>\n  <tbody>\n    <tr>\n      <th>0</th>\n      <td>1.0</td>\n      <td>0.0</td>\n      <td>1.0</td>\n      <td>1.0</td>\n    </tr>\n    <tr>\n      <th>1</th>\n      <td>0.0</td>\n      <td>0.0</td>\n      <td>1.0</td>\n      <td>1.0</td>\n    </tr>\n    <tr>\n      <th>2</th>\n      <td>0.0</td>\n      <td>0.0</td>\n      <td>1.0</td>\n      <td>1.0</td>\n    </tr>\n    <tr>\n      <th>3</th>\n      <td>0.0</td>\n      <td>0.0</td>\n      <td>0.0</td>\n      <td>0.0</td>\n    </tr>\n    <tr>\n      <th>4</th>\n      <td>0.0</td>\n      <td>0.0</td>\n      <td>0.0</td>\n      <td>0.0</td>\n    </tr>\n    <tr>\n      <th>...</th>\n      <td>...</td>\n      <td>...</td>\n      <td>...</td>\n      <td>...</td>\n    </tr>\n    <tr>\n      <th>220</th>\n      <td>94.0</td>\n      <td>16.0</td>\n      <td>0.0</td>\n      <td>0.0</td>\n    </tr>\n    <tr>\n      <th>221</th>\n      <td>101.0</td>\n      <td>18.0</td>\n      <td>0.0</td>\n      <td>0.0</td>\n    </tr>\n    <tr>\n      <th>222</th>\n      <td>81.0</td>\n      <td>17.0</td>\n      <td>0.0</td>\n      <td>0.0</td>\n    </tr>\n    <tr>\n      <th>223</th>\n      <td>62.0</td>\n      <td>11.0</td>\n      <td>0.0</td>\n      <td>0.0</td>\n    </tr>\n    <tr>\n      <th>224</th>\n      <td>45.0</td>\n      <td>6.0</td>\n      <td>0.0</td>\n      <td>1.0</td>\n    </tr>\n  </tbody>\n</table>\n<p>225 rows × 4 columns</p>\n</div>"
     },
     "metadata": {},
     "execution_count": 52
    }
   ],
   "source": [
    "cols = list(df_train)[1:5]\n",
    "dataset_train = df_train[cols].astype(str)\n",
    "for i in cols:\n",
    "    for j in range(0, len(dataset_train)):\n",
    "        dataset_train[i][j] = dataset_train[i][j].replace(',', '')\n",
    "        dataset_train[i][j] = dataset_train[i][j].replace('True', '1')\n",
    "        dataset_train[i][j] = dataset_train[i][j].replace('False', '0')\n",
    "\n",
    "dataset_train = dataset_train.astype(float)\n",
    "\n",
    "dataset_train"
   ]
  },
  {
   "cell_type": "code",
   "execution_count": 57,
   "metadata": {},
   "outputs": [
    {
     "output_type": "execute_result",
     "data": {
      "text/plain": "               new_confirmed  new_untracked  is_holiday  is_weekend\nnew_confirmed       1.000000       0.871830    0.179294   -0.026664\nnew_untracked       0.871830       1.000000   -0.005647   -0.046515\nis_holiday          0.179294      -0.005647    1.000000    0.148877\nis_weekend         -0.026664      -0.046515    0.148877    1.000000",
      "text/html": "<div>\n<style scoped>\n    .dataframe tbody tr th:only-of-type {\n        vertical-align: middle;\n    }\n\n    .dataframe tbody tr th {\n        vertical-align: top;\n    }\n\n    .dataframe thead th {\n        text-align: right;\n    }\n</style>\n<table border=\"1\" class=\"dataframe\">\n  <thead>\n    <tr style=\"text-align: right;\">\n      <th></th>\n      <th>new_confirmed</th>\n      <th>new_untracked</th>\n      <th>is_holiday</th>\n      <th>is_weekend</th>\n    </tr>\n  </thead>\n  <tbody>\n    <tr>\n      <th>new_confirmed</th>\n      <td>1.000000</td>\n      <td>0.871830</td>\n      <td>0.179294</td>\n      <td>-0.026664</td>\n    </tr>\n    <tr>\n      <th>new_untracked</th>\n      <td>0.871830</td>\n      <td>1.000000</td>\n      <td>-0.005647</td>\n      <td>-0.046515</td>\n    </tr>\n    <tr>\n      <th>is_holiday</th>\n      <td>0.179294</td>\n      <td>-0.005647</td>\n      <td>1.000000</td>\n      <td>0.148877</td>\n    </tr>\n    <tr>\n      <th>is_weekend</th>\n      <td>-0.026664</td>\n      <td>-0.046515</td>\n      <td>0.148877</td>\n      <td>1.000000</td>\n    </tr>\n  </tbody>\n</table>\n</div>"
     },
     "metadata": {},
     "execution_count": 57
    }
   ],
   "source": [
    "dataset_train[-120:].corr()"
   ]
  },
  {
   "cell_type": "markdown",
   "metadata": {},
   "source": [
    "### Add Government Social Distancing Policy"
   ]
  }
 ]
}