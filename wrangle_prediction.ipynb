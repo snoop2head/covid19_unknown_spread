{
 "metadata": {
  "language_info": {
   "codemirror_mode": {
    "name": "ipython",
    "version": 3
   },
   "file_extension": ".py",
   "mimetype": "text/x-python",
   "name": "python",
   "nbconvert_exporter": "python",
   "pygments_lexer": "ipython3",
   "version": "3.8.3-final"
  },
  "orig_nbformat": 2,
  "kernelspec": {
   "name": "python38364bitdatavenvfe97dd12d13941c2ad0777a7539abb51",
   "display_name": "Python 3.8.3 64-bit ('data': venv)"
  }
 },
 "nbformat": 4,
 "nbformat_minor": 2,
 "cells": [
  {
   "cell_type": "code",
   "execution_count": 2,
   "metadata": {},
   "outputs": [],
   "source": [
    "import pandas as pd\n",
    "import numpy as np"
   ]
  },
  {
   "cell_type": "code",
   "execution_count": 3,
   "metadata": {},
   "outputs": [],
   "source": [
    "import os\n",
    "from os import fdopen, remove, walk\n",
    "import glob\n",
    "from tempfile import mkstemp\n",
    "import shutil\n",
    "from shutil import move, copymode"
   ]
  },
  {
   "cell_type": "code",
   "execution_count": 4,
   "metadata": {},
   "outputs": [],
   "source": [
    "from datetime import date"
   ]
  },
  {
   "cell_type": "code",
   "execution_count": 5,
   "metadata": {},
   "outputs": [
    {
     "output_type": "execute_result",
     "data": {
      "text/plain": "['/Users/noopy/covid19_unknown_spread/dataset/seoul_covid_8_31_.csv',\n '/Users/noopy/covid19_unknown_spread/dataset/seoul_covid_9_07_.csv',\n '/Users/noopy/covid19_unknown_spread/dataset/seoul_covid_8_30_.csv',\n '/Users/noopy/covid19_unknown_spread/dataset/seoul_covid_8_17_.csv',\n '/Users/noopy/covid19_unknown_spread/dataset/seoul_covid_8_21_.csv']"
     },
     "metadata": {},
     "execution_count": 5
    }
   ],
   "source": [
    "DATASET_PATH = \"/Users/noopy/covid19_unknown_spread/dataset\"\n",
    "datasets = glob.glob(f\"{DATASET_PATH}/*.csv\")\n",
    "datasets[:5]"
   ]
  },
  {
   "cell_type": "code",
   "execution_count": 6,
   "metadata": {
    "tags": []
   },
   "outputs": [],
   "source": [
    "# get oldest file in the dataset folder\n",
    "import os, heapq\n",
    "def newst_files_in_tree(rootfolder, count=1, extension=\".csv\"):\n",
    "    return heapq.nlargest(count,\n",
    "        (os.path.join(dirname, filename)\n",
    "        for dirname, dirnames, filenames in os.walk(rootfolder)\n",
    "        for filename in filenames\n",
    "        if filename.endswith(extension)),\n",
    "        key=lambda fn: os.stat(fn).st_mtime)"
   ]
  },
  {
   "cell_type": "code",
   "execution_count": 7,
   "metadata": {},
   "outputs": [],
   "source": [
    "newst_csv = newst_files_in_tree(DATASET_PATH)[0]"
   ]
  },
  {
   "cell_type": "code",
   "execution_count": 8,
   "metadata": {},
   "outputs": [
    {
     "output_type": "execute_result",
     "data": {
      "text/plain": "        연번     환자    확진일   거주지    여행력            접촉력 퇴원현황\n810   3716  19555  8.29.  영등포구      -   여의도 순복음교회 관련   퇴원\n2474  2052  15126  8.16.   성북구      -  성북구 사랑제일교회 관련   퇴원\n3202  1324  12856  6.30.   서초구      -     강남역삼동 금융회사   퇴원\n2065  2461  16327  8.19.   은평구      -       광화문집회 관련   퇴원\n4125   401   9516  3.28.   강남구     영국       해외 접촉 추정   퇴원\n1838  2688  16834  8.21.   은평구      -           확인 중   퇴원\n2934  1592  14264  7.29.   구로구      -           확인 중   퇴원\n40    4486  21643  9.09.   서초구      -           확인 중  NaN\n4334   192   7800  3.10.   관악구      -       콜센터직원 접촉   퇴원\n4070   456   9929  3.31.   종로구  미국 뉴욕       해외 접촉 추정   퇴원\n826   3700  19478  8.29.   광진구      -           확인 중  NaN\n155   4371  21351  9.07.  동대문구      -           확인 중  NaN\n1782  2744  16247  8.21.    기타      -  성북구 사랑제일교회 관련  NaN\n1809  2717  16849  8.21.   구로구      -   여의도 순복음교회 관련   퇴원\n3860   666  10862  5.09.   용산구      -      이태원 클럽 관련   퇴원",
      "text/html": "<div>\n<style scoped>\n    .dataframe tbody tr th:only-of-type {\n        vertical-align: middle;\n    }\n\n    .dataframe tbody tr th {\n        vertical-align: top;\n    }\n\n    .dataframe thead th {\n        text-align: right;\n    }\n</style>\n<table border=\"1\" class=\"dataframe\">\n  <thead>\n    <tr style=\"text-align: right;\">\n      <th></th>\n      <th>연번</th>\n      <th>환자</th>\n      <th>확진일</th>\n      <th>거주지</th>\n      <th>여행력</th>\n      <th>접촉력</th>\n      <th>퇴원현황</th>\n    </tr>\n  </thead>\n  <tbody>\n    <tr>\n      <th>810</th>\n      <td>3716</td>\n      <td>19555</td>\n      <td>8.29.</td>\n      <td>영등포구</td>\n      <td>-</td>\n      <td>여의도 순복음교회 관련</td>\n      <td>퇴원</td>\n    </tr>\n    <tr>\n      <th>2474</th>\n      <td>2052</td>\n      <td>15126</td>\n      <td>8.16.</td>\n      <td>성북구</td>\n      <td>-</td>\n      <td>성북구 사랑제일교회 관련</td>\n      <td>퇴원</td>\n    </tr>\n    <tr>\n      <th>3202</th>\n      <td>1324</td>\n      <td>12856</td>\n      <td>6.30.</td>\n      <td>서초구</td>\n      <td>-</td>\n      <td>강남역삼동 금융회사</td>\n      <td>퇴원</td>\n    </tr>\n    <tr>\n      <th>2065</th>\n      <td>2461</td>\n      <td>16327</td>\n      <td>8.19.</td>\n      <td>은평구</td>\n      <td>-</td>\n      <td>광화문집회 관련</td>\n      <td>퇴원</td>\n    </tr>\n    <tr>\n      <th>4125</th>\n      <td>401</td>\n      <td>9516</td>\n      <td>3.28.</td>\n      <td>강남구</td>\n      <td>영국</td>\n      <td>해외 접촉 추정</td>\n      <td>퇴원</td>\n    </tr>\n    <tr>\n      <th>1838</th>\n      <td>2688</td>\n      <td>16834</td>\n      <td>8.21.</td>\n      <td>은평구</td>\n      <td>-</td>\n      <td>확인 중</td>\n      <td>퇴원</td>\n    </tr>\n    <tr>\n      <th>2934</th>\n      <td>1592</td>\n      <td>14264</td>\n      <td>7.29.</td>\n      <td>구로구</td>\n      <td>-</td>\n      <td>확인 중</td>\n      <td>퇴원</td>\n    </tr>\n    <tr>\n      <th>40</th>\n      <td>4486</td>\n      <td>21643</td>\n      <td>9.09.</td>\n      <td>서초구</td>\n      <td>-</td>\n      <td>확인 중</td>\n      <td>NaN</td>\n    </tr>\n    <tr>\n      <th>4334</th>\n      <td>192</td>\n      <td>7800</td>\n      <td>3.10.</td>\n      <td>관악구</td>\n      <td>-</td>\n      <td>콜센터직원 접촉</td>\n      <td>퇴원</td>\n    </tr>\n    <tr>\n      <th>4070</th>\n      <td>456</td>\n      <td>9929</td>\n      <td>3.31.</td>\n      <td>종로구</td>\n      <td>미국 뉴욕</td>\n      <td>해외 접촉 추정</td>\n      <td>퇴원</td>\n    </tr>\n    <tr>\n      <th>826</th>\n      <td>3700</td>\n      <td>19478</td>\n      <td>8.29.</td>\n      <td>광진구</td>\n      <td>-</td>\n      <td>확인 중</td>\n      <td>NaN</td>\n    </tr>\n    <tr>\n      <th>155</th>\n      <td>4371</td>\n      <td>21351</td>\n      <td>9.07.</td>\n      <td>동대문구</td>\n      <td>-</td>\n      <td>확인 중</td>\n      <td>NaN</td>\n    </tr>\n    <tr>\n      <th>1782</th>\n      <td>2744</td>\n      <td>16247</td>\n      <td>8.21.</td>\n      <td>기타</td>\n      <td>-</td>\n      <td>성북구 사랑제일교회 관련</td>\n      <td>NaN</td>\n    </tr>\n    <tr>\n      <th>1809</th>\n      <td>2717</td>\n      <td>16849</td>\n      <td>8.21.</td>\n      <td>구로구</td>\n      <td>-</td>\n      <td>여의도 순복음교회 관련</td>\n      <td>퇴원</td>\n    </tr>\n    <tr>\n      <th>3860</th>\n      <td>666</td>\n      <td>10862</td>\n      <td>5.09.</td>\n      <td>용산구</td>\n      <td>-</td>\n      <td>이태원 클럽 관련</td>\n      <td>퇴원</td>\n    </tr>\n  </tbody>\n</table>\n</div>"
     },
     "metadata": {},
     "execution_count": 8
    }
   ],
   "source": [
    "df_temp = pd.read_csv(newst_csv, encoding=\"utf-8\")\n",
    "df_temp.sample(15)"
   ]
  },
  {
   "cell_type": "code",
   "execution_count": 9,
   "metadata": {},
   "outputs": [
    {
     "output_type": "execute_result",
     "data": {
      "text/plain": "array(['확인 중'], dtype=object)"
     },
     "metadata": {},
     "execution_count": 9
    }
   ],
   "source": [
    "# overwrite whatever cell value that contains \"확인\" as \"확인 중\"\n",
    "df_temp.loc[df_temp[\"접촉력\"].str.contains(\"확인\"),\"접촉력\"] = \"확인 중\"\n",
    "\n",
    "# check whether those two arrays are combined\n",
    "df_temp.loc[df_temp[\"접촉력\"].str.contains(\"확인\"),\"접촉력\"].unique()"
   ]
  },
  {
   "cell_type": "code",
   "execution_count": 10,
   "metadata": {},
   "outputs": [],
   "source": [
    "df_temp[\"접촉력\"] = df_temp[\"접촉력\"].str.replace(\"관련\", \"\")\n",
    "df_temp[\"접촉력\"] = df_temp[\"접촉력\"].str.strip()"
   ]
  },
  {
   "cell_type": "code",
   "execution_count": 11,
   "metadata": {
    "tags": []
   },
   "outputs": [
    {
     "output_type": "stream",
     "name": "stdout",
     "text": "234\n"
    },
    {
     "output_type": "execute_result",
     "data": {
      "text/plain": "array(['서대문구 세브란스 병원', '타시도 확진자 접촉', '강동구 BF모바일 콜센터', '기타 확진자 접촉', '확인 중',\n       '영등포 지인모임', '8.15서울도심집회', '영등포구 일련정종 서울포교소', '종로구청 근로자',\n       '해외 접촉 추정', '송파구 쿠팡 물류센터', 'KT가좌지사', '도봉구 운동시설', '성북구 사랑제일교회',\n       '노원구 기도모임', '관악구 가족모임', '동작구 JH글로벌', '노원구 빛가온교회', '영등포구 국회출입기자',\n       '은평구 수색성당', '광진구 혜민병원', '은평구 헤어콕', '송파구 소재병원', '극단 산', '영등포구 권능교회',\n       '서초구 장애인교육시설', '강동구 소재 병원', '다래경매', '성북구 체대입시', '성북구 요양시설',\n       '중구소재 은행', '중랑구 소재 체육시설', '관악구 에바다', '동작구 소재 서울신학교', '용인시 우리제일교회',\n       '노원구 손해보험', '구로구 보성운수', '강서구 서울대효요양병원', '서대문구 지인모임', '강북구 일가족',\n       '8.15도심집회', '강서구 보안회사', '롯데리아 종사자 모임', '동작구 카드 발급업체', '영등포구 큰권능교회',\n       '구로구 아파트', '강남구 소재 아파트', '제주 게스트하우스', '성북구 벧엘장로교회', '관악구 김혜근의원',\n       '동대문구 sk탁구클럽', '동작구 스터디카페', '군인권센터', '동작구 요양시설', '여의도 순복음교회',\n       '중구 보험회사(현대해상)', '강서구 병원', '8.15도심집회(순복음 강북교회)', '중앙보훈병원',\n       '종로구 혜화경찰서', '양천구 되새김교회', '현대커머셜', '8.15도심집회(녹색병원)',\n       '영등포 IFC몰 오케스트로', '고양시 반석교회(케네디상가)', '롯데 자산개발', '골드트레인', '한양대병원',\n       '순복음 강북교회', '서대문구 지인 모임', '강동구 어린이집', '광화문집회', '은평구 성경공부모임',\n       '관악구 요양병원', '고대 안암병원', '마포구 푸본생명콜센터', '성동구 가족', '양천구 되새김 교회',\n       '중구 통일상가', '고양시 반석교회  (케네디상가)', '강남구 판매업소(골드트레인)', '양천구 확진자 접촉',\n       '영등포구 확진자 접촉', '강남구 확진자 접촉', '강남구 판매업소', '광진구 확진자 접촉',\n       '고양시 반석교회 (케네디상가)', '구로구 확진자 접촉', '종로구 확진자 접촉', '성북구 확진자 접촉',\n       '서초구 확진자 접촉', '마포구 확진자 접촉', '#14483 접촉', '#14488 접촉', '도봉구 가족',\n       '강남구 커피전문점', '선교회 소모임', '도봉구 확진자 접촉', '송파구 교회', '강서구 확진자 접촉',\n       '송파구 확진자 접촉', '종로구 지인모임 신명투자', '강서구 요양시설', '강남구 사무실 K빌딩',\n       '송파구 지인모임', '관악구 확진자 접촉', '중구 확진자 접촉', '강북구 확진자 접촉', '관악구 사무실',\n       '은평구 확진자 접촉', '강남구 사무실', '강남역삼동 금융회사', '성동구 확진자 접촉',\n       '강남구 이동통신 종사자', '강남구 역삼동 모임', '용산구 확진자 접촉', '왕성교회', '중랑구 일가족',\n       '관악구 일가족', '대전 꿈꾸는 교회', '리치웨이', '동작구 확진자 접촉', '금천구 확진자 접촉', '요양시설',\n       '강동구 확진자 접촉', '시청역', '대자연코리아', '의왕 물류센터', '금천구 도정기 회사', '양천구 운동시설',\n       '대전 다단계', '오렌지라이프', '수도권 개척교회', '타시도 확진자 접촉자', '연아나뉴스클래스',\n       '한국대학생선교회', '해외접촉 추정', 'kb 생명보험', '부천시 쿠팡', '이태원 클럽', '용인 형제',\n       '삼성화재', '서초구 가족', '안양군포 목회자', '영등포 학원', '강남구 동인교회', '원어성경연구회',\n       '#11196 접촉', '삼성서울병원', '#10054 접촉', '#9800 접촉', '#10044 접촉',\n       '#9641 접촉', '구로구 교회', '#10407 접촉', '#10015 접촉', '#9364 접촉',\n       '#10377 접촉', '#9287 접촉', '#10142 접촉', '#9912 접촉', '#9765 접촉',\n       '#10115 접촉', '타시도 확진자 접촉(추정)', '#8063 접촉', '#10084 접촉', '#8601 접촉',\n       '#8717 접촉', '#9946 접촉', '콜센터직원 접촉', '#8271 접촉', '#8669 접촉',\n       '#9734 접촉', '#9621 접촉', '#9572 접촉', '#9525 접촉', '#7914 접촉',\n       '#8791 접촉', '#9219 접촉', '#8057 접촉', '#8079 접촉', '#8646 접촉',\n       '#9020 접촉', '#8245 접촉', '#8709 접촉 추정', '#8881 접촉 추정', '구로구 콜센터',\n       '#8486 접촉', '동대문구', '#8196 접촉', '#8138 접촉', '구로구 콜센터 접촉',\n       '#8044 접촉', '해외 접촉', '#7923 접촉', '신천지 추정', '#7573 접축 추정',\n       '#6959 접촉(추정)', '#7280 접촉(추정)', '#7500 접촉(추정)', '#6727 첩촉',\n       '대구 거주', '#6832 접촉자', '#6921접촉자', '#935 접촉자', '#6937 접촉자',\n       '성동구 아파트', '대구 방문', '부동산 중개 법인', '여의도 건설현장', '대구 확진자 접촉', '명성교회',\n       '#794 접촉(추정)', '#2621번 접촉', '#1247 접촉(추정)', '부동산 중개업', '쇼핑몰',\n       '은평구 병원', '경찰병원', '서울재생병원', '신천지대구교회', '#794 접촉자', '대구 방문(명성교회)',\n       '#780 접촉(추정)', '#56 접촉', '#136 접촉', '대구 거주자', '#6 접촉(추정)',\n       '#30 접촉', '#29 접촉', '#83 접촉', '#6 접촉', '#5 접촉', '#3 접촉'],\n      dtype=object)"
     },
     "metadata": {},
     "execution_count": 11
    }
   ],
   "source": [
    "infection_paths = df_temp[\"접촉력\"].unique()\n",
    "print(len(infection_paths))\n",
    "infection_paths"
   ]
  },
  {
   "cell_type": "code",
   "execution_count": 12,
   "metadata": {},
   "outputs": [
    {
     "output_type": "execute_result",
     "data": {
      "text/plain": "     연번     환자    확진일  거주지 여행력            접촉력 퇴원현황\n0  4526  21737  9.09.  은평구   -   서대문구 세브란스 병원  NaN\n1  4525  21719  9.09.  타시도   -     타시도 확진자 접촉  NaN\n2  4524  21709  9.09.  강동구   -  강동구 BF모바일 콜센터  NaN\n3  4523  21704  9.09.  은평구   -      기타 확진자 접촉  NaN\n4  4522  21702  9.09.  강동구   -  강동구 BF모바일 콜센터  NaN",
      "text/html": "<div>\n<style scoped>\n    .dataframe tbody tr th:only-of-type {\n        vertical-align: middle;\n    }\n\n    .dataframe tbody tr th {\n        vertical-align: top;\n    }\n\n    .dataframe thead th {\n        text-align: right;\n    }\n</style>\n<table border=\"1\" class=\"dataframe\">\n  <thead>\n    <tr style=\"text-align: right;\">\n      <th></th>\n      <th>연번</th>\n      <th>환자</th>\n      <th>확진일</th>\n      <th>거주지</th>\n      <th>여행력</th>\n      <th>접촉력</th>\n      <th>퇴원현황</th>\n    </tr>\n  </thead>\n  <tbody>\n    <tr>\n      <th>0</th>\n      <td>4526</td>\n      <td>21737</td>\n      <td>9.09.</td>\n      <td>은평구</td>\n      <td>-</td>\n      <td>서대문구 세브란스 병원</td>\n      <td>NaN</td>\n    </tr>\n    <tr>\n      <th>1</th>\n      <td>4525</td>\n      <td>21719</td>\n      <td>9.09.</td>\n      <td>타시도</td>\n      <td>-</td>\n      <td>타시도 확진자 접촉</td>\n      <td>NaN</td>\n    </tr>\n    <tr>\n      <th>2</th>\n      <td>4524</td>\n      <td>21709</td>\n      <td>9.09.</td>\n      <td>강동구</td>\n      <td>-</td>\n      <td>강동구 BF모바일 콜센터</td>\n      <td>NaN</td>\n    </tr>\n    <tr>\n      <th>3</th>\n      <td>4523</td>\n      <td>21704</td>\n      <td>9.09.</td>\n      <td>은평구</td>\n      <td>-</td>\n      <td>기타 확진자 접촉</td>\n      <td>NaN</td>\n    </tr>\n    <tr>\n      <th>4</th>\n      <td>4522</td>\n      <td>21702</td>\n      <td>9.09.</td>\n      <td>강동구</td>\n      <td>-</td>\n      <td>강동구 BF모바일 콜센터</td>\n      <td>NaN</td>\n    </tr>\n  </tbody>\n</table>\n</div>"
     },
     "metadata": {},
     "execution_count": 12
    }
   ],
   "source": [
    "df_date = df_temp.sort_values([\"연번\"], ascending=False)\n",
    "df_date.head()"
   ]
  },
  {
   "cell_type": "code",
   "execution_count": 13,
   "metadata": {},
   "outputs": [
    {
     "output_type": "execute_result",
     "data": {
      "text/plain": "     연번     환자   확진일  거주지 여행력            접촉력 퇴원현황\n0  4526  21737  9-09  은평구   -   서대문구 세브란스 병원  NaN\n1  4525  21719  9-09  타시도   -     타시도 확진자 접촉  NaN\n2  4524  21709  9-09  강동구   -  강동구 BF모바일 콜센터  NaN\n3  4523  21704  9-09  은평구   -      기타 확진자 접촉  NaN\n4  4522  21702  9-09  강동구   -  강동구 BF모바일 콜센터  NaN",
      "text/html": "<div>\n<style scoped>\n    .dataframe tbody tr th:only-of-type {\n        vertical-align: middle;\n    }\n\n    .dataframe tbody tr th {\n        vertical-align: top;\n    }\n\n    .dataframe thead th {\n        text-align: right;\n    }\n</style>\n<table border=\"1\" class=\"dataframe\">\n  <thead>\n    <tr style=\"text-align: right;\">\n      <th></th>\n      <th>연번</th>\n      <th>환자</th>\n      <th>확진일</th>\n      <th>거주지</th>\n      <th>여행력</th>\n      <th>접촉력</th>\n      <th>퇴원현황</th>\n    </tr>\n  </thead>\n  <tbody>\n    <tr>\n      <th>0</th>\n      <td>4526</td>\n      <td>21737</td>\n      <td>9-09</td>\n      <td>은평구</td>\n      <td>-</td>\n      <td>서대문구 세브란스 병원</td>\n      <td>NaN</td>\n    </tr>\n    <tr>\n      <th>1</th>\n      <td>4525</td>\n      <td>21719</td>\n      <td>9-09</td>\n      <td>타시도</td>\n      <td>-</td>\n      <td>타시도 확진자 접촉</td>\n      <td>NaN</td>\n    </tr>\n    <tr>\n      <th>2</th>\n      <td>4524</td>\n      <td>21709</td>\n      <td>9-09</td>\n      <td>강동구</td>\n      <td>-</td>\n      <td>강동구 BF모바일 콜센터</td>\n      <td>NaN</td>\n    </tr>\n    <tr>\n      <th>3</th>\n      <td>4523</td>\n      <td>21704</td>\n      <td>9-09</td>\n      <td>은평구</td>\n      <td>-</td>\n      <td>기타 확진자 접촉</td>\n      <td>NaN</td>\n    </tr>\n    <tr>\n      <th>4</th>\n      <td>4522</td>\n      <td>21702</td>\n      <td>9-09</td>\n      <td>강동구</td>\n      <td>-</td>\n      <td>강동구 BF모바일 콜센터</td>\n      <td>NaN</td>\n    </tr>\n  </tbody>\n</table>\n</div>"
     },
     "metadata": {},
     "execution_count": 13
    }
   ],
   "source": [
    "df_date[\"확진일\"] = df_date[\"확진일\"].str.replace(\".\", \"-\")\n",
    "df_date[\"확진일\"] = df_date[\"확진일\"].str[:-1]\n",
    "df_date.head()"
   ]
  },
  {
   "cell_type": "code",
   "execution_count": 14,
   "metadata": {},
   "outputs": [
    {
     "output_type": "execute_result",
     "data": {
      "text/plain": "     연번     환자         확진일  거주지 여행력            접촉력 퇴원현황\n0  4526  21737  2020-09-09  은평구   -   서대문구 세브란스 병원  NaN\n1  4525  21719  2020-09-09  타시도   -     타시도 확진자 접촉  NaN\n2  4524  21709  2020-09-09  강동구   -  강동구 BF모바일 콜센터  NaN\n3  4523  21704  2020-09-09  은평구   -      기타 확진자 접촉  NaN\n4  4522  21702  2020-09-09  강동구   -  강동구 BF모바일 콜센터  NaN",
      "text/html": "<div>\n<style scoped>\n    .dataframe tbody tr th:only-of-type {\n        vertical-align: middle;\n    }\n\n    .dataframe tbody tr th {\n        vertical-align: top;\n    }\n\n    .dataframe thead th {\n        text-align: right;\n    }\n</style>\n<table border=\"1\" class=\"dataframe\">\n  <thead>\n    <tr style=\"text-align: right;\">\n      <th></th>\n      <th>연번</th>\n      <th>환자</th>\n      <th>확진일</th>\n      <th>거주지</th>\n      <th>여행력</th>\n      <th>접촉력</th>\n      <th>퇴원현황</th>\n    </tr>\n  </thead>\n  <tbody>\n    <tr>\n      <th>0</th>\n      <td>4526</td>\n      <td>21737</td>\n      <td>2020-09-09</td>\n      <td>은평구</td>\n      <td>-</td>\n      <td>서대문구 세브란스 병원</td>\n      <td>NaN</td>\n    </tr>\n    <tr>\n      <th>1</th>\n      <td>4525</td>\n      <td>21719</td>\n      <td>2020-09-09</td>\n      <td>타시도</td>\n      <td>-</td>\n      <td>타시도 확진자 접촉</td>\n      <td>NaN</td>\n    </tr>\n    <tr>\n      <th>2</th>\n      <td>4524</td>\n      <td>21709</td>\n      <td>2020-09-09</td>\n      <td>강동구</td>\n      <td>-</td>\n      <td>강동구 BF모바일 콜센터</td>\n      <td>NaN</td>\n    </tr>\n    <tr>\n      <th>3</th>\n      <td>4523</td>\n      <td>21704</td>\n      <td>2020-09-09</td>\n      <td>은평구</td>\n      <td>-</td>\n      <td>기타 확진자 접촉</td>\n      <td>NaN</td>\n    </tr>\n    <tr>\n      <th>4</th>\n      <td>4522</td>\n      <td>21702</td>\n      <td>2020-09-09</td>\n      <td>강동구</td>\n      <td>-</td>\n      <td>강동구 BF모바일 콜센터</td>\n      <td>NaN</td>\n    </tr>\n  </tbody>\n</table>\n</div>"
     },
     "metadata": {},
     "execution_count": 14
    }
   ],
   "source": [
    "df_date[\"확진일\"] = \"2020-0\" + df_date[\"확진일\"]\n",
    "df_date.head()"
   ]
  },
  {
   "cell_type": "code",
   "execution_count": 15,
   "metadata": {},
   "outputs": [
    {
     "output_type": "execute_result",
     "data": {
      "text/plain": "        연번     환자         확진일  거주지 여행력        접촉력 퇴원현황\n2758  1768  14876  2020-08-13  은평구   -  기타 확진자 접촉   퇴원\n84    4442  21471  2020-09-07  서초구   -  기타 확진자 접촉  NaN\n3546   980  11785  2020-06-06  성동구   -     이태원 클럽   퇴원\n1538  2988  17691  2020-08-24  마포구   -    은평구 헤어콕  NaN\n4323   203   7842  2020-03-11  강서구   -   콜센터직원 접촉   퇴원",
      "text/html": "<div>\n<style scoped>\n    .dataframe tbody tr th:only-of-type {\n        vertical-align: middle;\n    }\n\n    .dataframe tbody tr th {\n        vertical-align: top;\n    }\n\n    .dataframe thead th {\n        text-align: right;\n    }\n</style>\n<table border=\"1\" class=\"dataframe\">\n  <thead>\n    <tr style=\"text-align: right;\">\n      <th></th>\n      <th>연번</th>\n      <th>환자</th>\n      <th>확진일</th>\n      <th>거주지</th>\n      <th>여행력</th>\n      <th>접촉력</th>\n      <th>퇴원현황</th>\n    </tr>\n  </thead>\n  <tbody>\n    <tr>\n      <th>2758</th>\n      <td>1768</td>\n      <td>14876</td>\n      <td>2020-08-13</td>\n      <td>은평구</td>\n      <td>-</td>\n      <td>기타 확진자 접촉</td>\n      <td>퇴원</td>\n    </tr>\n    <tr>\n      <th>84</th>\n      <td>4442</td>\n      <td>21471</td>\n      <td>2020-09-07</td>\n      <td>서초구</td>\n      <td>-</td>\n      <td>기타 확진자 접촉</td>\n      <td>NaN</td>\n    </tr>\n    <tr>\n      <th>3546</th>\n      <td>980</td>\n      <td>11785</td>\n      <td>2020-06-06</td>\n      <td>성동구</td>\n      <td>-</td>\n      <td>이태원 클럽</td>\n      <td>퇴원</td>\n    </tr>\n    <tr>\n      <th>1538</th>\n      <td>2988</td>\n      <td>17691</td>\n      <td>2020-08-24</td>\n      <td>마포구</td>\n      <td>-</td>\n      <td>은평구 헤어콕</td>\n      <td>NaN</td>\n    </tr>\n    <tr>\n      <th>4323</th>\n      <td>203</td>\n      <td>7842</td>\n      <td>2020-03-11</td>\n      <td>강서구</td>\n      <td>-</td>\n      <td>콜센터직원 접촉</td>\n      <td>퇴원</td>\n    </tr>\n  </tbody>\n</table>\n</div>"
     },
     "metadata": {},
     "execution_count": 15
    }
   ],
   "source": [
    "df_date.sample(5)"
   ]
  },
  {
   "cell_type": "code",
   "execution_count": 16,
   "metadata": {},
   "outputs": [
    {
     "output_type": "execute_result",
     "data": {
      "text/plain": "     연번     환자         확진일  거주지 여행력            접촉력 퇴원현황\n0  4526  21737  2020-09-09  은평구   -   서대문구 세브란스 병원  NaN\n1  4525  21719  2020-09-09  타시도   -     타시도 확진자 접촉  NaN\n2  4524  21709  2020-09-09  강동구   -  강동구 BF모바일 콜센터  NaN\n3  4523  21704  2020-09-09  은평구   -      기타 확진자 접촉  NaN\n4  4522  21702  2020-09-09  강동구   -  강동구 BF모바일 콜센터  NaN",
      "text/html": "<div>\n<style scoped>\n    .dataframe tbody tr th:only-of-type {\n        vertical-align: middle;\n    }\n\n    .dataframe tbody tr th {\n        vertical-align: top;\n    }\n\n    .dataframe thead th {\n        text-align: right;\n    }\n</style>\n<table border=\"1\" class=\"dataframe\">\n  <thead>\n    <tr style=\"text-align: right;\">\n      <th></th>\n      <th>연번</th>\n      <th>환자</th>\n      <th>확진일</th>\n      <th>거주지</th>\n      <th>여행력</th>\n      <th>접촉력</th>\n      <th>퇴원현황</th>\n    </tr>\n  </thead>\n  <tbody>\n    <tr>\n      <th>0</th>\n      <td>4526</td>\n      <td>21737</td>\n      <td>2020-09-09</td>\n      <td>은평구</td>\n      <td>-</td>\n      <td>서대문구 세브란스 병원</td>\n      <td>NaN</td>\n    </tr>\n    <tr>\n      <th>1</th>\n      <td>4525</td>\n      <td>21719</td>\n      <td>2020-09-09</td>\n      <td>타시도</td>\n      <td>-</td>\n      <td>타시도 확진자 접촉</td>\n      <td>NaN</td>\n    </tr>\n    <tr>\n      <th>2</th>\n      <td>4524</td>\n      <td>21709</td>\n      <td>2020-09-09</td>\n      <td>강동구</td>\n      <td>-</td>\n      <td>강동구 BF모바일 콜센터</td>\n      <td>NaN</td>\n    </tr>\n    <tr>\n      <th>3</th>\n      <td>4523</td>\n      <td>21704</td>\n      <td>2020-09-09</td>\n      <td>은평구</td>\n      <td>-</td>\n      <td>기타 확진자 접촉</td>\n      <td>NaN</td>\n    </tr>\n    <tr>\n      <th>4</th>\n      <td>4522</td>\n      <td>21702</td>\n      <td>2020-09-09</td>\n      <td>강동구</td>\n      <td>-</td>\n      <td>강동구 BF모바일 콜센터</td>\n      <td>NaN</td>\n    </tr>\n  </tbody>\n</table>\n</div>"
     },
     "metadata": {},
     "execution_count": 16
    }
   ],
   "source": [
    "df = df_date.copy()\n",
    "df.head()"
   ]
  },
  {
   "cell_type": "code",
   "execution_count": 17,
   "metadata": {},
   "outputs": [
    {
     "output_type": "execute_result",
     "data": {
      "text/plain": "     연번     환자         확진일  거주지 여행력            접촉력 퇴원현황\n0  4526  21737  2020-09-09  은평구   -   서대문구 세브란스 병원  NaN\n1  4525  21719  2020-09-09  타시도   -     타시도 확진자 접촉  NaN\n2  4524  21709  2020-09-09  강동구   -  강동구 BF모바일 콜센터  NaN\n3  4523  21704  2020-09-09  은평구   -      기타 확진자 접촉  NaN\n4  4522  21702  2020-09-09  강동구   -  강동구 BF모바일 콜센터  NaN",
      "text/html": "<div>\n<style scoped>\n    .dataframe tbody tr th:only-of-type {\n        vertical-align: middle;\n    }\n\n    .dataframe tbody tr th {\n        vertical-align: top;\n    }\n\n    .dataframe thead th {\n        text-align: right;\n    }\n</style>\n<table border=\"1\" class=\"dataframe\">\n  <thead>\n    <tr style=\"text-align: right;\">\n      <th></th>\n      <th>연번</th>\n      <th>환자</th>\n      <th>확진일</th>\n      <th>거주지</th>\n      <th>여행력</th>\n      <th>접촉력</th>\n      <th>퇴원현황</th>\n    </tr>\n  </thead>\n  <tbody>\n    <tr>\n      <th>0</th>\n      <td>4526</td>\n      <td>21737</td>\n      <td>2020-09-09</td>\n      <td>은평구</td>\n      <td>-</td>\n      <td>서대문구 세브란스 병원</td>\n      <td>NaN</td>\n    </tr>\n    <tr>\n      <th>1</th>\n      <td>4525</td>\n      <td>21719</td>\n      <td>2020-09-09</td>\n      <td>타시도</td>\n      <td>-</td>\n      <td>타시도 확진자 접촉</td>\n      <td>NaN</td>\n    </tr>\n    <tr>\n      <th>2</th>\n      <td>4524</td>\n      <td>21709</td>\n      <td>2020-09-09</td>\n      <td>강동구</td>\n      <td>-</td>\n      <td>강동구 BF모바일 콜센터</td>\n      <td>NaN</td>\n    </tr>\n    <tr>\n      <th>3</th>\n      <td>4523</td>\n      <td>21704</td>\n      <td>2020-09-09</td>\n      <td>은평구</td>\n      <td>-</td>\n      <td>기타 확진자 접촉</td>\n      <td>NaN</td>\n    </tr>\n    <tr>\n      <th>4</th>\n      <td>4522</td>\n      <td>21702</td>\n      <td>2020-09-09</td>\n      <td>강동구</td>\n      <td>-</td>\n      <td>강동구 BF모바일 콜센터</td>\n      <td>NaN</td>\n    </tr>\n  </tbody>\n</table>\n</div>"
     },
     "metadata": {},
     "execution_count": 17
    }
   ],
   "source": [
    "df.loc[(df[\"확진일\"].str.len() < 10), '확진일'] = df.loc[(df[\"확진일\"].str.len() < 10), '확진일'].str.replace(\"-0\", \"-\")\n",
    "df.loc[(df[\"확진일\"].str.len() < 10), '확진일'] = df.loc[(df[\"확진일\"].str.len() < 10), '확진일'].str.replace(\"-\", \"-0\")\n",
    "df.head()"
   ]
  },
  {
   "cell_type": "code",
   "execution_count": 18,
   "metadata": {},
   "outputs": [
    {
     "output_type": "execute_result",
     "data": {
      "text/plain": "        연번     환자         확진일  거주지 여행력          접촉력 퇴원현황\n357   4169  20679  2020-09-03  노원구   -     도봉구 운동시설  NaN\n3063  1463  13688  2020-07-17  송파구   -      관악구 사무실   퇴원\n815   3711  19576  2020-08-29   기타   -   영등포구 큰권능교회  NaN\n425   4101  20545  2020-09-02  노원구   -    기타 확진자 접촉  NaN\n3749   777  11220  2020-05-25  강서구   -    #11196 접촉   퇴원\n2313  2213  15790  2020-08-18  마포구   -   성북구 사랑제일교회   퇴원\n1819  2707  16796  2020-08-21  양천구   -         확인 중  NaN\n1100  3426  19022  2020-08-27  관악구   -         확인 중  NaN\n1051  3475  19015  2020-08-27  송파구   -    기타 확진자 접촉   퇴원\n1062  3464  19060  2020-08-27  은평구   -    기타 확진자 접촉   퇴원\n4391   135   7513  2020-03-09  은평구   -         확인 중   퇴원\n654   3872  20040  2020-08-30  동작구   -         확인 중  NaN\n2282  2244  15906  2020-08-18  중랑구   -  롯데리아 종사자 모임   퇴원\n1441  3085  17755  2020-08-24  성북구   -         확인 중   퇴원\n886   3640  19341  2020-08-28  광진구   -         확인 중  NaN",
      "text/html": "<div>\n<style scoped>\n    .dataframe tbody tr th:only-of-type {\n        vertical-align: middle;\n    }\n\n    .dataframe tbody tr th {\n        vertical-align: top;\n    }\n\n    .dataframe thead th {\n        text-align: right;\n    }\n</style>\n<table border=\"1\" class=\"dataframe\">\n  <thead>\n    <tr style=\"text-align: right;\">\n      <th></th>\n      <th>연번</th>\n      <th>환자</th>\n      <th>확진일</th>\n      <th>거주지</th>\n      <th>여행력</th>\n      <th>접촉력</th>\n      <th>퇴원현황</th>\n    </tr>\n  </thead>\n  <tbody>\n    <tr>\n      <th>357</th>\n      <td>4169</td>\n      <td>20679</td>\n      <td>2020-09-03</td>\n      <td>노원구</td>\n      <td>-</td>\n      <td>도봉구 운동시설</td>\n      <td>NaN</td>\n    </tr>\n    <tr>\n      <th>3063</th>\n      <td>1463</td>\n      <td>13688</td>\n      <td>2020-07-17</td>\n      <td>송파구</td>\n      <td>-</td>\n      <td>관악구 사무실</td>\n      <td>퇴원</td>\n    </tr>\n    <tr>\n      <th>815</th>\n      <td>3711</td>\n      <td>19576</td>\n      <td>2020-08-29</td>\n      <td>기타</td>\n      <td>-</td>\n      <td>영등포구 큰권능교회</td>\n      <td>NaN</td>\n    </tr>\n    <tr>\n      <th>425</th>\n      <td>4101</td>\n      <td>20545</td>\n      <td>2020-09-02</td>\n      <td>노원구</td>\n      <td>-</td>\n      <td>기타 확진자 접촉</td>\n      <td>NaN</td>\n    </tr>\n    <tr>\n      <th>3749</th>\n      <td>777</td>\n      <td>11220</td>\n      <td>2020-05-25</td>\n      <td>강서구</td>\n      <td>-</td>\n      <td>#11196 접촉</td>\n      <td>퇴원</td>\n    </tr>\n    <tr>\n      <th>2313</th>\n      <td>2213</td>\n      <td>15790</td>\n      <td>2020-08-18</td>\n      <td>마포구</td>\n      <td>-</td>\n      <td>성북구 사랑제일교회</td>\n      <td>퇴원</td>\n    </tr>\n    <tr>\n      <th>1819</th>\n      <td>2707</td>\n      <td>16796</td>\n      <td>2020-08-21</td>\n      <td>양천구</td>\n      <td>-</td>\n      <td>확인 중</td>\n      <td>NaN</td>\n    </tr>\n    <tr>\n      <th>1100</th>\n      <td>3426</td>\n      <td>19022</td>\n      <td>2020-08-27</td>\n      <td>관악구</td>\n      <td>-</td>\n      <td>확인 중</td>\n      <td>NaN</td>\n    </tr>\n    <tr>\n      <th>1051</th>\n      <td>3475</td>\n      <td>19015</td>\n      <td>2020-08-27</td>\n      <td>송파구</td>\n      <td>-</td>\n      <td>기타 확진자 접촉</td>\n      <td>퇴원</td>\n    </tr>\n    <tr>\n      <th>1062</th>\n      <td>3464</td>\n      <td>19060</td>\n      <td>2020-08-27</td>\n      <td>은평구</td>\n      <td>-</td>\n      <td>기타 확진자 접촉</td>\n      <td>퇴원</td>\n    </tr>\n    <tr>\n      <th>4391</th>\n      <td>135</td>\n      <td>7513</td>\n      <td>2020-03-09</td>\n      <td>은평구</td>\n      <td>-</td>\n      <td>확인 중</td>\n      <td>퇴원</td>\n    </tr>\n    <tr>\n      <th>654</th>\n      <td>3872</td>\n      <td>20040</td>\n      <td>2020-08-30</td>\n      <td>동작구</td>\n      <td>-</td>\n      <td>확인 중</td>\n      <td>NaN</td>\n    </tr>\n    <tr>\n      <th>2282</th>\n      <td>2244</td>\n      <td>15906</td>\n      <td>2020-08-18</td>\n      <td>중랑구</td>\n      <td>-</td>\n      <td>롯데리아 종사자 모임</td>\n      <td>퇴원</td>\n    </tr>\n    <tr>\n      <th>1441</th>\n      <td>3085</td>\n      <td>17755</td>\n      <td>2020-08-24</td>\n      <td>성북구</td>\n      <td>-</td>\n      <td>확인 중</td>\n      <td>퇴원</td>\n    </tr>\n    <tr>\n      <th>886</th>\n      <td>3640</td>\n      <td>19341</td>\n      <td>2020-08-28</td>\n      <td>광진구</td>\n      <td>-</td>\n      <td>확인 중</td>\n      <td>NaN</td>\n    </tr>\n  </tbody>\n</table>\n</div>"
     },
     "metadata": {},
     "execution_count": 18
    }
   ],
   "source": [
    "df.sample(15)"
   ]
  },
  {
   "cell_type": "code",
   "execution_count": 19,
   "metadata": {},
   "outputs": [],
   "source": [
    "df.to_csv(\"./dataset_predict/df_wrangle.csv\", index=False)"
   ]
  },
  {
   "cell_type": "code",
   "execution_count": 20,
   "metadata": {},
   "outputs": [
    {
     "output_type": "execute_result",
     "data": {
      "text/plain": "         date  new_confirmed\n0  2020-08-29            167\n1  2020-08-27            160\n2  2020-08-26            157\n3  2020-08-18            151\n4  2020-08-15            146",
      "text/html": "<div>\n<style scoped>\n    .dataframe tbody tr th:only-of-type {\n        vertical-align: middle;\n    }\n\n    .dataframe tbody tr th {\n        vertical-align: top;\n    }\n\n    .dataframe thead th {\n        text-align: right;\n    }\n</style>\n<table border=\"1\" class=\"dataframe\">\n  <thead>\n    <tr style=\"text-align: right;\">\n      <th></th>\n      <th>date</th>\n      <th>new_confirmed</th>\n    </tr>\n  </thead>\n  <tbody>\n    <tr>\n      <th>0</th>\n      <td>2020-08-29</td>\n      <td>167</td>\n    </tr>\n    <tr>\n      <th>1</th>\n      <td>2020-08-27</td>\n      <td>160</td>\n    </tr>\n    <tr>\n      <th>2</th>\n      <td>2020-08-26</td>\n      <td>157</td>\n    </tr>\n    <tr>\n      <th>3</th>\n      <td>2020-08-18</td>\n      <td>151</td>\n    </tr>\n    <tr>\n      <th>4</th>\n      <td>2020-08-15</td>\n      <td>146</td>\n    </tr>\n  </tbody>\n</table>\n</div>"
     },
     "metadata": {},
     "execution_count": 20
    }
   ],
   "source": [
    "temp = df[\"확진일\"].value_counts().rename_axis('date').reset_index(name='new_confirmed')\n",
    "temp.head()"
   ]
  },
  {
   "cell_type": "code",
   "execution_count": 21,
   "metadata": {},
   "outputs": [
    {
     "output_type": "execute_result",
     "data": {
      "text/plain": "           date  new_confirmed\n198  2020-01-24              1\n166  2020-01-30              3\n173  2020-01-31              3\n189  2020-02-02              1\n181  2020-02-05              2",
      "text/html": "<div>\n<style scoped>\n    .dataframe tbody tr th:only-of-type {\n        vertical-align: middle;\n    }\n\n    .dataframe tbody tr th {\n        vertical-align: top;\n    }\n\n    .dataframe thead th {\n        text-align: right;\n    }\n</style>\n<table border=\"1\" class=\"dataframe\">\n  <thead>\n    <tr style=\"text-align: right;\">\n      <th></th>\n      <th>date</th>\n      <th>new_confirmed</th>\n    </tr>\n  </thead>\n  <tbody>\n    <tr>\n      <th>198</th>\n      <td>2020-01-24</td>\n      <td>1</td>\n    </tr>\n    <tr>\n      <th>166</th>\n      <td>2020-01-30</td>\n      <td>3</td>\n    </tr>\n    <tr>\n      <th>173</th>\n      <td>2020-01-31</td>\n      <td>3</td>\n    </tr>\n    <tr>\n      <th>189</th>\n      <td>2020-02-02</td>\n      <td>1</td>\n    </tr>\n    <tr>\n      <th>181</th>\n      <td>2020-02-05</td>\n      <td>2</td>\n    </tr>\n  </tbody>\n</table>\n</div>"
     },
     "metadata": {},
     "execution_count": 21
    }
   ],
   "source": [
    "df_predict = temp.sort_values(by=\"date\")\n",
    "df_predict.head()"
   ]
  },
  {
   "cell_type": "code",
   "execution_count": 22,
   "metadata": {},
   "outputs": [],
   "source": [
    "df_predict[\"date\"] = pd.to_datetime(df_predict[\"date\"])"
   ]
  },
  {
   "cell_type": "code",
   "execution_count": 23,
   "metadata": {},
   "outputs": [
    {
     "output_type": "execute_result",
     "data": {
      "text/plain": "                 date  new_confirmed\ndate                                \n2020-01-24 2020-01-24              1\n2020-01-30 2020-01-30              3\n2020-01-31 2020-01-31              3\n2020-02-02 2020-02-02              1\n2020-02-05 2020-02-05              2",
      "text/html": "<div>\n<style scoped>\n    .dataframe tbody tr th:only-of-type {\n        vertical-align: middle;\n    }\n\n    .dataframe tbody tr th {\n        vertical-align: top;\n    }\n\n    .dataframe thead th {\n        text-align: right;\n    }\n</style>\n<table border=\"1\" class=\"dataframe\">\n  <thead>\n    <tr style=\"text-align: right;\">\n      <th></th>\n      <th>date</th>\n      <th>new_confirmed</th>\n    </tr>\n    <tr>\n      <th>date</th>\n      <th></th>\n      <th></th>\n    </tr>\n  </thead>\n  <tbody>\n    <tr>\n      <th>2020-01-24</th>\n      <td>2020-01-24</td>\n      <td>1</td>\n    </tr>\n    <tr>\n      <th>2020-01-30</th>\n      <td>2020-01-30</td>\n      <td>3</td>\n    </tr>\n    <tr>\n      <th>2020-01-31</th>\n      <td>2020-01-31</td>\n      <td>3</td>\n    </tr>\n    <tr>\n      <th>2020-02-02</th>\n      <td>2020-02-02</td>\n      <td>1</td>\n    </tr>\n    <tr>\n      <th>2020-02-05</th>\n      <td>2020-02-05</td>\n      <td>2</td>\n    </tr>\n  </tbody>\n</table>\n</div>"
     },
     "metadata": {},
     "execution_count": 23
    }
   ],
   "source": [
    "df_predict.index = pd.DatetimeIndex(df_predict[\"date\"])\n",
    "df_predict.head()"
   ]
  },
  {
   "cell_type": "code",
   "execution_count": 24,
   "metadata": {},
   "outputs": [
    {
     "output_type": "execute_result",
     "data": {
      "text/plain": "                 date  new_confirmed\ndate                                \n2020-01-24 2020-01-24            1.0\n2020-01-25        NaT            NaN\n2020-01-26        NaT            NaN\n2020-01-27        NaT            NaN\n2020-01-28        NaT            NaN",
      "text/html": "<div>\n<style scoped>\n    .dataframe tbody tr th:only-of-type {\n        vertical-align: middle;\n    }\n\n    .dataframe tbody tr th {\n        vertical-align: top;\n    }\n\n    .dataframe thead th {\n        text-align: right;\n    }\n</style>\n<table border=\"1\" class=\"dataframe\">\n  <thead>\n    <tr style=\"text-align: right;\">\n      <th></th>\n      <th>date</th>\n      <th>new_confirmed</th>\n    </tr>\n    <tr>\n      <th>date</th>\n      <th></th>\n      <th></th>\n    </tr>\n  </thead>\n  <tbody>\n    <tr>\n      <th>2020-01-24</th>\n      <td>2020-01-24</td>\n      <td>1.0</td>\n    </tr>\n    <tr>\n      <th>2020-01-25</th>\n      <td>NaT</td>\n      <td>NaN</td>\n    </tr>\n    <tr>\n      <th>2020-01-26</th>\n      <td>NaT</td>\n      <td>NaN</td>\n    </tr>\n    <tr>\n      <th>2020-01-27</th>\n      <td>NaT</td>\n      <td>NaN</td>\n    </tr>\n    <tr>\n      <th>2020-01-28</th>\n      <td>NaT</td>\n      <td>NaN</td>\n    </tr>\n  </tbody>\n</table>\n</div>"
     },
     "metadata": {},
     "execution_count": 24
    }
   ],
   "source": [
    "df_predict = df_predict.resample('D').max()\n",
    "df_predict.head()"
   ]
  },
  {
   "cell_type": "code",
   "execution_count": 25,
   "metadata": {},
   "outputs": [
    {
     "output_type": "execute_result",
     "data": {
      "text/plain": "                 date  new_confirmed\ndate                                \n2020-01-24 2020-01-24            1.0\n2020-01-25 2020-01-25            NaN\n2020-01-26 2020-01-26            NaN\n2020-01-27 2020-01-27            NaN\n2020-01-28 2020-01-28            NaN",
      "text/html": "<div>\n<style scoped>\n    .dataframe tbody tr th:only-of-type {\n        vertical-align: middle;\n    }\n\n    .dataframe tbody tr th {\n        vertical-align: top;\n    }\n\n    .dataframe thead th {\n        text-align: right;\n    }\n</style>\n<table border=\"1\" class=\"dataframe\">\n  <thead>\n    <tr style=\"text-align: right;\">\n      <th></th>\n      <th>date</th>\n      <th>new_confirmed</th>\n    </tr>\n    <tr>\n      <th>date</th>\n      <th></th>\n      <th></th>\n    </tr>\n  </thead>\n  <tbody>\n    <tr>\n      <th>2020-01-24</th>\n      <td>2020-01-24</td>\n      <td>1.0</td>\n    </tr>\n    <tr>\n      <th>2020-01-25</th>\n      <td>2020-01-25</td>\n      <td>NaN</td>\n    </tr>\n    <tr>\n      <th>2020-01-26</th>\n      <td>2020-01-26</td>\n      <td>NaN</td>\n    </tr>\n    <tr>\n      <th>2020-01-27</th>\n      <td>2020-01-27</td>\n      <td>NaN</td>\n    </tr>\n    <tr>\n      <th>2020-01-28</th>\n      <td>2020-01-28</td>\n      <td>NaN</td>\n    </tr>\n  </tbody>\n</table>\n</div>"
     },
     "metadata": {},
     "execution_count": 25
    }
   ],
   "source": [
    "df_predict[\"date\"] = df_predict.index\n",
    "df_predict.head()"
   ]
  },
  {
   "cell_type": "code",
   "execution_count": 26,
   "metadata": {},
   "outputs": [
    {
     "output_type": "execute_result",
     "data": {
      "text/plain": "                 date  new_confirmed\ndate                                \n2020-01-24 2020-01-24            1.0\n2020-01-25 2020-01-25            0.0\n2020-01-26 2020-01-26            0.0\n2020-01-27 2020-01-27            0.0\n2020-01-28 2020-01-28            0.0\n...               ...            ...\n2020-09-05 2020-09-05           58.0\n2020-09-06 2020-09-06           44.0\n2020-09-07 2020-09-07           76.0\n2020-09-08 2020-09-08           30.0\n2020-09-09 2020-09-09           47.0\n\n[230 rows x 2 columns]",
      "text/html": "<div>\n<style scoped>\n    .dataframe tbody tr th:only-of-type {\n        vertical-align: middle;\n    }\n\n    .dataframe tbody tr th {\n        vertical-align: top;\n    }\n\n    .dataframe thead th {\n        text-align: right;\n    }\n</style>\n<table border=\"1\" class=\"dataframe\">\n  <thead>\n    <tr style=\"text-align: right;\">\n      <th></th>\n      <th>date</th>\n      <th>new_confirmed</th>\n    </tr>\n    <tr>\n      <th>date</th>\n      <th></th>\n      <th></th>\n    </tr>\n  </thead>\n  <tbody>\n    <tr>\n      <th>2020-01-24</th>\n      <td>2020-01-24</td>\n      <td>1.0</td>\n    </tr>\n    <tr>\n      <th>2020-01-25</th>\n      <td>2020-01-25</td>\n      <td>0.0</td>\n    </tr>\n    <tr>\n      <th>2020-01-26</th>\n      <td>2020-01-26</td>\n      <td>0.0</td>\n    </tr>\n    <tr>\n      <th>2020-01-27</th>\n      <td>2020-01-27</td>\n      <td>0.0</td>\n    </tr>\n    <tr>\n      <th>2020-01-28</th>\n      <td>2020-01-28</td>\n      <td>0.0</td>\n    </tr>\n    <tr>\n      <th>...</th>\n      <td>...</td>\n      <td>...</td>\n    </tr>\n    <tr>\n      <th>2020-09-05</th>\n      <td>2020-09-05</td>\n      <td>58.0</td>\n    </tr>\n    <tr>\n      <th>2020-09-06</th>\n      <td>2020-09-06</td>\n      <td>44.0</td>\n    </tr>\n    <tr>\n      <th>2020-09-07</th>\n      <td>2020-09-07</td>\n      <td>76.0</td>\n    </tr>\n    <tr>\n      <th>2020-09-08</th>\n      <td>2020-09-08</td>\n      <td>30.0</td>\n    </tr>\n    <tr>\n      <th>2020-09-09</th>\n      <td>2020-09-09</td>\n      <td>47.0</td>\n    </tr>\n  </tbody>\n</table>\n<p>230 rows × 2 columns</p>\n</div>"
     },
     "metadata": {},
     "execution_count": 26
    }
   ],
   "source": [
    "df_predict = df_predict.fillna(0)\n",
    "df_predict"
   ]
  },
  {
   "cell_type": "code",
   "execution_count": 27,
   "metadata": {},
   "outputs": [],
   "source": [
    "df_predict.to_csv(\"dataset_predict/df_predict.csv\", index=False)"
   ]
  },
  {
   "cell_type": "code",
   "execution_count": 28,
   "metadata": {},
   "outputs": [],
   "source": [
    "df_predict =  pd.read_csv(\"dataset_predict/df_predict.csv\", encoding=\"utf-8\")"
   ]
  },
  {
   "cell_type": "code",
   "execution_count": 29,
   "metadata": {},
   "outputs": [
    {
     "output_type": "execute_result",
     "data": {
      "text/plain": "        연번     환자         확진일  거주지 여행력   접촉력 퇴원현황\n7     4519  21642  2020-09-09  도봉구   -  확인 중  NaN\n16    4510  21691  2020-09-09  종로구   -  확인 중  NaN\n24    4502  21721  2020-09-09  관악구   -  확인 중  NaN\n25    4501  21720  2020-09-09  관악구   -  확인 중  NaN\n28    4498  21649  2020-09-09  은평구   -  확인 중  NaN\n...    ...    ...         ...  ...  ..   ...  ...\n4470    56   1768  2020-02-25  고양시   -  확인 중   퇴원\n4484    42   1370  2020-02-25  노원구   -  확인 중   퇴원\n4487    39    924  2020-02-25   평택   -  확인 중   퇴원\n4488    38    907  2020-02-25  관악구   -  확인 중   퇴원\n4491    35    870  2020-02-25   김포   -  확인 중   퇴원\n\n[767 rows x 7 columns]",
      "text/html": "<div>\n<style scoped>\n    .dataframe tbody tr th:only-of-type {\n        vertical-align: middle;\n    }\n\n    .dataframe tbody tr th {\n        vertical-align: top;\n    }\n\n    .dataframe thead th {\n        text-align: right;\n    }\n</style>\n<table border=\"1\" class=\"dataframe\">\n  <thead>\n    <tr style=\"text-align: right;\">\n      <th></th>\n      <th>연번</th>\n      <th>환자</th>\n      <th>확진일</th>\n      <th>거주지</th>\n      <th>여행력</th>\n      <th>접촉력</th>\n      <th>퇴원현황</th>\n    </tr>\n  </thead>\n  <tbody>\n    <tr>\n      <th>7</th>\n      <td>4519</td>\n      <td>21642</td>\n      <td>2020-09-09</td>\n      <td>도봉구</td>\n      <td>-</td>\n      <td>확인 중</td>\n      <td>NaN</td>\n    </tr>\n    <tr>\n      <th>16</th>\n      <td>4510</td>\n      <td>21691</td>\n      <td>2020-09-09</td>\n      <td>종로구</td>\n      <td>-</td>\n      <td>확인 중</td>\n      <td>NaN</td>\n    </tr>\n    <tr>\n      <th>24</th>\n      <td>4502</td>\n      <td>21721</td>\n      <td>2020-09-09</td>\n      <td>관악구</td>\n      <td>-</td>\n      <td>확인 중</td>\n      <td>NaN</td>\n    </tr>\n    <tr>\n      <th>25</th>\n      <td>4501</td>\n      <td>21720</td>\n      <td>2020-09-09</td>\n      <td>관악구</td>\n      <td>-</td>\n      <td>확인 중</td>\n      <td>NaN</td>\n    </tr>\n    <tr>\n      <th>28</th>\n      <td>4498</td>\n      <td>21649</td>\n      <td>2020-09-09</td>\n      <td>은평구</td>\n      <td>-</td>\n      <td>확인 중</td>\n      <td>NaN</td>\n    </tr>\n    <tr>\n      <th>...</th>\n      <td>...</td>\n      <td>...</td>\n      <td>...</td>\n      <td>...</td>\n      <td>...</td>\n      <td>...</td>\n      <td>...</td>\n    </tr>\n    <tr>\n      <th>4470</th>\n      <td>56</td>\n      <td>1768</td>\n      <td>2020-02-25</td>\n      <td>고양시</td>\n      <td>-</td>\n      <td>확인 중</td>\n      <td>퇴원</td>\n    </tr>\n    <tr>\n      <th>4484</th>\n      <td>42</td>\n      <td>1370</td>\n      <td>2020-02-25</td>\n      <td>노원구</td>\n      <td>-</td>\n      <td>확인 중</td>\n      <td>퇴원</td>\n    </tr>\n    <tr>\n      <th>4487</th>\n      <td>39</td>\n      <td>924</td>\n      <td>2020-02-25</td>\n      <td>평택</td>\n      <td>-</td>\n      <td>확인 중</td>\n      <td>퇴원</td>\n    </tr>\n    <tr>\n      <th>4488</th>\n      <td>38</td>\n      <td>907</td>\n      <td>2020-02-25</td>\n      <td>관악구</td>\n      <td>-</td>\n      <td>확인 중</td>\n      <td>퇴원</td>\n    </tr>\n    <tr>\n      <th>4491</th>\n      <td>35</td>\n      <td>870</td>\n      <td>2020-02-25</td>\n      <td>김포</td>\n      <td>-</td>\n      <td>확인 중</td>\n      <td>퇴원</td>\n    </tr>\n  </tbody>\n</table>\n<p>767 rows × 7 columns</p>\n</div>"
     },
     "metadata": {},
     "execution_count": 29
    }
   ],
   "source": [
    "df_untracked = df[df[\"접촉력\"]==\"확인 중\"]\n",
    "df_untracked"
   ]
  },
  {
   "cell_type": "code",
   "execution_count": 30,
   "metadata": {},
   "outputs": [
    {
     "output_type": "execute_result",
     "data": {
      "text/plain": "           date  new_untracked\n0    2020-02-25              6\n1    2020-02-26              1\n2    2020-02-27              2\n3    2020-02-28              2\n4    2020-03-02              2\n..          ...            ...\n124  2020-09-05             19\n125  2020-09-06             13\n126  2020-09-07             19\n127  2020-09-08             11\n128  2020-09-09              9\n\n[129 rows x 2 columns]",
      "text/html": "<div>\n<style scoped>\n    .dataframe tbody tr th:only-of-type {\n        vertical-align: middle;\n    }\n\n    .dataframe tbody tr th {\n        vertical-align: top;\n    }\n\n    .dataframe thead th {\n        text-align: right;\n    }\n</style>\n<table border=\"1\" class=\"dataframe\">\n  <thead>\n    <tr style=\"text-align: right;\">\n      <th></th>\n      <th>date</th>\n      <th>new_untracked</th>\n    </tr>\n  </thead>\n  <tbody>\n    <tr>\n      <th>0</th>\n      <td>2020-02-25</td>\n      <td>6</td>\n    </tr>\n    <tr>\n      <th>1</th>\n      <td>2020-02-26</td>\n      <td>1</td>\n    </tr>\n    <tr>\n      <th>2</th>\n      <td>2020-02-27</td>\n      <td>2</td>\n    </tr>\n    <tr>\n      <th>3</th>\n      <td>2020-02-28</td>\n      <td>2</td>\n    </tr>\n    <tr>\n      <th>4</th>\n      <td>2020-03-02</td>\n      <td>2</td>\n    </tr>\n    <tr>\n      <th>...</th>\n      <td>...</td>\n      <td>...</td>\n    </tr>\n    <tr>\n      <th>124</th>\n      <td>2020-09-05</td>\n      <td>19</td>\n    </tr>\n    <tr>\n      <th>125</th>\n      <td>2020-09-06</td>\n      <td>13</td>\n    </tr>\n    <tr>\n      <th>126</th>\n      <td>2020-09-07</td>\n      <td>19</td>\n    </tr>\n    <tr>\n      <th>127</th>\n      <td>2020-09-08</td>\n      <td>11</td>\n    </tr>\n    <tr>\n      <th>128</th>\n      <td>2020-09-09</td>\n      <td>9</td>\n    </tr>\n  </tbody>\n</table>\n<p>129 rows × 2 columns</p>\n</div>"
     },
     "metadata": {},
     "execution_count": 30
    }
   ],
   "source": [
    "df_untracked_temp = df_untracked.groupby(by=[\"확진일\"]).size()\n",
    "df_untracked_temp = df_untracked_temp.rename_axis('date').reset_index(name='new_untracked')\n",
    "df_untracked_temp"
   ]
  },
  {
   "cell_type": "code",
   "execution_count": 31,
   "metadata": {},
   "outputs": [],
   "source": [
    "df_untracked_no = df_untracked_temp"
   ]
  },
  {
   "cell_type": "code",
   "execution_count": 32,
   "metadata": {},
   "outputs": [
    {
     "output_type": "execute_result",
     "data": {
      "text/plain": "          date  new_confirmed  new_untracked\n0   2020-01-24            1.0            0.0\n1   2020-01-25            0.0            0.0\n2   2020-01-26            0.0            0.0\n3   2020-01-27            0.0            0.0\n4   2020-01-28            0.0            0.0\n5   2020-01-29            0.0            0.0\n6   2020-01-30            3.0            0.0\n7   2020-01-31            3.0            0.0\n8   2020-02-01            0.0            0.0\n9   2020-02-02            1.0            0.0\n10  2020-02-03            0.0            0.0\n11  2020-02-04            0.0            0.0\n12  2020-02-05            2.0            0.0\n13  2020-02-06            1.0            0.0\n14  2020-02-07            1.0            0.0",
      "text/html": "<div>\n<style scoped>\n    .dataframe tbody tr th:only-of-type {\n        vertical-align: middle;\n    }\n\n    .dataframe tbody tr th {\n        vertical-align: top;\n    }\n\n    .dataframe thead th {\n        text-align: right;\n    }\n</style>\n<table border=\"1\" class=\"dataframe\">\n  <thead>\n    <tr style=\"text-align: right;\">\n      <th></th>\n      <th>date</th>\n      <th>new_confirmed</th>\n      <th>new_untracked</th>\n    </tr>\n  </thead>\n  <tbody>\n    <tr>\n      <th>0</th>\n      <td>2020-01-24</td>\n      <td>1.0</td>\n      <td>0.0</td>\n    </tr>\n    <tr>\n      <th>1</th>\n      <td>2020-01-25</td>\n      <td>0.0</td>\n      <td>0.0</td>\n    </tr>\n    <tr>\n      <th>2</th>\n      <td>2020-01-26</td>\n      <td>0.0</td>\n      <td>0.0</td>\n    </tr>\n    <tr>\n      <th>3</th>\n      <td>2020-01-27</td>\n      <td>0.0</td>\n      <td>0.0</td>\n    </tr>\n    <tr>\n      <th>4</th>\n      <td>2020-01-28</td>\n      <td>0.0</td>\n      <td>0.0</td>\n    </tr>\n    <tr>\n      <th>5</th>\n      <td>2020-01-29</td>\n      <td>0.0</td>\n      <td>0.0</td>\n    </tr>\n    <tr>\n      <th>6</th>\n      <td>2020-01-30</td>\n      <td>3.0</td>\n      <td>0.0</td>\n    </tr>\n    <tr>\n      <th>7</th>\n      <td>2020-01-31</td>\n      <td>3.0</td>\n      <td>0.0</td>\n    </tr>\n    <tr>\n      <th>8</th>\n      <td>2020-02-01</td>\n      <td>0.0</td>\n      <td>0.0</td>\n    </tr>\n    <tr>\n      <th>9</th>\n      <td>2020-02-02</td>\n      <td>1.0</td>\n      <td>0.0</td>\n    </tr>\n    <tr>\n      <th>10</th>\n      <td>2020-02-03</td>\n      <td>0.0</td>\n      <td>0.0</td>\n    </tr>\n    <tr>\n      <th>11</th>\n      <td>2020-02-04</td>\n      <td>0.0</td>\n      <td>0.0</td>\n    </tr>\n    <tr>\n      <th>12</th>\n      <td>2020-02-05</td>\n      <td>2.0</td>\n      <td>0.0</td>\n    </tr>\n    <tr>\n      <th>13</th>\n      <td>2020-02-06</td>\n      <td>1.0</td>\n      <td>0.0</td>\n    </tr>\n    <tr>\n      <th>14</th>\n      <td>2020-02-07</td>\n      <td>1.0</td>\n      <td>0.0</td>\n    </tr>\n  </tbody>\n</table>\n</div>"
     },
     "metadata": {},
     "execution_count": 32
    }
   ],
   "source": [
    "df_merged = pd.merge(df_predict, df_untracked_no, how=\"left\", on=\"date\")\n",
    "df_merged = df_merged.fillna(0)\n",
    "df_merged.head(15)"
   ]
  },
  {
   "cell_type": "code",
   "execution_count": 33,
   "metadata": {},
   "outputs": [
    {
     "output_type": "execute_result",
     "data": {
      "text/plain": "           date  new_confirmed  new_untracked\n215  2020-08-26          157.0           44.0\n216  2020-08-27          160.0           38.0\n217  2020-08-28          118.0           34.0\n218  2020-08-29          167.0           23.0\n219  2020-08-30           70.0           17.0\n220  2020-08-31          104.0           18.0\n221  2020-09-01           87.0           20.0\n222  2020-09-02           64.0           12.0\n223  2020-09-03           46.0            6.0\n224  2020-09-04           55.0            6.0\n225  2020-09-05           58.0           19.0\n226  2020-09-06           44.0           13.0\n227  2020-09-07           76.0           19.0\n228  2020-09-08           30.0           11.0\n229  2020-09-09           47.0            9.0",
      "text/html": "<div>\n<style scoped>\n    .dataframe tbody tr th:only-of-type {\n        vertical-align: middle;\n    }\n\n    .dataframe tbody tr th {\n        vertical-align: top;\n    }\n\n    .dataframe thead th {\n        text-align: right;\n    }\n</style>\n<table border=\"1\" class=\"dataframe\">\n  <thead>\n    <tr style=\"text-align: right;\">\n      <th></th>\n      <th>date</th>\n      <th>new_confirmed</th>\n      <th>new_untracked</th>\n    </tr>\n  </thead>\n  <tbody>\n    <tr>\n      <th>215</th>\n      <td>2020-08-26</td>\n      <td>157.0</td>\n      <td>44.0</td>\n    </tr>\n    <tr>\n      <th>216</th>\n      <td>2020-08-27</td>\n      <td>160.0</td>\n      <td>38.0</td>\n    </tr>\n    <tr>\n      <th>217</th>\n      <td>2020-08-28</td>\n      <td>118.0</td>\n      <td>34.0</td>\n    </tr>\n    <tr>\n      <th>218</th>\n      <td>2020-08-29</td>\n      <td>167.0</td>\n      <td>23.0</td>\n    </tr>\n    <tr>\n      <th>219</th>\n      <td>2020-08-30</td>\n      <td>70.0</td>\n      <td>17.0</td>\n    </tr>\n    <tr>\n      <th>220</th>\n      <td>2020-08-31</td>\n      <td>104.0</td>\n      <td>18.0</td>\n    </tr>\n    <tr>\n      <th>221</th>\n      <td>2020-09-01</td>\n      <td>87.0</td>\n      <td>20.0</td>\n    </tr>\n    <tr>\n      <th>222</th>\n      <td>2020-09-02</td>\n      <td>64.0</td>\n      <td>12.0</td>\n    </tr>\n    <tr>\n      <th>223</th>\n      <td>2020-09-03</td>\n      <td>46.0</td>\n      <td>6.0</td>\n    </tr>\n    <tr>\n      <th>224</th>\n      <td>2020-09-04</td>\n      <td>55.0</td>\n      <td>6.0</td>\n    </tr>\n    <tr>\n      <th>225</th>\n      <td>2020-09-05</td>\n      <td>58.0</td>\n      <td>19.0</td>\n    </tr>\n    <tr>\n      <th>226</th>\n      <td>2020-09-06</td>\n      <td>44.0</td>\n      <td>13.0</td>\n    </tr>\n    <tr>\n      <th>227</th>\n      <td>2020-09-07</td>\n      <td>76.0</td>\n      <td>19.0</td>\n    </tr>\n    <tr>\n      <th>228</th>\n      <td>2020-09-08</td>\n      <td>30.0</td>\n      <td>11.0</td>\n    </tr>\n    <tr>\n      <th>229</th>\n      <td>2020-09-09</td>\n      <td>47.0</td>\n      <td>9.0</td>\n    </tr>\n  </tbody>\n</table>\n</div>"
     },
     "metadata": {},
     "execution_count": 33
    }
   ],
   "source": [
    "df_merged.tail(15)"
   ]
  },
  {
   "cell_type": "code",
   "execution_count": 34,
   "metadata": {
    "tags": []
   },
   "outputs": [
    {
     "output_type": "stream",
     "name": "stdout",
     "text": "[1, 1, 1, 1, 1, 1, 2, 4, 4, 4]\n[495, 509, 528, 536, 552, 563, 572, 585, 594, 603]\n"
    }
   ],
   "source": [
    "list_infection_paths_no = []\n",
    "for index, row in df_merged.iterrows():\n",
    "    filter_end_date = row[\"date\"]\n",
    "    # print(filter_end_date)\n",
    "    df_filtered = df.loc[df['확진일'] <= filter_end_date]\n",
    "    \n",
    "    # 확진자 접촉력이 밝혀진 경우\n",
    "    infection_paths_known = df_filtered[\"접촉력\"].unique()\n",
    "    \n",
    "    # \"기타 확진자 접촉\" 항목 485건 / R0\n",
    "    contact_no = len(df_filtered[df_filtered[\"접촉력\"].str.contains(\"기타 확진자 접촉\")])/1.5\n",
    "    \n",
    "    infection_paths_no = len(infection_paths_known) + contact_no\n",
    "    list_infection_paths_no.append(int(infection_paths_no))\n",
    "print(list_infection_paths_no[:10])\n",
    "print(list_infection_paths_no[-10:])"
   ]
  },
  {
   "cell_type": "code",
   "execution_count": 35,
   "metadata": {},
   "outputs": [
    {
     "output_type": "execute_result",
     "data": {
      "text/plain": "         date  new_confirmed  new_untracked  no_paths\n0  2020-01-24              1              0         1\n1  2020-01-25              0              0         1\n2  2020-01-26              0              0         1\n3  2020-01-27              0              0         1\n4  2020-01-28              0              0         1",
      "text/html": "<div>\n<style scoped>\n    .dataframe tbody tr th:only-of-type {\n        vertical-align: middle;\n    }\n\n    .dataframe tbody tr th {\n        vertical-align: top;\n    }\n\n    .dataframe thead th {\n        text-align: right;\n    }\n</style>\n<table border=\"1\" class=\"dataframe\">\n  <thead>\n    <tr style=\"text-align: right;\">\n      <th></th>\n      <th>date</th>\n      <th>new_confirmed</th>\n      <th>new_untracked</th>\n      <th>no_paths</th>\n    </tr>\n  </thead>\n  <tbody>\n    <tr>\n      <th>0</th>\n      <td>2020-01-24</td>\n      <td>1</td>\n      <td>0</td>\n      <td>1</td>\n    </tr>\n    <tr>\n      <th>1</th>\n      <td>2020-01-25</td>\n      <td>0</td>\n      <td>0</td>\n      <td>1</td>\n    </tr>\n    <tr>\n      <th>2</th>\n      <td>2020-01-26</td>\n      <td>0</td>\n      <td>0</td>\n      <td>1</td>\n    </tr>\n    <tr>\n      <th>3</th>\n      <td>2020-01-27</td>\n      <td>0</td>\n      <td>0</td>\n      <td>1</td>\n    </tr>\n    <tr>\n      <th>4</th>\n      <td>2020-01-28</td>\n      <td>0</td>\n      <td>0</td>\n      <td>1</td>\n    </tr>\n  </tbody>\n</table>\n</div>"
     },
     "metadata": {},
     "execution_count": 35
    }
   ],
   "source": [
    "df_merged[\"no_paths\"] = list_infection_paths_no\n",
    "df_merged[\"new_confirmed\"] = df_merged[\"new_confirmed\"].apply(int)\n",
    "df_merged[\"new_untracked\"] = df_merged[\"new_untracked\"].apply(int)\n",
    "df_merged.head()"
   ]
  },
  {
   "cell_type": "code",
   "execution_count": 36,
   "metadata": {},
   "outputs": [
    {
     "output_type": "execute_result",
     "data": {
      "text/plain": "           date  new_confirmed  new_untracked  no_paths\n225  2020-09-05             58             19       563\n226  2020-09-06             44             13       572\n227  2020-09-07             76             19       585\n228  2020-09-08             30             11       594\n229  2020-09-09             47              9       603",
      "text/html": "<div>\n<style scoped>\n    .dataframe tbody tr th:only-of-type {\n        vertical-align: middle;\n    }\n\n    .dataframe tbody tr th {\n        vertical-align: top;\n    }\n\n    .dataframe thead th {\n        text-align: right;\n    }\n</style>\n<table border=\"1\" class=\"dataframe\">\n  <thead>\n    <tr style=\"text-align: right;\">\n      <th></th>\n      <th>date</th>\n      <th>new_confirmed</th>\n      <th>new_untracked</th>\n      <th>no_paths</th>\n    </tr>\n  </thead>\n  <tbody>\n    <tr>\n      <th>225</th>\n      <td>2020-09-05</td>\n      <td>58</td>\n      <td>19</td>\n      <td>563</td>\n    </tr>\n    <tr>\n      <th>226</th>\n      <td>2020-09-06</td>\n      <td>44</td>\n      <td>13</td>\n      <td>572</td>\n    </tr>\n    <tr>\n      <th>227</th>\n      <td>2020-09-07</td>\n      <td>76</td>\n      <td>19</td>\n      <td>585</td>\n    </tr>\n    <tr>\n      <th>228</th>\n      <td>2020-09-08</td>\n      <td>30</td>\n      <td>11</td>\n      <td>594</td>\n    </tr>\n    <tr>\n      <th>229</th>\n      <td>2020-09-09</td>\n      <td>47</td>\n      <td>9</td>\n      <td>603</td>\n    </tr>\n  </tbody>\n</table>\n</div>"
     },
     "metadata": {},
     "execution_count": 36
    }
   ],
   "source": [
    "df_merged.tail()"
   ]
  },
  {
   "cell_type": "code",
   "execution_count": 37,
   "metadata": {},
   "outputs": [],
   "source": [
    "df_merged.to_csv(\"dataset_predict/df_predict.csv\", index=False)"
   ]
  },
  {
   "cell_type": "markdown",
   "metadata": {},
   "source": [
    "### check holiday"
   ]
  },
  {
   "cell_type": "code",
   "execution_count": 38,
   "metadata": {},
   "outputs": [
    {
     "output_type": "execute_result",
     "data": {
      "text/plain": "[{'sc': '2000-01-01', 'lc': '1999-11-25', 'w': 7, 'h': True, 'ht': '신정'},\n {'sc': '2000-01-02', 'lc': '1999-11-26', 'w': 1, 'h': False, 'ht': ''},\n {'sc': '2000-01-03', 'lc': '1999-11-27', 'w': 2, 'h': False, 'ht': ''},\n {'sc': '2000-01-04', 'lc': '1999-11-28', 'w': 3, 'h': False, 'ht': ''},\n {'sc': '2000-01-05', 'lc': '1999-11-29', 'w': 4, 'h': False, 'ht': ''},\n {'sc': '2000-01-06', 'lc': '1999-11-30', 'w': 5, 'h': False, 'ht': ''},\n {'sc': '2000-01-07', 'lc': '1999-12-01', 'w': 6, 'h': False, 'ht': ''},\n {'sc': '2000-01-08', 'lc': '1999-12-02', 'w': 7, 'h': False, 'ht': ''},\n {'sc': '2000-01-09', 'lc': '1999-12-03', 'w': 1, 'h': False, 'ht': ''},\n {'sc': '2000-01-10', 'lc': '1999-12-04', 'w': 2, 'h': False, 'ht': ''}]"
     },
     "metadata": {},
     "execution_count": 38
    }
   ],
   "source": [
    "import json\n",
    "\n",
    "list_calendar=[]\n",
    "\n",
    "calendar_file = \"./korean-calendar/korean-calendar.json\"\n",
    "# read file\n",
    "with open(calendar_file, 'r') as myfile:\n",
    "    data=myfile.readlines()\n",
    "\n",
    "data = [x.strip() for x in data] \n",
    "\n",
    "for i in data:\n",
    "    calendar_data = i[43:]\n",
    "    calendar_item = \"{\"+calendar_data\n",
    "    calendar_item_json = json.loads(calendar_item)\n",
    "    list_calendar.append(calendar_item_json)\n",
    "list_calendar[:10]"
   ]
  },
  {
   "cell_type": "code",
   "execution_count": 39,
   "metadata": {},
   "outputs": [
    {
     "output_type": "execute_result",
     "data": {
      "text/plain": "           sc  w      h\n0  2000-01-01  7   True\n1  2000-01-02  1  False\n2  2000-01-03  2  False\n3  2000-01-04  3  False\n4  2000-01-05  4  False",
      "text/html": "<div>\n<style scoped>\n    .dataframe tbody tr th:only-of-type {\n        vertical-align: middle;\n    }\n\n    .dataframe tbody tr th {\n        vertical-align: top;\n    }\n\n    .dataframe thead th {\n        text-align: right;\n    }\n</style>\n<table border=\"1\" class=\"dataframe\">\n  <thead>\n    <tr style=\"text-align: right;\">\n      <th></th>\n      <th>sc</th>\n      <th>w</th>\n      <th>h</th>\n    </tr>\n  </thead>\n  <tbody>\n    <tr>\n      <th>0</th>\n      <td>2000-01-01</td>\n      <td>7</td>\n      <td>True</td>\n    </tr>\n    <tr>\n      <th>1</th>\n      <td>2000-01-02</td>\n      <td>1</td>\n      <td>False</td>\n    </tr>\n    <tr>\n      <th>2</th>\n      <td>2000-01-03</td>\n      <td>2</td>\n      <td>False</td>\n    </tr>\n    <tr>\n      <th>3</th>\n      <td>2000-01-04</td>\n      <td>3</td>\n      <td>False</td>\n    </tr>\n    <tr>\n      <th>4</th>\n      <td>2000-01-05</td>\n      <td>4</td>\n      <td>False</td>\n    </tr>\n  </tbody>\n</table>\n</div>"
     },
     "metadata": {},
     "execution_count": 39
    }
   ],
   "source": [
    "df_calendar = pd.DataFrame(list_calendar)\n",
    "df_calendar = df_calendar[[\"sc\", \"w\", \"h\"]]\n",
    "df_calendar.head()"
   ]
  },
  {
   "cell_type": "code",
   "execution_count": 40,
   "metadata": {},
   "outputs": [],
   "source": [
    "def label_weekend(row):\n",
    "    # sunday\n",
    "    if row['w'] == 1:\n",
    "        return True\n",
    "    # friday\n",
    "    if row['w'] == 6:\n",
    "        return True\n",
    "    # saturday\n",
    "    if row['w'] == 7:\n",
    "        return True\n",
    "    else:\n",
    "        return False"
   ]
  },
  {
   "cell_type": "code",
   "execution_count": 41,
   "metadata": {},
   "outputs": [
    {
     "output_type": "execute_result",
     "data": {
      "text/plain": "           sc  w      h  is_weekend\n0  2000-01-01  7   True        True\n1  2000-01-02  1  False        True\n2  2000-01-03  2  False       False\n3  2000-01-04  3  False       False\n4  2000-01-05  4  False       False\n5  2000-01-06  5  False       False\n6  2000-01-07  6  False        True\n7  2000-01-08  7  False        True\n8  2000-01-09  1  False        True\n9  2000-01-10  2  False       False",
      "text/html": "<div>\n<style scoped>\n    .dataframe tbody tr th:only-of-type {\n        vertical-align: middle;\n    }\n\n    .dataframe tbody tr th {\n        vertical-align: top;\n    }\n\n    .dataframe thead th {\n        text-align: right;\n    }\n</style>\n<table border=\"1\" class=\"dataframe\">\n  <thead>\n    <tr style=\"text-align: right;\">\n      <th></th>\n      <th>sc</th>\n      <th>w</th>\n      <th>h</th>\n      <th>is_weekend</th>\n    </tr>\n  </thead>\n  <tbody>\n    <tr>\n      <th>0</th>\n      <td>2000-01-01</td>\n      <td>7</td>\n      <td>True</td>\n      <td>True</td>\n    </tr>\n    <tr>\n      <th>1</th>\n      <td>2000-01-02</td>\n      <td>1</td>\n      <td>False</td>\n      <td>True</td>\n    </tr>\n    <tr>\n      <th>2</th>\n      <td>2000-01-03</td>\n      <td>2</td>\n      <td>False</td>\n      <td>False</td>\n    </tr>\n    <tr>\n      <th>3</th>\n      <td>2000-01-04</td>\n      <td>3</td>\n      <td>False</td>\n      <td>False</td>\n    </tr>\n    <tr>\n      <th>4</th>\n      <td>2000-01-05</td>\n      <td>4</td>\n      <td>False</td>\n      <td>False</td>\n    </tr>\n    <tr>\n      <th>5</th>\n      <td>2000-01-06</td>\n      <td>5</td>\n      <td>False</td>\n      <td>False</td>\n    </tr>\n    <tr>\n      <th>6</th>\n      <td>2000-01-07</td>\n      <td>6</td>\n      <td>False</td>\n      <td>True</td>\n    </tr>\n    <tr>\n      <th>7</th>\n      <td>2000-01-08</td>\n      <td>7</td>\n      <td>False</td>\n      <td>True</td>\n    </tr>\n    <tr>\n      <th>8</th>\n      <td>2000-01-09</td>\n      <td>1</td>\n      <td>False</td>\n      <td>True</td>\n    </tr>\n    <tr>\n      <th>9</th>\n      <td>2000-01-10</td>\n      <td>2</td>\n      <td>False</td>\n      <td>False</td>\n    </tr>\n  </tbody>\n</table>\n</div>"
     },
     "metadata": {},
     "execution_count": 41
    }
   ],
   "source": [
    "df_calendar[\"is_weekend\"] = df_calendar.apply(lambda row: label_weekend(row), axis=1)\n",
    "df_calendar.head(10)"
   ]
  },
  {
   "cell_type": "code",
   "execution_count": 42,
   "metadata": {},
   "outputs": [],
   "source": [
    "# rename dataframe name\n",
    "df_calendar.rename(columns = {'sc':'date', 'h':'is_holiday'}, inplace = True)"
   ]
  },
  {
   "cell_type": "code",
   "execution_count": 43,
   "metadata": {},
   "outputs": [],
   "source": [
    "df_calendar.to_csv(\"dataset_predict/df_calendar.csv\", index=False)"
   ]
  },
  {
   "cell_type": "code",
   "execution_count": 44,
   "metadata": {},
   "outputs": [],
   "source": [
    "df_calendar_subset = df_calendar[[\"date\", \"is_holiday\", \"is_weekend\"]]"
   ]
  },
  {
   "cell_type": "code",
   "execution_count": 45,
   "metadata": {},
   "outputs": [
    {
     "output_type": "execute_result",
     "data": {
      "text/plain": "           date  new_confirmed  new_untracked  no_paths  is_holiday  \\\n225  2020-09-05             58             19       563       False   \n226  2020-09-06             44             13       572       False   \n227  2020-09-07             76             19       585       False   \n228  2020-09-08             30             11       594       False   \n229  2020-09-09             47              9       603       False   \n\n     is_weekend  \n225        True  \n226        True  \n227       False  \n228       False  \n229       False  ",
      "text/html": "<div>\n<style scoped>\n    .dataframe tbody tr th:only-of-type {\n        vertical-align: middle;\n    }\n\n    .dataframe tbody tr th {\n        vertical-align: top;\n    }\n\n    .dataframe thead th {\n        text-align: right;\n    }\n</style>\n<table border=\"1\" class=\"dataframe\">\n  <thead>\n    <tr style=\"text-align: right;\">\n      <th></th>\n      <th>date</th>\n      <th>new_confirmed</th>\n      <th>new_untracked</th>\n      <th>no_paths</th>\n      <th>is_holiday</th>\n      <th>is_weekend</th>\n    </tr>\n  </thead>\n  <tbody>\n    <tr>\n      <th>225</th>\n      <td>2020-09-05</td>\n      <td>58</td>\n      <td>19</td>\n      <td>563</td>\n      <td>False</td>\n      <td>True</td>\n    </tr>\n    <tr>\n      <th>226</th>\n      <td>2020-09-06</td>\n      <td>44</td>\n      <td>13</td>\n      <td>572</td>\n      <td>False</td>\n      <td>True</td>\n    </tr>\n    <tr>\n      <th>227</th>\n      <td>2020-09-07</td>\n      <td>76</td>\n      <td>19</td>\n      <td>585</td>\n      <td>False</td>\n      <td>False</td>\n    </tr>\n    <tr>\n      <th>228</th>\n      <td>2020-09-08</td>\n      <td>30</td>\n      <td>11</td>\n      <td>594</td>\n      <td>False</td>\n      <td>False</td>\n    </tr>\n    <tr>\n      <th>229</th>\n      <td>2020-09-09</td>\n      <td>47</td>\n      <td>9</td>\n      <td>603</td>\n      <td>False</td>\n      <td>False</td>\n    </tr>\n  </tbody>\n</table>\n</div>"
     },
     "metadata": {},
     "execution_count": 45
    }
   ],
   "source": [
    "df_train = pd.merge(df_merged, df_calendar_subset, how=\"left\", on=\"date\")\n",
    "df_train.tail()"
   ]
  },
  {
   "cell_type": "code",
   "execution_count": 46,
   "metadata": {},
   "outputs": [
    {
     "output_type": "execute_result",
     "data": {
      "text/plain": "           date  new_confirmed  new_untracked  no_paths  is_holiday  \\\n205  2020-08-16             91              4       188       False   \n206  2020-08-17            132              7       192       False   \n207  2020-08-18            151             18       198       False   \n208  2020-08-19            135             19       217       False   \n209  2020-08-20            126             28       229       False   \n210  2020-08-21            128             32       247       False   \n211  2020-08-22            143             44       270       False   \n212  2020-08-23             98             25       291       False   \n213  2020-08-24            136             45       319       False   \n214  2020-08-25            116             35       342       False   \n\n     is_weekend  \n205        True  \n206       False  \n207       False  \n208       False  \n209       False  \n210        True  \n211        True  \n212        True  \n213       False  \n214       False  ",
      "text/html": "<div>\n<style scoped>\n    .dataframe tbody tr th:only-of-type {\n        vertical-align: middle;\n    }\n\n    .dataframe tbody tr th {\n        vertical-align: top;\n    }\n\n    .dataframe thead th {\n        text-align: right;\n    }\n</style>\n<table border=\"1\" class=\"dataframe\">\n  <thead>\n    <tr style=\"text-align: right;\">\n      <th></th>\n      <th>date</th>\n      <th>new_confirmed</th>\n      <th>new_untracked</th>\n      <th>no_paths</th>\n      <th>is_holiday</th>\n      <th>is_weekend</th>\n    </tr>\n  </thead>\n  <tbody>\n    <tr>\n      <th>205</th>\n      <td>2020-08-16</td>\n      <td>91</td>\n      <td>4</td>\n      <td>188</td>\n      <td>False</td>\n      <td>True</td>\n    </tr>\n    <tr>\n      <th>206</th>\n      <td>2020-08-17</td>\n      <td>132</td>\n      <td>7</td>\n      <td>192</td>\n      <td>False</td>\n      <td>False</td>\n    </tr>\n    <tr>\n      <th>207</th>\n      <td>2020-08-18</td>\n      <td>151</td>\n      <td>18</td>\n      <td>198</td>\n      <td>False</td>\n      <td>False</td>\n    </tr>\n    <tr>\n      <th>208</th>\n      <td>2020-08-19</td>\n      <td>135</td>\n      <td>19</td>\n      <td>217</td>\n      <td>False</td>\n      <td>False</td>\n    </tr>\n    <tr>\n      <th>209</th>\n      <td>2020-08-20</td>\n      <td>126</td>\n      <td>28</td>\n      <td>229</td>\n      <td>False</td>\n      <td>False</td>\n    </tr>\n    <tr>\n      <th>210</th>\n      <td>2020-08-21</td>\n      <td>128</td>\n      <td>32</td>\n      <td>247</td>\n      <td>False</td>\n      <td>True</td>\n    </tr>\n    <tr>\n      <th>211</th>\n      <td>2020-08-22</td>\n      <td>143</td>\n      <td>44</td>\n      <td>270</td>\n      <td>False</td>\n      <td>True</td>\n    </tr>\n    <tr>\n      <th>212</th>\n      <td>2020-08-23</td>\n      <td>98</td>\n      <td>25</td>\n      <td>291</td>\n      <td>False</td>\n      <td>True</td>\n    </tr>\n    <tr>\n      <th>213</th>\n      <td>2020-08-24</td>\n      <td>136</td>\n      <td>45</td>\n      <td>319</td>\n      <td>False</td>\n      <td>False</td>\n    </tr>\n    <tr>\n      <th>214</th>\n      <td>2020-08-25</td>\n      <td>116</td>\n      <td>35</td>\n      <td>342</td>\n      <td>False</td>\n      <td>False</td>\n    </tr>\n  </tbody>\n</table>\n</div>"
     },
     "metadata": {},
     "execution_count": 46
    }
   ],
   "source": [
    "df_train[-25:-15]"
   ]
  },
  {
   "cell_type": "code",
   "execution_count": 47,
   "metadata": {},
   "outputs": [
    {
     "output_type": "execute_result",
     "data": {
      "text/plain": "           date  new_confirmed  new_untracked  no_paths  is_holiday  \\\n220  2020-08-31            104             18       495       False   \n221  2020-09-01             87             20       509       False   \n222  2020-09-02             64             12       528       False   \n223  2020-09-03             46              6       536       False   \n224  2020-09-04             55              6       552       False   \n225  2020-09-05             58             19       563       False   \n226  2020-09-06             44             13       572       False   \n227  2020-09-07             76             19       585       False   \n228  2020-09-08             30             11       594       False   \n229  2020-09-09             47              9       603       False   \n\n     is_weekend  \n220       False  \n221       False  \n222       False  \n223       False  \n224        True  \n225        True  \n226        True  \n227       False  \n228       False  \n229       False  ",
      "text/html": "<div>\n<style scoped>\n    .dataframe tbody tr th:only-of-type {\n        vertical-align: middle;\n    }\n\n    .dataframe tbody tr th {\n        vertical-align: top;\n    }\n\n    .dataframe thead th {\n        text-align: right;\n    }\n</style>\n<table border=\"1\" class=\"dataframe\">\n  <thead>\n    <tr style=\"text-align: right;\">\n      <th></th>\n      <th>date</th>\n      <th>new_confirmed</th>\n      <th>new_untracked</th>\n      <th>no_paths</th>\n      <th>is_holiday</th>\n      <th>is_weekend</th>\n    </tr>\n  </thead>\n  <tbody>\n    <tr>\n      <th>220</th>\n      <td>2020-08-31</td>\n      <td>104</td>\n      <td>18</td>\n      <td>495</td>\n      <td>False</td>\n      <td>False</td>\n    </tr>\n    <tr>\n      <th>221</th>\n      <td>2020-09-01</td>\n      <td>87</td>\n      <td>20</td>\n      <td>509</td>\n      <td>False</td>\n      <td>False</td>\n    </tr>\n    <tr>\n      <th>222</th>\n      <td>2020-09-02</td>\n      <td>64</td>\n      <td>12</td>\n      <td>528</td>\n      <td>False</td>\n      <td>False</td>\n    </tr>\n    <tr>\n      <th>223</th>\n      <td>2020-09-03</td>\n      <td>46</td>\n      <td>6</td>\n      <td>536</td>\n      <td>False</td>\n      <td>False</td>\n    </tr>\n    <tr>\n      <th>224</th>\n      <td>2020-09-04</td>\n      <td>55</td>\n      <td>6</td>\n      <td>552</td>\n      <td>False</td>\n      <td>True</td>\n    </tr>\n    <tr>\n      <th>225</th>\n      <td>2020-09-05</td>\n      <td>58</td>\n      <td>19</td>\n      <td>563</td>\n      <td>False</td>\n      <td>True</td>\n    </tr>\n    <tr>\n      <th>226</th>\n      <td>2020-09-06</td>\n      <td>44</td>\n      <td>13</td>\n      <td>572</td>\n      <td>False</td>\n      <td>True</td>\n    </tr>\n    <tr>\n      <th>227</th>\n      <td>2020-09-07</td>\n      <td>76</td>\n      <td>19</td>\n      <td>585</td>\n      <td>False</td>\n      <td>False</td>\n    </tr>\n    <tr>\n      <th>228</th>\n      <td>2020-09-08</td>\n      <td>30</td>\n      <td>11</td>\n      <td>594</td>\n      <td>False</td>\n      <td>False</td>\n    </tr>\n    <tr>\n      <th>229</th>\n      <td>2020-09-09</td>\n      <td>47</td>\n      <td>9</td>\n      <td>603</td>\n      <td>False</td>\n      <td>False</td>\n    </tr>\n  </tbody>\n</table>\n</div>"
     },
     "metadata": {},
     "execution_count": 47
    }
   ],
   "source": [
    "df_train.tail(10)"
   ]
  },
  {
   "cell_type": "markdown",
   "metadata": {},
   "source": [
    "### Add Government Social Distancing Policy"
   ]
  },
  {
   "cell_type": "code",
   "execution_count": 51,
   "metadata": {},
   "outputs": [
    {
     "output_type": "execute_result",
     "data": {
      "text/plain": "           date  new_confirmed  new_untracked  no_paths  is_holiday  \\\n0    2020-01-24              1              0         1        True   \n1    2020-01-25              0              0         1        True   \n2    2020-01-26              0              0         1        True   \n3    2020-01-27              0              0         1       False   \n4    2020-01-28              0              0         1       False   \n..          ...            ...            ...       ...         ...   \n225  2020-09-05             58             19       563       False   \n226  2020-09-06             44             13       572       False   \n227  2020-09-07             76             19       585       False   \n228  2020-09-08             30             11       594       False   \n229  2020-09-09             47              9       603       False   \n\n     is_weekend  gov_policy  \n0          True           0  \n1          True           0  \n2          True           0  \n3         False           0  \n4         False           0  \n..          ...         ...  \n225        True           0  \n226        True           0  \n227       False           0  \n228       False           0  \n229       False           0  \n\n[230 rows x 7 columns]",
      "text/html": "<div>\n<style scoped>\n    .dataframe tbody tr th:only-of-type {\n        vertical-align: middle;\n    }\n\n    .dataframe tbody tr th {\n        vertical-align: top;\n    }\n\n    .dataframe thead th {\n        text-align: right;\n    }\n</style>\n<table border=\"1\" class=\"dataframe\">\n  <thead>\n    <tr style=\"text-align: right;\">\n      <th></th>\n      <th>date</th>\n      <th>new_confirmed</th>\n      <th>new_untracked</th>\n      <th>no_paths</th>\n      <th>is_holiday</th>\n      <th>is_weekend</th>\n      <th>gov_policy</th>\n    </tr>\n  </thead>\n  <tbody>\n    <tr>\n      <th>0</th>\n      <td>2020-01-24</td>\n      <td>1</td>\n      <td>0</td>\n      <td>1</td>\n      <td>True</td>\n      <td>True</td>\n      <td>0</td>\n    </tr>\n    <tr>\n      <th>1</th>\n      <td>2020-01-25</td>\n      <td>0</td>\n      <td>0</td>\n      <td>1</td>\n      <td>True</td>\n      <td>True</td>\n      <td>0</td>\n    </tr>\n    <tr>\n      <th>2</th>\n      <td>2020-01-26</td>\n      <td>0</td>\n      <td>0</td>\n      <td>1</td>\n      <td>True</td>\n      <td>True</td>\n      <td>0</td>\n    </tr>\n    <tr>\n      <th>3</th>\n      <td>2020-01-27</td>\n      <td>0</td>\n      <td>0</td>\n      <td>1</td>\n      <td>False</td>\n      <td>False</td>\n      <td>0</td>\n    </tr>\n    <tr>\n      <th>4</th>\n      <td>2020-01-28</td>\n      <td>0</td>\n      <td>0</td>\n      <td>1</td>\n      <td>False</td>\n      <td>False</td>\n      <td>0</td>\n    </tr>\n    <tr>\n      <th>...</th>\n      <td>...</td>\n      <td>...</td>\n      <td>...</td>\n      <td>...</td>\n      <td>...</td>\n      <td>...</td>\n      <td>...</td>\n    </tr>\n    <tr>\n      <th>225</th>\n      <td>2020-09-05</td>\n      <td>58</td>\n      <td>19</td>\n      <td>563</td>\n      <td>False</td>\n      <td>True</td>\n      <td>0</td>\n    </tr>\n    <tr>\n      <th>226</th>\n      <td>2020-09-06</td>\n      <td>44</td>\n      <td>13</td>\n      <td>572</td>\n      <td>False</td>\n      <td>True</td>\n      <td>0</td>\n    </tr>\n    <tr>\n      <th>227</th>\n      <td>2020-09-07</td>\n      <td>76</td>\n      <td>19</td>\n      <td>585</td>\n      <td>False</td>\n      <td>False</td>\n      <td>0</td>\n    </tr>\n    <tr>\n      <th>228</th>\n      <td>2020-09-08</td>\n      <td>30</td>\n      <td>11</td>\n      <td>594</td>\n      <td>False</td>\n      <td>False</td>\n      <td>0</td>\n    </tr>\n    <tr>\n      <th>229</th>\n      <td>2020-09-09</td>\n      <td>47</td>\n      <td>9</td>\n      <td>603</td>\n      <td>False</td>\n      <td>False</td>\n      <td>0</td>\n    </tr>\n  </tbody>\n</table>\n<p>230 rows × 7 columns</p>\n</div>"
     },
     "metadata": {},
     "execution_count": 51
    }
   ],
   "source": [
    "df_train[\"gov_policy\"] = 0\n",
    "df_train"
   ]
  },
  {
   "cell_type": "code",
   "execution_count": 77,
   "metadata": {},
   "outputs": [
    {
     "output_type": "execute_result",
     "data": {
      "text/plain": "           date  new_confirmed  new_untracked  no_paths  is_holiday  \\\n200  2020-08-11             15              4       159       False   \n201  2020-08-12             26              5       163       False   \n202  2020-08-13             33              1       169       False   \n203  2020-08-14             73              4       175       False   \n204  2020-08-15            146              6       181        True   \n205  2020-08-16             91              4       188       False   \n206  2020-08-17            132              7       192       False   \n207  2020-08-18            151             18       198       False   \n208  2020-08-19            135             19       217       False   \n209  2020-08-20            126             28       229       False   \n210  2020-08-21            128             32       247       False   \n211  2020-08-22            143             44       270       False   \n212  2020-08-23             98             25       291       False   \n213  2020-08-24            136             45       319       False   \n214  2020-08-25            116             35       342       False   \n215  2020-08-26            157             44       367       False   \n216  2020-08-27            160             38       402       False   \n217  2020-08-28            118             34       432       False   \n218  2020-08-29            167             23       464       False   \n219  2020-08-30             70             17       476       False   \n220  2020-08-31            104             18       495       False   \n221  2020-09-01             87             20       509       False   \n222  2020-09-02             64             12       528       False   \n223  2020-09-03             46              6       536       False   \n224  2020-09-04             55              6       552       False   \n225  2020-09-05             58             19       563       False   \n226  2020-09-06             44             13       572       False   \n227  2020-09-07             76             19       585       False   \n228  2020-09-08             30             11       594       False   \n229  2020-09-09             47              9       603       False   \n\n     is_weekend  gov_policy  \n200       False           0  \n201       False           0  \n202       False           0  \n203        True           0  \n204        True           0  \n205        True           2  \n206       False           2  \n207       False           2  \n208       False           3  \n209       False           3  \n210        True           3  \n211        True           3  \n212        True           3  \n213       False           3  \n214       False           3  \n215       False           3  \n216       False           3  \n217        True           3  \n218        True           3  \n219        True           3  \n220       False           3  \n221       False           3  \n222       False           3  \n223       False           3  \n224        True           3  \n225        True           3  \n226        True           3  \n227       False           3  \n228       False           3  \n229       False           3  ",
      "text/html": "<div>\n<style scoped>\n    .dataframe tbody tr th:only-of-type {\n        vertical-align: middle;\n    }\n\n    .dataframe tbody tr th {\n        vertical-align: top;\n    }\n\n    .dataframe thead th {\n        text-align: right;\n    }\n</style>\n<table border=\"1\" class=\"dataframe\">\n  <thead>\n    <tr style=\"text-align: right;\">\n      <th></th>\n      <th>date</th>\n      <th>new_confirmed</th>\n      <th>new_untracked</th>\n      <th>no_paths</th>\n      <th>is_holiday</th>\n      <th>is_weekend</th>\n      <th>gov_policy</th>\n    </tr>\n  </thead>\n  <tbody>\n    <tr>\n      <th>200</th>\n      <td>2020-08-11</td>\n      <td>15</td>\n      <td>4</td>\n      <td>159</td>\n      <td>False</td>\n      <td>False</td>\n      <td>0</td>\n    </tr>\n    <tr>\n      <th>201</th>\n      <td>2020-08-12</td>\n      <td>26</td>\n      <td>5</td>\n      <td>163</td>\n      <td>False</td>\n      <td>False</td>\n      <td>0</td>\n    </tr>\n    <tr>\n      <th>202</th>\n      <td>2020-08-13</td>\n      <td>33</td>\n      <td>1</td>\n      <td>169</td>\n      <td>False</td>\n      <td>False</td>\n      <td>0</td>\n    </tr>\n    <tr>\n      <th>203</th>\n      <td>2020-08-14</td>\n      <td>73</td>\n      <td>4</td>\n      <td>175</td>\n      <td>False</td>\n      <td>True</td>\n      <td>0</td>\n    </tr>\n    <tr>\n      <th>204</th>\n      <td>2020-08-15</td>\n      <td>146</td>\n      <td>6</td>\n      <td>181</td>\n      <td>True</td>\n      <td>True</td>\n      <td>0</td>\n    </tr>\n    <tr>\n      <th>205</th>\n      <td>2020-08-16</td>\n      <td>91</td>\n      <td>4</td>\n      <td>188</td>\n      <td>False</td>\n      <td>True</td>\n      <td>2</td>\n    </tr>\n    <tr>\n      <th>206</th>\n      <td>2020-08-17</td>\n      <td>132</td>\n      <td>7</td>\n      <td>192</td>\n      <td>False</td>\n      <td>False</td>\n      <td>2</td>\n    </tr>\n    <tr>\n      <th>207</th>\n      <td>2020-08-18</td>\n      <td>151</td>\n      <td>18</td>\n      <td>198</td>\n      <td>False</td>\n      <td>False</td>\n      <td>2</td>\n    </tr>\n    <tr>\n      <th>208</th>\n      <td>2020-08-19</td>\n      <td>135</td>\n      <td>19</td>\n      <td>217</td>\n      <td>False</td>\n      <td>False</td>\n      <td>3</td>\n    </tr>\n    <tr>\n      <th>209</th>\n      <td>2020-08-20</td>\n      <td>126</td>\n      <td>28</td>\n      <td>229</td>\n      <td>False</td>\n      <td>False</td>\n      <td>3</td>\n    </tr>\n    <tr>\n      <th>210</th>\n      <td>2020-08-21</td>\n      <td>128</td>\n      <td>32</td>\n      <td>247</td>\n      <td>False</td>\n      <td>True</td>\n      <td>3</td>\n    </tr>\n    <tr>\n      <th>211</th>\n      <td>2020-08-22</td>\n      <td>143</td>\n      <td>44</td>\n      <td>270</td>\n      <td>False</td>\n      <td>True</td>\n      <td>3</td>\n    </tr>\n    <tr>\n      <th>212</th>\n      <td>2020-08-23</td>\n      <td>98</td>\n      <td>25</td>\n      <td>291</td>\n      <td>False</td>\n      <td>True</td>\n      <td>3</td>\n    </tr>\n    <tr>\n      <th>213</th>\n      <td>2020-08-24</td>\n      <td>136</td>\n      <td>45</td>\n      <td>319</td>\n      <td>False</td>\n      <td>False</td>\n      <td>3</td>\n    </tr>\n    <tr>\n      <th>214</th>\n      <td>2020-08-25</td>\n      <td>116</td>\n      <td>35</td>\n      <td>342</td>\n      <td>False</td>\n      <td>False</td>\n      <td>3</td>\n    </tr>\n    <tr>\n      <th>215</th>\n      <td>2020-08-26</td>\n      <td>157</td>\n      <td>44</td>\n      <td>367</td>\n      <td>False</td>\n      <td>False</td>\n      <td>3</td>\n    </tr>\n    <tr>\n      <th>216</th>\n      <td>2020-08-27</td>\n      <td>160</td>\n      <td>38</td>\n      <td>402</td>\n      <td>False</td>\n      <td>False</td>\n      <td>3</td>\n    </tr>\n    <tr>\n      <th>217</th>\n      <td>2020-08-28</td>\n      <td>118</td>\n      <td>34</td>\n      <td>432</td>\n      <td>False</td>\n      <td>True</td>\n      <td>3</td>\n    </tr>\n    <tr>\n      <th>218</th>\n      <td>2020-08-29</td>\n      <td>167</td>\n      <td>23</td>\n      <td>464</td>\n      <td>False</td>\n      <td>True</td>\n      <td>3</td>\n    </tr>\n    <tr>\n      <th>219</th>\n      <td>2020-08-30</td>\n      <td>70</td>\n      <td>17</td>\n      <td>476</td>\n      <td>False</td>\n      <td>True</td>\n      <td>3</td>\n    </tr>\n    <tr>\n      <th>220</th>\n      <td>2020-08-31</td>\n      <td>104</td>\n      <td>18</td>\n      <td>495</td>\n      <td>False</td>\n      <td>False</td>\n      <td>3</td>\n    </tr>\n    <tr>\n      <th>221</th>\n      <td>2020-09-01</td>\n      <td>87</td>\n      <td>20</td>\n      <td>509</td>\n      <td>False</td>\n      <td>False</td>\n      <td>3</td>\n    </tr>\n    <tr>\n      <th>222</th>\n      <td>2020-09-02</td>\n      <td>64</td>\n      <td>12</td>\n      <td>528</td>\n      <td>False</td>\n      <td>False</td>\n      <td>3</td>\n    </tr>\n    <tr>\n      <th>223</th>\n      <td>2020-09-03</td>\n      <td>46</td>\n      <td>6</td>\n      <td>536</td>\n      <td>False</td>\n      <td>False</td>\n      <td>3</td>\n    </tr>\n    <tr>\n      <th>224</th>\n      <td>2020-09-04</td>\n      <td>55</td>\n      <td>6</td>\n      <td>552</td>\n      <td>False</td>\n      <td>True</td>\n      <td>3</td>\n    </tr>\n    <tr>\n      <th>225</th>\n      <td>2020-09-05</td>\n      <td>58</td>\n      <td>19</td>\n      <td>563</td>\n      <td>False</td>\n      <td>True</td>\n      <td>3</td>\n    </tr>\n    <tr>\n      <th>226</th>\n      <td>2020-09-06</td>\n      <td>44</td>\n      <td>13</td>\n      <td>572</td>\n      <td>False</td>\n      <td>True</td>\n      <td>3</td>\n    </tr>\n    <tr>\n      <th>227</th>\n      <td>2020-09-07</td>\n      <td>76</td>\n      <td>19</td>\n      <td>585</td>\n      <td>False</td>\n      <td>False</td>\n      <td>3</td>\n    </tr>\n    <tr>\n      <th>228</th>\n      <td>2020-09-08</td>\n      <td>30</td>\n      <td>11</td>\n      <td>594</td>\n      <td>False</td>\n      <td>False</td>\n      <td>3</td>\n    </tr>\n    <tr>\n      <th>229</th>\n      <td>2020-09-09</td>\n      <td>47</td>\n      <td>9</td>\n      <td>603</td>\n      <td>False</td>\n      <td>False</td>\n      <td>3</td>\n    </tr>\n  </tbody>\n</table>\n</div>"
     },
     "metadata": {},
     "execution_count": 77
    }
   ],
   "source": [
    "# 서울의 사회적 거리두기 2단계는 8월 16일부터 조치됨\n",
    "# 서울에는 8월 19일 0시 기준으로 새로운 조치들이 추가되며, 흔히 얘기하는 2.5단계가 됨. 이후에 기간 연장을 해서 9.7(월)0시 ~ 9.13(일)24시까지 2.5단계가 시행됨\n",
    "\n",
    "df_train.loc[(df_train[\"date\"]>=\"2020-08-16\") & (df_train[\"date\"]<=\"2020-08-18\"),\"gov_policy\"] = 2\n",
    "df_train.loc[(df_train[\"date\"]>=\"2020-08-19\") & (df_train[\"date\"]<=\"2020-09-13\"),\"gov_policy\"] = 3\n",
    "df_train.tail(30)"
   ]
  },
  {
   "cell_type": "code",
   "execution_count": 78,
   "metadata": {},
   "outputs": [],
   "source": [
    "df_train.to_csv(\"./dataset_predict/df_train.csv\", index=False)"
   ]
  },
  {
   "cell_type": "code",
   "execution_count": null,
   "metadata": {},
   "outputs": [],
   "source": []
  }
 ]
}