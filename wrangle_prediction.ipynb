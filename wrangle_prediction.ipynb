{
 "metadata": {
  "language_info": {
   "codemirror_mode": {
    "name": "ipython",
    "version": 3
   },
   "file_extension": ".py",
   "mimetype": "text/x-python",
   "name": "python",
   "nbconvert_exporter": "python",
   "pygments_lexer": "ipython3",
   "version": "3.8.3-final"
  },
  "orig_nbformat": 2,
  "kernelspec": {
   "name": "python38364bitdatavenvfe97dd12d13941c2ad0777a7539abb51",
   "display_name": "Python 3.8.3 64-bit ('data': venv)"
  }
 },
 "nbformat": 4,
 "nbformat_minor": 2,
 "cells": [
  {
   "cell_type": "code",
   "execution_count": 1,
   "metadata": {},
   "outputs": [],
   "source": [
    "import pandas as pd\n",
    "import numpy as np"
   ]
  },
  {
   "cell_type": "code",
   "execution_count": 2,
   "metadata": {},
   "outputs": [],
   "source": [
    "import os\n",
    "from os import fdopen, remove, walk\n",
    "import glob\n",
    "from tempfile import mkstemp\n",
    "import shutil\n",
    "from shutil import move, copymode"
   ]
  },
  {
   "cell_type": "code",
   "execution_count": 3,
   "metadata": {},
   "outputs": [],
   "source": [
    "from datetime import date"
   ]
  },
  {
   "cell_type": "code",
   "execution_count": 4,
   "metadata": {},
   "outputs": [],
   "source": [
    "DATASET_PATH = \"/Users/noopy/covid19_unknown_spread/dataset\""
   ]
  },
  {
   "cell_type": "code",
   "execution_count": 5,
   "metadata": {
    "tags": []
   },
   "outputs": [],
   "source": [
    "# get oldest file in the dataset folder\n",
    "import os, heapq\n",
    "def newst_files_in_tree(rootfolder, count=1, extension=\".csv\"):\n",
    "    return heapq.nlargest(count,\n",
    "        (os.path.join(dirname, filename)\n",
    "        for dirname, dirnames, filenames in os.walk(rootfolder)\n",
    "        for filename in filenames\n",
    "        if filename.endswith(extension)),\n",
    "        key=lambda fn: os.stat(fn).st_mtime)"
   ]
  },
  {
   "cell_type": "code",
   "execution_count": 6,
   "metadata": {},
   "outputs": [],
   "source": [
    "newst_csv = newst_files_in_tree(DATASET_PATH)[0]"
   ]
  },
  {
   "cell_type": "code",
   "execution_count": 7,
   "metadata": {},
   "outputs": [
    {
     "output_type": "execute_result",
     "data": {
      "text/plain": "        연번     환자    확진일   거주지  여행력            접촉력 퇴원현황\n1646  2943  17525  8.23.   은평구    -     은평구 헤어콕 관련  NaN\n39    4550  21810  9.10.   관악구    -      기타 확진자 접촉  NaN\n1005  3584  19362  8.28.   송파구    -     타시도 확진자 접촉  NaN\n2691  1898  15143  8.15.   성북구    -  성북구 사랑제일교회 관련   퇴원\n3804   785  11238  5.26.   성동구    -      이태원 클럽 관련   퇴원\n678   3911  20007  8.31.  동대문구    -    동대문구 sk탁구클럽  NaN\n2259  2330  16021  8.18.    중구    -  성북구 사랑제일교회 관련   퇴원\n400   4189  20822  9.03.   강동구    -      기타 확진자 접촉  NaN\n4037   552  10237  4.05.  영등포구    -           확인 중   퇴원\n2220  2369  16030  8.19.   강동구    -       강동구 어린이집   퇴원\n3027  1562  14143  7.25.    기타  이라크       해외 접촉 추정   퇴원\n2777  1812  14910  8.14.   성북구    -  성북구 사랑제일교회 관련   퇴원\n2249  2340  15940  8.18.   강동구    -  용인시 우리제일교회 관련   퇴원\n2979  1610  14383   8.2.   강서구  필리핀       해외 접촉 추정   퇴원\n179   4410  21340  9.07.   성북구    -     타시도 확진자 접촉  NaN",
      "text/html": "<div>\n<style scoped>\n    .dataframe tbody tr th:only-of-type {\n        vertical-align: middle;\n    }\n\n    .dataframe tbody tr th {\n        vertical-align: top;\n    }\n\n    .dataframe thead th {\n        text-align: right;\n    }\n</style>\n<table border=\"1\" class=\"dataframe\">\n  <thead>\n    <tr style=\"text-align: right;\">\n      <th></th>\n      <th>연번</th>\n      <th>환자</th>\n      <th>확진일</th>\n      <th>거주지</th>\n      <th>여행력</th>\n      <th>접촉력</th>\n      <th>퇴원현황</th>\n    </tr>\n  </thead>\n  <tbody>\n    <tr>\n      <th>1646</th>\n      <td>2943</td>\n      <td>17525</td>\n      <td>8.23.</td>\n      <td>은평구</td>\n      <td>-</td>\n      <td>은평구 헤어콕 관련</td>\n      <td>NaN</td>\n    </tr>\n    <tr>\n      <th>39</th>\n      <td>4550</td>\n      <td>21810</td>\n      <td>9.10.</td>\n      <td>관악구</td>\n      <td>-</td>\n      <td>기타 확진자 접촉</td>\n      <td>NaN</td>\n    </tr>\n    <tr>\n      <th>1005</th>\n      <td>3584</td>\n      <td>19362</td>\n      <td>8.28.</td>\n      <td>송파구</td>\n      <td>-</td>\n      <td>타시도 확진자 접촉</td>\n      <td>NaN</td>\n    </tr>\n    <tr>\n      <th>2691</th>\n      <td>1898</td>\n      <td>15143</td>\n      <td>8.15.</td>\n      <td>성북구</td>\n      <td>-</td>\n      <td>성북구 사랑제일교회 관련</td>\n      <td>퇴원</td>\n    </tr>\n    <tr>\n      <th>3804</th>\n      <td>785</td>\n      <td>11238</td>\n      <td>5.26.</td>\n      <td>성동구</td>\n      <td>-</td>\n      <td>이태원 클럽 관련</td>\n      <td>퇴원</td>\n    </tr>\n    <tr>\n      <th>678</th>\n      <td>3911</td>\n      <td>20007</td>\n      <td>8.31.</td>\n      <td>동대문구</td>\n      <td>-</td>\n      <td>동대문구 sk탁구클럽</td>\n      <td>NaN</td>\n    </tr>\n    <tr>\n      <th>2259</th>\n      <td>2330</td>\n      <td>16021</td>\n      <td>8.18.</td>\n      <td>중구</td>\n      <td>-</td>\n      <td>성북구 사랑제일교회 관련</td>\n      <td>퇴원</td>\n    </tr>\n    <tr>\n      <th>400</th>\n      <td>4189</td>\n      <td>20822</td>\n      <td>9.03.</td>\n      <td>강동구</td>\n      <td>-</td>\n      <td>기타 확진자 접촉</td>\n      <td>NaN</td>\n    </tr>\n    <tr>\n      <th>4037</th>\n      <td>552</td>\n      <td>10237</td>\n      <td>4.05.</td>\n      <td>영등포구</td>\n      <td>-</td>\n      <td>확인 중</td>\n      <td>퇴원</td>\n    </tr>\n    <tr>\n      <th>2220</th>\n      <td>2369</td>\n      <td>16030</td>\n      <td>8.19.</td>\n      <td>강동구</td>\n      <td>-</td>\n      <td>강동구 어린이집</td>\n      <td>퇴원</td>\n    </tr>\n    <tr>\n      <th>3027</th>\n      <td>1562</td>\n      <td>14143</td>\n      <td>7.25.</td>\n      <td>기타</td>\n      <td>이라크</td>\n      <td>해외 접촉 추정</td>\n      <td>퇴원</td>\n    </tr>\n    <tr>\n      <th>2777</th>\n      <td>1812</td>\n      <td>14910</td>\n      <td>8.14.</td>\n      <td>성북구</td>\n      <td>-</td>\n      <td>성북구 사랑제일교회 관련</td>\n      <td>퇴원</td>\n    </tr>\n    <tr>\n      <th>2249</th>\n      <td>2340</td>\n      <td>15940</td>\n      <td>8.18.</td>\n      <td>강동구</td>\n      <td>-</td>\n      <td>용인시 우리제일교회 관련</td>\n      <td>퇴원</td>\n    </tr>\n    <tr>\n      <th>2979</th>\n      <td>1610</td>\n      <td>14383</td>\n      <td>8.2.</td>\n      <td>강서구</td>\n      <td>필리핀</td>\n      <td>해외 접촉 추정</td>\n      <td>퇴원</td>\n    </tr>\n    <tr>\n      <th>179</th>\n      <td>4410</td>\n      <td>21340</td>\n      <td>9.07.</td>\n      <td>성북구</td>\n      <td>-</td>\n      <td>타시도 확진자 접촉</td>\n      <td>NaN</td>\n    </tr>\n  </tbody>\n</table>\n</div>"
     },
     "metadata": {},
     "execution_count": 7
    }
   ],
   "source": [
    "df_temp = pd.read_csv(newst_csv, encoding=\"utf-8\")\n",
    "df_temp.sample(15)"
   ]
  },
  {
   "cell_type": "code",
   "execution_count": 8,
   "metadata": {},
   "outputs": [
    {
     "output_type": "execute_result",
     "data": {
      "text/plain": "array(['확인 중'], dtype=object)"
     },
     "metadata": {},
     "execution_count": 8
    }
   ],
   "source": [
    "# overwrite whatever cell value that contains \"확인\" as \"확인 중\"\n",
    "df_temp.loc[df_temp[\"접촉력\"].str.contains(\"확인\"),\"접촉력\"] = \"확인 중\"\n",
    "\n",
    "# check whether those two arrays are combined\n",
    "df_temp.loc[df_temp[\"접촉력\"].str.contains(\"확인\"),\"접촉력\"].unique()"
   ]
  },
  {
   "cell_type": "code",
   "execution_count": 9,
   "metadata": {},
   "outputs": [],
   "source": [
    "df_temp[\"접촉력\"] = df_temp[\"접촉력\"].str.replace(\"관련\", \"\")\n",
    "df_temp[\"접촉력\"] = df_temp[\"접촉력\"].str.strip()"
   ]
  },
  {
   "cell_type": "code",
   "execution_count": 10,
   "metadata": {
    "tags": []
   },
   "outputs": [
    {
     "output_type": "stream",
     "name": "stdout",
     "text": "234\n"
    },
    {
     "output_type": "execute_result",
     "data": {
      "text/plain": "array(['확인 중', '타시도 확진자 접촉', '기타 확진자 접촉', '서대문구 소재 세브란스병원', '해외 접촉 추정',\n       '종로구청 근로자', '영등포구 일련정종 서울포교소', '송파구 쿠팡 물류센터', '동작구 진흥글로벌',\n       '구로구 아파트', '동작구 요양시설', '강동구 BF모바일 콜센터', '영등포 지인모임', '8.15서울도심집회',\n       'KT가좌지사', '도봉구 운동시설', '성북구 사랑제일교회', '노원구 기도모임', '관악구 가족모임',\n       '노원구 빛가온교회', '영등포구 국회출입기자', '은평구 수색성당', '광진구 혜민병원', '은평구 헤어콕',\n       '송파구 소재병원', '극단 산', '영등포구 권능교회', '서초구 장애인교육시설', '강동구 소재 병원',\n       '다래경매', '성북구 체대입시', '성북구 요양시설', '중구소재 은행', '중랑구 소재 체육시설',\n       '관악구 에바다', '동작구 소재 서울신학교', '용인시 우리제일교회', '노원구 손해보험', '구로구 보성운수',\n       '강서구 서울대효요양병원', '서대문구 지인모임', '강북구 일가족', '강서구 보안회사', '롯데리아 종사자 모임',\n       '강남구 소재 아파트', '제주 게스트하우스', '동작구 카드 발급업체', '성북구 벧엘장로교회',\n       '관악구 김혜근의원', '8.15도심집회', '동대문구 sk탁구클럽', '동작구 스터디카페', '영등포구 큰권능교회',\n       '군인권센터', '여의도 순복음교회', '중구 보험회사(현대해상)', '강서구 병원',\n       '8.15도심집회(순복음 강북교회)', '중앙보훈병원', '종로구 혜화경찰서', '양천구 되새김교회', '현대커머셜',\n       '8.15도심집회(녹색병원)', '영등포 IFC몰 오케스트로', '고양시 반석교회(케네디상가)', '롯데 자산개발',\n       '골드트레인', '한양대병원', '순복음 강북교회', '서대문구 지인 모임', '강동구 어린이집', '광화문집회',\n       '은평구 성경공부모임', '관악구 요양병원', '고대 안암병원', '마포구 푸본생명콜센터', '성동구 가족',\n       '양천구 되새김 교회', '중구 통일상가', '고양시 반석교회  (케네디상가)', '강남구 판매업소(골드트레인)',\n       '양천구 확진자 접촉', '영등포구 확진자 접촉', '강남구 확진자 접촉', '강남구 판매업소',\n       '광진구 확진자 접촉', '고양시 반석교회 (케네디상가)', '구로구 확진자 접촉', '종로구 확진자 접촉',\n       '성북구 확진자 접촉', '서초구 확진자 접촉', '마포구 확진자 접촉', '#14483 접촉', '#14488 접촉',\n       '도봉구 가족', '강남구 커피전문점', '선교회 소모임', '도봉구 확진자 접촉', '송파구 교회',\n       '강서구 확진자 접촉', '송파구 확진자 접촉', '종로구 지인모임 신명투자', '강서구 요양시설',\n       '강남구 사무실 K빌딩', '송파구 지인모임', '관악구 확진자 접촉', '중구 확진자 접촉', '강북구 확진자 접촉',\n       '관악구 사무실', '은평구 확진자 접촉', '강남구 사무실', '강남역삼동 금융회사', '성동구 확진자 접촉',\n       '강남구 이동통신 종사자', '강남구 역삼동 모임', '용산구 확진자 접촉', '왕성교회', '중랑구 일가족',\n       '관악구 일가족', '대전 꿈꾸는 교회', '리치웨이', '동작구 확진자 접촉', '금천구 확진자 접촉', '요양시설',\n       '강동구 확진자 접촉', '시청역', '대자연코리아', '의왕 물류센터', '금천구 도정기 회사', '양천구 운동시설',\n       '대전 다단계', '오렌지라이프', '수도권 개척교회', '타시도 확진자 접촉자', '연아나뉴스클래스',\n       '한국대학생선교회', '해외접촉 추정', 'kb 생명보험', '부천시 쿠팡', '이태원 클럽', '용인 형제',\n       '삼성화재', '서초구 가족', '안양군포 목회자', '영등포 학원', '강남구 동인교회', '원어성경연구회',\n       '#11196 접촉', '삼성서울병원', '#10054 접촉', '#9800 접촉', '#10044 접촉',\n       '#9641 접촉', '구로구 교회', '#10407 접촉', '#10015 접촉', '#9364 접촉',\n       '#10377 접촉', '#9287 접촉', '#10142 접촉', '#9912 접촉', '#9765 접촉',\n       '#10115 접촉', '타시도 확진자 접촉(추정)', '#8063 접촉', '#10084 접촉', '#8601 접촉',\n       '#8717 접촉', '#9946 접촉', '콜센터직원 접촉', '#8271 접촉', '#8669 접촉',\n       '#9734 접촉', '#9621 접촉', '#9572 접촉', '#9525 접촉', '#7914 접촉',\n       '#8791 접촉', '#9219 접촉', '#8057 접촉', '#8079 접촉', '#8646 접촉',\n       '#9020 접촉', '#8245 접촉', '#8709 접촉 추정', '#8881 접촉 추정', '구로구 콜센터',\n       '#8486 접촉', '동대문구', '#8196 접촉', '#8138 접촉', '구로구 콜센터 접촉',\n       '#8044 접촉', '해외 접촉', '#7923 접촉', '신천지 추정', '#7573 접축 추정',\n       '#6959 접촉(추정)', '#7280 접촉(추정)', '#7500 접촉(추정)', '#6727 첩촉',\n       '대구 거주', '#6832 접촉자', '#6921접촉자', '#935 접촉자', '#6937 접촉자',\n       '성동구 아파트', '대구 방문', '부동산 중개 법인', '여의도 건설현장', '대구 확진자 접촉', '명성교회',\n       '#794 접촉(추정)', '#2621번 접촉', '#1247 접촉(추정)', '부동산 중개업', '쇼핑몰',\n       '은평구 병원', '경찰병원', '서울재생병원', '신천지대구교회', '#794 접촉자', '대구 방문(명성교회)',\n       '#780 접촉(추정)', '#56 접촉', '#136 접촉', '대구 거주자', '#6 접촉(추정)',\n       '#30 접촉', '#29 접촉', '#83 접촉', '#6 접촉', '#5 접촉', '#3 접촉'],\n      dtype=object)"
     },
     "metadata": {},
     "execution_count": 10
    }
   ],
   "source": [
    "infection_paths = df_temp[\"접촉력\"].unique()\n",
    "print(len(infection_paths))\n",
    "infection_paths"
   ]
  },
  {
   "cell_type": "code",
   "execution_count": 11,
   "metadata": {},
   "outputs": [
    {
     "output_type": "execute_result",
     "data": {
      "text/plain": "     연번     환자    확진일  거주지 여행력         접촉력 퇴원현황\n0  4589  21918  9.10.   기타   -        확인 중  NaN\n1  4588  21916  9.10.   기타   -        확인 중  NaN\n2  4587  21888  9.10.  타시도   -  타시도 확진자 접촉  NaN\n3  4586  21884  9.10.   성동   -   기타 확진자 접촉  NaN\n4  4585  21866  9.10.  노원구   -   기타 확진자 접촉  NaN",
      "text/html": "<div>\n<style scoped>\n    .dataframe tbody tr th:only-of-type {\n        vertical-align: middle;\n    }\n\n    .dataframe tbody tr th {\n        vertical-align: top;\n    }\n\n    .dataframe thead th {\n        text-align: right;\n    }\n</style>\n<table border=\"1\" class=\"dataframe\">\n  <thead>\n    <tr style=\"text-align: right;\">\n      <th></th>\n      <th>연번</th>\n      <th>환자</th>\n      <th>확진일</th>\n      <th>거주지</th>\n      <th>여행력</th>\n      <th>접촉력</th>\n      <th>퇴원현황</th>\n    </tr>\n  </thead>\n  <tbody>\n    <tr>\n      <th>0</th>\n      <td>4589</td>\n      <td>21918</td>\n      <td>9.10.</td>\n      <td>기타</td>\n      <td>-</td>\n      <td>확인 중</td>\n      <td>NaN</td>\n    </tr>\n    <tr>\n      <th>1</th>\n      <td>4588</td>\n      <td>21916</td>\n      <td>9.10.</td>\n      <td>기타</td>\n      <td>-</td>\n      <td>확인 중</td>\n      <td>NaN</td>\n    </tr>\n    <tr>\n      <th>2</th>\n      <td>4587</td>\n      <td>21888</td>\n      <td>9.10.</td>\n      <td>타시도</td>\n      <td>-</td>\n      <td>타시도 확진자 접촉</td>\n      <td>NaN</td>\n    </tr>\n    <tr>\n      <th>3</th>\n      <td>4586</td>\n      <td>21884</td>\n      <td>9.10.</td>\n      <td>성동</td>\n      <td>-</td>\n      <td>기타 확진자 접촉</td>\n      <td>NaN</td>\n    </tr>\n    <tr>\n      <th>4</th>\n      <td>4585</td>\n      <td>21866</td>\n      <td>9.10.</td>\n      <td>노원구</td>\n      <td>-</td>\n      <td>기타 확진자 접촉</td>\n      <td>NaN</td>\n    </tr>\n  </tbody>\n</table>\n</div>"
     },
     "metadata": {},
     "execution_count": 11
    }
   ],
   "source": [
    "df_date = df_temp.sort_values([\"연번\"], ascending=False)\n",
    "df_date.head()"
   ]
  },
  {
   "cell_type": "code",
   "execution_count": 12,
   "metadata": {},
   "outputs": [
    {
     "output_type": "execute_result",
     "data": {
      "text/plain": "     연번     환자   확진일  거주지 여행력         접촉력 퇴원현황\n0  4589  21918  9-10   기타   -        확인 중  NaN\n1  4588  21916  9-10   기타   -        확인 중  NaN\n2  4587  21888  9-10  타시도   -  타시도 확진자 접촉  NaN\n3  4586  21884  9-10   성동   -   기타 확진자 접촉  NaN\n4  4585  21866  9-10  노원구   -   기타 확진자 접촉  NaN",
      "text/html": "<div>\n<style scoped>\n    .dataframe tbody tr th:only-of-type {\n        vertical-align: middle;\n    }\n\n    .dataframe tbody tr th {\n        vertical-align: top;\n    }\n\n    .dataframe thead th {\n        text-align: right;\n    }\n</style>\n<table border=\"1\" class=\"dataframe\">\n  <thead>\n    <tr style=\"text-align: right;\">\n      <th></th>\n      <th>연번</th>\n      <th>환자</th>\n      <th>확진일</th>\n      <th>거주지</th>\n      <th>여행력</th>\n      <th>접촉력</th>\n      <th>퇴원현황</th>\n    </tr>\n  </thead>\n  <tbody>\n    <tr>\n      <th>0</th>\n      <td>4589</td>\n      <td>21918</td>\n      <td>9-10</td>\n      <td>기타</td>\n      <td>-</td>\n      <td>확인 중</td>\n      <td>NaN</td>\n    </tr>\n    <tr>\n      <th>1</th>\n      <td>4588</td>\n      <td>21916</td>\n      <td>9-10</td>\n      <td>기타</td>\n      <td>-</td>\n      <td>확인 중</td>\n      <td>NaN</td>\n    </tr>\n    <tr>\n      <th>2</th>\n      <td>4587</td>\n      <td>21888</td>\n      <td>9-10</td>\n      <td>타시도</td>\n      <td>-</td>\n      <td>타시도 확진자 접촉</td>\n      <td>NaN</td>\n    </tr>\n    <tr>\n      <th>3</th>\n      <td>4586</td>\n      <td>21884</td>\n      <td>9-10</td>\n      <td>성동</td>\n      <td>-</td>\n      <td>기타 확진자 접촉</td>\n      <td>NaN</td>\n    </tr>\n    <tr>\n      <th>4</th>\n      <td>4585</td>\n      <td>21866</td>\n      <td>9-10</td>\n      <td>노원구</td>\n      <td>-</td>\n      <td>기타 확진자 접촉</td>\n      <td>NaN</td>\n    </tr>\n  </tbody>\n</table>\n</div>"
     },
     "metadata": {},
     "execution_count": 12
    }
   ],
   "source": [
    "df_date[\"확진일\"] = df_date[\"확진일\"].str.replace(\".\", \"-\")\n",
    "df_date[\"확진일\"] = df_date[\"확진일\"].str[:-1]\n",
    "df_date.head()"
   ]
  },
  {
   "cell_type": "code",
   "execution_count": 13,
   "metadata": {},
   "outputs": [
    {
     "output_type": "execute_result",
     "data": {
      "text/plain": "     연번     환자         확진일  거주지 여행력         접촉력 퇴원현황\n0  4589  21918  2020-09-10   기타   -        확인 중  NaN\n1  4588  21916  2020-09-10   기타   -        확인 중  NaN\n2  4587  21888  2020-09-10  타시도   -  타시도 확진자 접촉  NaN\n3  4586  21884  2020-09-10   성동   -   기타 확진자 접촉  NaN\n4  4585  21866  2020-09-10  노원구   -   기타 확진자 접촉  NaN",
      "text/html": "<div>\n<style scoped>\n    .dataframe tbody tr th:only-of-type {\n        vertical-align: middle;\n    }\n\n    .dataframe tbody tr th {\n        vertical-align: top;\n    }\n\n    .dataframe thead th {\n        text-align: right;\n    }\n</style>\n<table border=\"1\" class=\"dataframe\">\n  <thead>\n    <tr style=\"text-align: right;\">\n      <th></th>\n      <th>연번</th>\n      <th>환자</th>\n      <th>확진일</th>\n      <th>거주지</th>\n      <th>여행력</th>\n      <th>접촉력</th>\n      <th>퇴원현황</th>\n    </tr>\n  </thead>\n  <tbody>\n    <tr>\n      <th>0</th>\n      <td>4589</td>\n      <td>21918</td>\n      <td>2020-09-10</td>\n      <td>기타</td>\n      <td>-</td>\n      <td>확인 중</td>\n      <td>NaN</td>\n    </tr>\n    <tr>\n      <th>1</th>\n      <td>4588</td>\n      <td>21916</td>\n      <td>2020-09-10</td>\n      <td>기타</td>\n      <td>-</td>\n      <td>확인 중</td>\n      <td>NaN</td>\n    </tr>\n    <tr>\n      <th>2</th>\n      <td>4587</td>\n      <td>21888</td>\n      <td>2020-09-10</td>\n      <td>타시도</td>\n      <td>-</td>\n      <td>타시도 확진자 접촉</td>\n      <td>NaN</td>\n    </tr>\n    <tr>\n      <th>3</th>\n      <td>4586</td>\n      <td>21884</td>\n      <td>2020-09-10</td>\n      <td>성동</td>\n      <td>-</td>\n      <td>기타 확진자 접촉</td>\n      <td>NaN</td>\n    </tr>\n    <tr>\n      <th>4</th>\n      <td>4585</td>\n      <td>21866</td>\n      <td>2020-09-10</td>\n      <td>노원구</td>\n      <td>-</td>\n      <td>기타 확진자 접촉</td>\n      <td>NaN</td>\n    </tr>\n  </tbody>\n</table>\n</div>"
     },
     "metadata": {},
     "execution_count": 13
    }
   ],
   "source": [
    "df_date[\"확진일\"] = \"2020-0\" + df_date[\"확진일\"]\n",
    "df_date.head()"
   ]
  },
  {
   "cell_type": "code",
   "execution_count": 14,
   "metadata": {},
   "outputs": [
    {
     "output_type": "execute_result",
     "data": {
      "text/plain": "        연번     환자         확진일   거주지 여행력              접촉력 퇴원현황\n166   4423  21418  2020-09-07  서대문구   -  영등포구 일련정종 서울포교소  NaN\n3951   638  10833  2020-05-08   종로구   -           이태원 클럽   퇴원\n927   3662  19462  2020-08-29  동대문구   -      동대문구 sk탁구클럽  NaN\n2839  1750  14819  2020-08-13   광진구   -            골드트레인   퇴원\n4517    72   3680  2020-02-27   강동구   -             명성교회   퇴원",
      "text/html": "<div>\n<style scoped>\n    .dataframe tbody tr th:only-of-type {\n        vertical-align: middle;\n    }\n\n    .dataframe tbody tr th {\n        vertical-align: top;\n    }\n\n    .dataframe thead th {\n        text-align: right;\n    }\n</style>\n<table border=\"1\" class=\"dataframe\">\n  <thead>\n    <tr style=\"text-align: right;\">\n      <th></th>\n      <th>연번</th>\n      <th>환자</th>\n      <th>확진일</th>\n      <th>거주지</th>\n      <th>여행력</th>\n      <th>접촉력</th>\n      <th>퇴원현황</th>\n    </tr>\n  </thead>\n  <tbody>\n    <tr>\n      <th>166</th>\n      <td>4423</td>\n      <td>21418</td>\n      <td>2020-09-07</td>\n      <td>서대문구</td>\n      <td>-</td>\n      <td>영등포구 일련정종 서울포교소</td>\n      <td>NaN</td>\n    </tr>\n    <tr>\n      <th>3951</th>\n      <td>638</td>\n      <td>10833</td>\n      <td>2020-05-08</td>\n      <td>종로구</td>\n      <td>-</td>\n      <td>이태원 클럽</td>\n      <td>퇴원</td>\n    </tr>\n    <tr>\n      <th>927</th>\n      <td>3662</td>\n      <td>19462</td>\n      <td>2020-08-29</td>\n      <td>동대문구</td>\n      <td>-</td>\n      <td>동대문구 sk탁구클럽</td>\n      <td>NaN</td>\n    </tr>\n    <tr>\n      <th>2839</th>\n      <td>1750</td>\n      <td>14819</td>\n      <td>2020-08-13</td>\n      <td>광진구</td>\n      <td>-</td>\n      <td>골드트레인</td>\n      <td>퇴원</td>\n    </tr>\n    <tr>\n      <th>4517</th>\n      <td>72</td>\n      <td>3680</td>\n      <td>2020-02-27</td>\n      <td>강동구</td>\n      <td>-</td>\n      <td>명성교회</td>\n      <td>퇴원</td>\n    </tr>\n  </tbody>\n</table>\n</div>"
     },
     "metadata": {},
     "execution_count": 14
    }
   ],
   "source": [
    "df_date.sample(5)"
   ]
  },
  {
   "cell_type": "code",
   "execution_count": 15,
   "metadata": {},
   "outputs": [
    {
     "output_type": "execute_result",
     "data": {
      "text/plain": "     연번     환자         확진일  거주지 여행력         접촉력 퇴원현황\n0  4589  21918  2020-09-10   기타   -        확인 중  NaN\n1  4588  21916  2020-09-10   기타   -        확인 중  NaN\n2  4587  21888  2020-09-10  타시도   -  타시도 확진자 접촉  NaN\n3  4586  21884  2020-09-10   성동   -   기타 확진자 접촉  NaN\n4  4585  21866  2020-09-10  노원구   -   기타 확진자 접촉  NaN",
      "text/html": "<div>\n<style scoped>\n    .dataframe tbody tr th:only-of-type {\n        vertical-align: middle;\n    }\n\n    .dataframe tbody tr th {\n        vertical-align: top;\n    }\n\n    .dataframe thead th {\n        text-align: right;\n    }\n</style>\n<table border=\"1\" class=\"dataframe\">\n  <thead>\n    <tr style=\"text-align: right;\">\n      <th></th>\n      <th>연번</th>\n      <th>환자</th>\n      <th>확진일</th>\n      <th>거주지</th>\n      <th>여행력</th>\n      <th>접촉력</th>\n      <th>퇴원현황</th>\n    </tr>\n  </thead>\n  <tbody>\n    <tr>\n      <th>0</th>\n      <td>4589</td>\n      <td>21918</td>\n      <td>2020-09-10</td>\n      <td>기타</td>\n      <td>-</td>\n      <td>확인 중</td>\n      <td>NaN</td>\n    </tr>\n    <tr>\n      <th>1</th>\n      <td>4588</td>\n      <td>21916</td>\n      <td>2020-09-10</td>\n      <td>기타</td>\n      <td>-</td>\n      <td>확인 중</td>\n      <td>NaN</td>\n    </tr>\n    <tr>\n      <th>2</th>\n      <td>4587</td>\n      <td>21888</td>\n      <td>2020-09-10</td>\n      <td>타시도</td>\n      <td>-</td>\n      <td>타시도 확진자 접촉</td>\n      <td>NaN</td>\n    </tr>\n    <tr>\n      <th>3</th>\n      <td>4586</td>\n      <td>21884</td>\n      <td>2020-09-10</td>\n      <td>성동</td>\n      <td>-</td>\n      <td>기타 확진자 접촉</td>\n      <td>NaN</td>\n    </tr>\n    <tr>\n      <th>4</th>\n      <td>4585</td>\n      <td>21866</td>\n      <td>2020-09-10</td>\n      <td>노원구</td>\n      <td>-</td>\n      <td>기타 확진자 접촉</td>\n      <td>NaN</td>\n    </tr>\n  </tbody>\n</table>\n</div>"
     },
     "metadata": {},
     "execution_count": 15
    }
   ],
   "source": [
    "df = df_date.copy()\n",
    "df.head()"
   ]
  },
  {
   "cell_type": "code",
   "execution_count": 16,
   "metadata": {},
   "outputs": [
    {
     "output_type": "execute_result",
     "data": {
      "text/plain": "     연번     환자         확진일  거주지 여행력         접촉력 퇴원현황\n0  4589  21918  2020-09-10   기타   -        확인 중  NaN\n1  4588  21916  2020-09-10   기타   -        확인 중  NaN\n2  4587  21888  2020-09-10  타시도   -  타시도 확진자 접촉  NaN\n3  4586  21884  2020-09-10   성동   -   기타 확진자 접촉  NaN\n4  4585  21866  2020-09-10  노원구   -   기타 확진자 접촉  NaN",
      "text/html": "<div>\n<style scoped>\n    .dataframe tbody tr th:only-of-type {\n        vertical-align: middle;\n    }\n\n    .dataframe tbody tr th {\n        vertical-align: top;\n    }\n\n    .dataframe thead th {\n        text-align: right;\n    }\n</style>\n<table border=\"1\" class=\"dataframe\">\n  <thead>\n    <tr style=\"text-align: right;\">\n      <th></th>\n      <th>연번</th>\n      <th>환자</th>\n      <th>확진일</th>\n      <th>거주지</th>\n      <th>여행력</th>\n      <th>접촉력</th>\n      <th>퇴원현황</th>\n    </tr>\n  </thead>\n  <tbody>\n    <tr>\n      <th>0</th>\n      <td>4589</td>\n      <td>21918</td>\n      <td>2020-09-10</td>\n      <td>기타</td>\n      <td>-</td>\n      <td>확인 중</td>\n      <td>NaN</td>\n    </tr>\n    <tr>\n      <th>1</th>\n      <td>4588</td>\n      <td>21916</td>\n      <td>2020-09-10</td>\n      <td>기타</td>\n      <td>-</td>\n      <td>확인 중</td>\n      <td>NaN</td>\n    </tr>\n    <tr>\n      <th>2</th>\n      <td>4587</td>\n      <td>21888</td>\n      <td>2020-09-10</td>\n      <td>타시도</td>\n      <td>-</td>\n      <td>타시도 확진자 접촉</td>\n      <td>NaN</td>\n    </tr>\n    <tr>\n      <th>3</th>\n      <td>4586</td>\n      <td>21884</td>\n      <td>2020-09-10</td>\n      <td>성동</td>\n      <td>-</td>\n      <td>기타 확진자 접촉</td>\n      <td>NaN</td>\n    </tr>\n    <tr>\n      <th>4</th>\n      <td>4585</td>\n      <td>21866</td>\n      <td>2020-09-10</td>\n      <td>노원구</td>\n      <td>-</td>\n      <td>기타 확진자 접촉</td>\n      <td>NaN</td>\n    </tr>\n  </tbody>\n</table>\n</div>"
     },
     "metadata": {},
     "execution_count": 16
    }
   ],
   "source": [
    "df.loc[(df[\"확진일\"].str.len() < 10), '확진일'] = df.loc[(df[\"확진일\"].str.len() < 10), '확진일'].str.replace(\"-0\", \"-\")\n",
    "df.loc[(df[\"확진일\"].str.len() < 10), '확진일'] = df.loc[(df[\"확진일\"].str.len() < 10), '확진일'].str.replace(\"-\", \"-0\")\n",
    "df.head()"
   ]
  },
  {
   "cell_type": "code",
   "execution_count": 17,
   "metadata": {},
   "outputs": [
    {
     "output_type": "execute_result",
     "data": {
      "text/plain": "        연번     환자         확진일   거주지  여행력         접촉력 퇴원현황\n3895   694  10929  2020-05-11    양평    -      이태원 클럽   퇴원\n4491    98   4645  2020-03-02   서초구    -        확인 중   퇴원\n2216  2373  16041  2020-08-19   성북구    -    성북구 체대입시   퇴원\n1691  2898  17431  2020-08-23   용산구    -        확인 중  NaN\n567   4022  20328  2020-08-31   성북구    -  성북구 사랑제일교회  NaN\n2370  2219  15982  2020-08-18   은평구    -   기타 확진자 접촉   퇴원\n3874   715  11005  2020-05-14  동대문구    -      이태원 클럽   퇴원\n349   4240  20904  2020-09-04    기타    -        확인 중  NaN\n4280   309   8664  2020-03-20   강동구  필리핀    해외 접촉 추정   퇴원\n2362  2227  15883  2020-08-18   관악구    -  성북구 사랑제일교회   퇴원\n2597  1992  15415  2020-08-16    기타    -       골드트레인  NaN\n263   4326  21227  2020-09-06   은평구    -    은평구 수색성당  NaN\n3577  1012  11837  2020-06-08   구로구    -        리치웨이   퇴원\n610   3979  20242  2020-08-31   양천구    -   동작구 진흥글로벌  NaN\n3152  1437  13543  2020-07-14   금천구    -     강남구 사무실   퇴원",
      "text/html": "<div>\n<style scoped>\n    .dataframe tbody tr th:only-of-type {\n        vertical-align: middle;\n    }\n\n    .dataframe tbody tr th {\n        vertical-align: top;\n    }\n\n    .dataframe thead th {\n        text-align: right;\n    }\n</style>\n<table border=\"1\" class=\"dataframe\">\n  <thead>\n    <tr style=\"text-align: right;\">\n      <th></th>\n      <th>연번</th>\n      <th>환자</th>\n      <th>확진일</th>\n      <th>거주지</th>\n      <th>여행력</th>\n      <th>접촉력</th>\n      <th>퇴원현황</th>\n    </tr>\n  </thead>\n  <tbody>\n    <tr>\n      <th>3895</th>\n      <td>694</td>\n      <td>10929</td>\n      <td>2020-05-11</td>\n      <td>양평</td>\n      <td>-</td>\n      <td>이태원 클럽</td>\n      <td>퇴원</td>\n    </tr>\n    <tr>\n      <th>4491</th>\n      <td>98</td>\n      <td>4645</td>\n      <td>2020-03-02</td>\n      <td>서초구</td>\n      <td>-</td>\n      <td>확인 중</td>\n      <td>퇴원</td>\n    </tr>\n    <tr>\n      <th>2216</th>\n      <td>2373</td>\n      <td>16041</td>\n      <td>2020-08-19</td>\n      <td>성북구</td>\n      <td>-</td>\n      <td>성북구 체대입시</td>\n      <td>퇴원</td>\n    </tr>\n    <tr>\n      <th>1691</th>\n      <td>2898</td>\n      <td>17431</td>\n      <td>2020-08-23</td>\n      <td>용산구</td>\n      <td>-</td>\n      <td>확인 중</td>\n      <td>NaN</td>\n    </tr>\n    <tr>\n      <th>567</th>\n      <td>4022</td>\n      <td>20328</td>\n      <td>2020-08-31</td>\n      <td>성북구</td>\n      <td>-</td>\n      <td>성북구 사랑제일교회</td>\n      <td>NaN</td>\n    </tr>\n    <tr>\n      <th>2370</th>\n      <td>2219</td>\n      <td>15982</td>\n      <td>2020-08-18</td>\n      <td>은평구</td>\n      <td>-</td>\n      <td>기타 확진자 접촉</td>\n      <td>퇴원</td>\n    </tr>\n    <tr>\n      <th>3874</th>\n      <td>715</td>\n      <td>11005</td>\n      <td>2020-05-14</td>\n      <td>동대문구</td>\n      <td>-</td>\n      <td>이태원 클럽</td>\n      <td>퇴원</td>\n    </tr>\n    <tr>\n      <th>349</th>\n      <td>4240</td>\n      <td>20904</td>\n      <td>2020-09-04</td>\n      <td>기타</td>\n      <td>-</td>\n      <td>확인 중</td>\n      <td>NaN</td>\n    </tr>\n    <tr>\n      <th>4280</th>\n      <td>309</td>\n      <td>8664</td>\n      <td>2020-03-20</td>\n      <td>강동구</td>\n      <td>필리핀</td>\n      <td>해외 접촉 추정</td>\n      <td>퇴원</td>\n    </tr>\n    <tr>\n      <th>2362</th>\n      <td>2227</td>\n      <td>15883</td>\n      <td>2020-08-18</td>\n      <td>관악구</td>\n      <td>-</td>\n      <td>성북구 사랑제일교회</td>\n      <td>퇴원</td>\n    </tr>\n    <tr>\n      <th>2597</th>\n      <td>1992</td>\n      <td>15415</td>\n      <td>2020-08-16</td>\n      <td>기타</td>\n      <td>-</td>\n      <td>골드트레인</td>\n      <td>NaN</td>\n    </tr>\n    <tr>\n      <th>263</th>\n      <td>4326</td>\n      <td>21227</td>\n      <td>2020-09-06</td>\n      <td>은평구</td>\n      <td>-</td>\n      <td>은평구 수색성당</td>\n      <td>NaN</td>\n    </tr>\n    <tr>\n      <th>3577</th>\n      <td>1012</td>\n      <td>11837</td>\n      <td>2020-06-08</td>\n      <td>구로구</td>\n      <td>-</td>\n      <td>리치웨이</td>\n      <td>퇴원</td>\n    </tr>\n    <tr>\n      <th>610</th>\n      <td>3979</td>\n      <td>20242</td>\n      <td>2020-08-31</td>\n      <td>양천구</td>\n      <td>-</td>\n      <td>동작구 진흥글로벌</td>\n      <td>NaN</td>\n    </tr>\n    <tr>\n      <th>3152</th>\n      <td>1437</td>\n      <td>13543</td>\n      <td>2020-07-14</td>\n      <td>금천구</td>\n      <td>-</td>\n      <td>강남구 사무실</td>\n      <td>퇴원</td>\n    </tr>\n  </tbody>\n</table>\n</div>"
     },
     "metadata": {},
     "execution_count": 17
    }
   ],
   "source": [
    "df.sample(15)"
   ]
  },
  {
   "cell_type": "code",
   "execution_count": 18,
   "metadata": {},
   "outputs": [],
   "source": [
    "df.to_csv(\"./dataset_predict/df_wrangle.csv\", index=False)"
   ]
  },
  {
   "cell_type": "code",
   "execution_count": 19,
   "metadata": {},
   "outputs": [
    {
     "output_type": "execute_result",
     "data": {
      "text/plain": "         date  new_confirmed\n0  2020-08-29            167\n1  2020-08-27            160\n2  2020-08-26            157\n3  2020-08-18            151\n4  2020-08-15            146",
      "text/html": "<div>\n<style scoped>\n    .dataframe tbody tr th:only-of-type {\n        vertical-align: middle;\n    }\n\n    .dataframe tbody tr th {\n        vertical-align: top;\n    }\n\n    .dataframe thead th {\n        text-align: right;\n    }\n</style>\n<table border=\"1\" class=\"dataframe\">\n  <thead>\n    <tr style=\"text-align: right;\">\n      <th></th>\n      <th>date</th>\n      <th>new_confirmed</th>\n    </tr>\n  </thead>\n  <tbody>\n    <tr>\n      <th>0</th>\n      <td>2020-08-29</td>\n      <td>167</td>\n    </tr>\n    <tr>\n      <th>1</th>\n      <td>2020-08-27</td>\n      <td>160</td>\n    </tr>\n    <tr>\n      <th>2</th>\n      <td>2020-08-26</td>\n      <td>157</td>\n    </tr>\n    <tr>\n      <th>3</th>\n      <td>2020-08-18</td>\n      <td>151</td>\n    </tr>\n    <tr>\n      <th>4</th>\n      <td>2020-08-15</td>\n      <td>146</td>\n    </tr>\n  </tbody>\n</table>\n</div>"
     },
     "metadata": {},
     "execution_count": 19
    }
   ],
   "source": [
    "temp = df[\"확진일\"].value_counts().rename_axis('date').reset_index(name='new_confirmed')\n",
    "temp.head()"
   ]
  },
  {
   "cell_type": "code",
   "execution_count": 20,
   "metadata": {},
   "outputs": [
    {
     "output_type": "execute_result",
     "data": {
      "text/plain": "           date  new_confirmed\n189  2020-01-24              1\n172  2020-01-30              3\n171  2020-01-31              3\n188  2020-02-02              1\n180  2020-02-05              2",
      "text/html": "<div>\n<style scoped>\n    .dataframe tbody tr th:only-of-type {\n        vertical-align: middle;\n    }\n\n    .dataframe tbody tr th {\n        vertical-align: top;\n    }\n\n    .dataframe thead th {\n        text-align: right;\n    }\n</style>\n<table border=\"1\" class=\"dataframe\">\n  <thead>\n    <tr style=\"text-align: right;\">\n      <th></th>\n      <th>date</th>\n      <th>new_confirmed</th>\n    </tr>\n  </thead>\n  <tbody>\n    <tr>\n      <th>189</th>\n      <td>2020-01-24</td>\n      <td>1</td>\n    </tr>\n    <tr>\n      <th>172</th>\n      <td>2020-01-30</td>\n      <td>3</td>\n    </tr>\n    <tr>\n      <th>171</th>\n      <td>2020-01-31</td>\n      <td>3</td>\n    </tr>\n    <tr>\n      <th>188</th>\n      <td>2020-02-02</td>\n      <td>1</td>\n    </tr>\n    <tr>\n      <th>180</th>\n      <td>2020-02-05</td>\n      <td>2</td>\n    </tr>\n  </tbody>\n</table>\n</div>"
     },
     "metadata": {},
     "execution_count": 20
    }
   ],
   "source": [
    "df_predict = temp.sort_values(by=\"date\")\n",
    "df_predict.head()"
   ]
  },
  {
   "cell_type": "markdown",
   "metadata": {},
   "source": [
    "### stretch the dataframe as timeseries dataset with interval of 1 day "
   ]
  },
  {
   "cell_type": "code",
   "execution_count": 21,
   "metadata": {},
   "outputs": [],
   "source": [
    "df_predict[\"date\"] = pd.to_datetime(df_predict[\"date\"])"
   ]
  },
  {
   "cell_type": "code",
   "execution_count": 22,
   "metadata": {},
   "outputs": [
    {
     "output_type": "execute_result",
     "data": {
      "text/plain": "                 date  new_confirmed\ndate                                \n2020-01-24 2020-01-24              1\n2020-01-30 2020-01-30              3\n2020-01-31 2020-01-31              3\n2020-02-02 2020-02-02              1\n2020-02-05 2020-02-05              2",
      "text/html": "<div>\n<style scoped>\n    .dataframe tbody tr th:only-of-type {\n        vertical-align: middle;\n    }\n\n    .dataframe tbody tr th {\n        vertical-align: top;\n    }\n\n    .dataframe thead th {\n        text-align: right;\n    }\n</style>\n<table border=\"1\" class=\"dataframe\">\n  <thead>\n    <tr style=\"text-align: right;\">\n      <th></th>\n      <th>date</th>\n      <th>new_confirmed</th>\n    </tr>\n    <tr>\n      <th>date</th>\n      <th></th>\n      <th></th>\n    </tr>\n  </thead>\n  <tbody>\n    <tr>\n      <th>2020-01-24</th>\n      <td>2020-01-24</td>\n      <td>1</td>\n    </tr>\n    <tr>\n      <th>2020-01-30</th>\n      <td>2020-01-30</td>\n      <td>3</td>\n    </tr>\n    <tr>\n      <th>2020-01-31</th>\n      <td>2020-01-31</td>\n      <td>3</td>\n    </tr>\n    <tr>\n      <th>2020-02-02</th>\n      <td>2020-02-02</td>\n      <td>1</td>\n    </tr>\n    <tr>\n      <th>2020-02-05</th>\n      <td>2020-02-05</td>\n      <td>2</td>\n    </tr>\n  </tbody>\n</table>\n</div>"
     },
     "metadata": {},
     "execution_count": 22
    }
   ],
   "source": [
    "df_predict.index = pd.DatetimeIndex(df_predict[\"date\"])\n",
    "df_predict.head()"
   ]
  },
  {
   "cell_type": "code",
   "execution_count": 23,
   "metadata": {},
   "outputs": [
    {
     "output_type": "execute_result",
     "data": {
      "text/plain": "                 date  new_confirmed\ndate                                \n2020-01-24 2020-01-24            1.0\n2020-01-25        NaT            NaN\n2020-01-26        NaT            NaN\n2020-01-27        NaT            NaN\n2020-01-28        NaT            NaN",
      "text/html": "<div>\n<style scoped>\n    .dataframe tbody tr th:only-of-type {\n        vertical-align: middle;\n    }\n\n    .dataframe tbody tr th {\n        vertical-align: top;\n    }\n\n    .dataframe thead th {\n        text-align: right;\n    }\n</style>\n<table border=\"1\" class=\"dataframe\">\n  <thead>\n    <tr style=\"text-align: right;\">\n      <th></th>\n      <th>date</th>\n      <th>new_confirmed</th>\n    </tr>\n    <tr>\n      <th>date</th>\n      <th></th>\n      <th></th>\n    </tr>\n  </thead>\n  <tbody>\n    <tr>\n      <th>2020-01-24</th>\n      <td>2020-01-24</td>\n      <td>1.0</td>\n    </tr>\n    <tr>\n      <th>2020-01-25</th>\n      <td>NaT</td>\n      <td>NaN</td>\n    </tr>\n    <tr>\n      <th>2020-01-26</th>\n      <td>NaT</td>\n      <td>NaN</td>\n    </tr>\n    <tr>\n      <th>2020-01-27</th>\n      <td>NaT</td>\n      <td>NaN</td>\n    </tr>\n    <tr>\n      <th>2020-01-28</th>\n      <td>NaT</td>\n      <td>NaN</td>\n    </tr>\n  </tbody>\n</table>\n</div>"
     },
     "metadata": {},
     "execution_count": 23
    }
   ],
   "source": [
    "df_predict = df_predict.resample('D').max()\n",
    "df_predict.head()"
   ]
  },
  {
   "cell_type": "code",
   "execution_count": 24,
   "metadata": {},
   "outputs": [
    {
     "output_type": "execute_result",
     "data": {
      "text/plain": "                 date  new_confirmed\ndate                                \n2020-01-24 2020-01-24            1.0\n2020-01-25 2020-01-25            NaN\n2020-01-26 2020-01-26            NaN\n2020-01-27 2020-01-27            NaN\n2020-01-28 2020-01-28            NaN",
      "text/html": "<div>\n<style scoped>\n    .dataframe tbody tr th:only-of-type {\n        vertical-align: middle;\n    }\n\n    .dataframe tbody tr th {\n        vertical-align: top;\n    }\n\n    .dataframe thead th {\n        text-align: right;\n    }\n</style>\n<table border=\"1\" class=\"dataframe\">\n  <thead>\n    <tr style=\"text-align: right;\">\n      <th></th>\n      <th>date</th>\n      <th>new_confirmed</th>\n    </tr>\n    <tr>\n      <th>date</th>\n      <th></th>\n      <th></th>\n    </tr>\n  </thead>\n  <tbody>\n    <tr>\n      <th>2020-01-24</th>\n      <td>2020-01-24</td>\n      <td>1.0</td>\n    </tr>\n    <tr>\n      <th>2020-01-25</th>\n      <td>2020-01-25</td>\n      <td>NaN</td>\n    </tr>\n    <tr>\n      <th>2020-01-26</th>\n      <td>2020-01-26</td>\n      <td>NaN</td>\n    </tr>\n    <tr>\n      <th>2020-01-27</th>\n      <td>2020-01-27</td>\n      <td>NaN</td>\n    </tr>\n    <tr>\n      <th>2020-01-28</th>\n      <td>2020-01-28</td>\n      <td>NaN</td>\n    </tr>\n  </tbody>\n</table>\n</div>"
     },
     "metadata": {},
     "execution_count": 24
    }
   ],
   "source": [
    "df_predict[\"date\"] = df_predict.index\n",
    "df_predict.head()"
   ]
  },
  {
   "cell_type": "code",
   "execution_count": 25,
   "metadata": {},
   "outputs": [
    {
     "output_type": "execute_result",
     "data": {
      "text/plain": "                 date  new_confirmed\ndate                                \n2020-01-24 2020-01-24            1.0\n2020-01-25 2020-01-25            0.0\n2020-01-26 2020-01-26            0.0\n2020-01-27 2020-01-27            0.0\n2020-01-28 2020-01-28            0.0\n2020-01-29 2020-01-29            0.0\n2020-01-30 2020-01-30            3.0\n2020-01-31 2020-01-31            3.0\n2020-02-01 2020-02-01            0.0\n2020-02-02 2020-02-02            1.0",
      "text/html": "<div>\n<style scoped>\n    .dataframe tbody tr th:only-of-type {\n        vertical-align: middle;\n    }\n\n    .dataframe tbody tr th {\n        vertical-align: top;\n    }\n\n    .dataframe thead th {\n        text-align: right;\n    }\n</style>\n<table border=\"1\" class=\"dataframe\">\n  <thead>\n    <tr style=\"text-align: right;\">\n      <th></th>\n      <th>date</th>\n      <th>new_confirmed</th>\n    </tr>\n    <tr>\n      <th>date</th>\n      <th></th>\n      <th></th>\n    </tr>\n  </thead>\n  <tbody>\n    <tr>\n      <th>2020-01-24</th>\n      <td>2020-01-24</td>\n      <td>1.0</td>\n    </tr>\n    <tr>\n      <th>2020-01-25</th>\n      <td>2020-01-25</td>\n      <td>0.0</td>\n    </tr>\n    <tr>\n      <th>2020-01-26</th>\n      <td>2020-01-26</td>\n      <td>0.0</td>\n    </tr>\n    <tr>\n      <th>2020-01-27</th>\n      <td>2020-01-27</td>\n      <td>0.0</td>\n    </tr>\n    <tr>\n      <th>2020-01-28</th>\n      <td>2020-01-28</td>\n      <td>0.0</td>\n    </tr>\n    <tr>\n      <th>2020-01-29</th>\n      <td>2020-01-29</td>\n      <td>0.0</td>\n    </tr>\n    <tr>\n      <th>2020-01-30</th>\n      <td>2020-01-30</td>\n      <td>3.0</td>\n    </tr>\n    <tr>\n      <th>2020-01-31</th>\n      <td>2020-01-31</td>\n      <td>3.0</td>\n    </tr>\n    <tr>\n      <th>2020-02-01</th>\n      <td>2020-02-01</td>\n      <td>0.0</td>\n    </tr>\n    <tr>\n      <th>2020-02-02</th>\n      <td>2020-02-02</td>\n      <td>1.0</td>\n    </tr>\n  </tbody>\n</table>\n</div>"
     },
     "metadata": {},
     "execution_count": 25
    }
   ],
   "source": [
    "df_predict = df_predict.fillna(0)\n",
    "df_predict[:10]"
   ]
  },
  {
   "cell_type": "code",
   "execution_count": 26,
   "metadata": {},
   "outputs": [],
   "source": [
    "df_predict.to_csv(\"dataset_predict/df_predict.csv\", index=False)"
   ]
  },
  {
   "cell_type": "code",
   "execution_count": 27,
   "metadata": {},
   "outputs": [],
   "source": [
    "df_predict =  pd.read_csv(\"dataset_predict/df_predict.csv\", encoding=\"utf-8\")"
   ]
  },
  {
   "cell_type": "markdown",
   "metadata": {},
   "source": [
    "### get untracked patients information"
   ]
  },
  {
   "cell_type": "code",
   "execution_count": 28,
   "metadata": {},
   "outputs": [
    {
     "output_type": "execute_result",
     "data": {
      "text/plain": "        연번     환자         확진일  거주지 여행력   접촉력 퇴원현황\n0     4589  21918  2020-09-10   기타   -  확인 중  NaN\n1     4588  21916  2020-09-10   기타   -  확인 중  NaN\n5     4584  21871  2020-09-10  관악구   -  확인 중  NaN\n14    4575  21867  2020-09-10  서초구   -  확인 중  NaN\n21    4568  21859  2020-09-10  송파구   -  확인 중  NaN\n...    ...    ...         ...  ...  ..   ...  ...\n4533    56   1768  2020-02-25  고양시   -  확인 중   퇴원\n4547    42   1370  2020-02-25  노원구   -  확인 중   퇴원\n4550    39    924  2020-02-25   평택   -  확인 중   퇴원\n4551    38    907  2020-02-25  관악구   -  확인 중   퇴원\n4554    35    870  2020-02-25   김포   -  확인 중   퇴원\n\n[779 rows x 7 columns]",
      "text/html": "<div>\n<style scoped>\n    .dataframe tbody tr th:only-of-type {\n        vertical-align: middle;\n    }\n\n    .dataframe tbody tr th {\n        vertical-align: top;\n    }\n\n    .dataframe thead th {\n        text-align: right;\n    }\n</style>\n<table border=\"1\" class=\"dataframe\">\n  <thead>\n    <tr style=\"text-align: right;\">\n      <th></th>\n      <th>연번</th>\n      <th>환자</th>\n      <th>확진일</th>\n      <th>거주지</th>\n      <th>여행력</th>\n      <th>접촉력</th>\n      <th>퇴원현황</th>\n    </tr>\n  </thead>\n  <tbody>\n    <tr>\n      <th>0</th>\n      <td>4589</td>\n      <td>21918</td>\n      <td>2020-09-10</td>\n      <td>기타</td>\n      <td>-</td>\n      <td>확인 중</td>\n      <td>NaN</td>\n    </tr>\n    <tr>\n      <th>1</th>\n      <td>4588</td>\n      <td>21916</td>\n      <td>2020-09-10</td>\n      <td>기타</td>\n      <td>-</td>\n      <td>확인 중</td>\n      <td>NaN</td>\n    </tr>\n    <tr>\n      <th>5</th>\n      <td>4584</td>\n      <td>21871</td>\n      <td>2020-09-10</td>\n      <td>관악구</td>\n      <td>-</td>\n      <td>확인 중</td>\n      <td>NaN</td>\n    </tr>\n    <tr>\n      <th>14</th>\n      <td>4575</td>\n      <td>21867</td>\n      <td>2020-09-10</td>\n      <td>서초구</td>\n      <td>-</td>\n      <td>확인 중</td>\n      <td>NaN</td>\n    </tr>\n    <tr>\n      <th>21</th>\n      <td>4568</td>\n      <td>21859</td>\n      <td>2020-09-10</td>\n      <td>송파구</td>\n      <td>-</td>\n      <td>확인 중</td>\n      <td>NaN</td>\n    </tr>\n    <tr>\n      <th>...</th>\n      <td>...</td>\n      <td>...</td>\n      <td>...</td>\n      <td>...</td>\n      <td>...</td>\n      <td>...</td>\n      <td>...</td>\n    </tr>\n    <tr>\n      <th>4533</th>\n      <td>56</td>\n      <td>1768</td>\n      <td>2020-02-25</td>\n      <td>고양시</td>\n      <td>-</td>\n      <td>확인 중</td>\n      <td>퇴원</td>\n    </tr>\n    <tr>\n      <th>4547</th>\n      <td>42</td>\n      <td>1370</td>\n      <td>2020-02-25</td>\n      <td>노원구</td>\n      <td>-</td>\n      <td>확인 중</td>\n      <td>퇴원</td>\n    </tr>\n    <tr>\n      <th>4550</th>\n      <td>39</td>\n      <td>924</td>\n      <td>2020-02-25</td>\n      <td>평택</td>\n      <td>-</td>\n      <td>확인 중</td>\n      <td>퇴원</td>\n    </tr>\n    <tr>\n      <th>4551</th>\n      <td>38</td>\n      <td>907</td>\n      <td>2020-02-25</td>\n      <td>관악구</td>\n      <td>-</td>\n      <td>확인 중</td>\n      <td>퇴원</td>\n    </tr>\n    <tr>\n      <th>4554</th>\n      <td>35</td>\n      <td>870</td>\n      <td>2020-02-25</td>\n      <td>김포</td>\n      <td>-</td>\n      <td>확인 중</td>\n      <td>퇴원</td>\n    </tr>\n  </tbody>\n</table>\n<p>779 rows × 7 columns</p>\n</div>"
     },
     "metadata": {},
     "execution_count": 28
    }
   ],
   "source": [
    "df_untracked = df[df[\"접촉력\"]==\"확인 중\"]\n",
    "df_untracked"
   ]
  },
  {
   "cell_type": "code",
   "execution_count": 29,
   "metadata": {},
   "outputs": [
    {
     "output_type": "execute_result",
     "data": {
      "text/plain": "           date  new_untracked\n0    2020-02-25              6\n1    2020-02-26              1\n2    2020-02-27              2\n3    2020-02-28              2\n4    2020-03-02              2\n..          ...            ...\n125  2020-09-06             13\n126  2020-09-07             19\n127  2020-09-08             11\n128  2020-09-09              9\n129  2020-09-10             12\n\n[130 rows x 2 columns]",
      "text/html": "<div>\n<style scoped>\n    .dataframe tbody tr th:only-of-type {\n        vertical-align: middle;\n    }\n\n    .dataframe tbody tr th {\n        vertical-align: top;\n    }\n\n    .dataframe thead th {\n        text-align: right;\n    }\n</style>\n<table border=\"1\" class=\"dataframe\">\n  <thead>\n    <tr style=\"text-align: right;\">\n      <th></th>\n      <th>date</th>\n      <th>new_untracked</th>\n    </tr>\n  </thead>\n  <tbody>\n    <tr>\n      <th>0</th>\n      <td>2020-02-25</td>\n      <td>6</td>\n    </tr>\n    <tr>\n      <th>1</th>\n      <td>2020-02-26</td>\n      <td>1</td>\n    </tr>\n    <tr>\n      <th>2</th>\n      <td>2020-02-27</td>\n      <td>2</td>\n    </tr>\n    <tr>\n      <th>3</th>\n      <td>2020-02-28</td>\n      <td>2</td>\n    </tr>\n    <tr>\n      <th>4</th>\n      <td>2020-03-02</td>\n      <td>2</td>\n    </tr>\n    <tr>\n      <th>...</th>\n      <td>...</td>\n      <td>...</td>\n    </tr>\n    <tr>\n      <th>125</th>\n      <td>2020-09-06</td>\n      <td>13</td>\n    </tr>\n    <tr>\n      <th>126</th>\n      <td>2020-09-07</td>\n      <td>19</td>\n    </tr>\n    <tr>\n      <th>127</th>\n      <td>2020-09-08</td>\n      <td>11</td>\n    </tr>\n    <tr>\n      <th>128</th>\n      <td>2020-09-09</td>\n      <td>9</td>\n    </tr>\n    <tr>\n      <th>129</th>\n      <td>2020-09-10</td>\n      <td>12</td>\n    </tr>\n  </tbody>\n</table>\n<p>130 rows × 2 columns</p>\n</div>"
     },
     "metadata": {},
     "execution_count": 29
    }
   ],
   "source": [
    "df_untracked_temp = df_untracked.groupby(by=[\"확진일\"]).size()\n",
    "df_untracked_temp = df_untracked_temp.rename_axis('date').reset_index(name='new_untracked')\n",
    "df_untracked_temp"
   ]
  },
  {
   "cell_type": "code",
   "execution_count": 30,
   "metadata": {},
   "outputs": [],
   "source": [
    "df_untracked_no = df_untracked_temp"
   ]
  },
  {
   "cell_type": "code",
   "execution_count": 31,
   "metadata": {},
   "outputs": [
    {
     "output_type": "execute_result",
     "data": {
      "text/plain": "          date  new_confirmed  new_untracked\n0   2020-01-24            1.0            0.0\n1   2020-01-25            0.0            0.0\n2   2020-01-26            0.0            0.0\n3   2020-01-27            0.0            0.0\n4   2020-01-28            0.0            0.0\n5   2020-01-29            0.0            0.0\n6   2020-01-30            3.0            0.0\n7   2020-01-31            3.0            0.0\n8   2020-02-01            0.0            0.0\n9   2020-02-02            1.0            0.0\n10  2020-02-03            0.0            0.0\n11  2020-02-04            0.0            0.0\n12  2020-02-05            2.0            0.0\n13  2020-02-06            1.0            0.0\n14  2020-02-07            1.0            0.0",
      "text/html": "<div>\n<style scoped>\n    .dataframe tbody tr th:only-of-type {\n        vertical-align: middle;\n    }\n\n    .dataframe tbody tr th {\n        vertical-align: top;\n    }\n\n    .dataframe thead th {\n        text-align: right;\n    }\n</style>\n<table border=\"1\" class=\"dataframe\">\n  <thead>\n    <tr style=\"text-align: right;\">\n      <th></th>\n      <th>date</th>\n      <th>new_confirmed</th>\n      <th>new_untracked</th>\n    </tr>\n  </thead>\n  <tbody>\n    <tr>\n      <th>0</th>\n      <td>2020-01-24</td>\n      <td>1.0</td>\n      <td>0.0</td>\n    </tr>\n    <tr>\n      <th>1</th>\n      <td>2020-01-25</td>\n      <td>0.0</td>\n      <td>0.0</td>\n    </tr>\n    <tr>\n      <th>2</th>\n      <td>2020-01-26</td>\n      <td>0.0</td>\n      <td>0.0</td>\n    </tr>\n    <tr>\n      <th>3</th>\n      <td>2020-01-27</td>\n      <td>0.0</td>\n      <td>0.0</td>\n    </tr>\n    <tr>\n      <th>4</th>\n      <td>2020-01-28</td>\n      <td>0.0</td>\n      <td>0.0</td>\n    </tr>\n    <tr>\n      <th>5</th>\n      <td>2020-01-29</td>\n      <td>0.0</td>\n      <td>0.0</td>\n    </tr>\n    <tr>\n      <th>6</th>\n      <td>2020-01-30</td>\n      <td>3.0</td>\n      <td>0.0</td>\n    </tr>\n    <tr>\n      <th>7</th>\n      <td>2020-01-31</td>\n      <td>3.0</td>\n      <td>0.0</td>\n    </tr>\n    <tr>\n      <th>8</th>\n      <td>2020-02-01</td>\n      <td>0.0</td>\n      <td>0.0</td>\n    </tr>\n    <tr>\n      <th>9</th>\n      <td>2020-02-02</td>\n      <td>1.0</td>\n      <td>0.0</td>\n    </tr>\n    <tr>\n      <th>10</th>\n      <td>2020-02-03</td>\n      <td>0.0</td>\n      <td>0.0</td>\n    </tr>\n    <tr>\n      <th>11</th>\n      <td>2020-02-04</td>\n      <td>0.0</td>\n      <td>0.0</td>\n    </tr>\n    <tr>\n      <th>12</th>\n      <td>2020-02-05</td>\n      <td>2.0</td>\n      <td>0.0</td>\n    </tr>\n    <tr>\n      <th>13</th>\n      <td>2020-02-06</td>\n      <td>1.0</td>\n      <td>0.0</td>\n    </tr>\n    <tr>\n      <th>14</th>\n      <td>2020-02-07</td>\n      <td>1.0</td>\n      <td>0.0</td>\n    </tr>\n  </tbody>\n</table>\n</div>"
     },
     "metadata": {},
     "execution_count": 31
    }
   ],
   "source": [
    "df_merged = pd.merge(df_predict, df_untracked_no, how=\"left\", on=\"date\")\n",
    "df_merged = df_merged.fillna(0)\n",
    "df_merged.head(15)"
   ]
  },
  {
   "cell_type": "code",
   "execution_count": 32,
   "metadata": {},
   "outputs": [
    {
     "output_type": "execute_result",
     "data": {
      "text/plain": "           date  new_confirmed  new_untracked\n216  2020-08-27          160.0           38.0\n217  2020-08-28          118.0           34.0\n218  2020-08-29          167.0           23.0\n219  2020-08-30           70.0           17.0\n220  2020-08-31          104.0           18.0\n221  2020-09-01           87.0           20.0\n222  2020-09-02           64.0           12.0\n223  2020-09-03           46.0            6.0\n224  2020-09-04           55.0            6.0\n225  2020-09-05           58.0           19.0\n226  2020-09-06           44.0           13.0\n227  2020-09-07           76.0           19.0\n228  2020-09-08           30.0           11.0\n229  2020-09-09           47.0            9.0\n230  2020-09-10           63.0           12.0",
      "text/html": "<div>\n<style scoped>\n    .dataframe tbody tr th:only-of-type {\n        vertical-align: middle;\n    }\n\n    .dataframe tbody tr th {\n        vertical-align: top;\n    }\n\n    .dataframe thead th {\n        text-align: right;\n    }\n</style>\n<table border=\"1\" class=\"dataframe\">\n  <thead>\n    <tr style=\"text-align: right;\">\n      <th></th>\n      <th>date</th>\n      <th>new_confirmed</th>\n      <th>new_untracked</th>\n    </tr>\n  </thead>\n  <tbody>\n    <tr>\n      <th>216</th>\n      <td>2020-08-27</td>\n      <td>160.0</td>\n      <td>38.0</td>\n    </tr>\n    <tr>\n      <th>217</th>\n      <td>2020-08-28</td>\n      <td>118.0</td>\n      <td>34.0</td>\n    </tr>\n    <tr>\n      <th>218</th>\n      <td>2020-08-29</td>\n      <td>167.0</td>\n      <td>23.0</td>\n    </tr>\n    <tr>\n      <th>219</th>\n      <td>2020-08-30</td>\n      <td>70.0</td>\n      <td>17.0</td>\n    </tr>\n    <tr>\n      <th>220</th>\n      <td>2020-08-31</td>\n      <td>104.0</td>\n      <td>18.0</td>\n    </tr>\n    <tr>\n      <th>221</th>\n      <td>2020-09-01</td>\n      <td>87.0</td>\n      <td>20.0</td>\n    </tr>\n    <tr>\n      <th>222</th>\n      <td>2020-09-02</td>\n      <td>64.0</td>\n      <td>12.0</td>\n    </tr>\n    <tr>\n      <th>223</th>\n      <td>2020-09-03</td>\n      <td>46.0</td>\n      <td>6.0</td>\n    </tr>\n    <tr>\n      <th>224</th>\n      <td>2020-09-04</td>\n      <td>55.0</td>\n      <td>6.0</td>\n    </tr>\n    <tr>\n      <th>225</th>\n      <td>2020-09-05</td>\n      <td>58.0</td>\n      <td>19.0</td>\n    </tr>\n    <tr>\n      <th>226</th>\n      <td>2020-09-06</td>\n      <td>44.0</td>\n      <td>13.0</td>\n    </tr>\n    <tr>\n      <th>227</th>\n      <td>2020-09-07</td>\n      <td>76.0</td>\n      <td>19.0</td>\n    </tr>\n    <tr>\n      <th>228</th>\n      <td>2020-09-08</td>\n      <td>30.0</td>\n      <td>11.0</td>\n    </tr>\n    <tr>\n      <th>229</th>\n      <td>2020-09-09</td>\n      <td>47.0</td>\n      <td>9.0</td>\n    </tr>\n    <tr>\n      <th>230</th>\n      <td>2020-09-10</td>\n      <td>63.0</td>\n      <td>12.0</td>\n    </tr>\n  </tbody>\n</table>\n</div>"
     },
     "metadata": {},
     "execution_count": 32
    }
   ],
   "source": [
    "df_merged.tail(15)"
   ]
  },
  {
   "cell_type": "code",
   "execution_count": 49,
   "metadata": {
    "tags": []
   },
   "outputs": [
    {
     "output_type": "stream",
     "name": "stdout",
     "text": "[1, 1, 1, 1, 1, 1, 2, 4, 4, 4]\n[614, 632, 643, 662, 674, 684, 704, 713, 724, 740]\n"
    }
   ],
   "source": [
    "list_infection_paths_no = []\n",
    "for index, row in df_merged.iterrows():\n",
    "    filter_end_date = row[\"date\"]\n",
    "    # print(filter_end_date)\n",
    "    df_filtered = df.loc[df['확진일'] <= filter_end_date]\n",
    "    \n",
    "    # 확진자 접촉력이 밝혀진 경우\n",
    "    infection_paths_known_no = len(df_filtered[\"접촉력\"].unique())\n",
    "    \n",
    "    # \"기타 확진자 접촉\", \"타시도 확진자 접촉\" 항목 485건 / R0\n",
    "    etc_contact_no = len(df_filtered[df_filtered[\"접촉력\"].str.contains(\"기타 확진자 접촉\")])/1.5\n",
    "    state_contact_no = len(df_filtered[df_filtered[\"접촉력\"].str.contains(\"타시도 확진자 접촉\")])/1.5\n",
    "\n",
    "    infection_paths_no = infection_paths_known_no + etc_contact_no + state_contact_no\n",
    "    list_infection_paths_no.append(int(infection_paths_no))\n",
    "print(list_infection_paths_no[:10])\n",
    "print(list_infection_paths_no[-10:])"
   ]
  },
  {
   "cell_type": "code",
   "execution_count": 50,
   "metadata": {},
   "outputs": [
    {
     "output_type": "execute_result",
     "data": {
      "text/plain": "         date  new_confirmed  new_untracked  no_paths\n0  2020-01-24              1              0         1\n1  2020-01-25              0              0         1\n2  2020-01-26              0              0         1\n3  2020-01-27              0              0         1\n4  2020-01-28              0              0         1",
      "text/html": "<div>\n<style scoped>\n    .dataframe tbody tr th:only-of-type {\n        vertical-align: middle;\n    }\n\n    .dataframe tbody tr th {\n        vertical-align: top;\n    }\n\n    .dataframe thead th {\n        text-align: right;\n    }\n</style>\n<table border=\"1\" class=\"dataframe\">\n  <thead>\n    <tr style=\"text-align: right;\">\n      <th></th>\n      <th>date</th>\n      <th>new_confirmed</th>\n      <th>new_untracked</th>\n      <th>no_paths</th>\n    </tr>\n  </thead>\n  <tbody>\n    <tr>\n      <th>0</th>\n      <td>2020-01-24</td>\n      <td>1</td>\n      <td>0</td>\n      <td>1</td>\n    </tr>\n    <tr>\n      <th>1</th>\n      <td>2020-01-25</td>\n      <td>0</td>\n      <td>0</td>\n      <td>1</td>\n    </tr>\n    <tr>\n      <th>2</th>\n      <td>2020-01-26</td>\n      <td>0</td>\n      <td>0</td>\n      <td>1</td>\n    </tr>\n    <tr>\n      <th>3</th>\n      <td>2020-01-27</td>\n      <td>0</td>\n      <td>0</td>\n      <td>1</td>\n    </tr>\n    <tr>\n      <th>4</th>\n      <td>2020-01-28</td>\n      <td>0</td>\n      <td>0</td>\n      <td>1</td>\n    </tr>\n  </tbody>\n</table>\n</div>"
     },
     "metadata": {},
     "execution_count": 50
    }
   ],
   "source": [
    "df_merged[\"no_paths\"] = list_infection_paths_no\n",
    "df_merged[\"new_confirmed\"] = df_merged[\"new_confirmed\"].apply(int)\n",
    "df_merged[\"new_untracked\"] = df_merged[\"new_untracked\"].apply(int)\n",
    "df_merged.head()"
   ]
  },
  {
   "cell_type": "code",
   "execution_count": 51,
   "metadata": {},
   "outputs": [
    {
     "output_type": "execute_result",
     "data": {
      "text/plain": "           date  new_confirmed  new_untracked  no_paths\n226  2020-09-06             44             13       684\n227  2020-09-07             76             19       704\n228  2020-09-08             30             11       713\n229  2020-09-09             47              9       724\n230  2020-09-10             63             12       740",
      "text/html": "<div>\n<style scoped>\n    .dataframe tbody tr th:only-of-type {\n        vertical-align: middle;\n    }\n\n    .dataframe tbody tr th {\n        vertical-align: top;\n    }\n\n    .dataframe thead th {\n        text-align: right;\n    }\n</style>\n<table border=\"1\" class=\"dataframe\">\n  <thead>\n    <tr style=\"text-align: right;\">\n      <th></th>\n      <th>date</th>\n      <th>new_confirmed</th>\n      <th>new_untracked</th>\n      <th>no_paths</th>\n    </tr>\n  </thead>\n  <tbody>\n    <tr>\n      <th>226</th>\n      <td>2020-09-06</td>\n      <td>44</td>\n      <td>13</td>\n      <td>684</td>\n    </tr>\n    <tr>\n      <th>227</th>\n      <td>2020-09-07</td>\n      <td>76</td>\n      <td>19</td>\n      <td>704</td>\n    </tr>\n    <tr>\n      <th>228</th>\n      <td>2020-09-08</td>\n      <td>30</td>\n      <td>11</td>\n      <td>713</td>\n    </tr>\n    <tr>\n      <th>229</th>\n      <td>2020-09-09</td>\n      <td>47</td>\n      <td>9</td>\n      <td>724</td>\n    </tr>\n    <tr>\n      <th>230</th>\n      <td>2020-09-10</td>\n      <td>63</td>\n      <td>12</td>\n      <td>740</td>\n    </tr>\n  </tbody>\n</table>\n</div>"
     },
     "metadata": {},
     "execution_count": 51
    }
   ],
   "source": [
    "df_merged.tail()"
   ]
  },
  {
   "cell_type": "code",
   "execution_count": 52,
   "metadata": {},
   "outputs": [],
   "source": [
    "df_merged.to_csv(\"dataset_predict/df_predict.csv\", index=False)"
   ]
  },
  {
   "cell_type": "markdown",
   "metadata": {},
   "source": [
    "### Label holiday as column"
   ]
  },
  {
   "cell_type": "code",
   "execution_count": 53,
   "metadata": {},
   "outputs": [
    {
     "output_type": "execute_result",
     "data": {
      "text/plain": "[{'sc': '2000-01-01', 'lc': '1999-11-25', 'w': 7, 'h': True, 'ht': '신정'},\n {'sc': '2000-01-02', 'lc': '1999-11-26', 'w': 1, 'h': False, 'ht': ''},\n {'sc': '2000-01-03', 'lc': '1999-11-27', 'w': 2, 'h': False, 'ht': ''},\n {'sc': '2000-01-04', 'lc': '1999-11-28', 'w': 3, 'h': False, 'ht': ''},\n {'sc': '2000-01-05', 'lc': '1999-11-29', 'w': 4, 'h': False, 'ht': ''},\n {'sc': '2000-01-06', 'lc': '1999-11-30', 'w': 5, 'h': False, 'ht': ''},\n {'sc': '2000-01-07', 'lc': '1999-12-01', 'w': 6, 'h': False, 'ht': ''},\n {'sc': '2000-01-08', 'lc': '1999-12-02', 'w': 7, 'h': False, 'ht': ''},\n {'sc': '2000-01-09', 'lc': '1999-12-03', 'w': 1, 'h': False, 'ht': ''},\n {'sc': '2000-01-10', 'lc': '1999-12-04', 'w': 2, 'h': False, 'ht': ''}]"
     },
     "metadata": {},
     "execution_count": 53
    }
   ],
   "source": [
    "import json\n",
    "\n",
    "list_calendar=[]\n",
    "\n",
    "calendar_file = \"./korean-calendar/korean-calendar.json\"\n",
    "# read file\n",
    "with open(calendar_file, 'r') as myfile:\n",
    "    data=myfile.readlines()\n",
    "\n",
    "data = [x.strip() for x in data] \n",
    "\n",
    "for i in data:\n",
    "    calendar_data = i[43:]\n",
    "    calendar_item = \"{\"+calendar_data\n",
    "    calendar_item_json = json.loads(calendar_item)\n",
    "    list_calendar.append(calendar_item_json)\n",
    "list_calendar[:10]"
   ]
  },
  {
   "cell_type": "code",
   "execution_count": 54,
   "metadata": {},
   "outputs": [
    {
     "output_type": "execute_result",
     "data": {
      "text/plain": "           sc  w      h\n0  2000-01-01  7   True\n1  2000-01-02  1  False\n2  2000-01-03  2  False\n3  2000-01-04  3  False\n4  2000-01-05  4  False",
      "text/html": "<div>\n<style scoped>\n    .dataframe tbody tr th:only-of-type {\n        vertical-align: middle;\n    }\n\n    .dataframe tbody tr th {\n        vertical-align: top;\n    }\n\n    .dataframe thead th {\n        text-align: right;\n    }\n</style>\n<table border=\"1\" class=\"dataframe\">\n  <thead>\n    <tr style=\"text-align: right;\">\n      <th></th>\n      <th>sc</th>\n      <th>w</th>\n      <th>h</th>\n    </tr>\n  </thead>\n  <tbody>\n    <tr>\n      <th>0</th>\n      <td>2000-01-01</td>\n      <td>7</td>\n      <td>True</td>\n    </tr>\n    <tr>\n      <th>1</th>\n      <td>2000-01-02</td>\n      <td>1</td>\n      <td>False</td>\n    </tr>\n    <tr>\n      <th>2</th>\n      <td>2000-01-03</td>\n      <td>2</td>\n      <td>False</td>\n    </tr>\n    <tr>\n      <th>3</th>\n      <td>2000-01-04</td>\n      <td>3</td>\n      <td>False</td>\n    </tr>\n    <tr>\n      <th>4</th>\n      <td>2000-01-05</td>\n      <td>4</td>\n      <td>False</td>\n    </tr>\n  </tbody>\n</table>\n</div>"
     },
     "metadata": {},
     "execution_count": 54
    }
   ],
   "source": [
    "df_calendar = pd.DataFrame(list_calendar)\n",
    "df_calendar = df_calendar[[\"sc\", \"w\", \"h\"]]\n",
    "df_calendar.head()"
   ]
  },
  {
   "cell_type": "code",
   "execution_count": 55,
   "metadata": {},
   "outputs": [],
   "source": [
    "# notate sunday, friday, saturday as weekend: which is 1\n",
    "def label_weekend(row):\n",
    "    # sunday\n",
    "    if row['w'] == 1:\n",
    "        return 1\n",
    "    # friday\n",
    "    if row['w'] == 6:\n",
    "        return 1\n",
    "    # saturday\n",
    "    if row['w'] == 7:\n",
    "        return 1\n",
    "    else:\n",
    "        return 0"
   ]
  },
  {
   "cell_type": "code",
   "execution_count": 56,
   "metadata": {},
   "outputs": [
    {
     "output_type": "execute_result",
     "data": {
      "text/plain": "           sc  w      h  is_weekend\n0  2000-01-01  7   True           1\n1  2000-01-02  1  False           1\n2  2000-01-03  2  False           0\n3  2000-01-04  3  False           0\n4  2000-01-05  4  False           0\n5  2000-01-06  5  False           0\n6  2000-01-07  6  False           1\n7  2000-01-08  7  False           1\n8  2000-01-09  1  False           1\n9  2000-01-10  2  False           0",
      "text/html": "<div>\n<style scoped>\n    .dataframe tbody tr th:only-of-type {\n        vertical-align: middle;\n    }\n\n    .dataframe tbody tr th {\n        vertical-align: top;\n    }\n\n    .dataframe thead th {\n        text-align: right;\n    }\n</style>\n<table border=\"1\" class=\"dataframe\">\n  <thead>\n    <tr style=\"text-align: right;\">\n      <th></th>\n      <th>sc</th>\n      <th>w</th>\n      <th>h</th>\n      <th>is_weekend</th>\n    </tr>\n  </thead>\n  <tbody>\n    <tr>\n      <th>0</th>\n      <td>2000-01-01</td>\n      <td>7</td>\n      <td>True</td>\n      <td>1</td>\n    </tr>\n    <tr>\n      <th>1</th>\n      <td>2000-01-02</td>\n      <td>1</td>\n      <td>False</td>\n      <td>1</td>\n    </tr>\n    <tr>\n      <th>2</th>\n      <td>2000-01-03</td>\n      <td>2</td>\n      <td>False</td>\n      <td>0</td>\n    </tr>\n    <tr>\n      <th>3</th>\n      <td>2000-01-04</td>\n      <td>3</td>\n      <td>False</td>\n      <td>0</td>\n    </tr>\n    <tr>\n      <th>4</th>\n      <td>2000-01-05</td>\n      <td>4</td>\n      <td>False</td>\n      <td>0</td>\n    </tr>\n    <tr>\n      <th>5</th>\n      <td>2000-01-06</td>\n      <td>5</td>\n      <td>False</td>\n      <td>0</td>\n    </tr>\n    <tr>\n      <th>6</th>\n      <td>2000-01-07</td>\n      <td>6</td>\n      <td>False</td>\n      <td>1</td>\n    </tr>\n    <tr>\n      <th>7</th>\n      <td>2000-01-08</td>\n      <td>7</td>\n      <td>False</td>\n      <td>1</td>\n    </tr>\n    <tr>\n      <th>8</th>\n      <td>2000-01-09</td>\n      <td>1</td>\n      <td>False</td>\n      <td>1</td>\n    </tr>\n    <tr>\n      <th>9</th>\n      <td>2000-01-10</td>\n      <td>2</td>\n      <td>False</td>\n      <td>0</td>\n    </tr>\n  </tbody>\n</table>\n</div>"
     },
     "metadata": {},
     "execution_count": 56
    }
   ],
   "source": [
    "df_calendar[\"is_weekend\"] = df_calendar.apply(lambda row: label_weekend(row), axis=1)\n",
    "df_calendar.head(10)"
   ]
  },
  {
   "cell_type": "code",
   "execution_count": 57,
   "metadata": {},
   "outputs": [],
   "source": [
    "# rename dataframe name\n",
    "df_calendar.rename(columns = {'sc':'date', 'h':'is_holiday'}, inplace = True)"
   ]
  },
  {
   "cell_type": "code",
   "execution_count": 58,
   "metadata": {},
   "outputs": [
    {
     "output_type": "execute_result",
     "data": {
      "text/plain": "         date  w is_holiday  is_weekend\n0  2000-01-01  7          1           1\n1  2000-01-02  1          0           1\n2  2000-01-03  2          0           0\n3  2000-01-04  3          0           0\n4  2000-01-05  4          0           0\n5  2000-01-06  5          0           0\n6  2000-01-07  6          0           1\n7  2000-01-08  7          0           1\n8  2000-01-09  1          0           1\n9  2000-01-10  2          0           0",
      "text/html": "<div>\n<style scoped>\n    .dataframe tbody tr th:only-of-type {\n        vertical-align: middle;\n    }\n\n    .dataframe tbody tr th {\n        vertical-align: top;\n    }\n\n    .dataframe thead th {\n        text-align: right;\n    }\n</style>\n<table border=\"1\" class=\"dataframe\">\n  <thead>\n    <tr style=\"text-align: right;\">\n      <th></th>\n      <th>date</th>\n      <th>w</th>\n      <th>is_holiday</th>\n      <th>is_weekend</th>\n    </tr>\n  </thead>\n  <tbody>\n    <tr>\n      <th>0</th>\n      <td>2000-01-01</td>\n      <td>7</td>\n      <td>1</td>\n      <td>1</td>\n    </tr>\n    <tr>\n      <th>1</th>\n      <td>2000-01-02</td>\n      <td>1</td>\n      <td>0</td>\n      <td>1</td>\n    </tr>\n    <tr>\n      <th>2</th>\n      <td>2000-01-03</td>\n      <td>2</td>\n      <td>0</td>\n      <td>0</td>\n    </tr>\n    <tr>\n      <th>3</th>\n      <td>2000-01-04</td>\n      <td>3</td>\n      <td>0</td>\n      <td>0</td>\n    </tr>\n    <tr>\n      <th>4</th>\n      <td>2000-01-05</td>\n      <td>4</td>\n      <td>0</td>\n      <td>0</td>\n    </tr>\n    <tr>\n      <th>5</th>\n      <td>2000-01-06</td>\n      <td>5</td>\n      <td>0</td>\n      <td>0</td>\n    </tr>\n    <tr>\n      <th>6</th>\n      <td>2000-01-07</td>\n      <td>6</td>\n      <td>0</td>\n      <td>1</td>\n    </tr>\n    <tr>\n      <th>7</th>\n      <td>2000-01-08</td>\n      <td>7</td>\n      <td>0</td>\n      <td>1</td>\n    </tr>\n    <tr>\n      <th>8</th>\n      <td>2000-01-09</td>\n      <td>1</td>\n      <td>0</td>\n      <td>1</td>\n    </tr>\n    <tr>\n      <th>9</th>\n      <td>2000-01-10</td>\n      <td>2</td>\n      <td>0</td>\n      <td>0</td>\n    </tr>\n  </tbody>\n</table>\n</div>"
     },
     "metadata": {},
     "execution_count": 58
    }
   ],
   "source": [
    "# if it is holiday, notate as 1. If not, notate as 0\n",
    "df_calendar.loc[df_calendar[\"is_holiday\"]==True, \"is_holiday\"] = 1\n",
    "df_calendar.loc[df_calendar[\"is_holiday\"]==False, \"is_holiday\"] = 0\n",
    "df_calendar[:10]"
   ]
  },
  {
   "cell_type": "code",
   "execution_count": 59,
   "metadata": {},
   "outputs": [],
   "source": [
    "df_calendar.to_csv(\"dataset_predict/df_calendar.csv\", index=False)"
   ]
  },
  {
   "cell_type": "code",
   "execution_count": 60,
   "metadata": {},
   "outputs": [],
   "source": [
    "df_calendar_subset = df_calendar[[\"date\", \"is_holiday\", \"is_weekend\"]]"
   ]
  },
  {
   "cell_type": "code",
   "execution_count": 61,
   "metadata": {},
   "outputs": [
    {
     "output_type": "execute_result",
     "data": {
      "text/plain": "           date  new_confirmed  new_untracked  no_paths is_holiday  is_weekend\n226  2020-09-06             44             13       684          0           1\n227  2020-09-07             76             19       704          0           0\n228  2020-09-08             30             11       713          0           0\n229  2020-09-09             47              9       724          0           0\n230  2020-09-10             63             12       740          0           0",
      "text/html": "<div>\n<style scoped>\n    .dataframe tbody tr th:only-of-type {\n        vertical-align: middle;\n    }\n\n    .dataframe tbody tr th {\n        vertical-align: top;\n    }\n\n    .dataframe thead th {\n        text-align: right;\n    }\n</style>\n<table border=\"1\" class=\"dataframe\">\n  <thead>\n    <tr style=\"text-align: right;\">\n      <th></th>\n      <th>date</th>\n      <th>new_confirmed</th>\n      <th>new_untracked</th>\n      <th>no_paths</th>\n      <th>is_holiday</th>\n      <th>is_weekend</th>\n    </tr>\n  </thead>\n  <tbody>\n    <tr>\n      <th>226</th>\n      <td>2020-09-06</td>\n      <td>44</td>\n      <td>13</td>\n      <td>684</td>\n      <td>0</td>\n      <td>1</td>\n    </tr>\n    <tr>\n      <th>227</th>\n      <td>2020-09-07</td>\n      <td>76</td>\n      <td>19</td>\n      <td>704</td>\n      <td>0</td>\n      <td>0</td>\n    </tr>\n    <tr>\n      <th>228</th>\n      <td>2020-09-08</td>\n      <td>30</td>\n      <td>11</td>\n      <td>713</td>\n      <td>0</td>\n      <td>0</td>\n    </tr>\n    <tr>\n      <th>229</th>\n      <td>2020-09-09</td>\n      <td>47</td>\n      <td>9</td>\n      <td>724</td>\n      <td>0</td>\n      <td>0</td>\n    </tr>\n    <tr>\n      <th>230</th>\n      <td>2020-09-10</td>\n      <td>63</td>\n      <td>12</td>\n      <td>740</td>\n      <td>0</td>\n      <td>0</td>\n    </tr>\n  </tbody>\n</table>\n</div>"
     },
     "metadata": {},
     "execution_count": 61
    }
   ],
   "source": [
    "df_train = pd.merge(df_merged, df_calendar_subset, how=\"left\", on=\"date\")\n",
    "df_train.tail()"
   ]
  },
  {
   "cell_type": "markdown",
   "metadata": {},
   "source": [
    "### Add Government Social Distancing Policy"
   ]
  },
  {
   "cell_type": "code",
   "execution_count": 62,
   "metadata": {},
   "outputs": [
    {
     "output_type": "execute_result",
     "data": {
      "text/plain": "           date  new_confirmed  new_untracked  no_paths is_holiday  \\\n221  2020-09-01             87             20       614          0   \n222  2020-09-02             64             12       632          0   \n223  2020-09-03             46              6       643          0   \n224  2020-09-04             55              6       662          0   \n225  2020-09-05             58             19       674          0   \n226  2020-09-06             44             13       684          0   \n227  2020-09-07             76             19       704          0   \n228  2020-09-08             30             11       713          0   \n229  2020-09-09             47              9       724          0   \n230  2020-09-10             63             12       740          0   \n\n     is_weekend  gov_policy  \n221           0           0  \n222           0           0  \n223           0           0  \n224           1           0  \n225           1           0  \n226           1           0  \n227           0           0  \n228           0           0  \n229           0           0  \n230           0           0  ",
      "text/html": "<div>\n<style scoped>\n    .dataframe tbody tr th:only-of-type {\n        vertical-align: middle;\n    }\n\n    .dataframe tbody tr th {\n        vertical-align: top;\n    }\n\n    .dataframe thead th {\n        text-align: right;\n    }\n</style>\n<table border=\"1\" class=\"dataframe\">\n  <thead>\n    <tr style=\"text-align: right;\">\n      <th></th>\n      <th>date</th>\n      <th>new_confirmed</th>\n      <th>new_untracked</th>\n      <th>no_paths</th>\n      <th>is_holiday</th>\n      <th>is_weekend</th>\n      <th>gov_policy</th>\n    </tr>\n  </thead>\n  <tbody>\n    <tr>\n      <th>221</th>\n      <td>2020-09-01</td>\n      <td>87</td>\n      <td>20</td>\n      <td>614</td>\n      <td>0</td>\n      <td>0</td>\n      <td>0</td>\n    </tr>\n    <tr>\n      <th>222</th>\n      <td>2020-09-02</td>\n      <td>64</td>\n      <td>12</td>\n      <td>632</td>\n      <td>0</td>\n      <td>0</td>\n      <td>0</td>\n    </tr>\n    <tr>\n      <th>223</th>\n      <td>2020-09-03</td>\n      <td>46</td>\n      <td>6</td>\n      <td>643</td>\n      <td>0</td>\n      <td>0</td>\n      <td>0</td>\n    </tr>\n    <tr>\n      <th>224</th>\n      <td>2020-09-04</td>\n      <td>55</td>\n      <td>6</td>\n      <td>662</td>\n      <td>0</td>\n      <td>1</td>\n      <td>0</td>\n    </tr>\n    <tr>\n      <th>225</th>\n      <td>2020-09-05</td>\n      <td>58</td>\n      <td>19</td>\n      <td>674</td>\n      <td>0</td>\n      <td>1</td>\n      <td>0</td>\n    </tr>\n    <tr>\n      <th>226</th>\n      <td>2020-09-06</td>\n      <td>44</td>\n      <td>13</td>\n      <td>684</td>\n      <td>0</td>\n      <td>1</td>\n      <td>0</td>\n    </tr>\n    <tr>\n      <th>227</th>\n      <td>2020-09-07</td>\n      <td>76</td>\n      <td>19</td>\n      <td>704</td>\n      <td>0</td>\n      <td>0</td>\n      <td>0</td>\n    </tr>\n    <tr>\n      <th>228</th>\n      <td>2020-09-08</td>\n      <td>30</td>\n      <td>11</td>\n      <td>713</td>\n      <td>0</td>\n      <td>0</td>\n      <td>0</td>\n    </tr>\n    <tr>\n      <th>229</th>\n      <td>2020-09-09</td>\n      <td>47</td>\n      <td>9</td>\n      <td>724</td>\n      <td>0</td>\n      <td>0</td>\n      <td>0</td>\n    </tr>\n    <tr>\n      <th>230</th>\n      <td>2020-09-10</td>\n      <td>63</td>\n      <td>12</td>\n      <td>740</td>\n      <td>0</td>\n      <td>0</td>\n      <td>0</td>\n    </tr>\n  </tbody>\n</table>\n</div>"
     },
     "metadata": {},
     "execution_count": 62
    }
   ],
   "source": [
    "df_train[\"gov_policy\"] = 0\n",
    "df_train[-10:]"
   ]
  },
  {
   "cell_type": "code",
   "execution_count": 63,
   "metadata": {},
   "outputs": [
    {
     "output_type": "execute_result",
     "data": {
      "text/plain": "           date  new_confirmed  new_untracked  no_paths is_holiday  \\\n203  2020-08-14             73              4       214          0   \n204  2020-08-15            146              6       221          1   \n205  2020-08-16             91              4       228          0   \n206  2020-08-17            132              7       233          0   \n207  2020-08-18            151             18       239          0   \n208  2020-08-19            135             19       259          0   \n209  2020-08-20            126             28       280          0   \n210  2020-08-21            128             32       304          0   \n211  2020-08-22            143             44       332          0   \n212  2020-08-23             98             25       358          0   \n213  2020-08-24            136             45       391          0   \n214  2020-08-25            116             35       417          0   \n215  2020-08-26            157             44       448          0   \n216  2020-08-27            160             38       486          0   \n217  2020-08-28            118             34       521          0   \n218  2020-08-29            167             23       555          0   \n219  2020-08-30             70             17       573          0   \n220  2020-08-31            104             18       597          0   \n221  2020-09-01             87             20       614          0   \n\n     is_weekend  gov_policy  \n203           1           0  \n204           1           0  \n205           1           2  \n206           0           2  \n207           0           2  \n208           0           3  \n209           0           3  \n210           1           3  \n211           1           3  \n212           1           3  \n213           0           3  \n214           0           3  \n215           0           3  \n216           0           3  \n217           1           3  \n218           1           3  \n219           1           3  \n220           0           3  \n221           0           3  ",
      "text/html": "<div>\n<style scoped>\n    .dataframe tbody tr th:only-of-type {\n        vertical-align: middle;\n    }\n\n    .dataframe tbody tr th {\n        vertical-align: top;\n    }\n\n    .dataframe thead th {\n        text-align: right;\n    }\n</style>\n<table border=\"1\" class=\"dataframe\">\n  <thead>\n    <tr style=\"text-align: right;\">\n      <th></th>\n      <th>date</th>\n      <th>new_confirmed</th>\n      <th>new_untracked</th>\n      <th>no_paths</th>\n      <th>is_holiday</th>\n      <th>is_weekend</th>\n      <th>gov_policy</th>\n    </tr>\n  </thead>\n  <tbody>\n    <tr>\n      <th>203</th>\n      <td>2020-08-14</td>\n      <td>73</td>\n      <td>4</td>\n      <td>214</td>\n      <td>0</td>\n      <td>1</td>\n      <td>0</td>\n    </tr>\n    <tr>\n      <th>204</th>\n      <td>2020-08-15</td>\n      <td>146</td>\n      <td>6</td>\n      <td>221</td>\n      <td>1</td>\n      <td>1</td>\n      <td>0</td>\n    </tr>\n    <tr>\n      <th>205</th>\n      <td>2020-08-16</td>\n      <td>91</td>\n      <td>4</td>\n      <td>228</td>\n      <td>0</td>\n      <td>1</td>\n      <td>2</td>\n    </tr>\n    <tr>\n      <th>206</th>\n      <td>2020-08-17</td>\n      <td>132</td>\n      <td>7</td>\n      <td>233</td>\n      <td>0</td>\n      <td>0</td>\n      <td>2</td>\n    </tr>\n    <tr>\n      <th>207</th>\n      <td>2020-08-18</td>\n      <td>151</td>\n      <td>18</td>\n      <td>239</td>\n      <td>0</td>\n      <td>0</td>\n      <td>2</td>\n    </tr>\n    <tr>\n      <th>208</th>\n      <td>2020-08-19</td>\n      <td>135</td>\n      <td>19</td>\n      <td>259</td>\n      <td>0</td>\n      <td>0</td>\n      <td>3</td>\n    </tr>\n    <tr>\n      <th>209</th>\n      <td>2020-08-20</td>\n      <td>126</td>\n      <td>28</td>\n      <td>280</td>\n      <td>0</td>\n      <td>0</td>\n      <td>3</td>\n    </tr>\n    <tr>\n      <th>210</th>\n      <td>2020-08-21</td>\n      <td>128</td>\n      <td>32</td>\n      <td>304</td>\n      <td>0</td>\n      <td>1</td>\n      <td>3</td>\n    </tr>\n    <tr>\n      <th>211</th>\n      <td>2020-08-22</td>\n      <td>143</td>\n      <td>44</td>\n      <td>332</td>\n      <td>0</td>\n      <td>1</td>\n      <td>3</td>\n    </tr>\n    <tr>\n      <th>212</th>\n      <td>2020-08-23</td>\n      <td>98</td>\n      <td>25</td>\n      <td>358</td>\n      <td>0</td>\n      <td>1</td>\n      <td>3</td>\n    </tr>\n    <tr>\n      <th>213</th>\n      <td>2020-08-24</td>\n      <td>136</td>\n      <td>45</td>\n      <td>391</td>\n      <td>0</td>\n      <td>0</td>\n      <td>3</td>\n    </tr>\n    <tr>\n      <th>214</th>\n      <td>2020-08-25</td>\n      <td>116</td>\n      <td>35</td>\n      <td>417</td>\n      <td>0</td>\n      <td>0</td>\n      <td>3</td>\n    </tr>\n    <tr>\n      <th>215</th>\n      <td>2020-08-26</td>\n      <td>157</td>\n      <td>44</td>\n      <td>448</td>\n      <td>0</td>\n      <td>0</td>\n      <td>3</td>\n    </tr>\n    <tr>\n      <th>216</th>\n      <td>2020-08-27</td>\n      <td>160</td>\n      <td>38</td>\n      <td>486</td>\n      <td>0</td>\n      <td>0</td>\n      <td>3</td>\n    </tr>\n    <tr>\n      <th>217</th>\n      <td>2020-08-28</td>\n      <td>118</td>\n      <td>34</td>\n      <td>521</td>\n      <td>0</td>\n      <td>1</td>\n      <td>3</td>\n    </tr>\n    <tr>\n      <th>218</th>\n      <td>2020-08-29</td>\n      <td>167</td>\n      <td>23</td>\n      <td>555</td>\n      <td>0</td>\n      <td>1</td>\n      <td>3</td>\n    </tr>\n    <tr>\n      <th>219</th>\n      <td>2020-08-30</td>\n      <td>70</td>\n      <td>17</td>\n      <td>573</td>\n      <td>0</td>\n      <td>1</td>\n      <td>3</td>\n    </tr>\n    <tr>\n      <th>220</th>\n      <td>2020-08-31</td>\n      <td>104</td>\n      <td>18</td>\n      <td>597</td>\n      <td>0</td>\n      <td>0</td>\n      <td>3</td>\n    </tr>\n    <tr>\n      <th>221</th>\n      <td>2020-09-01</td>\n      <td>87</td>\n      <td>20</td>\n      <td>614</td>\n      <td>0</td>\n      <td>0</td>\n      <td>3</td>\n    </tr>\n  </tbody>\n</table>\n</div>"
     },
     "metadata": {},
     "execution_count": 63
    }
   ],
   "source": [
    "# 서울의 사회적 거리두기 2단계는 8월 16일부터 조치됨\n",
    "# 서울에는 8월 19일 0시 기준으로 새로운 조치들이 추가되며, 흔히 얘기하는 2.5단계가 됨. 이후에 기간 연장을 해서 9.7(월)0시 ~ 9.13(일)24시까지 2.5단계가 시행됨\n",
    "\n",
    "df_train.loc[(df_train[\"date\"]>=\"2020-08-16\") & (df_train[\"date\"]<=\"2020-08-18\"),\"gov_policy\"] = 2\n",
    "df_train.loc[(df_train[\"date\"]>=\"2020-08-19\") & (df_train[\"date\"]<=\"2020-09-13\"),\"gov_policy\"] = 3\n",
    "df_train[(df_train[\"date\"]<=\"2020-09-01\") & (df_train[\"date\"]>=\"2020-08-14\")]"
   ]
  },
  {
   "cell_type": "code",
   "execution_count": 64,
   "metadata": {},
   "outputs": [],
   "source": [
    "df_train.to_csv(\"./dataset_predict/df_train.csv\", index=False)"
   ]
  },
  {
   "cell_type": "code",
   "execution_count": null,
   "metadata": {},
   "outputs": [],
   "source": []
  }
 ]
}