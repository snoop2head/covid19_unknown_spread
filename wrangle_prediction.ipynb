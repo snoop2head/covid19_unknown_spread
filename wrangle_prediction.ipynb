{
 "metadata": {
  "language_info": {
   "codemirror_mode": {
    "name": "ipython",
    "version": 3
   },
   "file_extension": ".py",
   "mimetype": "text/x-python",
   "name": "python",
   "nbconvert_exporter": "python",
   "pygments_lexer": "ipython3",
   "version": "3.8.3-final"
  },
  "orig_nbformat": 2,
  "kernelspec": {
   "name": "python38364bitdatavenvfe97dd12d13941c2ad0777a7539abb51",
   "display_name": "Python 3.8.3 64-bit ('data': venv)"
  }
 },
 "nbformat": 4,
 "nbformat_minor": 2,
 "cells": [
  {
   "cell_type": "code",
   "execution_count": 1,
   "metadata": {},
   "outputs": [],
   "source": [
    "import pandas as pd\n",
    "import numpy as np"
   ]
  },
  {
   "cell_type": "code",
   "execution_count": 2,
   "metadata": {},
   "outputs": [],
   "source": [
    "import os\n",
    "from os import fdopen, remove, walk\n",
    "import glob\n",
    "from tempfile import mkstemp\n",
    "import shutil\n",
    "from shutil import move, copymode"
   ]
  },
  {
   "cell_type": "code",
   "execution_count": 3,
   "metadata": {},
   "outputs": [],
   "source": [
    "from datetime import date"
   ]
  },
  {
   "cell_type": "code",
   "execution_count": 4,
   "metadata": {},
   "outputs": [
    {
     "output_type": "execute_result",
     "data": {
      "text/plain": "['/Users/noopy/covid19_unknown_spread/dataset/seoul_covid_8_31_.csv',\n '/Users/noopy/covid19_unknown_spread/dataset/seoul_covid_9_07_.csv',\n '/Users/noopy/covid19_unknown_spread/dataset/seoul_covid_8_30_.csv',\n '/Users/noopy/covid19_unknown_spread/dataset/seoul_covid_8_17_.csv',\n '/Users/noopy/covid19_unknown_spread/dataset/seoul_covid_8_21_.csv']"
     },
     "metadata": {},
     "execution_count": 4
    }
   ],
   "source": [
    "DATASET_PATH = \"/Users/noopy/covid19_unknown_spread/dataset\"\n",
    "datasets = glob.glob(f\"{DATASET_PATH}/*.csv\")\n",
    "datasets[:5]"
   ]
  },
  {
   "cell_type": "code",
   "execution_count": 5,
   "metadata": {
    "tags": []
   },
   "outputs": [],
   "source": [
    "# get oldest file in the dataset folder\n",
    "import os, heapq\n",
    "def newst_files_in_tree(rootfolder, count=1, extension=\".csv\"):\n",
    "    return heapq.nlargest(count,\n",
    "        (os.path.join(dirname, filename)\n",
    "        for dirname, dirnames, filenames in os.walk(rootfolder)\n",
    "        for filename in filenames\n",
    "        if filename.endswith(extension)),\n",
    "        key=lambda fn: os.stat(fn).st_mtime)"
   ]
  },
  {
   "cell_type": "code",
   "execution_count": 6,
   "metadata": {},
   "outputs": [],
   "source": [
    "newst_csv = newst_files_in_tree(DATASET_PATH)[0]"
   ]
  },
  {
   "cell_type": "code",
   "execution_count": 7,
   "metadata": {},
   "outputs": [
    {
     "output_type": "execute_result",
     "data": {
      "text/plain": "        연번     환자    확진일   거주지 여행력            접촉력 퇴원현황\n3095  1334  12919  7.01.  동대문구   -           확인 중   퇴원\n2990  1439  13542  7.14.   종로구   -     강남구 사무실 관련   퇴원\n1442  2987  17756  8.24.    기타   -        다래경매 관련  NaN\n987   3442  18740  8.27.   성북구   -  성북구 사랑제일교회 관련  NaN\n3835   594  10442  4.09.   성동구   -      #10407 접촉   퇴원\n2140  2289  15876  8.18.   송파구   -          골드트레인  NaN\n1808  2621  16421  8.20.   중랑구   -       해외 접촉 추정  NaN\n4164   265   8408  3.16.   관악구   -            확인중   퇴원\n3534   895  11585  6.02.   강서구   -        삼성화재 관련   퇴원\n3802   627  10693  4.21.   마포구  일본       해외 접촉 추정   퇴원\n216   4213  20963  9.04.   관악구   -    동작구 카드 발급업체  NaN\n2168  2261  16015  8.18.   서초구   -           확인 중   퇴원\n3280  1149  12217  6.17.   도봉구   -        요양시설 관련   퇴원\n851   3578  19321  8.28.  영등포구   -      기타 확진자 접촉  NaN\n4038   391   9696  3.28.   구로구   -      구로구 교회 관련   퇴원",
      "text/html": "<div>\n<style scoped>\n    .dataframe tbody tr th:only-of-type {\n        vertical-align: middle;\n    }\n\n    .dataframe tbody tr th {\n        vertical-align: top;\n    }\n\n    .dataframe thead th {\n        text-align: right;\n    }\n</style>\n<table border=\"1\" class=\"dataframe\">\n  <thead>\n    <tr style=\"text-align: right;\">\n      <th></th>\n      <th>연번</th>\n      <th>환자</th>\n      <th>확진일</th>\n      <th>거주지</th>\n      <th>여행력</th>\n      <th>접촉력</th>\n      <th>퇴원현황</th>\n    </tr>\n  </thead>\n  <tbody>\n    <tr>\n      <th>3095</th>\n      <td>1334</td>\n      <td>12919</td>\n      <td>7.01.</td>\n      <td>동대문구</td>\n      <td>-</td>\n      <td>확인 중</td>\n      <td>퇴원</td>\n    </tr>\n    <tr>\n      <th>2990</th>\n      <td>1439</td>\n      <td>13542</td>\n      <td>7.14.</td>\n      <td>종로구</td>\n      <td>-</td>\n      <td>강남구 사무실 관련</td>\n      <td>퇴원</td>\n    </tr>\n    <tr>\n      <th>1442</th>\n      <td>2987</td>\n      <td>17756</td>\n      <td>8.24.</td>\n      <td>기타</td>\n      <td>-</td>\n      <td>다래경매 관련</td>\n      <td>NaN</td>\n    </tr>\n    <tr>\n      <th>987</th>\n      <td>3442</td>\n      <td>18740</td>\n      <td>8.27.</td>\n      <td>성북구</td>\n      <td>-</td>\n      <td>성북구 사랑제일교회 관련</td>\n      <td>NaN</td>\n    </tr>\n    <tr>\n      <th>3835</th>\n      <td>594</td>\n      <td>10442</td>\n      <td>4.09.</td>\n      <td>성동구</td>\n      <td>-</td>\n      <td>#10407 접촉</td>\n      <td>퇴원</td>\n    </tr>\n    <tr>\n      <th>2140</th>\n      <td>2289</td>\n      <td>15876</td>\n      <td>8.18.</td>\n      <td>송파구</td>\n      <td>-</td>\n      <td>골드트레인</td>\n      <td>NaN</td>\n    </tr>\n    <tr>\n      <th>1808</th>\n      <td>2621</td>\n      <td>16421</td>\n      <td>8.20.</td>\n      <td>중랑구</td>\n      <td>-</td>\n      <td>해외 접촉 추정</td>\n      <td>NaN</td>\n    </tr>\n    <tr>\n      <th>4164</th>\n      <td>265</td>\n      <td>8408</td>\n      <td>3.16.</td>\n      <td>관악구</td>\n      <td>-</td>\n      <td>확인중</td>\n      <td>퇴원</td>\n    </tr>\n    <tr>\n      <th>3534</th>\n      <td>895</td>\n      <td>11585</td>\n      <td>6.02.</td>\n      <td>강서구</td>\n      <td>-</td>\n      <td>삼성화재 관련</td>\n      <td>퇴원</td>\n    </tr>\n    <tr>\n      <th>3802</th>\n      <td>627</td>\n      <td>10693</td>\n      <td>4.21.</td>\n      <td>마포구</td>\n      <td>일본</td>\n      <td>해외 접촉 추정</td>\n      <td>퇴원</td>\n    </tr>\n    <tr>\n      <th>216</th>\n      <td>4213</td>\n      <td>20963</td>\n      <td>9.04.</td>\n      <td>관악구</td>\n      <td>-</td>\n      <td>동작구 카드 발급업체</td>\n      <td>NaN</td>\n    </tr>\n    <tr>\n      <th>2168</th>\n      <td>2261</td>\n      <td>16015</td>\n      <td>8.18.</td>\n      <td>서초구</td>\n      <td>-</td>\n      <td>확인 중</td>\n      <td>퇴원</td>\n    </tr>\n    <tr>\n      <th>3280</th>\n      <td>1149</td>\n      <td>12217</td>\n      <td>6.17.</td>\n      <td>도봉구</td>\n      <td>-</td>\n      <td>요양시설 관련</td>\n      <td>퇴원</td>\n    </tr>\n    <tr>\n      <th>851</th>\n      <td>3578</td>\n      <td>19321</td>\n      <td>8.28.</td>\n      <td>영등포구</td>\n      <td>-</td>\n      <td>기타 확진자 접촉</td>\n      <td>NaN</td>\n    </tr>\n    <tr>\n      <th>4038</th>\n      <td>391</td>\n      <td>9696</td>\n      <td>3.28.</td>\n      <td>구로구</td>\n      <td>-</td>\n      <td>구로구 교회 관련</td>\n      <td>퇴원</td>\n    </tr>\n  </tbody>\n</table>\n</div>"
     },
     "metadata": {},
     "execution_count": 7
    }
   ],
   "source": [
    "df_temp = pd.read_csv(newst_csv, encoding=\"utf-8\")\n",
    "df_temp.sample(15)"
   ]
  },
  {
   "cell_type": "code",
   "execution_count": 8,
   "metadata": {},
   "outputs": [
    {
     "output_type": "execute_result",
     "data": {
      "text/plain": "array(['확인 중'], dtype=object)"
     },
     "metadata": {},
     "execution_count": 8
    }
   ],
   "source": [
    "# overwrite whatever cell value that contains \"확인\" as \"확인 중\"\n",
    "df_temp.loc[df_temp[\"접촉력\"].str.contains(\"확인\"),\"접촉력\"] = \"확인 중\"\n",
    "\n",
    "# check whether those two arrays are combined\n",
    "df_temp.loc[df_temp[\"접촉력\"].str.contains(\"확인\"),\"접촉력\"].unique()"
   ]
  },
  {
   "cell_type": "code",
   "execution_count": 9,
   "metadata": {},
   "outputs": [],
   "source": [
    "df_temp[\"접촉력\"] = df_temp[\"접촉력\"].str.replace(\"관련\", \"\")\n",
    "df_temp[\"접촉력\"] = df_temp[\"접촉력\"].str.strip()"
   ]
  },
  {
   "cell_type": "code",
   "execution_count": 10,
   "metadata": {
    "tags": []
   },
   "outputs": [
    {
     "output_type": "stream",
     "name": "stdout",
     "text": "230\n"
    },
    {
     "output_type": "execute_result",
     "data": {
      "text/plain": "array(['확인 중', '영등포구 일련정종 포교소', '기타 확진자 접촉', '타시도 확진자 접촉',\n       '강동구 BF모바일 콜센터', '영등포 지인모임', '노원구 빛가온교회', '송파구 쿠팡 물류센터',\n       '영등포구 국회출입기자', '은평구 수색성당', '광진구 혜민병원', '은평구 헤어콕', '8.15도심집회',\n       '서울 아산병원', '관악구 가족모임', '해외 접촉 추정', '극단 산', '동작구 카드 발급업체',\n       '영등포구 큰권능교회', '서초구 장애인교육시설', '노원구 기도모임', '강동구 소재 병원', '성북구 사랑제일교회',\n       '도봉구 운동시설', '다래경매', '성북구 체대입시', '성북구 요양시설', '중구소재 은행',\n       '중랑구 소재 체육시설', '관악구 에바다', '동작구 소재 서울신학교', '용인시 우리제일교회', '노원구 손해보험',\n       '구로구 보성운수', '강서구 서울대효요양병원', '서대문구 지인모임', '강북구 일가족', '강서구 보안회사',\n       '롯데리아 종사자 모임', '구로구 아파트', '강남구 소재 아파트', '제주 게스트하우스', '성북구 벧엘장로교회',\n       '관악구 김혜근의원', '동대문구 sk탁구클럽', '동작구 스터디카페', 'KT가좌지사', '군인권센터',\n       '동작구 요양시설', '영등포구 권능교회', '여의도 순복음교회', '중구 보험회사(현대해상)', '강서구 병원',\n       '8.15도심집회(순복음 강북교회)', '중앙보훈병원', '종로구 혜화경찰서', '양천구 되새김교회', '현대커머셜',\n       '8.15도심집회(녹색병원)', '영등포 IFC몰 오케스트로', '고양시 반석교회(케네디상가)', '롯데 자산개발',\n       '골드트레인', '한양대병원', '순복음 강북교회', '서대문구 지인 모임', '강동구 어린이집', '광화문집회',\n       '은평구 성경공부모임', '관악구 요양병원', '고대 안암병원', '마포구 푸본생명콜센터', '성동구 가족',\n       '양천구 되새김 교회', '중구 통일상가', '고양시 반석교회  (케네디상가)', '강남구 판매업소(골드트레인)',\n       '양천구 확진자 접촉', '영등포구 확진자 접촉', '강남구 확진자 접촉', '강남구 판매업소',\n       '광진구 확진자 접촉', '고양시 반석교회 (케네디상가)', '구로구 확진자 접촉', '종로구 확진자 접촉',\n       '성북구 확진자 접촉', '서초구 확진자 접촉', '마포구 확진자 접촉', '#14483 접촉', '#14488 접촉',\n       '도봉구 가족', '강남구 커피전문점', '선교회 소모임', '도봉구 확진자 접촉', '송파구 교회',\n       '강서구 확진자 접촉', '송파구 확진자 접촉', '종로구 지인모임 신명투자', '강서구 요양시설',\n       '강남구 사무실 K빌딩', '송파구 지인모임', '관악구 확진자 접촉', '중구 확진자 접촉', '강북구 확진자 접촉',\n       '관악구 사무실', '은평구 확진자 접촉', '강남구 사무실', '강남역삼동 금융회사', '성동구 확진자 접촉',\n       '강남구 이동통신 종사자', '강남구 역삼동 모임', '용산구 확진자 접촉', '왕성교회', '중랑구 일가족',\n       '관악구 일가족', '대전 꿈꾸는 교회', '리치웨이', '동작구 확진자 접촉', '금천구 확진자 접촉', '요양시설',\n       '강동구 확진자 접촉', '시청역', '대자연코리아', '의왕 물류센터', '금천구 도정기 회사', '양천구 운동시설',\n       '대전 다단계', '오렌지라이프', '수도권 개척교회', '타시도 확진자 접촉자', '연아나뉴스클래스',\n       '한국대학생선교회', '해외접촉 추정', 'kb 생명보험', '부천시 쿠팡', '이태원 클럽', '용인 형제',\n       '삼성화재', '서초구 가족', '안양군포 목회자', '영등포 학원', '강남구 동인교회', '원어성경연구회',\n       '#11196 접촉', '삼성서울병원', '#10054 접촉', '#9800 접촉', '#10044 접촉',\n       '#9641 접촉', '구로구 교회', '#10407 접촉', '#10015 접촉', '#9364 접촉',\n       '#10377 접촉', '#9287 접촉', '#10142 접촉', '#9912 접촉', '#9765 접촉',\n       '#10115 접촉', '타시도 확진자 접촉(추정)', '#8063 접촉', '#10084 접촉', '#8601 접촉',\n       '#8717 접촉', '#9946 접촉', '콜센터직원 접촉', '#8271 접촉', '#8669 접촉',\n       '#9734 접촉', '#9621 접촉', '#9572 접촉', '#9525 접촉', '#7914 접촉',\n       '#8791 접촉', '#9219 접촉', '#8057 접촉', '#8079 접촉', '#8646 접촉',\n       '#9020 접촉', '#8245 접촉', '#8709 접촉 추정', '#8881 접촉 추정', '구로구 콜센터',\n       '#8486 접촉', '동대문구', '#8196 접촉', '#8138 접촉', '구로구 콜센터 접촉',\n       '#8044 접촉', '해외 접촉', '#7923 접촉', '신천지 추정', '#7573 접축 추정',\n       '#6959 접촉(추정)', '#7280 접촉(추정)', '#7500 접촉(추정)', '#6727 첩촉',\n       '대구 거주', '#6832 접촉자', '#6921접촉자', '#935 접촉자', '#6937 접촉자',\n       '성동구 아파트', '대구 방문', '부동산 중개 법인', '여의도 건설현장', '대구 확진자 접촉', '명성교회',\n       '#794 접촉(추정)', '#2621번 접촉', '#1247 접촉(추정)', '부동산 중개업', '쇼핑몰',\n       '은평구 병원', '경찰병원', '서울재생병원', '신천지대구교회', '#794 접촉자', '대구 방문(명성교회)',\n       '#780 접촉(추정)', '#56 접촉', '#136 접촉', '대구 거주자', '#6 접촉(추정)',\n       '#30 접촉', '#29 접촉', '#83 접촉', '#6 접촉', '#5 접촉', '#3 접촉'],\n      dtype=object)"
     },
     "metadata": {},
     "execution_count": 10
    }
   ],
   "source": [
    "infection_paths = df_temp[\"접촉력\"].unique()\n",
    "print(len(infection_paths))\n",
    "infection_paths"
   ]
  },
  {
   "cell_type": "code",
   "execution_count": 11,
   "metadata": {},
   "outputs": [
    {
     "output_type": "execute_result",
     "data": {
      "text/plain": "     연번     환자    확진일  거주지 여행력            접촉력 퇴원현황\n0  4429  21428  9.07.   기타   -           확인 중  NaN\n1  4428  21429  9.07.  송파구   -           확인 중  NaN\n2  4427  21425  9.07.  노원구   -           확인 중  NaN\n3  4426  21420  9.07.  마포구   -  영등포구 일련정종 포교소  NaN\n4  4425  21414  9.07.  서초구   -      기타 확진자 접촉  NaN",
      "text/html": "<div>\n<style scoped>\n    .dataframe tbody tr th:only-of-type {\n        vertical-align: middle;\n    }\n\n    .dataframe tbody tr th {\n        vertical-align: top;\n    }\n\n    .dataframe thead th {\n        text-align: right;\n    }\n</style>\n<table border=\"1\" class=\"dataframe\">\n  <thead>\n    <tr style=\"text-align: right;\">\n      <th></th>\n      <th>연번</th>\n      <th>환자</th>\n      <th>확진일</th>\n      <th>거주지</th>\n      <th>여행력</th>\n      <th>접촉력</th>\n      <th>퇴원현황</th>\n    </tr>\n  </thead>\n  <tbody>\n    <tr>\n      <th>0</th>\n      <td>4429</td>\n      <td>21428</td>\n      <td>9.07.</td>\n      <td>기타</td>\n      <td>-</td>\n      <td>확인 중</td>\n      <td>NaN</td>\n    </tr>\n    <tr>\n      <th>1</th>\n      <td>4428</td>\n      <td>21429</td>\n      <td>9.07.</td>\n      <td>송파구</td>\n      <td>-</td>\n      <td>확인 중</td>\n      <td>NaN</td>\n    </tr>\n    <tr>\n      <th>2</th>\n      <td>4427</td>\n      <td>21425</td>\n      <td>9.07.</td>\n      <td>노원구</td>\n      <td>-</td>\n      <td>확인 중</td>\n      <td>NaN</td>\n    </tr>\n    <tr>\n      <th>3</th>\n      <td>4426</td>\n      <td>21420</td>\n      <td>9.07.</td>\n      <td>마포구</td>\n      <td>-</td>\n      <td>영등포구 일련정종 포교소</td>\n      <td>NaN</td>\n    </tr>\n    <tr>\n      <th>4</th>\n      <td>4425</td>\n      <td>21414</td>\n      <td>9.07.</td>\n      <td>서초구</td>\n      <td>-</td>\n      <td>기타 확진자 접촉</td>\n      <td>NaN</td>\n    </tr>\n  </tbody>\n</table>\n</div>"
     },
     "metadata": {},
     "execution_count": 11
    }
   ],
   "source": [
    "df_date = df_temp.sort_values([\"연번\"], ascending=False)\n",
    "df_date.head()"
   ]
  },
  {
   "cell_type": "code",
   "execution_count": 12,
   "metadata": {},
   "outputs": [
    {
     "output_type": "execute_result",
     "data": {
      "text/plain": "     연번     환자   확진일  거주지 여행력            접촉력 퇴원현황\n0  4429  21428  9-07   기타   -           확인 중  NaN\n1  4428  21429  9-07  송파구   -           확인 중  NaN\n2  4427  21425  9-07  노원구   -           확인 중  NaN\n3  4426  21420  9-07  마포구   -  영등포구 일련정종 포교소  NaN\n4  4425  21414  9-07  서초구   -      기타 확진자 접촉  NaN",
      "text/html": "<div>\n<style scoped>\n    .dataframe tbody tr th:only-of-type {\n        vertical-align: middle;\n    }\n\n    .dataframe tbody tr th {\n        vertical-align: top;\n    }\n\n    .dataframe thead th {\n        text-align: right;\n    }\n</style>\n<table border=\"1\" class=\"dataframe\">\n  <thead>\n    <tr style=\"text-align: right;\">\n      <th></th>\n      <th>연번</th>\n      <th>환자</th>\n      <th>확진일</th>\n      <th>거주지</th>\n      <th>여행력</th>\n      <th>접촉력</th>\n      <th>퇴원현황</th>\n    </tr>\n  </thead>\n  <tbody>\n    <tr>\n      <th>0</th>\n      <td>4429</td>\n      <td>21428</td>\n      <td>9-07</td>\n      <td>기타</td>\n      <td>-</td>\n      <td>확인 중</td>\n      <td>NaN</td>\n    </tr>\n    <tr>\n      <th>1</th>\n      <td>4428</td>\n      <td>21429</td>\n      <td>9-07</td>\n      <td>송파구</td>\n      <td>-</td>\n      <td>확인 중</td>\n      <td>NaN</td>\n    </tr>\n    <tr>\n      <th>2</th>\n      <td>4427</td>\n      <td>21425</td>\n      <td>9-07</td>\n      <td>노원구</td>\n      <td>-</td>\n      <td>확인 중</td>\n      <td>NaN</td>\n    </tr>\n    <tr>\n      <th>3</th>\n      <td>4426</td>\n      <td>21420</td>\n      <td>9-07</td>\n      <td>마포구</td>\n      <td>-</td>\n      <td>영등포구 일련정종 포교소</td>\n      <td>NaN</td>\n    </tr>\n    <tr>\n      <th>4</th>\n      <td>4425</td>\n      <td>21414</td>\n      <td>9-07</td>\n      <td>서초구</td>\n      <td>-</td>\n      <td>기타 확진자 접촉</td>\n      <td>NaN</td>\n    </tr>\n  </tbody>\n</table>\n</div>"
     },
     "metadata": {},
     "execution_count": 12
    }
   ],
   "source": [
    "df_date[\"확진일\"] = df_date[\"확진일\"].str.replace(\".\", \"-\")\n",
    "df_date[\"확진일\"] = df_date[\"확진일\"].str[:-1]\n",
    "df_date.head()"
   ]
  },
  {
   "cell_type": "code",
   "execution_count": 13,
   "metadata": {},
   "outputs": [
    {
     "output_type": "execute_result",
     "data": {
      "text/plain": "     연번     환자         확진일  거주지 여행력            접촉력 퇴원현황\n0  4429  21428  2020-09-07   기타   -           확인 중  NaN\n1  4428  21429  2020-09-07  송파구   -           확인 중  NaN\n2  4427  21425  2020-09-07  노원구   -           확인 중  NaN\n3  4426  21420  2020-09-07  마포구   -  영등포구 일련정종 포교소  NaN\n4  4425  21414  2020-09-07  서초구   -      기타 확진자 접촉  NaN",
      "text/html": "<div>\n<style scoped>\n    .dataframe tbody tr th:only-of-type {\n        vertical-align: middle;\n    }\n\n    .dataframe tbody tr th {\n        vertical-align: top;\n    }\n\n    .dataframe thead th {\n        text-align: right;\n    }\n</style>\n<table border=\"1\" class=\"dataframe\">\n  <thead>\n    <tr style=\"text-align: right;\">\n      <th></th>\n      <th>연번</th>\n      <th>환자</th>\n      <th>확진일</th>\n      <th>거주지</th>\n      <th>여행력</th>\n      <th>접촉력</th>\n      <th>퇴원현황</th>\n    </tr>\n  </thead>\n  <tbody>\n    <tr>\n      <th>0</th>\n      <td>4429</td>\n      <td>21428</td>\n      <td>2020-09-07</td>\n      <td>기타</td>\n      <td>-</td>\n      <td>확인 중</td>\n      <td>NaN</td>\n    </tr>\n    <tr>\n      <th>1</th>\n      <td>4428</td>\n      <td>21429</td>\n      <td>2020-09-07</td>\n      <td>송파구</td>\n      <td>-</td>\n      <td>확인 중</td>\n      <td>NaN</td>\n    </tr>\n    <tr>\n      <th>2</th>\n      <td>4427</td>\n      <td>21425</td>\n      <td>2020-09-07</td>\n      <td>노원구</td>\n      <td>-</td>\n      <td>확인 중</td>\n      <td>NaN</td>\n    </tr>\n    <tr>\n      <th>3</th>\n      <td>4426</td>\n      <td>21420</td>\n      <td>2020-09-07</td>\n      <td>마포구</td>\n      <td>-</td>\n      <td>영등포구 일련정종 포교소</td>\n      <td>NaN</td>\n    </tr>\n    <tr>\n      <th>4</th>\n      <td>4425</td>\n      <td>21414</td>\n      <td>2020-09-07</td>\n      <td>서초구</td>\n      <td>-</td>\n      <td>기타 확진자 접촉</td>\n      <td>NaN</td>\n    </tr>\n  </tbody>\n</table>\n</div>"
     },
     "metadata": {},
     "execution_count": 13
    }
   ],
   "source": [
    "df_date[\"확진일\"] = \"2020-0\" + df_date[\"확진일\"]\n",
    "df_date.head()"
   ]
  },
  {
   "cell_type": "code",
   "execution_count": 14,
   "metadata": {},
   "outputs": [
    {
     "output_type": "execute_result",
     "data": {
      "text/plain": "        연번     환자         확진일  거주지 여행력          접촉력 퇴원현황\n2167  2262  16275  2020-08-18  동작구   -   성북구 사랑제일교회   퇴원\n3695   734  11042  2020-05-16  송파구   -       이태원 클럽   퇴원\n1426  3003  18038  2020-08-24  강북구   -         확인 중  NaN\n3592   837  11383  2020-05-28  강서구   -       부천시 쿠팡   퇴원\n450   3979  20242  2020-08-31  양천구   -  동작구 카드 발급업체  NaN",
      "text/html": "<div>\n<style scoped>\n    .dataframe tbody tr th:only-of-type {\n        vertical-align: middle;\n    }\n\n    .dataframe tbody tr th {\n        vertical-align: top;\n    }\n\n    .dataframe thead th {\n        text-align: right;\n    }\n</style>\n<table border=\"1\" class=\"dataframe\">\n  <thead>\n    <tr style=\"text-align: right;\">\n      <th></th>\n      <th>연번</th>\n      <th>환자</th>\n      <th>확진일</th>\n      <th>거주지</th>\n      <th>여행력</th>\n      <th>접촉력</th>\n      <th>퇴원현황</th>\n    </tr>\n  </thead>\n  <tbody>\n    <tr>\n      <th>2167</th>\n      <td>2262</td>\n      <td>16275</td>\n      <td>2020-08-18</td>\n      <td>동작구</td>\n      <td>-</td>\n      <td>성북구 사랑제일교회</td>\n      <td>퇴원</td>\n    </tr>\n    <tr>\n      <th>3695</th>\n      <td>734</td>\n      <td>11042</td>\n      <td>2020-05-16</td>\n      <td>송파구</td>\n      <td>-</td>\n      <td>이태원 클럽</td>\n      <td>퇴원</td>\n    </tr>\n    <tr>\n      <th>1426</th>\n      <td>3003</td>\n      <td>18038</td>\n      <td>2020-08-24</td>\n      <td>강북구</td>\n      <td>-</td>\n      <td>확인 중</td>\n      <td>NaN</td>\n    </tr>\n    <tr>\n      <th>3592</th>\n      <td>837</td>\n      <td>11383</td>\n      <td>2020-05-28</td>\n      <td>강서구</td>\n      <td>-</td>\n      <td>부천시 쿠팡</td>\n      <td>퇴원</td>\n    </tr>\n    <tr>\n      <th>450</th>\n      <td>3979</td>\n      <td>20242</td>\n      <td>2020-08-31</td>\n      <td>양천구</td>\n      <td>-</td>\n      <td>동작구 카드 발급업체</td>\n      <td>NaN</td>\n    </tr>\n  </tbody>\n</table>\n</div>"
     },
     "metadata": {},
     "execution_count": 14
    }
   ],
   "source": [
    "df_date.sample(5)"
   ]
  },
  {
   "cell_type": "code",
   "execution_count": 15,
   "metadata": {},
   "outputs": [
    {
     "output_type": "execute_result",
     "data": {
      "text/plain": "     연번     환자         확진일  거주지 여행력            접촉력 퇴원현황\n0  4429  21428  2020-09-07   기타   -           확인 중  NaN\n1  4428  21429  2020-09-07  송파구   -           확인 중  NaN\n2  4427  21425  2020-09-07  노원구   -           확인 중  NaN\n3  4426  21420  2020-09-07  마포구   -  영등포구 일련정종 포교소  NaN\n4  4425  21414  2020-09-07  서초구   -      기타 확진자 접촉  NaN",
      "text/html": "<div>\n<style scoped>\n    .dataframe tbody tr th:only-of-type {\n        vertical-align: middle;\n    }\n\n    .dataframe tbody tr th {\n        vertical-align: top;\n    }\n\n    .dataframe thead th {\n        text-align: right;\n    }\n</style>\n<table border=\"1\" class=\"dataframe\">\n  <thead>\n    <tr style=\"text-align: right;\">\n      <th></th>\n      <th>연번</th>\n      <th>환자</th>\n      <th>확진일</th>\n      <th>거주지</th>\n      <th>여행력</th>\n      <th>접촉력</th>\n      <th>퇴원현황</th>\n    </tr>\n  </thead>\n  <tbody>\n    <tr>\n      <th>0</th>\n      <td>4429</td>\n      <td>21428</td>\n      <td>2020-09-07</td>\n      <td>기타</td>\n      <td>-</td>\n      <td>확인 중</td>\n      <td>NaN</td>\n    </tr>\n    <tr>\n      <th>1</th>\n      <td>4428</td>\n      <td>21429</td>\n      <td>2020-09-07</td>\n      <td>송파구</td>\n      <td>-</td>\n      <td>확인 중</td>\n      <td>NaN</td>\n    </tr>\n    <tr>\n      <th>2</th>\n      <td>4427</td>\n      <td>21425</td>\n      <td>2020-09-07</td>\n      <td>노원구</td>\n      <td>-</td>\n      <td>확인 중</td>\n      <td>NaN</td>\n    </tr>\n    <tr>\n      <th>3</th>\n      <td>4426</td>\n      <td>21420</td>\n      <td>2020-09-07</td>\n      <td>마포구</td>\n      <td>-</td>\n      <td>영등포구 일련정종 포교소</td>\n      <td>NaN</td>\n    </tr>\n    <tr>\n      <th>4</th>\n      <td>4425</td>\n      <td>21414</td>\n      <td>2020-09-07</td>\n      <td>서초구</td>\n      <td>-</td>\n      <td>기타 확진자 접촉</td>\n      <td>NaN</td>\n    </tr>\n  </tbody>\n</table>\n</div>"
     },
     "metadata": {},
     "execution_count": 15
    }
   ],
   "source": [
    "df = df_date.copy()\n",
    "df.head()"
   ]
  },
  {
   "cell_type": "code",
   "execution_count": 16,
   "metadata": {},
   "outputs": [
    {
     "output_type": "execute_result",
     "data": {
      "text/plain": "     연번     환자         확진일  거주지 여행력            접촉력 퇴원현황\n0  4429  21428  2020-09-07   기타   -           확인 중  NaN\n1  4428  21429  2020-09-07  송파구   -           확인 중  NaN\n2  4427  21425  2020-09-07  노원구   -           확인 중  NaN\n3  4426  21420  2020-09-07  마포구   -  영등포구 일련정종 포교소  NaN\n4  4425  21414  2020-09-07  서초구   -      기타 확진자 접촉  NaN",
      "text/html": "<div>\n<style scoped>\n    .dataframe tbody tr th:only-of-type {\n        vertical-align: middle;\n    }\n\n    .dataframe tbody tr th {\n        vertical-align: top;\n    }\n\n    .dataframe thead th {\n        text-align: right;\n    }\n</style>\n<table border=\"1\" class=\"dataframe\">\n  <thead>\n    <tr style=\"text-align: right;\">\n      <th></th>\n      <th>연번</th>\n      <th>환자</th>\n      <th>확진일</th>\n      <th>거주지</th>\n      <th>여행력</th>\n      <th>접촉력</th>\n      <th>퇴원현황</th>\n    </tr>\n  </thead>\n  <tbody>\n    <tr>\n      <th>0</th>\n      <td>4429</td>\n      <td>21428</td>\n      <td>2020-09-07</td>\n      <td>기타</td>\n      <td>-</td>\n      <td>확인 중</td>\n      <td>NaN</td>\n    </tr>\n    <tr>\n      <th>1</th>\n      <td>4428</td>\n      <td>21429</td>\n      <td>2020-09-07</td>\n      <td>송파구</td>\n      <td>-</td>\n      <td>확인 중</td>\n      <td>NaN</td>\n    </tr>\n    <tr>\n      <th>2</th>\n      <td>4427</td>\n      <td>21425</td>\n      <td>2020-09-07</td>\n      <td>노원구</td>\n      <td>-</td>\n      <td>확인 중</td>\n      <td>NaN</td>\n    </tr>\n    <tr>\n      <th>3</th>\n      <td>4426</td>\n      <td>21420</td>\n      <td>2020-09-07</td>\n      <td>마포구</td>\n      <td>-</td>\n      <td>영등포구 일련정종 포교소</td>\n      <td>NaN</td>\n    </tr>\n    <tr>\n      <th>4</th>\n      <td>4425</td>\n      <td>21414</td>\n      <td>2020-09-07</td>\n      <td>서초구</td>\n      <td>-</td>\n      <td>기타 확진자 접촉</td>\n      <td>NaN</td>\n    </tr>\n  </tbody>\n</table>\n</div>"
     },
     "metadata": {},
     "execution_count": 16
    }
   ],
   "source": [
    "df.loc[(df[\"확진일\"].str.len() < 10), '확진일'] = df.loc[(df[\"확진일\"].str.len() < 10), '확진일'].str.replace(\"-0\", \"-\")\n",
    "df.loc[(df[\"확진일\"].str.len() < 10), '확진일'] = df.loc[(df[\"확진일\"].str.len() < 10), '확진일'].str.replace(\"-\", \"-0\")\n",
    "df.head()"
   ]
  },
  {
   "cell_type": "code",
   "execution_count": 17,
   "metadata": {},
   "outputs": [
    {
     "output_type": "execute_result",
     "data": {
      "text/plain": "        연번     환자         확진일   거주지 여행력          접촉력 퇴원현황\n2316  2113  15592  2020-08-17   송파구   -   용인시 우리제일교회   퇴원\n1846  2583  16553  2020-08-20   송파구   -        광화문집회  NaN\n1343  3086  17686  2020-08-24   강북구   -         확인 중  NaN\n1290  3139  18237  2020-08-25   강서구   -    기타 확진자 접촉  NaN\n856   3573  19222  2020-08-27   강동구   -    기타 확진자 접촉  NaN\n3659   770  11195  2020-05-24   성동구   -       이태원 클럽   퇴원\n617   3812  19862  2020-08-29   양천구   -         확인 중  NaN\n3621   808  11285  2020-05-27  남양주시   -     강남구 동인교회   퇴원\n263   4166  20738  2020-09-03   서초구   -      중구소재 은행  NaN\n1118  3311  18530  2020-08-26   양천구   -    여의도 순복음교회  NaN\n1349  3080  17695  2020-08-24   성북구   -    기타 확진자 접촉  NaN\n2245  2184  15677  2020-08-17   동작구   -   성북구 사랑제일교회   퇴원\n4056   373   9363  2020-03-26   강남구   -     #9219 접촉   퇴원\n316   4113    미부여  2020-09-02   관악구   -  동작구 카드 발급업체  NaN\n3486   943  11813  2020-06-05   강동구   -         리치웨이   퇴원",
      "text/html": "<div>\n<style scoped>\n    .dataframe tbody tr th:only-of-type {\n        vertical-align: middle;\n    }\n\n    .dataframe tbody tr th {\n        vertical-align: top;\n    }\n\n    .dataframe thead th {\n        text-align: right;\n    }\n</style>\n<table border=\"1\" class=\"dataframe\">\n  <thead>\n    <tr style=\"text-align: right;\">\n      <th></th>\n      <th>연번</th>\n      <th>환자</th>\n      <th>확진일</th>\n      <th>거주지</th>\n      <th>여행력</th>\n      <th>접촉력</th>\n      <th>퇴원현황</th>\n    </tr>\n  </thead>\n  <tbody>\n    <tr>\n      <th>2316</th>\n      <td>2113</td>\n      <td>15592</td>\n      <td>2020-08-17</td>\n      <td>송파구</td>\n      <td>-</td>\n      <td>용인시 우리제일교회</td>\n      <td>퇴원</td>\n    </tr>\n    <tr>\n      <th>1846</th>\n      <td>2583</td>\n      <td>16553</td>\n      <td>2020-08-20</td>\n      <td>송파구</td>\n      <td>-</td>\n      <td>광화문집회</td>\n      <td>NaN</td>\n    </tr>\n    <tr>\n      <th>1343</th>\n      <td>3086</td>\n      <td>17686</td>\n      <td>2020-08-24</td>\n      <td>강북구</td>\n      <td>-</td>\n      <td>확인 중</td>\n      <td>NaN</td>\n    </tr>\n    <tr>\n      <th>1290</th>\n      <td>3139</td>\n      <td>18237</td>\n      <td>2020-08-25</td>\n      <td>강서구</td>\n      <td>-</td>\n      <td>기타 확진자 접촉</td>\n      <td>NaN</td>\n    </tr>\n    <tr>\n      <th>856</th>\n      <td>3573</td>\n      <td>19222</td>\n      <td>2020-08-27</td>\n      <td>강동구</td>\n      <td>-</td>\n      <td>기타 확진자 접촉</td>\n      <td>NaN</td>\n    </tr>\n    <tr>\n      <th>3659</th>\n      <td>770</td>\n      <td>11195</td>\n      <td>2020-05-24</td>\n      <td>성동구</td>\n      <td>-</td>\n      <td>이태원 클럽</td>\n      <td>퇴원</td>\n    </tr>\n    <tr>\n      <th>617</th>\n      <td>3812</td>\n      <td>19862</td>\n      <td>2020-08-29</td>\n      <td>양천구</td>\n      <td>-</td>\n      <td>확인 중</td>\n      <td>NaN</td>\n    </tr>\n    <tr>\n      <th>3621</th>\n      <td>808</td>\n      <td>11285</td>\n      <td>2020-05-27</td>\n      <td>남양주시</td>\n      <td>-</td>\n      <td>강남구 동인교회</td>\n      <td>퇴원</td>\n    </tr>\n    <tr>\n      <th>263</th>\n      <td>4166</td>\n      <td>20738</td>\n      <td>2020-09-03</td>\n      <td>서초구</td>\n      <td>-</td>\n      <td>중구소재 은행</td>\n      <td>NaN</td>\n    </tr>\n    <tr>\n      <th>1118</th>\n      <td>3311</td>\n      <td>18530</td>\n      <td>2020-08-26</td>\n      <td>양천구</td>\n      <td>-</td>\n      <td>여의도 순복음교회</td>\n      <td>NaN</td>\n    </tr>\n    <tr>\n      <th>1349</th>\n      <td>3080</td>\n      <td>17695</td>\n      <td>2020-08-24</td>\n      <td>성북구</td>\n      <td>-</td>\n      <td>기타 확진자 접촉</td>\n      <td>NaN</td>\n    </tr>\n    <tr>\n      <th>2245</th>\n      <td>2184</td>\n      <td>15677</td>\n      <td>2020-08-17</td>\n      <td>동작구</td>\n      <td>-</td>\n      <td>성북구 사랑제일교회</td>\n      <td>퇴원</td>\n    </tr>\n    <tr>\n      <th>4056</th>\n      <td>373</td>\n      <td>9363</td>\n      <td>2020-03-26</td>\n      <td>강남구</td>\n      <td>-</td>\n      <td>#9219 접촉</td>\n      <td>퇴원</td>\n    </tr>\n    <tr>\n      <th>316</th>\n      <td>4113</td>\n      <td>미부여</td>\n      <td>2020-09-02</td>\n      <td>관악구</td>\n      <td>-</td>\n      <td>동작구 카드 발급업체</td>\n      <td>NaN</td>\n    </tr>\n    <tr>\n      <th>3486</th>\n      <td>943</td>\n      <td>11813</td>\n      <td>2020-06-05</td>\n      <td>강동구</td>\n      <td>-</td>\n      <td>리치웨이</td>\n      <td>퇴원</td>\n    </tr>\n  </tbody>\n</table>\n</div>"
     },
     "metadata": {},
     "execution_count": 17
    }
   ],
   "source": [
    "df.sample(15)"
   ]
  },
  {
   "cell_type": "code",
   "execution_count": 18,
   "metadata": {},
   "outputs": [],
   "source": [
    "df.to_csv(\"./dataset_predict/df_wrangle.csv\", index=False)"
   ]
  },
  {
   "cell_type": "code",
   "execution_count": 19,
   "metadata": {},
   "outputs": [
    {
     "output_type": "execute_result",
     "data": {
      "text/plain": "         date  new_confirmed\n0  2020-08-29            167\n1  2020-08-27            159\n2  2020-08-26            157\n3  2020-08-18            151\n4  2020-08-15            146",
      "text/html": "<div>\n<style scoped>\n    .dataframe tbody tr th:only-of-type {\n        vertical-align: middle;\n    }\n\n    .dataframe tbody tr th {\n        vertical-align: top;\n    }\n\n    .dataframe thead th {\n        text-align: right;\n    }\n</style>\n<table border=\"1\" class=\"dataframe\">\n  <thead>\n    <tr style=\"text-align: right;\">\n      <th></th>\n      <th>date</th>\n      <th>new_confirmed</th>\n    </tr>\n  </thead>\n  <tbody>\n    <tr>\n      <th>0</th>\n      <td>2020-08-29</td>\n      <td>167</td>\n    </tr>\n    <tr>\n      <th>1</th>\n      <td>2020-08-27</td>\n      <td>159</td>\n    </tr>\n    <tr>\n      <th>2</th>\n      <td>2020-08-26</td>\n      <td>157</td>\n    </tr>\n    <tr>\n      <th>3</th>\n      <td>2020-08-18</td>\n      <td>151</td>\n    </tr>\n    <tr>\n      <th>4</th>\n      <td>2020-08-15</td>\n      <td>146</td>\n    </tr>\n  </tbody>\n</table>\n</div>"
     },
     "metadata": {},
     "execution_count": 19
    }
   ],
   "source": [
    "temp = df[\"확진일\"].value_counts().rename_axis('date').reset_index(name='new_confirmed')\n",
    "temp.head()"
   ]
  },
  {
   "cell_type": "code",
   "execution_count": 20,
   "metadata": {},
   "outputs": [
    {
     "output_type": "execute_result",
     "data": {
      "text/plain": "           date  new_confirmed\n189  2020-01-24              1\n169  2020-01-30              3\n173  2020-01-31              3\n185  2020-02-02              1\n175  2020-02-05              2",
      "text/html": "<div>\n<style scoped>\n    .dataframe tbody tr th:only-of-type {\n        vertical-align: middle;\n    }\n\n    .dataframe tbody tr th {\n        vertical-align: top;\n    }\n\n    .dataframe thead th {\n        text-align: right;\n    }\n</style>\n<table border=\"1\" class=\"dataframe\">\n  <thead>\n    <tr style=\"text-align: right;\">\n      <th></th>\n      <th>date</th>\n      <th>new_confirmed</th>\n    </tr>\n  </thead>\n  <tbody>\n    <tr>\n      <th>189</th>\n      <td>2020-01-24</td>\n      <td>1</td>\n    </tr>\n    <tr>\n      <th>169</th>\n      <td>2020-01-30</td>\n      <td>3</td>\n    </tr>\n    <tr>\n      <th>173</th>\n      <td>2020-01-31</td>\n      <td>3</td>\n    </tr>\n    <tr>\n      <th>185</th>\n      <td>2020-02-02</td>\n      <td>1</td>\n    </tr>\n    <tr>\n      <th>175</th>\n      <td>2020-02-05</td>\n      <td>2</td>\n    </tr>\n  </tbody>\n</table>\n</div>"
     },
     "metadata": {},
     "execution_count": 20
    }
   ],
   "source": [
    "df_predict = temp.sort_values(by=\"date\")\n",
    "df_predict.head()"
   ]
  },
  {
   "cell_type": "code",
   "execution_count": 21,
   "metadata": {},
   "outputs": [],
   "source": [
    "df_predict[\"date\"] = pd.to_datetime(df_predict[\"date\"])"
   ]
  },
  {
   "cell_type": "code",
   "execution_count": 22,
   "metadata": {},
   "outputs": [
    {
     "output_type": "execute_result",
     "data": {
      "text/plain": "                 date  new_confirmed\ndate                                \n2020-01-24 2020-01-24              1\n2020-01-30 2020-01-30              3\n2020-01-31 2020-01-31              3\n2020-02-02 2020-02-02              1\n2020-02-05 2020-02-05              2",
      "text/html": "<div>\n<style scoped>\n    .dataframe tbody tr th:only-of-type {\n        vertical-align: middle;\n    }\n\n    .dataframe tbody tr th {\n        vertical-align: top;\n    }\n\n    .dataframe thead th {\n        text-align: right;\n    }\n</style>\n<table border=\"1\" class=\"dataframe\">\n  <thead>\n    <tr style=\"text-align: right;\">\n      <th></th>\n      <th>date</th>\n      <th>new_confirmed</th>\n    </tr>\n    <tr>\n      <th>date</th>\n      <th></th>\n      <th></th>\n    </tr>\n  </thead>\n  <tbody>\n    <tr>\n      <th>2020-01-24</th>\n      <td>2020-01-24</td>\n      <td>1</td>\n    </tr>\n    <tr>\n      <th>2020-01-30</th>\n      <td>2020-01-30</td>\n      <td>3</td>\n    </tr>\n    <tr>\n      <th>2020-01-31</th>\n      <td>2020-01-31</td>\n      <td>3</td>\n    </tr>\n    <tr>\n      <th>2020-02-02</th>\n      <td>2020-02-02</td>\n      <td>1</td>\n    </tr>\n    <tr>\n      <th>2020-02-05</th>\n      <td>2020-02-05</td>\n      <td>2</td>\n    </tr>\n  </tbody>\n</table>\n</div>"
     },
     "metadata": {},
     "execution_count": 22
    }
   ],
   "source": [
    "df_predict.index = pd.DatetimeIndex(df_predict[\"date\"])\n",
    "df_predict.head()"
   ]
  },
  {
   "cell_type": "code",
   "execution_count": 23,
   "metadata": {},
   "outputs": [
    {
     "output_type": "execute_result",
     "data": {
      "text/plain": "                 date  new_confirmed\ndate                                \n2020-01-24 2020-01-24            1.0\n2020-01-25        NaT            NaN\n2020-01-26        NaT            NaN\n2020-01-27        NaT            NaN\n2020-01-28        NaT            NaN",
      "text/html": "<div>\n<style scoped>\n    .dataframe tbody tr th:only-of-type {\n        vertical-align: middle;\n    }\n\n    .dataframe tbody tr th {\n        vertical-align: top;\n    }\n\n    .dataframe thead th {\n        text-align: right;\n    }\n</style>\n<table border=\"1\" class=\"dataframe\">\n  <thead>\n    <tr style=\"text-align: right;\">\n      <th></th>\n      <th>date</th>\n      <th>new_confirmed</th>\n    </tr>\n    <tr>\n      <th>date</th>\n      <th></th>\n      <th></th>\n    </tr>\n  </thead>\n  <tbody>\n    <tr>\n      <th>2020-01-24</th>\n      <td>2020-01-24</td>\n      <td>1.0</td>\n    </tr>\n    <tr>\n      <th>2020-01-25</th>\n      <td>NaT</td>\n      <td>NaN</td>\n    </tr>\n    <tr>\n      <th>2020-01-26</th>\n      <td>NaT</td>\n      <td>NaN</td>\n    </tr>\n    <tr>\n      <th>2020-01-27</th>\n      <td>NaT</td>\n      <td>NaN</td>\n    </tr>\n    <tr>\n      <th>2020-01-28</th>\n      <td>NaT</td>\n      <td>NaN</td>\n    </tr>\n  </tbody>\n</table>\n</div>"
     },
     "metadata": {},
     "execution_count": 23
    }
   ],
   "source": [
    "df_predict = df_predict.resample('D').max()\n",
    "df_predict.head()"
   ]
  },
  {
   "cell_type": "code",
   "execution_count": 24,
   "metadata": {},
   "outputs": [
    {
     "output_type": "execute_result",
     "data": {
      "text/plain": "                 date  new_confirmed\ndate                                \n2020-01-24 2020-01-24            1.0\n2020-01-25 2020-01-25            NaN\n2020-01-26 2020-01-26            NaN\n2020-01-27 2020-01-27            NaN\n2020-01-28 2020-01-28            NaN",
      "text/html": "<div>\n<style scoped>\n    .dataframe tbody tr th:only-of-type {\n        vertical-align: middle;\n    }\n\n    .dataframe tbody tr th {\n        vertical-align: top;\n    }\n\n    .dataframe thead th {\n        text-align: right;\n    }\n</style>\n<table border=\"1\" class=\"dataframe\">\n  <thead>\n    <tr style=\"text-align: right;\">\n      <th></th>\n      <th>date</th>\n      <th>new_confirmed</th>\n    </tr>\n    <tr>\n      <th>date</th>\n      <th></th>\n      <th></th>\n    </tr>\n  </thead>\n  <tbody>\n    <tr>\n      <th>2020-01-24</th>\n      <td>2020-01-24</td>\n      <td>1.0</td>\n    </tr>\n    <tr>\n      <th>2020-01-25</th>\n      <td>2020-01-25</td>\n      <td>NaN</td>\n    </tr>\n    <tr>\n      <th>2020-01-26</th>\n      <td>2020-01-26</td>\n      <td>NaN</td>\n    </tr>\n    <tr>\n      <th>2020-01-27</th>\n      <td>2020-01-27</td>\n      <td>NaN</td>\n    </tr>\n    <tr>\n      <th>2020-01-28</th>\n      <td>2020-01-28</td>\n      <td>NaN</td>\n    </tr>\n  </tbody>\n</table>\n</div>"
     },
     "metadata": {},
     "execution_count": 24
    }
   ],
   "source": [
    "df_predict[\"date\"] = df_predict.index\n",
    "df_predict.head()"
   ]
  },
  {
   "cell_type": "code",
   "execution_count": 25,
   "metadata": {},
   "outputs": [
    {
     "output_type": "execute_result",
     "data": {
      "text/plain": "                 date  new_confirmed\ndate                                \n2020-01-24 2020-01-24            1.0\n2020-01-25 2020-01-25            0.0\n2020-01-26 2020-01-26            0.0\n2020-01-27 2020-01-27            0.0\n2020-01-28 2020-01-28            0.0\n...               ...            ...\n2020-09-03 2020-09-03           46.0\n2020-09-04 2020-09-04           55.0\n2020-09-05 2020-09-05           58.0\n2020-09-06 2020-09-06           43.0\n2020-09-07 2020-09-07           62.0\n\n[228 rows x 2 columns]",
      "text/html": "<div>\n<style scoped>\n    .dataframe tbody tr th:only-of-type {\n        vertical-align: middle;\n    }\n\n    .dataframe tbody tr th {\n        vertical-align: top;\n    }\n\n    .dataframe thead th {\n        text-align: right;\n    }\n</style>\n<table border=\"1\" class=\"dataframe\">\n  <thead>\n    <tr style=\"text-align: right;\">\n      <th></th>\n      <th>date</th>\n      <th>new_confirmed</th>\n    </tr>\n    <tr>\n      <th>date</th>\n      <th></th>\n      <th></th>\n    </tr>\n  </thead>\n  <tbody>\n    <tr>\n      <th>2020-01-24</th>\n      <td>2020-01-24</td>\n      <td>1.0</td>\n    </tr>\n    <tr>\n      <th>2020-01-25</th>\n      <td>2020-01-25</td>\n      <td>0.0</td>\n    </tr>\n    <tr>\n      <th>2020-01-26</th>\n      <td>2020-01-26</td>\n      <td>0.0</td>\n    </tr>\n    <tr>\n      <th>2020-01-27</th>\n      <td>2020-01-27</td>\n      <td>0.0</td>\n    </tr>\n    <tr>\n      <th>2020-01-28</th>\n      <td>2020-01-28</td>\n      <td>0.0</td>\n    </tr>\n    <tr>\n      <th>...</th>\n      <td>...</td>\n      <td>...</td>\n    </tr>\n    <tr>\n      <th>2020-09-03</th>\n      <td>2020-09-03</td>\n      <td>46.0</td>\n    </tr>\n    <tr>\n      <th>2020-09-04</th>\n      <td>2020-09-04</td>\n      <td>55.0</td>\n    </tr>\n    <tr>\n      <th>2020-09-05</th>\n      <td>2020-09-05</td>\n      <td>58.0</td>\n    </tr>\n    <tr>\n      <th>2020-09-06</th>\n      <td>2020-09-06</td>\n      <td>43.0</td>\n    </tr>\n    <tr>\n      <th>2020-09-07</th>\n      <td>2020-09-07</td>\n      <td>62.0</td>\n    </tr>\n  </tbody>\n</table>\n<p>228 rows × 2 columns</p>\n</div>"
     },
     "metadata": {},
     "execution_count": 25
    }
   ],
   "source": [
    "df_predict = df_predict.fillna(0)\n",
    "df_predict"
   ]
  },
  {
   "cell_type": "code",
   "execution_count": 26,
   "metadata": {},
   "outputs": [],
   "source": [
    "df_predict.to_csv(\"dataset_predict/df_predict.csv\", index=False)"
   ]
  },
  {
   "cell_type": "code",
   "execution_count": 27,
   "metadata": {},
   "outputs": [],
   "source": [
    "df_predict =  pd.read_csv(\"dataset_predict/df_predict.csv\", encoding=\"utf-8\")"
   ]
  },
  {
   "cell_type": "code",
   "execution_count": 28,
   "metadata": {},
   "outputs": [
    {
     "output_type": "execute_result",
     "data": {
      "text/plain": "        연번     환자         확진일  거주지 여행력   접촉력 퇴원현황\n0     4429  21428  2020-09-07   기타   -  확인 중  NaN\n1     4428  21429  2020-09-07  송파구   -  확인 중  NaN\n2     4427  21425  2020-09-07  노원구   -  확인 중  NaN\n5     4424  21419  2020-09-07  도봉구   -  확인 중  NaN\n8     4421  21409  2020-09-07  송파구   -  확인 중  NaN\n...    ...    ...         ...  ...  ..   ...  ...\n4373    56   1768  2020-02-25  고양시   -  확인 중   퇴원\n4387    42   1370  2020-02-25  노원구   -  확인 중   퇴원\n4390    39    924  2020-02-25   평택   -  확인 중   퇴원\n4391    38    907  2020-02-25  관악구   -  확인 중   퇴원\n4394    35    870  2020-02-25   김포   -  확인 중   퇴원\n\n[744 rows x 7 columns]",
      "text/html": "<div>\n<style scoped>\n    .dataframe tbody tr th:only-of-type {\n        vertical-align: middle;\n    }\n\n    .dataframe tbody tr th {\n        vertical-align: top;\n    }\n\n    .dataframe thead th {\n        text-align: right;\n    }\n</style>\n<table border=\"1\" class=\"dataframe\">\n  <thead>\n    <tr style=\"text-align: right;\">\n      <th></th>\n      <th>연번</th>\n      <th>환자</th>\n      <th>확진일</th>\n      <th>거주지</th>\n      <th>여행력</th>\n      <th>접촉력</th>\n      <th>퇴원현황</th>\n    </tr>\n  </thead>\n  <tbody>\n    <tr>\n      <th>0</th>\n      <td>4429</td>\n      <td>21428</td>\n      <td>2020-09-07</td>\n      <td>기타</td>\n      <td>-</td>\n      <td>확인 중</td>\n      <td>NaN</td>\n    </tr>\n    <tr>\n      <th>1</th>\n      <td>4428</td>\n      <td>21429</td>\n      <td>2020-09-07</td>\n      <td>송파구</td>\n      <td>-</td>\n      <td>확인 중</td>\n      <td>NaN</td>\n    </tr>\n    <tr>\n      <th>2</th>\n      <td>4427</td>\n      <td>21425</td>\n      <td>2020-09-07</td>\n      <td>노원구</td>\n      <td>-</td>\n      <td>확인 중</td>\n      <td>NaN</td>\n    </tr>\n    <tr>\n      <th>5</th>\n      <td>4424</td>\n      <td>21419</td>\n      <td>2020-09-07</td>\n      <td>도봉구</td>\n      <td>-</td>\n      <td>확인 중</td>\n      <td>NaN</td>\n    </tr>\n    <tr>\n      <th>8</th>\n      <td>4421</td>\n      <td>21409</td>\n      <td>2020-09-07</td>\n      <td>송파구</td>\n      <td>-</td>\n      <td>확인 중</td>\n      <td>NaN</td>\n    </tr>\n    <tr>\n      <th>...</th>\n      <td>...</td>\n      <td>...</td>\n      <td>...</td>\n      <td>...</td>\n      <td>...</td>\n      <td>...</td>\n      <td>...</td>\n    </tr>\n    <tr>\n      <th>4373</th>\n      <td>56</td>\n      <td>1768</td>\n      <td>2020-02-25</td>\n      <td>고양시</td>\n      <td>-</td>\n      <td>확인 중</td>\n      <td>퇴원</td>\n    </tr>\n    <tr>\n      <th>4387</th>\n      <td>42</td>\n      <td>1370</td>\n      <td>2020-02-25</td>\n      <td>노원구</td>\n      <td>-</td>\n      <td>확인 중</td>\n      <td>퇴원</td>\n    </tr>\n    <tr>\n      <th>4390</th>\n      <td>39</td>\n      <td>924</td>\n      <td>2020-02-25</td>\n      <td>평택</td>\n      <td>-</td>\n      <td>확인 중</td>\n      <td>퇴원</td>\n    </tr>\n    <tr>\n      <th>4391</th>\n      <td>38</td>\n      <td>907</td>\n      <td>2020-02-25</td>\n      <td>관악구</td>\n      <td>-</td>\n      <td>확인 중</td>\n      <td>퇴원</td>\n    </tr>\n    <tr>\n      <th>4394</th>\n      <td>35</td>\n      <td>870</td>\n      <td>2020-02-25</td>\n      <td>김포</td>\n      <td>-</td>\n      <td>확인 중</td>\n      <td>퇴원</td>\n    </tr>\n  </tbody>\n</table>\n<p>744 rows × 7 columns</p>\n</div>"
     },
     "metadata": {},
     "execution_count": 28
    }
   ],
   "source": [
    "df_untracked = df[df[\"접촉력\"]==\"확인 중\"]\n",
    "df_untracked"
   ]
  },
  {
   "cell_type": "code",
   "execution_count": 29,
   "metadata": {},
   "outputs": [
    {
     "output_type": "execute_result",
     "data": {
      "text/plain": "           date  new_untracked\n0    2020-02-25              6\n1    2020-02-26              1\n2    2020-02-27              2\n3    2020-02-28              2\n4    2020-03-02              2\n..          ...            ...\n122  2020-09-03              6\n123  2020-09-04              6\n124  2020-09-05             19\n125  2020-09-06             13\n126  2020-09-07             15\n\n[127 rows x 2 columns]",
      "text/html": "<div>\n<style scoped>\n    .dataframe tbody tr th:only-of-type {\n        vertical-align: middle;\n    }\n\n    .dataframe tbody tr th {\n        vertical-align: top;\n    }\n\n    .dataframe thead th {\n        text-align: right;\n    }\n</style>\n<table border=\"1\" class=\"dataframe\">\n  <thead>\n    <tr style=\"text-align: right;\">\n      <th></th>\n      <th>date</th>\n      <th>new_untracked</th>\n    </tr>\n  </thead>\n  <tbody>\n    <tr>\n      <th>0</th>\n      <td>2020-02-25</td>\n      <td>6</td>\n    </tr>\n    <tr>\n      <th>1</th>\n      <td>2020-02-26</td>\n      <td>1</td>\n    </tr>\n    <tr>\n      <th>2</th>\n      <td>2020-02-27</td>\n      <td>2</td>\n    </tr>\n    <tr>\n      <th>3</th>\n      <td>2020-02-28</td>\n      <td>2</td>\n    </tr>\n    <tr>\n      <th>4</th>\n      <td>2020-03-02</td>\n      <td>2</td>\n    </tr>\n    <tr>\n      <th>...</th>\n      <td>...</td>\n      <td>...</td>\n    </tr>\n    <tr>\n      <th>122</th>\n      <td>2020-09-03</td>\n      <td>6</td>\n    </tr>\n    <tr>\n      <th>123</th>\n      <td>2020-09-04</td>\n      <td>6</td>\n    </tr>\n    <tr>\n      <th>124</th>\n      <td>2020-09-05</td>\n      <td>19</td>\n    </tr>\n    <tr>\n      <th>125</th>\n      <td>2020-09-06</td>\n      <td>13</td>\n    </tr>\n    <tr>\n      <th>126</th>\n      <td>2020-09-07</td>\n      <td>15</td>\n    </tr>\n  </tbody>\n</table>\n<p>127 rows × 2 columns</p>\n</div>"
     },
     "metadata": {},
     "execution_count": 29
    }
   ],
   "source": [
    "df_untracked_temp = df_untracked.groupby(by=[\"확진일\"]).size()\n",
    "df_untracked_temp = df_untracked_temp.rename_axis('date').reset_index(name='new_untracked')\n",
    "df_untracked_temp"
   ]
  },
  {
   "cell_type": "code",
   "execution_count": 30,
   "metadata": {},
   "outputs": [],
   "source": [
    "df_untracked_no = df_untracked_temp"
   ]
  },
  {
   "cell_type": "code",
   "execution_count": 31,
   "metadata": {},
   "outputs": [
    {
     "output_type": "execute_result",
     "data": {
      "text/plain": "          date  new_confirmed  new_untracked\n0   2020-01-24            1.0            0.0\n1   2020-01-25            0.0            0.0\n2   2020-01-26            0.0            0.0\n3   2020-01-27            0.0            0.0\n4   2020-01-28            0.0            0.0\n5   2020-01-29            0.0            0.0\n6   2020-01-30            3.0            0.0\n7   2020-01-31            3.0            0.0\n8   2020-02-01            0.0            0.0\n9   2020-02-02            1.0            0.0\n10  2020-02-03            0.0            0.0\n11  2020-02-04            0.0            0.0\n12  2020-02-05            2.0            0.0\n13  2020-02-06            1.0            0.0\n14  2020-02-07            1.0            0.0",
      "text/html": "<div>\n<style scoped>\n    .dataframe tbody tr th:only-of-type {\n        vertical-align: middle;\n    }\n\n    .dataframe tbody tr th {\n        vertical-align: top;\n    }\n\n    .dataframe thead th {\n        text-align: right;\n    }\n</style>\n<table border=\"1\" class=\"dataframe\">\n  <thead>\n    <tr style=\"text-align: right;\">\n      <th></th>\n      <th>date</th>\n      <th>new_confirmed</th>\n      <th>new_untracked</th>\n    </tr>\n  </thead>\n  <tbody>\n    <tr>\n      <th>0</th>\n      <td>2020-01-24</td>\n      <td>1.0</td>\n      <td>0.0</td>\n    </tr>\n    <tr>\n      <th>1</th>\n      <td>2020-01-25</td>\n      <td>0.0</td>\n      <td>0.0</td>\n    </tr>\n    <tr>\n      <th>2</th>\n      <td>2020-01-26</td>\n      <td>0.0</td>\n      <td>0.0</td>\n    </tr>\n    <tr>\n      <th>3</th>\n      <td>2020-01-27</td>\n      <td>0.0</td>\n      <td>0.0</td>\n    </tr>\n    <tr>\n      <th>4</th>\n      <td>2020-01-28</td>\n      <td>0.0</td>\n      <td>0.0</td>\n    </tr>\n    <tr>\n      <th>5</th>\n      <td>2020-01-29</td>\n      <td>0.0</td>\n      <td>0.0</td>\n    </tr>\n    <tr>\n      <th>6</th>\n      <td>2020-01-30</td>\n      <td>3.0</td>\n      <td>0.0</td>\n    </tr>\n    <tr>\n      <th>7</th>\n      <td>2020-01-31</td>\n      <td>3.0</td>\n      <td>0.0</td>\n    </tr>\n    <tr>\n      <th>8</th>\n      <td>2020-02-01</td>\n      <td>0.0</td>\n      <td>0.0</td>\n    </tr>\n    <tr>\n      <th>9</th>\n      <td>2020-02-02</td>\n      <td>1.0</td>\n      <td>0.0</td>\n    </tr>\n    <tr>\n      <th>10</th>\n      <td>2020-02-03</td>\n      <td>0.0</td>\n      <td>0.0</td>\n    </tr>\n    <tr>\n      <th>11</th>\n      <td>2020-02-04</td>\n      <td>0.0</td>\n      <td>0.0</td>\n    </tr>\n    <tr>\n      <th>12</th>\n      <td>2020-02-05</td>\n      <td>2.0</td>\n      <td>0.0</td>\n    </tr>\n    <tr>\n      <th>13</th>\n      <td>2020-02-06</td>\n      <td>1.0</td>\n      <td>0.0</td>\n    </tr>\n    <tr>\n      <th>14</th>\n      <td>2020-02-07</td>\n      <td>1.0</td>\n      <td>0.0</td>\n    </tr>\n  </tbody>\n</table>\n</div>"
     },
     "metadata": {},
     "execution_count": 31
    }
   ],
   "source": [
    "df_merged = pd.merge(df_predict, df_untracked_no, how=\"left\", on=\"date\")\n",
    "df_merged = df_merged.fillna(0)\n",
    "df_merged.head(15)"
   ]
  },
  {
   "cell_type": "code",
   "execution_count": 32,
   "metadata": {},
   "outputs": [
    {
     "output_type": "execute_result",
     "data": {
      "text/plain": "           date  new_confirmed  new_untracked\n213  2020-08-24          135.0           45.0\n214  2020-08-25          115.0           35.0\n215  2020-08-26          157.0           45.0\n216  2020-08-27          159.0           38.0\n217  2020-08-28          118.0           34.0\n218  2020-08-29          167.0           23.0\n219  2020-08-30           70.0           17.0\n220  2020-08-31          103.0           17.0\n221  2020-09-01           86.0           20.0\n222  2020-09-02           64.0           13.0\n223  2020-09-03           46.0            6.0\n224  2020-09-04           55.0            6.0\n225  2020-09-05           58.0           19.0\n226  2020-09-06           43.0           13.0\n227  2020-09-07           62.0           15.0",
      "text/html": "<div>\n<style scoped>\n    .dataframe tbody tr th:only-of-type {\n        vertical-align: middle;\n    }\n\n    .dataframe tbody tr th {\n        vertical-align: top;\n    }\n\n    .dataframe thead th {\n        text-align: right;\n    }\n</style>\n<table border=\"1\" class=\"dataframe\">\n  <thead>\n    <tr style=\"text-align: right;\">\n      <th></th>\n      <th>date</th>\n      <th>new_confirmed</th>\n      <th>new_untracked</th>\n    </tr>\n  </thead>\n  <tbody>\n    <tr>\n      <th>213</th>\n      <td>2020-08-24</td>\n      <td>135.0</td>\n      <td>45.0</td>\n    </tr>\n    <tr>\n      <th>214</th>\n      <td>2020-08-25</td>\n      <td>115.0</td>\n      <td>35.0</td>\n    </tr>\n    <tr>\n      <th>215</th>\n      <td>2020-08-26</td>\n      <td>157.0</td>\n      <td>45.0</td>\n    </tr>\n    <tr>\n      <th>216</th>\n      <td>2020-08-27</td>\n      <td>159.0</td>\n      <td>38.0</td>\n    </tr>\n    <tr>\n      <th>217</th>\n      <td>2020-08-28</td>\n      <td>118.0</td>\n      <td>34.0</td>\n    </tr>\n    <tr>\n      <th>218</th>\n      <td>2020-08-29</td>\n      <td>167.0</td>\n      <td>23.0</td>\n    </tr>\n    <tr>\n      <th>219</th>\n      <td>2020-08-30</td>\n      <td>70.0</td>\n      <td>17.0</td>\n    </tr>\n    <tr>\n      <th>220</th>\n      <td>2020-08-31</td>\n      <td>103.0</td>\n      <td>17.0</td>\n    </tr>\n    <tr>\n      <th>221</th>\n      <td>2020-09-01</td>\n      <td>86.0</td>\n      <td>20.0</td>\n    </tr>\n    <tr>\n      <th>222</th>\n      <td>2020-09-02</td>\n      <td>64.0</td>\n      <td>13.0</td>\n    </tr>\n    <tr>\n      <th>223</th>\n      <td>2020-09-03</td>\n      <td>46.0</td>\n      <td>6.0</td>\n    </tr>\n    <tr>\n      <th>224</th>\n      <td>2020-09-04</td>\n      <td>55.0</td>\n      <td>6.0</td>\n    </tr>\n    <tr>\n      <th>225</th>\n      <td>2020-09-05</td>\n      <td>58.0</td>\n      <td>19.0</td>\n    </tr>\n    <tr>\n      <th>226</th>\n      <td>2020-09-06</td>\n      <td>43.0</td>\n      <td>13.0</td>\n    </tr>\n    <tr>\n      <th>227</th>\n      <td>2020-09-07</td>\n      <td>62.0</td>\n      <td>15.0</td>\n    </tr>\n  </tbody>\n</table>\n</div>"
     },
     "metadata": {},
     "execution_count": 32
    }
   ],
   "source": [
    "df_merged.tail(15)"
   ]
  },
  {
   "cell_type": "code",
   "execution_count": 49,
   "metadata": {
    "tags": []
   },
   "outputs": [
    {
     "output_type": "stream",
     "name": "stdout",
     "text": "[1, 1, 1, 1, 1, 1, 2, 4, 4, 4]\n[463, 475, 495, 506, 524, 533, 549, 559, 569, 578]\n"
    }
   ],
   "source": [
    "list_infection_paths_no = []\n",
    "for index, row in df_merged.iterrows():\n",
    "    filter_end_date = row[\"date\"]\n",
    "    # print(filter_end_date)\n",
    "    df_filtered = df.loc[df['확진일'] <= filter_end_date]\n",
    "    \n",
    "    # 확진자 접촉력이 밝혀진 경우\n",
    "    infection_paths_known = df_filtered[\"접촉력\"].unique()\n",
    "    \n",
    "    # \"기타 확진자 접촉\" 항목 485건 / R0\n",
    "    contact_no = len(df_filtered[df_filtered[\"접촉력\"].str.contains(\"기타 확진자 접촉\")])/1.5\n",
    "    \n",
    "    infection_paths_no = len(infection_paths_known) + contact_no\n",
    "    list_infection_paths_no.append(int(infection_paths_no))\n",
    "print(list_infection_paths_no[:10])\n",
    "print(list_infection_paths_no[-10:])"
   ]
  },
  {
   "cell_type": "code",
   "execution_count": 50,
   "metadata": {},
   "outputs": [
    {
     "output_type": "execute_result",
     "data": {
      "text/plain": "         date  new_confirmed  new_untracked  no_paths\n0  2020-01-24              1              0         1\n1  2020-01-25              0              0         1\n2  2020-01-26              0              0         1\n3  2020-01-27              0              0         1\n4  2020-01-28              0              0         1",
      "text/html": "<div>\n<style scoped>\n    .dataframe tbody tr th:only-of-type {\n        vertical-align: middle;\n    }\n\n    .dataframe tbody tr th {\n        vertical-align: top;\n    }\n\n    .dataframe thead th {\n        text-align: right;\n    }\n</style>\n<table border=\"1\" class=\"dataframe\">\n  <thead>\n    <tr style=\"text-align: right;\">\n      <th></th>\n      <th>date</th>\n      <th>new_confirmed</th>\n      <th>new_untracked</th>\n      <th>no_paths</th>\n    </tr>\n  </thead>\n  <tbody>\n    <tr>\n      <th>0</th>\n      <td>2020-01-24</td>\n      <td>1</td>\n      <td>0</td>\n      <td>1</td>\n    </tr>\n    <tr>\n      <th>1</th>\n      <td>2020-01-25</td>\n      <td>0</td>\n      <td>0</td>\n      <td>1</td>\n    </tr>\n    <tr>\n      <th>2</th>\n      <td>2020-01-26</td>\n      <td>0</td>\n      <td>0</td>\n      <td>1</td>\n    </tr>\n    <tr>\n      <th>3</th>\n      <td>2020-01-27</td>\n      <td>0</td>\n      <td>0</td>\n      <td>1</td>\n    </tr>\n    <tr>\n      <th>4</th>\n      <td>2020-01-28</td>\n      <td>0</td>\n      <td>0</td>\n      <td>1</td>\n    </tr>\n  </tbody>\n</table>\n</div>"
     },
     "metadata": {},
     "execution_count": 50
    }
   ],
   "source": [
    "df_merged[\"no_paths\"] = list_infection_paths_no\n",
    "df_merged[\"new_confirmed\"] = df_merged[\"new_confirmed\"].apply(int)\n",
    "df_merged[\"new_untracked\"] = df_merged[\"new_untracked\"].apply(int)\n",
    "df_merged.head()"
   ]
  },
  {
   "cell_type": "code",
   "execution_count": 51,
   "metadata": {},
   "outputs": [
    {
     "output_type": "execute_result",
     "data": {
      "text/plain": "           date  new_confirmed  new_untracked  no_paths\n223  2020-09-03             46              6       533\n224  2020-09-04             55              6       549\n225  2020-09-05             58             19       559\n226  2020-09-06             43             13       569\n227  2020-09-07             62             15       578",
      "text/html": "<div>\n<style scoped>\n    .dataframe tbody tr th:only-of-type {\n        vertical-align: middle;\n    }\n\n    .dataframe tbody tr th {\n        vertical-align: top;\n    }\n\n    .dataframe thead th {\n        text-align: right;\n    }\n</style>\n<table border=\"1\" class=\"dataframe\">\n  <thead>\n    <tr style=\"text-align: right;\">\n      <th></th>\n      <th>date</th>\n      <th>new_confirmed</th>\n      <th>new_untracked</th>\n      <th>no_paths</th>\n    </tr>\n  </thead>\n  <tbody>\n    <tr>\n      <th>223</th>\n      <td>2020-09-03</td>\n      <td>46</td>\n      <td>6</td>\n      <td>533</td>\n    </tr>\n    <tr>\n      <th>224</th>\n      <td>2020-09-04</td>\n      <td>55</td>\n      <td>6</td>\n      <td>549</td>\n    </tr>\n    <tr>\n      <th>225</th>\n      <td>2020-09-05</td>\n      <td>58</td>\n      <td>19</td>\n      <td>559</td>\n    </tr>\n    <tr>\n      <th>226</th>\n      <td>2020-09-06</td>\n      <td>43</td>\n      <td>13</td>\n      <td>569</td>\n    </tr>\n    <tr>\n      <th>227</th>\n      <td>2020-09-07</td>\n      <td>62</td>\n      <td>15</td>\n      <td>578</td>\n    </tr>\n  </tbody>\n</table>\n</div>"
     },
     "metadata": {},
     "execution_count": 51
    }
   ],
   "source": [
    "df_merged.tail()"
   ]
  },
  {
   "cell_type": "code",
   "execution_count": 52,
   "metadata": {},
   "outputs": [],
   "source": [
    "df_merged.to_csv(\"dataset_predict/df_predict.csv\", index=False)"
   ]
  },
  {
   "cell_type": "markdown",
   "metadata": {},
   "source": [
    "### check holiday"
   ]
  },
  {
   "cell_type": "code",
   "execution_count": 53,
   "metadata": {},
   "outputs": [
    {
     "output_type": "execute_result",
     "data": {
      "text/plain": "[{'sc': '2000-01-01', 'lc': '1999-11-25', 'w': 7, 'h': True, 'ht': '신정'},\n {'sc': '2000-01-02', 'lc': '1999-11-26', 'w': 1, 'h': False, 'ht': ''},\n {'sc': '2000-01-03', 'lc': '1999-11-27', 'w': 2, 'h': False, 'ht': ''},\n {'sc': '2000-01-04', 'lc': '1999-11-28', 'w': 3, 'h': False, 'ht': ''},\n {'sc': '2000-01-05', 'lc': '1999-11-29', 'w': 4, 'h': False, 'ht': ''},\n {'sc': '2000-01-06', 'lc': '1999-11-30', 'w': 5, 'h': False, 'ht': ''},\n {'sc': '2000-01-07', 'lc': '1999-12-01', 'w': 6, 'h': False, 'ht': ''},\n {'sc': '2000-01-08', 'lc': '1999-12-02', 'w': 7, 'h': False, 'ht': ''},\n {'sc': '2000-01-09', 'lc': '1999-12-03', 'w': 1, 'h': False, 'ht': ''},\n {'sc': '2000-01-10', 'lc': '1999-12-04', 'w': 2, 'h': False, 'ht': ''}]"
     },
     "metadata": {},
     "execution_count": 53
    }
   ],
   "source": [
    "import json\n",
    "\n",
    "list_calendar=[]\n",
    "\n",
    "calendar_file = \"./korean-calendar/korean-calendar.json\"\n",
    "# read file\n",
    "with open(calendar_file, 'r') as myfile:\n",
    "    data=myfile.readlines()\n",
    "\n",
    "data = [x.strip() for x in data] \n",
    "\n",
    "for i in data:\n",
    "    calendar_data = i[43:]\n",
    "    calendar_item = \"{\"+calendar_data\n",
    "    calendar_item_json = json.loads(calendar_item)\n",
    "    list_calendar.append(calendar_item_json)\n",
    "list_calendar[:10]"
   ]
  },
  {
   "cell_type": "code",
   "execution_count": 54,
   "metadata": {},
   "outputs": [
    {
     "output_type": "execute_result",
     "data": {
      "text/plain": "           sc  w      h\n0  2000-01-01  7   True\n1  2000-01-02  1  False\n2  2000-01-03  2  False\n3  2000-01-04  3  False\n4  2000-01-05  4  False",
      "text/html": "<div>\n<style scoped>\n    .dataframe tbody tr th:only-of-type {\n        vertical-align: middle;\n    }\n\n    .dataframe tbody tr th {\n        vertical-align: top;\n    }\n\n    .dataframe thead th {\n        text-align: right;\n    }\n</style>\n<table border=\"1\" class=\"dataframe\">\n  <thead>\n    <tr style=\"text-align: right;\">\n      <th></th>\n      <th>sc</th>\n      <th>w</th>\n      <th>h</th>\n    </tr>\n  </thead>\n  <tbody>\n    <tr>\n      <th>0</th>\n      <td>2000-01-01</td>\n      <td>7</td>\n      <td>True</td>\n    </tr>\n    <tr>\n      <th>1</th>\n      <td>2000-01-02</td>\n      <td>1</td>\n      <td>False</td>\n    </tr>\n    <tr>\n      <th>2</th>\n      <td>2000-01-03</td>\n      <td>2</td>\n      <td>False</td>\n    </tr>\n    <tr>\n      <th>3</th>\n      <td>2000-01-04</td>\n      <td>3</td>\n      <td>False</td>\n    </tr>\n    <tr>\n      <th>4</th>\n      <td>2000-01-05</td>\n      <td>4</td>\n      <td>False</td>\n    </tr>\n  </tbody>\n</table>\n</div>"
     },
     "metadata": {},
     "execution_count": 54
    }
   ],
   "source": [
    "df_calendar = pd.DataFrame(list_calendar)\n",
    "df_calendar = df_calendar[[\"sc\", \"w\", \"h\"]]\n",
    "df_calendar.head()"
   ]
  },
  {
   "cell_type": "code",
   "execution_count": 55,
   "metadata": {},
   "outputs": [],
   "source": [
    "def label_weekend(row):\n",
    "    # sunday\n",
    "    if row['w'] == 1:\n",
    "        return True\n",
    "    # friday\n",
    "    if row['w'] == 6:\n",
    "        return True\n",
    "    # saturday\n",
    "    if row['w'] == 7:\n",
    "        return True\n",
    "    else:\n",
    "        return False"
   ]
  },
  {
   "cell_type": "code",
   "execution_count": 56,
   "metadata": {},
   "outputs": [
    {
     "output_type": "execute_result",
     "data": {
      "text/plain": "           sc  w      h  is_weekend\n0  2000-01-01  7   True        True\n1  2000-01-02  1  False        True\n2  2000-01-03  2  False       False\n3  2000-01-04  3  False       False\n4  2000-01-05  4  False       False\n5  2000-01-06  5  False       False\n6  2000-01-07  6  False        True\n7  2000-01-08  7  False        True\n8  2000-01-09  1  False        True\n9  2000-01-10  2  False       False",
      "text/html": "<div>\n<style scoped>\n    .dataframe tbody tr th:only-of-type {\n        vertical-align: middle;\n    }\n\n    .dataframe tbody tr th {\n        vertical-align: top;\n    }\n\n    .dataframe thead th {\n        text-align: right;\n    }\n</style>\n<table border=\"1\" class=\"dataframe\">\n  <thead>\n    <tr style=\"text-align: right;\">\n      <th></th>\n      <th>sc</th>\n      <th>w</th>\n      <th>h</th>\n      <th>is_weekend</th>\n    </tr>\n  </thead>\n  <tbody>\n    <tr>\n      <th>0</th>\n      <td>2000-01-01</td>\n      <td>7</td>\n      <td>True</td>\n      <td>True</td>\n    </tr>\n    <tr>\n      <th>1</th>\n      <td>2000-01-02</td>\n      <td>1</td>\n      <td>False</td>\n      <td>True</td>\n    </tr>\n    <tr>\n      <th>2</th>\n      <td>2000-01-03</td>\n      <td>2</td>\n      <td>False</td>\n      <td>False</td>\n    </tr>\n    <tr>\n      <th>3</th>\n      <td>2000-01-04</td>\n      <td>3</td>\n      <td>False</td>\n      <td>False</td>\n    </tr>\n    <tr>\n      <th>4</th>\n      <td>2000-01-05</td>\n      <td>4</td>\n      <td>False</td>\n      <td>False</td>\n    </tr>\n    <tr>\n      <th>5</th>\n      <td>2000-01-06</td>\n      <td>5</td>\n      <td>False</td>\n      <td>False</td>\n    </tr>\n    <tr>\n      <th>6</th>\n      <td>2000-01-07</td>\n      <td>6</td>\n      <td>False</td>\n      <td>True</td>\n    </tr>\n    <tr>\n      <th>7</th>\n      <td>2000-01-08</td>\n      <td>7</td>\n      <td>False</td>\n      <td>True</td>\n    </tr>\n    <tr>\n      <th>8</th>\n      <td>2000-01-09</td>\n      <td>1</td>\n      <td>False</td>\n      <td>True</td>\n    </tr>\n    <tr>\n      <th>9</th>\n      <td>2000-01-10</td>\n      <td>2</td>\n      <td>False</td>\n      <td>False</td>\n    </tr>\n  </tbody>\n</table>\n</div>"
     },
     "metadata": {},
     "execution_count": 56
    }
   ],
   "source": [
    "df_calendar[\"is_weekend\"] = df_calendar.apply(lambda row: label_weekend(row), axis=1)\n",
    "df_calendar.head(10)"
   ]
  },
  {
   "cell_type": "code",
   "execution_count": 57,
   "metadata": {},
   "outputs": [],
   "source": [
    "# rename dataframe name\n",
    "df_calendar.rename(columns = {'sc':'date', 'h':'is_holiday'}, inplace = True)"
   ]
  },
  {
   "cell_type": "code",
   "execution_count": 58,
   "metadata": {},
   "outputs": [],
   "source": [
    "df_calendar.to_csv(\"dataset_predict/df_calendar.csv\", index=False)"
   ]
  },
  {
   "cell_type": "code",
   "execution_count": 59,
   "metadata": {},
   "outputs": [],
   "source": [
    "df_calendar_subset = df_calendar[[\"date\", \"is_holiday\", \"is_weekend\"]]"
   ]
  },
  {
   "cell_type": "code",
   "execution_count": 60,
   "metadata": {},
   "outputs": [
    {
     "output_type": "execute_result",
     "data": {
      "text/plain": "           date  new_confirmed  new_untracked  no_paths  is_holiday  \\\n223  2020-09-03             46              6       533       False   \n224  2020-09-04             55              6       549       False   \n225  2020-09-05             58             19       559       False   \n226  2020-09-06             43             13       569       False   \n227  2020-09-07             62             15       578       False   \n\n     is_weekend  \n223       False  \n224        True  \n225        True  \n226        True  \n227       False  ",
      "text/html": "<div>\n<style scoped>\n    .dataframe tbody tr th:only-of-type {\n        vertical-align: middle;\n    }\n\n    .dataframe tbody tr th {\n        vertical-align: top;\n    }\n\n    .dataframe thead th {\n        text-align: right;\n    }\n</style>\n<table border=\"1\" class=\"dataframe\">\n  <thead>\n    <tr style=\"text-align: right;\">\n      <th></th>\n      <th>date</th>\n      <th>new_confirmed</th>\n      <th>new_untracked</th>\n      <th>no_paths</th>\n      <th>is_holiday</th>\n      <th>is_weekend</th>\n    </tr>\n  </thead>\n  <tbody>\n    <tr>\n      <th>223</th>\n      <td>2020-09-03</td>\n      <td>46</td>\n      <td>6</td>\n      <td>533</td>\n      <td>False</td>\n      <td>False</td>\n    </tr>\n    <tr>\n      <th>224</th>\n      <td>2020-09-04</td>\n      <td>55</td>\n      <td>6</td>\n      <td>549</td>\n      <td>False</td>\n      <td>True</td>\n    </tr>\n    <tr>\n      <th>225</th>\n      <td>2020-09-05</td>\n      <td>58</td>\n      <td>19</td>\n      <td>559</td>\n      <td>False</td>\n      <td>True</td>\n    </tr>\n    <tr>\n      <th>226</th>\n      <td>2020-09-06</td>\n      <td>43</td>\n      <td>13</td>\n      <td>569</td>\n      <td>False</td>\n      <td>True</td>\n    </tr>\n    <tr>\n      <th>227</th>\n      <td>2020-09-07</td>\n      <td>62</td>\n      <td>15</td>\n      <td>578</td>\n      <td>False</td>\n      <td>False</td>\n    </tr>\n  </tbody>\n</table>\n</div>"
     },
     "metadata": {},
     "execution_count": 60
    }
   ],
   "source": [
    "df_train = pd.merge(df_merged, df_calendar_subset, how=\"left\", on=\"date\")\n",
    "df_train.tail()"
   ]
  },
  {
   "cell_type": "code",
   "execution_count": 61,
   "metadata": {},
   "outputs": [
    {
     "output_type": "execute_result",
     "data": {
      "text/plain": "           date  new_confirmed  new_untracked  no_paths  is_holiday  \\\n203  2020-08-14             73              4       175       False   \n204  2020-08-15            146              6       181        True   \n205  2020-08-16             91              4       188       False   \n206  2020-08-17            132              7       192       False   \n207  2020-08-18            151             18       198       False   \n208  2020-08-19            135             19       217       False   \n209  2020-08-20            126             28       229       False   \n210  2020-08-21            128             32       247       False   \n211  2020-08-22            143             44       270       False   \n212  2020-08-23             98             25       291       False   \n\n     is_weekend  \n203        True  \n204        True  \n205        True  \n206       False  \n207       False  \n208       False  \n209       False  \n210        True  \n211        True  \n212        True  ",
      "text/html": "<div>\n<style scoped>\n    .dataframe tbody tr th:only-of-type {\n        vertical-align: middle;\n    }\n\n    .dataframe tbody tr th {\n        vertical-align: top;\n    }\n\n    .dataframe thead th {\n        text-align: right;\n    }\n</style>\n<table border=\"1\" class=\"dataframe\">\n  <thead>\n    <tr style=\"text-align: right;\">\n      <th></th>\n      <th>date</th>\n      <th>new_confirmed</th>\n      <th>new_untracked</th>\n      <th>no_paths</th>\n      <th>is_holiday</th>\n      <th>is_weekend</th>\n    </tr>\n  </thead>\n  <tbody>\n    <tr>\n      <th>203</th>\n      <td>2020-08-14</td>\n      <td>73</td>\n      <td>4</td>\n      <td>175</td>\n      <td>False</td>\n      <td>True</td>\n    </tr>\n    <tr>\n      <th>204</th>\n      <td>2020-08-15</td>\n      <td>146</td>\n      <td>6</td>\n      <td>181</td>\n      <td>True</td>\n      <td>True</td>\n    </tr>\n    <tr>\n      <th>205</th>\n      <td>2020-08-16</td>\n      <td>91</td>\n      <td>4</td>\n      <td>188</td>\n      <td>False</td>\n      <td>True</td>\n    </tr>\n    <tr>\n      <th>206</th>\n      <td>2020-08-17</td>\n      <td>132</td>\n      <td>7</td>\n      <td>192</td>\n      <td>False</td>\n      <td>False</td>\n    </tr>\n    <tr>\n      <th>207</th>\n      <td>2020-08-18</td>\n      <td>151</td>\n      <td>18</td>\n      <td>198</td>\n      <td>False</td>\n      <td>False</td>\n    </tr>\n    <tr>\n      <th>208</th>\n      <td>2020-08-19</td>\n      <td>135</td>\n      <td>19</td>\n      <td>217</td>\n      <td>False</td>\n      <td>False</td>\n    </tr>\n    <tr>\n      <th>209</th>\n      <td>2020-08-20</td>\n      <td>126</td>\n      <td>28</td>\n      <td>229</td>\n      <td>False</td>\n      <td>False</td>\n    </tr>\n    <tr>\n      <th>210</th>\n      <td>2020-08-21</td>\n      <td>128</td>\n      <td>32</td>\n      <td>247</td>\n      <td>False</td>\n      <td>True</td>\n    </tr>\n    <tr>\n      <th>211</th>\n      <td>2020-08-22</td>\n      <td>143</td>\n      <td>44</td>\n      <td>270</td>\n      <td>False</td>\n      <td>True</td>\n    </tr>\n    <tr>\n      <th>212</th>\n      <td>2020-08-23</td>\n      <td>98</td>\n      <td>25</td>\n      <td>291</td>\n      <td>False</td>\n      <td>True</td>\n    </tr>\n  </tbody>\n</table>\n</div>"
     },
     "metadata": {},
     "execution_count": 61
    }
   ],
   "source": [
    "df_train[-25:-15]"
   ]
  },
  {
   "cell_type": "code",
   "execution_count": 62,
   "metadata": {},
   "outputs": [],
   "source": [
    "df_train.to_csv(\"./dataset_predict/df_train.csv\", index=False)"
   ]
  },
  {
   "cell_type": "markdown",
   "metadata": {},
   "source": [
    "### Add Government Social Distancing Policy"
   ]
  }
 ]
}