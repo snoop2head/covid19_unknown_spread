{
 "metadata": {
  "language_info": {
   "codemirror_mode": {
    "name": "ipython",
    "version": 3
   },
   "file_extension": ".py",
   "mimetype": "text/x-python",
   "name": "python",
   "nbconvert_exporter": "python",
   "pygments_lexer": "ipython3",
   "version": "3.8.3-final"
  },
  "orig_nbformat": 2,
  "kernelspec": {
   "name": "python38364bitdatavenvfe97dd12d13941c2ad0777a7539abb51",
   "display_name": "Python 3.8.3 64-bit ('data': venv)"
  }
 },
 "nbformat": 4,
 "nbformat_minor": 2,
 "cells": [
  {
   "cell_type": "code",
   "execution_count": 2,
   "metadata": {},
   "outputs": [],
   "source": [
    "import pandas as pd\n",
    "import numpy as np"
   ]
  },
  {
   "cell_type": "code",
   "execution_count": 3,
   "metadata": {},
   "outputs": [],
   "source": [
    "import os\n",
    "from os import fdopen, remove, walk\n",
    "import glob\n",
    "from tempfile import mkstemp\n",
    "import shutil\n",
    "from shutil import move, copymode"
   ]
  },
  {
   "cell_type": "code",
   "execution_count": 4,
   "metadata": {},
   "outputs": [
    {
     "output_type": "execute_result",
     "data": {
      "text/plain": "['/Users/noopy/covid19_unknown_spread/dataset/seoul_covid_8_31_.csv',\n '/Users/noopy/covid19_unknown_spread/dataset/seoul_covid_8_30_.csv',\n '/Users/noopy/covid19_unknown_spread/dataset/seoul_covid_8_17_.csv',\n '/Users/noopy/covid19_unknown_spread/dataset/seoul_covid_8_21_.csv',\n '/Users/noopy/covid19_unknown_spread/dataset/seoul_covid_7_04_.csv',\n '/Users/noopy/covid19_unknown_spread/dataset/seoul_covid_8_20_.csv',\n '/Users/noopy/covid19_unknown_spread/dataset/seoul_covid_8_16_.csv',\n '/Users/noopy/covid19_unknown_spread/dataset/seoul_covid_7_09_.csv',\n '/Users/noopy/covid19_unknown_spread/dataset/seoul_covid_9_01_.csv',\n '/Users/noopy/covid19_unknown_spread/dataset/seoul_covid_8_15_.csv',\n '/Users/noopy/covid19_unknown_spread/dataset/seoul_covid_9_02_.csv',\n '/Users/noopy/covid19_unknown_spread/dataset/seoul_covid_8_19_.csv',\n '/Users/noopy/covid19_unknown_spread/dataset/seoul_covid_8_23_.csv',\n '/Users/noopy/covid19_unknown_spread/dataset/seoul_covid_8_22_.csv',\n '/Users/noopy/covid19_unknown_spread/dataset/seoul_covid_8_18_.csv',\n '/Users/noopy/covid19_unknown_spread/dataset/seoul_covid_9_03_.csv',\n '/Users/noopy/covid19_unknown_spread/dataset/seoul_covid_8_25_.csv',\n '/Users/noopy/covid19_unknown_spread/dataset/seoul_covid_9_04_.csv',\n '/Users/noopy/covid19_unknown_spread/dataset/seoul_covid_8_29_.csv',\n '/Users/noopy/covid19_unknown_spread/dataset/seoul_covid_8_28_.csv',\n '/Users/noopy/covid19_unknown_spread/dataset/seoul_covid_8_24_.csv']"
     },
     "metadata": {},
     "execution_count": 4
    }
   ],
   "source": [
    "DATASET_PATH = \"/Users/noopy/covid19_unknown_spread/dataset\"\n",
    "datasets = glob.glob(f\"{DATASET_PATH}/*.csv\")\n",
    "datasets"
   ]
  },
  {
   "cell_type": "code",
   "execution_count": 4,
   "metadata": {},
   "outputs": [],
   "source": [
    "df_temp = pd.read_csv('./dataset/seoul_covid_9_04_.csv', encoding=\"utf-8\")"
   ]
  },
  {
   "cell_type": "code",
   "execution_count": 5,
   "metadata": {},
   "outputs": [
    {
     "output_type": "execute_result",
     "data": {
      "text/plain": "        연번     환자    확진일  거주지 여행력                  접촉력 퇴원현황\n2759  1492  13805  7.20.  은평구   -        종로구 지인모임 신명투자   퇴원\n2512  1739  14789  8.13.  성북구   -  고양시 반석교회 관련 (케네디상가)   퇴원\n1597  2654  16923  8.21.  광진구   -             순복음 강북교회  NaN\n472   3779  19768  8.30.  도봉구   -                 확인 중  NaN\n2411  1840  15015  8.14.  송파구   -        성북구 사랑제일교회 관련   퇴원\n3184  1067  12002  6.11.  은평구   -           kb 생명보험 관련   퇴원\n2181  2070  15463  8.16.  성북구   -        성북구 사랑제일교회 관련  NaN\n2144  2107  15570  8.17.  강북구   -        성북구 사랑제일교회 관련  NaN\n2191  2060  15388  8.16.  성북구   -        성북구 사랑제일교회 관련  NaN\n1530  2721  16770  8.21.  성북구   -           타시도 확진자 접촉  NaN\n1642  2609  16660  8.20.  서초구   -            기타 확진자 접촉   퇴원\n1983  2268  15861  8.18.  은평구   -        성북구 사랑제일교회 관련  NaN\n2203  2048  15326  8.16.  마포구   -         양천구 되새김교회 관련  NaN\n119   4132  20737  9.02.  강서구   -                 확인 중  NaN\n1796  2455  16144  8.19.  성북구   -        성북구 사랑제일교회 관련  NaN",
      "text/html": "<div>\n<style scoped>\n    .dataframe tbody tr th:only-of-type {\n        vertical-align: middle;\n    }\n\n    .dataframe tbody tr th {\n        vertical-align: top;\n    }\n\n    .dataframe thead th {\n        text-align: right;\n    }\n</style>\n<table border=\"1\" class=\"dataframe\">\n  <thead>\n    <tr style=\"text-align: right;\">\n      <th></th>\n      <th>연번</th>\n      <th>환자</th>\n      <th>확진일</th>\n      <th>거주지</th>\n      <th>여행력</th>\n      <th>접촉력</th>\n      <th>퇴원현황</th>\n    </tr>\n  </thead>\n  <tbody>\n    <tr>\n      <th>2759</th>\n      <td>1492</td>\n      <td>13805</td>\n      <td>7.20.</td>\n      <td>은평구</td>\n      <td>-</td>\n      <td>종로구 지인모임 신명투자</td>\n      <td>퇴원</td>\n    </tr>\n    <tr>\n      <th>2512</th>\n      <td>1739</td>\n      <td>14789</td>\n      <td>8.13.</td>\n      <td>성북구</td>\n      <td>-</td>\n      <td>고양시 반석교회 관련 (케네디상가)</td>\n      <td>퇴원</td>\n    </tr>\n    <tr>\n      <th>1597</th>\n      <td>2654</td>\n      <td>16923</td>\n      <td>8.21.</td>\n      <td>광진구</td>\n      <td>-</td>\n      <td>순복음 강북교회</td>\n      <td>NaN</td>\n    </tr>\n    <tr>\n      <th>472</th>\n      <td>3779</td>\n      <td>19768</td>\n      <td>8.30.</td>\n      <td>도봉구</td>\n      <td>-</td>\n      <td>확인 중</td>\n      <td>NaN</td>\n    </tr>\n    <tr>\n      <th>2411</th>\n      <td>1840</td>\n      <td>15015</td>\n      <td>8.14.</td>\n      <td>송파구</td>\n      <td>-</td>\n      <td>성북구 사랑제일교회 관련</td>\n      <td>퇴원</td>\n    </tr>\n    <tr>\n      <th>3184</th>\n      <td>1067</td>\n      <td>12002</td>\n      <td>6.11.</td>\n      <td>은평구</td>\n      <td>-</td>\n      <td>kb 생명보험 관련</td>\n      <td>퇴원</td>\n    </tr>\n    <tr>\n      <th>2181</th>\n      <td>2070</td>\n      <td>15463</td>\n      <td>8.16.</td>\n      <td>성북구</td>\n      <td>-</td>\n      <td>성북구 사랑제일교회 관련</td>\n      <td>NaN</td>\n    </tr>\n    <tr>\n      <th>2144</th>\n      <td>2107</td>\n      <td>15570</td>\n      <td>8.17.</td>\n      <td>강북구</td>\n      <td>-</td>\n      <td>성북구 사랑제일교회 관련</td>\n      <td>NaN</td>\n    </tr>\n    <tr>\n      <th>2191</th>\n      <td>2060</td>\n      <td>15388</td>\n      <td>8.16.</td>\n      <td>성북구</td>\n      <td>-</td>\n      <td>성북구 사랑제일교회 관련</td>\n      <td>NaN</td>\n    </tr>\n    <tr>\n      <th>1530</th>\n      <td>2721</td>\n      <td>16770</td>\n      <td>8.21.</td>\n      <td>성북구</td>\n      <td>-</td>\n      <td>타시도 확진자 접촉</td>\n      <td>NaN</td>\n    </tr>\n    <tr>\n      <th>1642</th>\n      <td>2609</td>\n      <td>16660</td>\n      <td>8.20.</td>\n      <td>서초구</td>\n      <td>-</td>\n      <td>기타 확진자 접촉</td>\n      <td>퇴원</td>\n    </tr>\n    <tr>\n      <th>1983</th>\n      <td>2268</td>\n      <td>15861</td>\n      <td>8.18.</td>\n      <td>은평구</td>\n      <td>-</td>\n      <td>성북구 사랑제일교회 관련</td>\n      <td>NaN</td>\n    </tr>\n    <tr>\n      <th>2203</th>\n      <td>2048</td>\n      <td>15326</td>\n      <td>8.16.</td>\n      <td>마포구</td>\n      <td>-</td>\n      <td>양천구 되새김교회 관련</td>\n      <td>NaN</td>\n    </tr>\n    <tr>\n      <th>119</th>\n      <td>4132</td>\n      <td>20737</td>\n      <td>9.02.</td>\n      <td>강서구</td>\n      <td>-</td>\n      <td>확인 중</td>\n      <td>NaN</td>\n    </tr>\n    <tr>\n      <th>1796</th>\n      <td>2455</td>\n      <td>16144</td>\n      <td>8.19.</td>\n      <td>성북구</td>\n      <td>-</td>\n      <td>성북구 사랑제일교회 관련</td>\n      <td>NaN</td>\n    </tr>\n  </tbody>\n</table>\n</div>"
     },
     "metadata": {},
     "execution_count": 5
    }
   ],
   "source": [
    "df_temp.sample(15)"
   ]
  },
  {
   "cell_type": "code",
   "execution_count": 6,
   "metadata": {},
   "outputs": [
    {
     "output_type": "execute_result",
     "data": {
      "text/plain": "array(['확인 중'], dtype=object)"
     },
     "metadata": {},
     "execution_count": 6
    }
   ],
   "source": [
    "# overwrite whatever cell value that contains \"확인\" as \"확인 중\"\n",
    "df_temp.loc[df_temp[\"접촉력\"].str.contains(\"확인\"),\"접촉력\"] = \"확인 중\"\n",
    "\n",
    "# check whether those two arrays are combined\n",
    "df_temp.loc[df_temp[\"접촉력\"].str.contains(\"확인\"),\"접촉력\"].unique()"
   ]
  },
  {
   "cell_type": "code",
   "execution_count": 7,
   "metadata": {},
   "outputs": [
    {
     "output_type": "execute_result",
     "data": {
      "text/plain": "        연번     환자    확진일   거주지 여행력              접촉력 퇴원현황\n4113   138   7683   3.9.   성남시   -             확인 중   퇴원\n4013   238   8049  3.13.  동대문구   -          동대문구 관련   퇴원\n728   3523  19025  8.27.   관악구   -             확인 중  NaN\n2469  1782  14973  8.14.   노원구   -         골드트레인 관련   퇴원\n1495  2756  17046  8.22.   강동구   -            골드트레인  NaN\n3071  1180  12284  6.18.   양천구   -             확인 중   퇴원\n1465  2786  17340  8.22.   강서구   -         광화문집회 관련  NaN\n929   3322  18501  8.26.    기타   -       타시도 확진자 접촉  NaN\n2153  2098  15575  8.17.   중랑구   -    성북구 사랑제일교회 관련   퇴원\n2122  2129  15690  8.17.  동대문구   -        기타 확진자 접촉   퇴원\n3419   832  11364  5.28.    양평   -             확인 중   퇴원\n3861   390   9538  3.25.   강남구  미국         해외 접촉 추정   퇴원\n3195  1056  11966  6.11.  영등포구   -          리치웨이 관련   퇴원\n3177  1074  12016  6.12.   강북구   -          요양시설 관련   퇴원\n2476  1775  14880  8.14.  서대문구   -  고양시 반석교회(케네디상가)   퇴원",
      "text/html": "<div>\n<style scoped>\n    .dataframe tbody tr th:only-of-type {\n        vertical-align: middle;\n    }\n\n    .dataframe tbody tr th {\n        vertical-align: top;\n    }\n\n    .dataframe thead th {\n        text-align: right;\n    }\n</style>\n<table border=\"1\" class=\"dataframe\">\n  <thead>\n    <tr style=\"text-align: right;\">\n      <th></th>\n      <th>연번</th>\n      <th>환자</th>\n      <th>확진일</th>\n      <th>거주지</th>\n      <th>여행력</th>\n      <th>접촉력</th>\n      <th>퇴원현황</th>\n    </tr>\n  </thead>\n  <tbody>\n    <tr>\n      <th>4113</th>\n      <td>138</td>\n      <td>7683</td>\n      <td>3.9.</td>\n      <td>성남시</td>\n      <td>-</td>\n      <td>확인 중</td>\n      <td>퇴원</td>\n    </tr>\n    <tr>\n      <th>4013</th>\n      <td>238</td>\n      <td>8049</td>\n      <td>3.13.</td>\n      <td>동대문구</td>\n      <td>-</td>\n      <td>동대문구 관련</td>\n      <td>퇴원</td>\n    </tr>\n    <tr>\n      <th>728</th>\n      <td>3523</td>\n      <td>19025</td>\n      <td>8.27.</td>\n      <td>관악구</td>\n      <td>-</td>\n      <td>확인 중</td>\n      <td>NaN</td>\n    </tr>\n    <tr>\n      <th>2469</th>\n      <td>1782</td>\n      <td>14973</td>\n      <td>8.14.</td>\n      <td>노원구</td>\n      <td>-</td>\n      <td>골드트레인 관련</td>\n      <td>퇴원</td>\n    </tr>\n    <tr>\n      <th>1495</th>\n      <td>2756</td>\n      <td>17046</td>\n      <td>8.22.</td>\n      <td>강동구</td>\n      <td>-</td>\n      <td>골드트레인</td>\n      <td>NaN</td>\n    </tr>\n    <tr>\n      <th>3071</th>\n      <td>1180</td>\n      <td>12284</td>\n      <td>6.18.</td>\n      <td>양천구</td>\n      <td>-</td>\n      <td>확인 중</td>\n      <td>퇴원</td>\n    </tr>\n    <tr>\n      <th>1465</th>\n      <td>2786</td>\n      <td>17340</td>\n      <td>8.22.</td>\n      <td>강서구</td>\n      <td>-</td>\n      <td>광화문집회 관련</td>\n      <td>NaN</td>\n    </tr>\n    <tr>\n      <th>929</th>\n      <td>3322</td>\n      <td>18501</td>\n      <td>8.26.</td>\n      <td>기타</td>\n      <td>-</td>\n      <td>타시도 확진자 접촉</td>\n      <td>NaN</td>\n    </tr>\n    <tr>\n      <th>2153</th>\n      <td>2098</td>\n      <td>15575</td>\n      <td>8.17.</td>\n      <td>중랑구</td>\n      <td>-</td>\n      <td>성북구 사랑제일교회 관련</td>\n      <td>퇴원</td>\n    </tr>\n    <tr>\n      <th>2122</th>\n      <td>2129</td>\n      <td>15690</td>\n      <td>8.17.</td>\n      <td>동대문구</td>\n      <td>-</td>\n      <td>기타 확진자 접촉</td>\n      <td>퇴원</td>\n    </tr>\n    <tr>\n      <th>3419</th>\n      <td>832</td>\n      <td>11364</td>\n      <td>5.28.</td>\n      <td>양평</td>\n      <td>-</td>\n      <td>확인 중</td>\n      <td>퇴원</td>\n    </tr>\n    <tr>\n      <th>3861</th>\n      <td>390</td>\n      <td>9538</td>\n      <td>3.25.</td>\n      <td>강남구</td>\n      <td>미국</td>\n      <td>해외 접촉 추정</td>\n      <td>퇴원</td>\n    </tr>\n    <tr>\n      <th>3195</th>\n      <td>1056</td>\n      <td>11966</td>\n      <td>6.11.</td>\n      <td>영등포구</td>\n      <td>-</td>\n      <td>리치웨이 관련</td>\n      <td>퇴원</td>\n    </tr>\n    <tr>\n      <th>3177</th>\n      <td>1074</td>\n      <td>12016</td>\n      <td>6.12.</td>\n      <td>강북구</td>\n      <td>-</td>\n      <td>요양시설 관련</td>\n      <td>퇴원</td>\n    </tr>\n    <tr>\n      <th>2476</th>\n      <td>1775</td>\n      <td>14880</td>\n      <td>8.14.</td>\n      <td>서대문구</td>\n      <td>-</td>\n      <td>고양시 반석교회(케네디상가)</td>\n      <td>퇴원</td>\n    </tr>\n  </tbody>\n</table>\n</div>"
     },
     "metadata": {},
     "execution_count": 7
    }
   ],
   "source": [
    "df_temp.sample(15)"
   ]
  },
  {
   "cell_type": "code",
   "execution_count": 16,
   "metadata": {},
   "outputs": [],
   "source": [
    "df_temp[\"접촉력\"] = df_temp[\"접촉력\"].str.replace(\"관련\", \"\")\n",
    "df_temp[\"접촉력\"] = df_temp[\"접촉력\"].str.strip()"
   ]
  },
  {
   "cell_type": "code",
   "execution_count": 18,
   "metadata": {
    "tags": []
   },
   "outputs": [
    {
     "output_type": "stream",
     "name": "stdout",
     "text": "223\n"
    },
    {
     "output_type": "execute_result",
     "data": {
      "text/plain": "array(['송파구 소재 병원', '노원구 빛가온교회', '강동구 소재 병원', '성북구 사랑제일교회', '8.15도심집회',\n       '확인 중', '도봉구 운동시설', '타시도 확진자 접촉', '기타 확진자 접촉', '다래경매', '노원구 기도모임',\n       '동작구 카드 발급업체', '광진구 소재병원', '성북구 체대입시', '성북구 요양시설', '중구 소재 은행',\n       '중랑구 소재 체육시설', '관악구 판매업소', '동작구 소재 서울신학교', '용인시 우리제일교회',\n       '노원구 손해보험', '구로구 보성운수', '강서구 서울대효요양병원', '서초구 장애인교육시설', '서대문구 지인모임',\n       '강북구 일가족', '중구 하나은행본점', '강서구 보안회사', '롯데리아 종사자 모임', '해외 접촉 추정',\n       '8.15도심집회(순복음 강북교회)', '영등포구 권능교회', '구로구 아파트', '강남구 소재 아파트',\n       '제주 게스트하우스', '성북구 벧엘장로교회', '중앙보훈병원', '관악구 김혜근의원', '동대문구 sk탁구클럽',\n       '동작구 스터디카페', '극단 산', 'KT가좌지사', '군인권센터', '동작구 요양시설', '여의도 순복음교회',\n       '중구 보험회사(현대해상)', '강서구 병원', '종로구 혜화경찰서', '양천구 되새김교회', '현대커머셜',\n       '8.15도심집회(녹색병원)', '영등포 IFC몰 오케스트로', '고양시 반석교회(케네디상가)', '롯데 자산개발',\n       '골드트레인', '한양대병원', '은평구 헤어콕', '순복음 강북교회', '서대문구 지인 모임', '강동구 어린이집',\n       '광화문집회', '은평구 성경공부모임', '관악구 요양병원', '고대 안암병원', '마포구 푸본생명콜센터',\n       '성동구 가족', '양천구 되새김 교회', '중구 통일상가', '고양시 반석교회  (케네디상가)',\n       '강남구 판매업소(골드트레인)', '양천구 확진자 접촉', '영등포구 확진자 접촉', '강남구 확진자 접촉',\n       '강남구 판매업소', '광진구 확진자 접촉', '고양시 반석교회 (케네디상가)', '구로구 확진자 접촉',\n       '종로구 확진자 접촉', '성북구 확진자 접촉', '서초구 확진자 접촉', '마포구 확진자 접촉',\n       '#14483 접촉', '#14488 접촉', '도봉구 가족', '강남구 커피전문점', '선교회 소모임',\n       '도봉구 확진자 접촉', '송파구 교회', '강서구 확진자 접촉', '송파구 확진자 접촉',\n       '종로구 지인모임 신명투자', '강서구 요양시설', '강남구 사무실 K빌딩', '송파구 지인모임',\n       '관악구 확진자 접촉', '중구 확진자 접촉', '강북구 확진자 접촉', '관악구 사무실', '은평구 확진자 접촉',\n       '강남구 사무실', '강남역삼동 금융회사', '성동구 확진자 접촉', '강남구 이동통신 종사자',\n       '강남구 역삼동 모임', '용산구 확진자 접촉', '왕성교회', '중랑구 일가족', '관악구 일가족',\n       '대전 꿈꾸는 교회', '리치웨이', '동작구 확진자 접촉', '금천구 확진자 접촉', '요양시설',\n       '강동구 확진자 접촉', '시청역', '대자연코리아', '의왕 물류센터', '금천구 도정기 회사', '양천구 운동시설',\n       '대전 다단계', '오렌지라이프', '수도권 개척교회', '타시도 확진자 접촉자', '연아나뉴스클래스',\n       '한국대학생선교회', '해외접촉 추정', 'kb 생명보험', '부천시 쿠팡', '이태원 클럽', '용인 형제',\n       '삼성화재', '서초구 가족', '안양군포 목회자', '영등포 학원', '강남구 동인교회', '원어성경연구회',\n       '#11196 접촉', '삼성서울병원', '#10054 접촉', '#9800 접촉', '#10044 접촉',\n       '#9641 접촉', '구로구 교회', '#10407 접촉', '#10015 접촉', '#9364 접촉',\n       '#10377 접촉', '#9287 접촉', '#10142 접촉', '#9912 접촉', '#9765 접촉',\n       '#10115 접촉', '타시도 확진자 접촉(추정)', '#8063 접촉', '#10084 접촉', '#8601 접촉',\n       '#8717 접촉', '#9946 접촉', '콜센터직원 접촉', '#8271 접촉', '#8669 접촉',\n       '#9734 접촉', '#9621 접촉', '#9572 접촉', '#9525 접촉', '#7914 접촉',\n       '#8791 접촉', '#9219 접촉', '#8057 접촉', '#8079 접촉', '#8646 접촉',\n       '#9020 접촉', '#8245 접촉', '#8709 접촉 추정', '#8881 접촉 추정', '구로구 콜센터',\n       '#8486 접촉', '동대문구', '#8196 접촉', '#8138 접촉', '구로구 콜센터 접촉',\n       '#8044 접촉', '해외 접촉', '#7923 접촉', '신천지 추정', '#7573 접축 추정',\n       '#6959 접촉(추정)', '#7280 접촉(추정)', '#7500 접촉(추정)', '#6727 첩촉',\n       '대구 거주', '#6832 접촉자', '#6921접촉자', '#935 접촉자', '#6937 접촉자',\n       '성동구 아파트', '대구 방문', '부동산 중개 법인', '여의도 건설현장', '대구 확진자 접촉', '명성교회',\n       '#794 접촉(추정)', '#2621번 접촉', '#1247 접촉(추정)', '부동산 중개업', '쇼핑몰',\n       '은평구 병원', '경찰병원', '서울재생병원', '신천지대구교회', '#794 접촉자', '대구 방문(명성교회)',\n       '#780 접촉(추정)', '#56 접촉', '#136 접촉', '대구 거주자', '#6 접촉(추정)',\n       '#30 접촉', '#29 접촉', '#83 접촉', '#6 접촉', '#5 접촉', '#3 접촉'],\n      dtype=object)"
     },
     "metadata": {},
     "execution_count": 18
    }
   ],
   "source": [
    "infection_paths = df_temp[\"접촉력\"].unique()\n",
    "print(len(infection_paths))\n",
    "infection_paths"
   ]
  },
  {
   "cell_type": "code",
   "execution_count": null,
   "metadata": {},
   "outputs": [],
   "source": []
  },
  {
   "cell_type": "code",
   "execution_count": 19,
   "metadata": {},
   "outputs": [],
   "source": [
    "df_temp.to_csv(\"./dataset_predict/df_wrangle.csv\", index=False)"
   ]
  },
  {
   "cell_type": "code",
   "execution_count": 28,
   "metadata": {},
   "outputs": [
    {
     "output_type": "execute_result",
     "data": {
      "text/plain": "     연번     환자    확진일  거주지 여행력         접촉력 퇴원현황\n0  4251    미부여  9.04.   타시   -   송파구 소재 병원  NaN\n1  4250  20979  9.04.  노원구   -   노원구 빛가온교회  NaN\n2  4249  20974  9.04.  성동구   -   강동구 소재 병원  NaN\n3  4248  20962  9.04.  성북구   -  성북구 사랑제일교회  NaN\n4  4247    미부여  9.03.  성북구   -    8.15도심집회  NaN",
      "text/html": "<div>\n<style scoped>\n    .dataframe tbody tr th:only-of-type {\n        vertical-align: middle;\n    }\n\n    .dataframe tbody tr th {\n        vertical-align: top;\n    }\n\n    .dataframe thead th {\n        text-align: right;\n    }\n</style>\n<table border=\"1\" class=\"dataframe\">\n  <thead>\n    <tr style=\"text-align: right;\">\n      <th></th>\n      <th>연번</th>\n      <th>환자</th>\n      <th>확진일</th>\n      <th>거주지</th>\n      <th>여행력</th>\n      <th>접촉력</th>\n      <th>퇴원현황</th>\n    </tr>\n  </thead>\n  <tbody>\n    <tr>\n      <th>0</th>\n      <td>4251</td>\n      <td>미부여</td>\n      <td>9.04.</td>\n      <td>타시</td>\n      <td>-</td>\n      <td>송파구 소재 병원</td>\n      <td>NaN</td>\n    </tr>\n    <tr>\n      <th>1</th>\n      <td>4250</td>\n      <td>20979</td>\n      <td>9.04.</td>\n      <td>노원구</td>\n      <td>-</td>\n      <td>노원구 빛가온교회</td>\n      <td>NaN</td>\n    </tr>\n    <tr>\n      <th>2</th>\n      <td>4249</td>\n      <td>20974</td>\n      <td>9.04.</td>\n      <td>성동구</td>\n      <td>-</td>\n      <td>강동구 소재 병원</td>\n      <td>NaN</td>\n    </tr>\n    <tr>\n      <th>3</th>\n      <td>4248</td>\n      <td>20962</td>\n      <td>9.04.</td>\n      <td>성북구</td>\n      <td>-</td>\n      <td>성북구 사랑제일교회</td>\n      <td>NaN</td>\n    </tr>\n    <tr>\n      <th>4</th>\n      <td>4247</td>\n      <td>미부여</td>\n      <td>9.03.</td>\n      <td>성북구</td>\n      <td>-</td>\n      <td>8.15도심집회</td>\n      <td>NaN</td>\n    </tr>\n  </tbody>\n</table>\n</div>"
     },
     "metadata": {},
     "execution_count": 28
    }
   ],
   "source": [
    "df_date = df_temp.sort_values([\"연번\"], ascending=False)\n",
    "df_date.head()"
   ]
  },
  {
   "cell_type": "code",
   "execution_count": 29,
   "metadata": {},
   "outputs": [
    {
     "output_type": "execute_result",
     "data": {
      "text/plain": "     연번     환자    확진일  거주지 여행력         접촉력 퇴원현황\n0  4251    미부여  9-04-   타시   -   송파구 소재 병원  NaN\n1  4250  20979  9-04-  노원구   -   노원구 빛가온교회  NaN\n2  4249  20974  9-04-  성동구   -   강동구 소재 병원  NaN\n3  4248  20962  9-04-  성북구   -  성북구 사랑제일교회  NaN\n4  4247    미부여  9-03-  성북구   -    8.15도심집회  NaN",
      "text/html": "<div>\n<style scoped>\n    .dataframe tbody tr th:only-of-type {\n        vertical-align: middle;\n    }\n\n    .dataframe tbody tr th {\n        vertical-align: top;\n    }\n\n    .dataframe thead th {\n        text-align: right;\n    }\n</style>\n<table border=\"1\" class=\"dataframe\">\n  <thead>\n    <tr style=\"text-align: right;\">\n      <th></th>\n      <th>연번</th>\n      <th>환자</th>\n      <th>확진일</th>\n      <th>거주지</th>\n      <th>여행력</th>\n      <th>접촉력</th>\n      <th>퇴원현황</th>\n    </tr>\n  </thead>\n  <tbody>\n    <tr>\n      <th>0</th>\n      <td>4251</td>\n      <td>미부여</td>\n      <td>9-04-</td>\n      <td>타시</td>\n      <td>-</td>\n      <td>송파구 소재 병원</td>\n      <td>NaN</td>\n    </tr>\n    <tr>\n      <th>1</th>\n      <td>4250</td>\n      <td>20979</td>\n      <td>9-04-</td>\n      <td>노원구</td>\n      <td>-</td>\n      <td>노원구 빛가온교회</td>\n      <td>NaN</td>\n    </tr>\n    <tr>\n      <th>2</th>\n      <td>4249</td>\n      <td>20974</td>\n      <td>9-04-</td>\n      <td>성동구</td>\n      <td>-</td>\n      <td>강동구 소재 병원</td>\n      <td>NaN</td>\n    </tr>\n    <tr>\n      <th>3</th>\n      <td>4248</td>\n      <td>20962</td>\n      <td>9-04-</td>\n      <td>성북구</td>\n      <td>-</td>\n      <td>성북구 사랑제일교회</td>\n      <td>NaN</td>\n    </tr>\n    <tr>\n      <th>4</th>\n      <td>4247</td>\n      <td>미부여</td>\n      <td>9-03-</td>\n      <td>성북구</td>\n      <td>-</td>\n      <td>8.15도심집회</td>\n      <td>NaN</td>\n    </tr>\n  </tbody>\n</table>\n</div>"
     },
     "metadata": {},
     "execution_count": 29
    }
   ],
   "source": [
    "df_date[\"확진일\"] = df_date[\"확진일\"].str.replace(\".\", \"-\")\n",
    "df_date.head()"
   ]
  },
  {
   "cell_type": "code",
   "execution_count": 30,
   "metadata": {},
   "outputs": [
    {
     "output_type": "execute_result",
     "data": {
      "text/plain": "     연번     환자   확진일  거주지 여행력         접촉력 퇴원현황\n0  4251    미부여  9-04   타시   -   송파구 소재 병원  NaN\n1  4250  20979  9-04  노원구   -   노원구 빛가온교회  NaN\n2  4249  20974  9-04  성동구   -   강동구 소재 병원  NaN\n3  4248  20962  9-04  성북구   -  성북구 사랑제일교회  NaN\n4  4247    미부여  9-03  성북구   -    8.15도심집회  NaN",
      "text/html": "<div>\n<style scoped>\n    .dataframe tbody tr th:only-of-type {\n        vertical-align: middle;\n    }\n\n    .dataframe tbody tr th {\n        vertical-align: top;\n    }\n\n    .dataframe thead th {\n        text-align: right;\n    }\n</style>\n<table border=\"1\" class=\"dataframe\">\n  <thead>\n    <tr style=\"text-align: right;\">\n      <th></th>\n      <th>연번</th>\n      <th>환자</th>\n      <th>확진일</th>\n      <th>거주지</th>\n      <th>여행력</th>\n      <th>접촉력</th>\n      <th>퇴원현황</th>\n    </tr>\n  </thead>\n  <tbody>\n    <tr>\n      <th>0</th>\n      <td>4251</td>\n      <td>미부여</td>\n      <td>9-04</td>\n      <td>타시</td>\n      <td>-</td>\n      <td>송파구 소재 병원</td>\n      <td>NaN</td>\n    </tr>\n    <tr>\n      <th>1</th>\n      <td>4250</td>\n      <td>20979</td>\n      <td>9-04</td>\n      <td>노원구</td>\n      <td>-</td>\n      <td>노원구 빛가온교회</td>\n      <td>NaN</td>\n    </tr>\n    <tr>\n      <th>2</th>\n      <td>4249</td>\n      <td>20974</td>\n      <td>9-04</td>\n      <td>성동구</td>\n      <td>-</td>\n      <td>강동구 소재 병원</td>\n      <td>NaN</td>\n    </tr>\n    <tr>\n      <th>3</th>\n      <td>4248</td>\n      <td>20962</td>\n      <td>9-04</td>\n      <td>성북구</td>\n      <td>-</td>\n      <td>성북구 사랑제일교회</td>\n      <td>NaN</td>\n    </tr>\n    <tr>\n      <th>4</th>\n      <td>4247</td>\n      <td>미부여</td>\n      <td>9-03</td>\n      <td>성북구</td>\n      <td>-</td>\n      <td>8.15도심집회</td>\n      <td>NaN</td>\n    </tr>\n  </tbody>\n</table>\n</div>"
     },
     "metadata": {},
     "execution_count": 30
    }
   ],
   "source": [
    "df_date[\"확진일\"] = df_date[\"확진일\"].str[:-1]\n",
    "df_date.head()"
   ]
  },
  {
   "cell_type": "code",
   "execution_count": 31,
   "metadata": {},
   "outputs": [],
   "source": [
    "df_date[\"확진일\"] = \"2020-0\" + df_date[\"확진일\"]\n",
    "df_date.head()"
   ]
  },
  {
   "cell_type": "code",
   "execution_count": 33,
   "metadata": {},
   "outputs": [
    {
     "output_type": "execute_result",
     "data": {
      "text/plain": "     연번     환자         확진일  거주지 여행력         접촉력 퇴원현황\n0  4251    미부여  2020-09-04   타시   -   송파구 소재 병원  NaN\n1  4250  20979  2020-09-04  노원구   -   노원구 빛가온교회  NaN\n2  4249  20974  2020-09-04  성동구   -   강동구 소재 병원  NaN\n3  4248  20962  2020-09-04  성북구   -  성북구 사랑제일교회  NaN\n4  4247    미부여  2020-09-03  성북구   -    8.15도심집회  NaN",
      "text/html": "<div>\n<style scoped>\n    .dataframe tbody tr th:only-of-type {\n        vertical-align: middle;\n    }\n\n    .dataframe tbody tr th {\n        vertical-align: top;\n    }\n\n    .dataframe thead th {\n        text-align: right;\n    }\n</style>\n<table border=\"1\" class=\"dataframe\">\n  <thead>\n    <tr style=\"text-align: right;\">\n      <th></th>\n      <th>연번</th>\n      <th>환자</th>\n      <th>확진일</th>\n      <th>거주지</th>\n      <th>여행력</th>\n      <th>접촉력</th>\n      <th>퇴원현황</th>\n    </tr>\n  </thead>\n  <tbody>\n    <tr>\n      <th>0</th>\n      <td>4251</td>\n      <td>미부여</td>\n      <td>2020-09-04</td>\n      <td>타시</td>\n      <td>-</td>\n      <td>송파구 소재 병원</td>\n      <td>NaN</td>\n    </tr>\n    <tr>\n      <th>1</th>\n      <td>4250</td>\n      <td>20979</td>\n      <td>2020-09-04</td>\n      <td>노원구</td>\n      <td>-</td>\n      <td>노원구 빛가온교회</td>\n      <td>NaN</td>\n    </tr>\n    <tr>\n      <th>2</th>\n      <td>4249</td>\n      <td>20974</td>\n      <td>2020-09-04</td>\n      <td>성동구</td>\n      <td>-</td>\n      <td>강동구 소재 병원</td>\n      <td>NaN</td>\n    </tr>\n    <tr>\n      <th>3</th>\n      <td>4248</td>\n      <td>20962</td>\n      <td>2020-09-04</td>\n      <td>성북구</td>\n      <td>-</td>\n      <td>성북구 사랑제일교회</td>\n      <td>NaN</td>\n    </tr>\n    <tr>\n      <th>4</th>\n      <td>4247</td>\n      <td>미부여</td>\n      <td>2020-09-03</td>\n      <td>성북구</td>\n      <td>-</td>\n      <td>8.15도심집회</td>\n      <td>NaN</td>\n    </tr>\n  </tbody>\n</table>\n</div>"
     },
     "metadata": {},
     "execution_count": 33
    }
   ],
   "source": [
    "df_date.head()"
   ]
  },
  {
   "cell_type": "code",
   "execution_count": 34,
   "metadata": {},
   "outputs": [],
   "source": [
    "df_date.to_csv(\"./dataset_predict/df_wrangle.csv\", index=False)"
   ]
  },
  {
   "cell_type": "code",
   "execution_count": 35,
   "metadata": {},
   "outputs": [
    {
     "output_type": "execute_result",
     "data": {
      "text/plain": "      연번 환자         확진일  거주지     여행력    접촉력 퇴원현황\n4246   5  9  2020-01-31  성북구       -  #5 접촉   퇴원\n4247   4  7  2020-01-30  마포구  중국 우한시  해외 접촉   퇴원\n4248   3  6  2020-01-30  종로구       -  #3 접촉   퇴원\n4249   2  5  2020-01-30  중랑구  중국 우한시  해외 접촉   퇴원\n4250   1  2  2020-01-24  강서구  중국 우한시  해외 접촉   퇴원",
      "text/html": "<div>\n<style scoped>\n    .dataframe tbody tr th:only-of-type {\n        vertical-align: middle;\n    }\n\n    .dataframe tbody tr th {\n        vertical-align: top;\n    }\n\n    .dataframe thead th {\n        text-align: right;\n    }\n</style>\n<table border=\"1\" class=\"dataframe\">\n  <thead>\n    <tr style=\"text-align: right;\">\n      <th></th>\n      <th>연번</th>\n      <th>환자</th>\n      <th>확진일</th>\n      <th>거주지</th>\n      <th>여행력</th>\n      <th>접촉력</th>\n      <th>퇴원현황</th>\n    </tr>\n  </thead>\n  <tbody>\n    <tr>\n      <th>4246</th>\n      <td>5</td>\n      <td>9</td>\n      <td>2020-01-31</td>\n      <td>성북구</td>\n      <td>-</td>\n      <td>#5 접촉</td>\n      <td>퇴원</td>\n    </tr>\n    <tr>\n      <th>4247</th>\n      <td>4</td>\n      <td>7</td>\n      <td>2020-01-30</td>\n      <td>마포구</td>\n      <td>중국 우한시</td>\n      <td>해외 접촉</td>\n      <td>퇴원</td>\n    </tr>\n    <tr>\n      <th>4248</th>\n      <td>3</td>\n      <td>6</td>\n      <td>2020-01-30</td>\n      <td>종로구</td>\n      <td>-</td>\n      <td>#3 접촉</td>\n      <td>퇴원</td>\n    </tr>\n    <tr>\n      <th>4249</th>\n      <td>2</td>\n      <td>5</td>\n      <td>2020-01-30</td>\n      <td>중랑구</td>\n      <td>중국 우한시</td>\n      <td>해외 접촉</td>\n      <td>퇴원</td>\n    </tr>\n    <tr>\n      <th>4250</th>\n      <td>1</td>\n      <td>2</td>\n      <td>2020-01-24</td>\n      <td>강서구</td>\n      <td>중국 우한시</td>\n      <td>해외 접촉</td>\n      <td>퇴원</td>\n    </tr>\n  </tbody>\n</table>\n</div>"
     },
     "metadata": {},
     "execution_count": 35
    }
   ],
   "source": [
    "df_date.tail()"
   ]
  },
  {
   "cell_type": "code",
   "execution_count": 41,
   "metadata": {},
   "outputs": [
    {
     "output_type": "execute_result",
     "data": {
      "text/plain": "     연번     환자         확진일  거주지 여행력         접촉력 퇴원현황\n0  4251    미부여  2020-09-04   타시   -   송파구 소재 병원  NaN\n1  4250  20979  2020-09-04  노원구   -   노원구 빛가온교회  NaN\n2  4249  20974  2020-09-04  성동구   -   강동구 소재 병원  NaN\n3  4248  20962  2020-09-04  성북구   -  성북구 사랑제일교회  NaN\n4  4247    미부여  2020-09-03  성북구   -    8.15도심집회  NaN",
      "text/html": "<div>\n<style scoped>\n    .dataframe tbody tr th:only-of-type {\n        vertical-align: middle;\n    }\n\n    .dataframe tbody tr th {\n        vertical-align: top;\n    }\n\n    .dataframe thead th {\n        text-align: right;\n    }\n</style>\n<table border=\"1\" class=\"dataframe\">\n  <thead>\n    <tr style=\"text-align: right;\">\n      <th></th>\n      <th>연번</th>\n      <th>환자</th>\n      <th>확진일</th>\n      <th>거주지</th>\n      <th>여행력</th>\n      <th>접촉력</th>\n      <th>퇴원현황</th>\n    </tr>\n  </thead>\n  <tbody>\n    <tr>\n      <th>0</th>\n      <td>4251</td>\n      <td>미부여</td>\n      <td>2020-09-04</td>\n      <td>타시</td>\n      <td>-</td>\n      <td>송파구 소재 병원</td>\n      <td>NaN</td>\n    </tr>\n    <tr>\n      <th>1</th>\n      <td>4250</td>\n      <td>20979</td>\n      <td>2020-09-04</td>\n      <td>노원구</td>\n      <td>-</td>\n      <td>노원구 빛가온교회</td>\n      <td>NaN</td>\n    </tr>\n    <tr>\n      <th>2</th>\n      <td>4249</td>\n      <td>20974</td>\n      <td>2020-09-04</td>\n      <td>성동구</td>\n      <td>-</td>\n      <td>강동구 소재 병원</td>\n      <td>NaN</td>\n    </tr>\n    <tr>\n      <th>3</th>\n      <td>4248</td>\n      <td>20962</td>\n      <td>2020-09-04</td>\n      <td>성북구</td>\n      <td>-</td>\n      <td>성북구 사랑제일교회</td>\n      <td>NaN</td>\n    </tr>\n    <tr>\n      <th>4</th>\n      <td>4247</td>\n      <td>미부여</td>\n      <td>2020-09-03</td>\n      <td>성북구</td>\n      <td>-</td>\n      <td>8.15도심집회</td>\n      <td>NaN</td>\n    </tr>\n  </tbody>\n</table>\n</div>"
     },
     "metadata": {},
     "execution_count": 41
    }
   ],
   "source": [
    "df = df_date.copy()\n",
    "df.head()"
   ]
  },
  {
   "cell_type": "code",
   "execution_count": 85,
   "metadata": {},
   "outputs": [
    {
     "output_type": "execute_result",
     "data": {
      "text/plain": "           date  new_confirmed\n0    2020-08-26            153\n1    2020-08-18            151\n2    2020-08-15            146\n3    2020-08-27            146\n4    2020-08-22            140\n..          ...            ...\n192  2020-04-15              1\n193  2020-04-24              1\n194  2020-04-18              1\n195   2020-02-2              1\n196  2020-04-20              1\n\n[197 rows x 2 columns]",
      "text/html": "<div>\n<style scoped>\n    .dataframe tbody tr th:only-of-type {\n        vertical-align: middle;\n    }\n\n    .dataframe tbody tr th {\n        vertical-align: top;\n    }\n\n    .dataframe thead th {\n        text-align: right;\n    }\n</style>\n<table border=\"1\" class=\"dataframe\">\n  <thead>\n    <tr style=\"text-align: right;\">\n      <th></th>\n      <th>date</th>\n      <th>new_confirmed</th>\n    </tr>\n  </thead>\n  <tbody>\n    <tr>\n      <th>0</th>\n      <td>2020-08-26</td>\n      <td>153</td>\n    </tr>\n    <tr>\n      <th>1</th>\n      <td>2020-08-18</td>\n      <td>151</td>\n    </tr>\n    <tr>\n      <th>2</th>\n      <td>2020-08-15</td>\n      <td>146</td>\n    </tr>\n    <tr>\n      <th>3</th>\n      <td>2020-08-27</td>\n      <td>146</td>\n    </tr>\n    <tr>\n      <th>4</th>\n      <td>2020-08-22</td>\n      <td>140</td>\n    </tr>\n    <tr>\n      <th>...</th>\n      <td>...</td>\n      <td>...</td>\n    </tr>\n    <tr>\n      <th>192</th>\n      <td>2020-04-15</td>\n      <td>1</td>\n    </tr>\n    <tr>\n      <th>193</th>\n      <td>2020-04-24</td>\n      <td>1</td>\n    </tr>\n    <tr>\n      <th>194</th>\n      <td>2020-04-18</td>\n      <td>1</td>\n    </tr>\n    <tr>\n      <th>195</th>\n      <td>2020-02-2</td>\n      <td>1</td>\n    </tr>\n    <tr>\n      <th>196</th>\n      <td>2020-04-20</td>\n      <td>1</td>\n    </tr>\n  </tbody>\n</table>\n<p>197 rows × 2 columns</p>\n</div>"
     },
     "metadata": {},
     "execution_count": 85
    }
   ],
   "source": [
    "temp = df[\"확진일\"].value_counts().rename_axis('date').reset_index(name='new_confirmed')\n",
    "temp"
   ]
  },
  {
   "cell_type": "code",
   "execution_count": 86,
   "metadata": {},
   "outputs": [
    {
     "output_type": "execute_result",
     "data": {
      "text/plain": "0      2020-08-26\n1      2020-08-18\n2      2020-08-15\n3      2020-08-27\n4      2020-08-22\n          ...    \n192    2020-04-15\n193    2020-04-24\n194    2020-04-18\n195     2020-02-2\n196    2020-04-20\nName: date, Length: 197, dtype: object"
     },
     "metadata": {},
     "execution_count": 86
    }
   ],
   "source": [
    "temp[\"date\"]"
   ]
  },
  {
   "cell_type": "code",
   "execution_count": 92,
   "metadata": {},
   "outputs": [
    {
     "output_type": "execute_result",
     "data": {
      "text/plain": "            new_confirmed\ndate                     \n2020-08-26            153\n2020-08-18            151\n2020-08-15            146\n2020-08-27            146\n2020-08-22            140\n...                   ...\n2020-04-15              1\n2020-04-24              1\n2020-04-18              1\n2020-02-2               1\n2020-04-20              1\n\n[197 rows x 1 columns]",
      "text/html": "<div>\n<style scoped>\n    .dataframe tbody tr th:only-of-type {\n        vertical-align: middle;\n    }\n\n    .dataframe tbody tr th {\n        vertical-align: top;\n    }\n\n    .dataframe thead th {\n        text-align: right;\n    }\n</style>\n<table border=\"1\" class=\"dataframe\">\n  <thead>\n    <tr style=\"text-align: right;\">\n      <th></th>\n      <th>new_confirmed</th>\n    </tr>\n    <tr>\n      <th>date</th>\n      <th></th>\n    </tr>\n  </thead>\n  <tbody>\n    <tr>\n      <th>2020-08-26</th>\n      <td>153</td>\n    </tr>\n    <tr>\n      <th>2020-08-18</th>\n      <td>151</td>\n    </tr>\n    <tr>\n      <th>2020-08-15</th>\n      <td>146</td>\n    </tr>\n    <tr>\n      <th>2020-08-27</th>\n      <td>146</td>\n    </tr>\n    <tr>\n      <th>2020-08-22</th>\n      <td>140</td>\n    </tr>\n    <tr>\n      <th>...</th>\n      <td>...</td>\n    </tr>\n    <tr>\n      <th>2020-04-15</th>\n      <td>1</td>\n    </tr>\n    <tr>\n      <th>2020-04-24</th>\n      <td>1</td>\n    </tr>\n    <tr>\n      <th>2020-04-18</th>\n      <td>1</td>\n    </tr>\n    <tr>\n      <th>2020-02-2</th>\n      <td>1</td>\n    </tr>\n    <tr>\n      <th>2020-04-20</th>\n      <td>1</td>\n    </tr>\n  </tbody>\n</table>\n<p>197 rows × 1 columns</p>\n</div>"
     },
     "metadata": {},
     "execution_count": 92
    }
   ],
   "source": [
    "temp.set_index(\"date\")"
   ]
  },
  {
   "cell_type": "code",
   "execution_count": 93,
   "metadata": {},
   "outputs": [],
   "source": [
    "temp.to_csv(\"./dataset_predict/df_predict.csv\", index=False)"
   ]
  },
  {
   "cell_type": "code",
   "execution_count": 14,
   "metadata": {},
   "outputs": [],
   "source": [
    "temp = pd.read_csv(\"./dataset_predict/df_predict.csv\", encoding=\"utf-8\")"
   ]
  },
  {
   "cell_type": "code",
   "execution_count": 18,
   "metadata": {},
   "outputs": [
    {
     "output_type": "execute_result",
     "data": {
      "text/plain": "           date  new_confirmed\n27   2020-03-09             26\n37   2020-04-03             20\n48   2020-08-07             17\n73   2020-08-09             13\n79   2020-08-08             13\n96   2020-03-08             10\n97   2020-08-06              9\n99   2020-08-03              9\n102  2020-08-05              9\n124  2020-03-06              7\n128  2020-03-07              7\n132  2020-03-02              6\n140  2020-08-04              6\n142  2020-03-01              6\n144  2020-08-02              5\n151  2020-03-04              5\n159  2020-08-01              4\n175  2020-02-05              2\n182  2020-03-03              1\n184  2020-03-05              1\n187  2020-05-09              1\n188  2020-02-06              1\n189  2020-02-07              1\n195  2020-02-02              1",
      "text/html": "<div>\n<style scoped>\n    .dataframe tbody tr th:only-of-type {\n        vertical-align: middle;\n    }\n\n    .dataframe tbody tr th {\n        vertical-align: top;\n    }\n\n    .dataframe thead th {\n        text-align: right;\n    }\n</style>\n<table border=\"1\" class=\"dataframe\">\n  <thead>\n    <tr style=\"text-align: right;\">\n      <th></th>\n      <th>date</th>\n      <th>new_confirmed</th>\n    </tr>\n  </thead>\n  <tbody>\n    <tr>\n      <th>27</th>\n      <td>2020-03-09</td>\n      <td>26</td>\n    </tr>\n    <tr>\n      <th>37</th>\n      <td>2020-04-03</td>\n      <td>20</td>\n    </tr>\n    <tr>\n      <th>48</th>\n      <td>2020-08-07</td>\n      <td>17</td>\n    </tr>\n    <tr>\n      <th>73</th>\n      <td>2020-08-09</td>\n      <td>13</td>\n    </tr>\n    <tr>\n      <th>79</th>\n      <td>2020-08-08</td>\n      <td>13</td>\n    </tr>\n    <tr>\n      <th>96</th>\n      <td>2020-03-08</td>\n      <td>10</td>\n    </tr>\n    <tr>\n      <th>97</th>\n      <td>2020-08-06</td>\n      <td>9</td>\n    </tr>\n    <tr>\n      <th>99</th>\n      <td>2020-08-03</td>\n      <td>9</td>\n    </tr>\n    <tr>\n      <th>102</th>\n      <td>2020-08-05</td>\n      <td>9</td>\n    </tr>\n    <tr>\n      <th>124</th>\n      <td>2020-03-06</td>\n      <td>7</td>\n    </tr>\n    <tr>\n      <th>128</th>\n      <td>2020-03-07</td>\n      <td>7</td>\n    </tr>\n    <tr>\n      <th>132</th>\n      <td>2020-03-02</td>\n      <td>6</td>\n    </tr>\n    <tr>\n      <th>140</th>\n      <td>2020-08-04</td>\n      <td>6</td>\n    </tr>\n    <tr>\n      <th>142</th>\n      <td>2020-03-01</td>\n      <td>6</td>\n    </tr>\n    <tr>\n      <th>144</th>\n      <td>2020-08-02</td>\n      <td>5</td>\n    </tr>\n    <tr>\n      <th>151</th>\n      <td>2020-03-04</td>\n      <td>5</td>\n    </tr>\n    <tr>\n      <th>159</th>\n      <td>2020-08-01</td>\n      <td>4</td>\n    </tr>\n    <tr>\n      <th>175</th>\n      <td>2020-02-05</td>\n      <td>2</td>\n    </tr>\n    <tr>\n      <th>182</th>\n      <td>2020-03-03</td>\n      <td>1</td>\n    </tr>\n    <tr>\n      <th>184</th>\n      <td>2020-03-05</td>\n      <td>1</td>\n    </tr>\n    <tr>\n      <th>187</th>\n      <td>2020-05-09</td>\n      <td>1</td>\n    </tr>\n    <tr>\n      <th>188</th>\n      <td>2020-02-06</td>\n      <td>1</td>\n    </tr>\n    <tr>\n      <th>189</th>\n      <td>2020-02-07</td>\n      <td>1</td>\n    </tr>\n    <tr>\n      <th>195</th>\n      <td>2020-02-02</td>\n      <td>1</td>\n    </tr>\n  </tbody>\n</table>\n</div>"
     },
     "metadata": {},
     "execution_count": 18
    }
   ],
   "source": [
    "nogada = temp[temp[\"date\"].str.len() < 10]\n",
    "nogada[\"date\"] = nogada[\"date\"].str.replace(\"-0\", \"-\")\n",
    "nogada[\"date\"] = nogada[\"date\"].str.replace(\"-\", \"-0\")\n",
    "nogada"
   ]
  },
  {
   "cell_type": "code",
   "execution_count": 26,
   "metadata": {},
   "outputs": [
    {
     "output_type": "execute_result",
     "data": {
      "text/plain": "[27,\n 37,\n 48,\n 73,\n 79,\n 96,\n 97,\n 99,\n 102,\n 124,\n 128,\n 132,\n 140,\n 142,\n 144,\n 151,\n 159,\n 175,\n 182,\n 184,\n 187,\n 188,\n 189,\n 195]"
     },
     "metadata": {},
     "execution_count": 26
    }
   ],
   "source": [
    "index_no = list(nogada.index)\n",
    "index_no"
   ]
  },
  {
   "cell_type": "code",
   "execution_count": 27,
   "metadata": {},
   "outputs": [],
   "source": [
    "for i in index_no:\n",
    "    temp.iloc[i] = nogada.iloc[index_no.index(i)]"
   ]
  },
  {
   "cell_type": "code",
   "execution_count": 31,
   "metadata": {},
   "outputs": [
    {
     "output_type": "execute_result",
     "data": {
      "text/plain": "           date  new_confirmed\n181  2020-01-24              1\n162  2020-01-30              3\n163  2020-01-31              3\n195  2020-02-02              1\n175  2020-02-05              2\n..          ...            ...\n16   2020-08-31             94\n13   2020-09-01            101\n18   2020-09-02             81\n20   2020-09-03             62\n22   2020-09-04             45\n\n[197 rows x 2 columns]",
      "text/html": "<div>\n<style scoped>\n    .dataframe tbody tr th:only-of-type {\n        vertical-align: middle;\n    }\n\n    .dataframe tbody tr th {\n        vertical-align: top;\n    }\n\n    .dataframe thead th {\n        text-align: right;\n    }\n</style>\n<table border=\"1\" class=\"dataframe\">\n  <thead>\n    <tr style=\"text-align: right;\">\n      <th></th>\n      <th>date</th>\n      <th>new_confirmed</th>\n    </tr>\n  </thead>\n  <tbody>\n    <tr>\n      <th>181</th>\n      <td>2020-01-24</td>\n      <td>1</td>\n    </tr>\n    <tr>\n      <th>162</th>\n      <td>2020-01-30</td>\n      <td>3</td>\n    </tr>\n    <tr>\n      <th>163</th>\n      <td>2020-01-31</td>\n      <td>3</td>\n    </tr>\n    <tr>\n      <th>195</th>\n      <td>2020-02-02</td>\n      <td>1</td>\n    </tr>\n    <tr>\n      <th>175</th>\n      <td>2020-02-05</td>\n      <td>2</td>\n    </tr>\n    <tr>\n      <th>...</th>\n      <td>...</td>\n      <td>...</td>\n    </tr>\n    <tr>\n      <th>16</th>\n      <td>2020-08-31</td>\n      <td>94</td>\n    </tr>\n    <tr>\n      <th>13</th>\n      <td>2020-09-01</td>\n      <td>101</td>\n    </tr>\n    <tr>\n      <th>18</th>\n      <td>2020-09-02</td>\n      <td>81</td>\n    </tr>\n    <tr>\n      <th>20</th>\n      <td>2020-09-03</td>\n      <td>62</td>\n    </tr>\n    <tr>\n      <th>22</th>\n      <td>2020-09-04</td>\n      <td>45</td>\n    </tr>\n  </tbody>\n</table>\n<p>197 rows × 2 columns</p>\n</div>"
     },
     "metadata": {},
     "execution_count": 31
    }
   ],
   "source": [
    "df = temp.sort_values(by=\"date\")\n",
    "df"
   ]
  },
  {
   "cell_type": "code",
   "execution_count": 32,
   "metadata": {},
   "outputs": [],
   "source": [
    "df.to_csv(\"dataset_predict/df_predict.csv\", index=False)"
   ]
  },
  {
   "cell_type": "code",
   "execution_count": null,
   "metadata": {},
   "outputs": [],
   "source": []
  }
 ]
}