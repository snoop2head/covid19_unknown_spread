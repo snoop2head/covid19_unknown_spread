{
 "metadata": {
  "language_info": {
   "codemirror_mode": {
    "name": "ipython",
    "version": 3
   },
   "file_extension": ".py",
   "mimetype": "text/x-python",
   "name": "python",
   "nbconvert_exporter": "python",
   "pygments_lexer": "ipython3",
   "version": "3.8.3-final"
  },
  "orig_nbformat": 2,
  "kernelspec": {
   "name": "python38364bitdatavenvfe97dd12d13941c2ad0777a7539abb51",
   "display_name": "Python 3.8.3 64-bit ('data': venv)"
  }
 },
 "nbformat": 4,
 "nbformat_minor": 2,
 "cells": [
  {
   "cell_type": "code",
   "execution_count": 1,
   "metadata": {},
   "outputs": [],
   "source": [
    "import pandas as pd\n",
    "import numpy as np"
   ]
  },
  {
   "cell_type": "code",
   "execution_count": 2,
   "metadata": {},
   "outputs": [],
   "source": [
    "import os\n",
    "from os import fdopen, remove, walk\n",
    "import glob\n",
    "from tempfile import mkstemp\n",
    "import shutil\n",
    "from shutil import move, copymode"
   ]
  },
  {
   "cell_type": "code",
   "execution_count": 3,
   "metadata": {},
   "outputs": [],
   "source": [
    "from datetime import date"
   ]
  },
  {
   "cell_type": "code",
   "execution_count": 4,
   "metadata": {},
   "outputs": [
    {
     "output_type": "execute_result",
     "data": {
      "text/plain": "['/Users/noopy/covid19_unknown_spread/dataset/seoul_covid_8_31_.csv',\n '/Users/noopy/covid19_unknown_spread/dataset/seoul_covid_8_30_.csv',\n '/Users/noopy/covid19_unknown_spread/dataset/seoul_covid_8_17_.csv',\n '/Users/noopy/covid19_unknown_spread/dataset/seoul_covid_8_21_.csv',\n '/Users/noopy/covid19_unknown_spread/dataset/seoul_covid_7_04_.csv']"
     },
     "metadata": {},
     "execution_count": 4
    }
   ],
   "source": [
    "DATASET_PATH = \"/Users/noopy/covid19_unknown_spread/dataset\"\n",
    "datasets = glob.glob(f\"{DATASET_PATH}/*.csv\")\n",
    "datasets[:5]"
   ]
  },
  {
   "cell_type": "code",
   "execution_count": 5,
   "metadata": {
    "tags": []
   },
   "outputs": [],
   "source": [
    "# get oldest file in the dataset folder\n",
    "import os, heapq\n",
    "def newst_files_in_tree(rootfolder, count=1, extension=\".csv\"):\n",
    "    return heapq.nlargest(count,\n",
    "        (os.path.join(dirname, filename)\n",
    "        for dirname, dirnames, filenames in os.walk(rootfolder)\n",
    "        for filename in filenames\n",
    "        if filename.endswith(extension)),\n",
    "        key=lambda fn: os.stat(fn).st_mtime)"
   ]
  },
  {
   "cell_type": "code",
   "execution_count": 6,
   "metadata": {},
   "outputs": [],
   "source": [
    "newst_csv = newst_files_in_tree(DATASET_PATH)[0]"
   ]
  },
  {
   "cell_type": "code",
   "execution_count": 7,
   "metadata": {},
   "outputs": [
    {
     "output_type": "execute_result",
     "data": {
      "text/plain": "        연번     환자    확진일   거주지 여행력            접촉력 퇴원현황\n1935  2316  15949  8.18.   관악구   -          현대커머셜  NaN\n1993  2258  15950  8.18.   종로구   -  성북구 사랑제일교회 관련  NaN\n3684   567  10329  4.06.   강남구  미국       해외 접촉 추정   퇴원\n1474  2777  17086  8.22.   양천구   -           확인 중  NaN\n2051  2200  15699  8.17.   노원구   -  성북구 사랑제일교회 관련   퇴원\n2187  2064  15515  8.16.   강동구   -  성북구 사랑제일교회 관련   퇴원\n3412   839  11388  5.28.   동작구   -     kb 생명보험 관련   퇴원\n3813   438   9751  3.30.   관악구   -      구로구 교회 관련   퇴원\n1228  3023  17765  8.24.   서초구   -      기타 확진자 접촉  NaN\n1371  2880  17194  8.22.  동대문구   -      기타 확진자 접촉  NaN\n861   3390  18825  8.27.   용산구   -  성북구 사랑제일교회 관련  NaN\n2779  1472  13735  7.18.   금천구   -    강남구 사무실 K빌딩   퇴원\n1206  3045  17812  8.24.    기타   -       순복음 강북교회  NaN\n3569   682  10891  5.10.   성동구   -      이태원 클럽 관련   퇴원\n4139   112   6937   3.7.   관악구   -     타시도 확진자 접촉   퇴원",
      "text/html": "<div>\n<style scoped>\n    .dataframe tbody tr th:only-of-type {\n        vertical-align: middle;\n    }\n\n    .dataframe tbody tr th {\n        vertical-align: top;\n    }\n\n    .dataframe thead th {\n        text-align: right;\n    }\n</style>\n<table border=\"1\" class=\"dataframe\">\n  <thead>\n    <tr style=\"text-align: right;\">\n      <th></th>\n      <th>연번</th>\n      <th>환자</th>\n      <th>확진일</th>\n      <th>거주지</th>\n      <th>여행력</th>\n      <th>접촉력</th>\n      <th>퇴원현황</th>\n    </tr>\n  </thead>\n  <tbody>\n    <tr>\n      <th>1935</th>\n      <td>2316</td>\n      <td>15949</td>\n      <td>8.18.</td>\n      <td>관악구</td>\n      <td>-</td>\n      <td>현대커머셜</td>\n      <td>NaN</td>\n    </tr>\n    <tr>\n      <th>1993</th>\n      <td>2258</td>\n      <td>15950</td>\n      <td>8.18.</td>\n      <td>종로구</td>\n      <td>-</td>\n      <td>성북구 사랑제일교회 관련</td>\n      <td>NaN</td>\n    </tr>\n    <tr>\n      <th>3684</th>\n      <td>567</td>\n      <td>10329</td>\n      <td>4.06.</td>\n      <td>강남구</td>\n      <td>미국</td>\n      <td>해외 접촉 추정</td>\n      <td>퇴원</td>\n    </tr>\n    <tr>\n      <th>1474</th>\n      <td>2777</td>\n      <td>17086</td>\n      <td>8.22.</td>\n      <td>양천구</td>\n      <td>-</td>\n      <td>확인 중</td>\n      <td>NaN</td>\n    </tr>\n    <tr>\n      <th>2051</th>\n      <td>2200</td>\n      <td>15699</td>\n      <td>8.17.</td>\n      <td>노원구</td>\n      <td>-</td>\n      <td>성북구 사랑제일교회 관련</td>\n      <td>퇴원</td>\n    </tr>\n    <tr>\n      <th>2187</th>\n      <td>2064</td>\n      <td>15515</td>\n      <td>8.16.</td>\n      <td>강동구</td>\n      <td>-</td>\n      <td>성북구 사랑제일교회 관련</td>\n      <td>퇴원</td>\n    </tr>\n    <tr>\n      <th>3412</th>\n      <td>839</td>\n      <td>11388</td>\n      <td>5.28.</td>\n      <td>동작구</td>\n      <td>-</td>\n      <td>kb 생명보험 관련</td>\n      <td>퇴원</td>\n    </tr>\n    <tr>\n      <th>3813</th>\n      <td>438</td>\n      <td>9751</td>\n      <td>3.30.</td>\n      <td>관악구</td>\n      <td>-</td>\n      <td>구로구 교회 관련</td>\n      <td>퇴원</td>\n    </tr>\n    <tr>\n      <th>1228</th>\n      <td>3023</td>\n      <td>17765</td>\n      <td>8.24.</td>\n      <td>서초구</td>\n      <td>-</td>\n      <td>기타 확진자 접촉</td>\n      <td>NaN</td>\n    </tr>\n    <tr>\n      <th>1371</th>\n      <td>2880</td>\n      <td>17194</td>\n      <td>8.22.</td>\n      <td>동대문구</td>\n      <td>-</td>\n      <td>기타 확진자 접촉</td>\n      <td>NaN</td>\n    </tr>\n    <tr>\n      <th>861</th>\n      <td>3390</td>\n      <td>18825</td>\n      <td>8.27.</td>\n      <td>용산구</td>\n      <td>-</td>\n      <td>성북구 사랑제일교회 관련</td>\n      <td>NaN</td>\n    </tr>\n    <tr>\n      <th>2779</th>\n      <td>1472</td>\n      <td>13735</td>\n      <td>7.18.</td>\n      <td>금천구</td>\n      <td>-</td>\n      <td>강남구 사무실 K빌딩</td>\n      <td>퇴원</td>\n    </tr>\n    <tr>\n      <th>1206</th>\n      <td>3045</td>\n      <td>17812</td>\n      <td>8.24.</td>\n      <td>기타</td>\n      <td>-</td>\n      <td>순복음 강북교회</td>\n      <td>NaN</td>\n    </tr>\n    <tr>\n      <th>3569</th>\n      <td>682</td>\n      <td>10891</td>\n      <td>5.10.</td>\n      <td>성동구</td>\n      <td>-</td>\n      <td>이태원 클럽 관련</td>\n      <td>퇴원</td>\n    </tr>\n    <tr>\n      <th>4139</th>\n      <td>112</td>\n      <td>6937</td>\n      <td>3.7.</td>\n      <td>관악구</td>\n      <td>-</td>\n      <td>타시도 확진자 접촉</td>\n      <td>퇴원</td>\n    </tr>\n  </tbody>\n</table>\n</div>"
     },
     "metadata": {},
     "execution_count": 7
    }
   ],
   "source": [
    "df_temp = pd.read_csv(newst_csv, encoding=\"utf-8\")\n",
    "df_temp.sample(15)"
   ]
  },
  {
   "cell_type": "code",
   "execution_count": 8,
   "metadata": {},
   "outputs": [
    {
     "output_type": "execute_result",
     "data": {
      "text/plain": "array(['확인 중'], dtype=object)"
     },
     "metadata": {},
     "execution_count": 8
    }
   ],
   "source": [
    "# overwrite whatever cell value that contains \"확인\" as \"확인 중\"\n",
    "df_temp.loc[df_temp[\"접촉력\"].str.contains(\"확인\"),\"접촉력\"] = \"확인 중\"\n",
    "\n",
    "# check whether those two arrays are combined\n",
    "df_temp.loc[df_temp[\"접촉력\"].str.contains(\"확인\"),\"접촉력\"].unique()"
   ]
  },
  {
   "cell_type": "code",
   "execution_count": 9,
   "metadata": {},
   "outputs": [],
   "source": [
    "df_temp[\"접촉력\"] = df_temp[\"접촉력\"].str.replace(\"관련\", \"\")\n",
    "df_temp[\"접촉력\"] = df_temp[\"접촉력\"].str.strip()"
   ]
  },
  {
   "cell_type": "code",
   "execution_count": 10,
   "metadata": {
    "tags": []
   },
   "outputs": [
    {
     "output_type": "stream",
     "name": "stdout",
     "text": "223\n"
    },
    {
     "output_type": "execute_result",
     "data": {
      "text/plain": "array(['송파구 소재 병원', '노원구 빛가온교회', '강동구 소재 병원', '성북구 사랑제일교회', '8.15도심집회',\n       '확인 중', '도봉구 운동시설', '타시도 확진자 접촉', '기타 확진자 접촉', '다래경매', '노원구 기도모임',\n       '동작구 카드 발급업체', '광진구 소재병원', '성북구 체대입시', '성북구 요양시설', '중구 소재 은행',\n       '중랑구 소재 체육시설', '관악구 판매업소', '동작구 소재 서울신학교', '용인시 우리제일교회',\n       '노원구 손해보험', '구로구 보성운수', '강서구 서울대효요양병원', '서초구 장애인교육시설', '서대문구 지인모임',\n       '강북구 일가족', '중구 하나은행본점', '강서구 보안회사', '롯데리아 종사자 모임', '해외 접촉 추정',\n       '8.15도심집회(순복음 강북교회)', '영등포구 권능교회', '구로구 아파트', '강남구 소재 아파트',\n       '제주 게스트하우스', '성북구 벧엘장로교회', '중앙보훈병원', '관악구 김혜근의원', '동대문구 sk탁구클럽',\n       '동작구 스터디카페', '극단 산', 'KT가좌지사', '군인권센터', '동작구 요양시설', '여의도 순복음교회',\n       '중구 보험회사(현대해상)', '강서구 병원', '종로구 혜화경찰서', '양천구 되새김교회', '현대커머셜',\n       '8.15도심집회(녹색병원)', '영등포 IFC몰 오케스트로', '고양시 반석교회(케네디상가)', '롯데 자산개발',\n       '골드트레인', '한양대병원', '은평구 헤어콕', '순복음 강북교회', '서대문구 지인 모임', '강동구 어린이집',\n       '광화문집회', '은평구 성경공부모임', '관악구 요양병원', '고대 안암병원', '마포구 푸본생명콜센터',\n       '성동구 가족', '양천구 되새김 교회', '중구 통일상가', '고양시 반석교회  (케네디상가)',\n       '강남구 판매업소(골드트레인)', '양천구 확진자 접촉', '영등포구 확진자 접촉', '강남구 확진자 접촉',\n       '강남구 판매업소', '광진구 확진자 접촉', '고양시 반석교회 (케네디상가)', '구로구 확진자 접촉',\n       '종로구 확진자 접촉', '성북구 확진자 접촉', '서초구 확진자 접촉', '마포구 확진자 접촉',\n       '#14483 접촉', '#14488 접촉', '도봉구 가족', '강남구 커피전문점', '선교회 소모임',\n       '도봉구 확진자 접촉', '송파구 교회', '강서구 확진자 접촉', '송파구 확진자 접촉',\n       '종로구 지인모임 신명투자', '강서구 요양시설', '강남구 사무실 K빌딩', '송파구 지인모임',\n       '관악구 확진자 접촉', '중구 확진자 접촉', '강북구 확진자 접촉', '관악구 사무실', '은평구 확진자 접촉',\n       '강남구 사무실', '강남역삼동 금융회사', '성동구 확진자 접촉', '강남구 이동통신 종사자',\n       '강남구 역삼동 모임', '용산구 확진자 접촉', '왕성교회', '중랑구 일가족', '관악구 일가족',\n       '대전 꿈꾸는 교회', '리치웨이', '동작구 확진자 접촉', '금천구 확진자 접촉', '요양시설',\n       '강동구 확진자 접촉', '시청역', '대자연코리아', '의왕 물류센터', '금천구 도정기 회사', '양천구 운동시설',\n       '대전 다단계', '오렌지라이프', '수도권 개척교회', '타시도 확진자 접촉자', '연아나뉴스클래스',\n       '한국대학생선교회', '해외접촉 추정', 'kb 생명보험', '부천시 쿠팡', '이태원 클럽', '용인 형제',\n       '삼성화재', '서초구 가족', '안양군포 목회자', '영등포 학원', '강남구 동인교회', '원어성경연구회',\n       '#11196 접촉', '삼성서울병원', '#10054 접촉', '#9800 접촉', '#10044 접촉',\n       '#9641 접촉', '구로구 교회', '#10407 접촉', '#10015 접촉', '#9364 접촉',\n       '#10377 접촉', '#9287 접촉', '#10142 접촉', '#9912 접촉', '#9765 접촉',\n       '#10115 접촉', '타시도 확진자 접촉(추정)', '#8063 접촉', '#10084 접촉', '#8601 접촉',\n       '#8717 접촉', '#9946 접촉', '콜센터직원 접촉', '#8271 접촉', '#8669 접촉',\n       '#9734 접촉', '#9621 접촉', '#9572 접촉', '#9525 접촉', '#7914 접촉',\n       '#8791 접촉', '#9219 접촉', '#8057 접촉', '#8079 접촉', '#8646 접촉',\n       '#9020 접촉', '#8245 접촉', '#8709 접촉 추정', '#8881 접촉 추정', '구로구 콜센터',\n       '#8486 접촉', '동대문구', '#8196 접촉', '#8138 접촉', '구로구 콜센터 접촉',\n       '#8044 접촉', '해외 접촉', '#7923 접촉', '신천지 추정', '#7573 접축 추정',\n       '#6959 접촉(추정)', '#7280 접촉(추정)', '#7500 접촉(추정)', '#6727 첩촉',\n       '대구 거주', '#6832 접촉자', '#6921접촉자', '#935 접촉자', '#6937 접촉자',\n       '성동구 아파트', '대구 방문', '부동산 중개 법인', '여의도 건설현장', '대구 확진자 접촉', '명성교회',\n       '#794 접촉(추정)', '#2621번 접촉', '#1247 접촉(추정)', '부동산 중개업', '쇼핑몰',\n       '은평구 병원', '경찰병원', '서울재생병원', '신천지대구교회', '#794 접촉자', '대구 방문(명성교회)',\n       '#780 접촉(추정)', '#56 접촉', '#136 접촉', '대구 거주자', '#6 접촉(추정)',\n       '#30 접촉', '#29 접촉', '#83 접촉', '#6 접촉', '#5 접촉', '#3 접촉'],\n      dtype=object)"
     },
     "metadata": {},
     "execution_count": 10
    }
   ],
   "source": [
    "infection_paths = df_temp[\"접촉력\"].unique()\n",
    "print(len(infection_paths))\n",
    "infection_paths"
   ]
  },
  {
   "cell_type": "code",
   "execution_count": 11,
   "metadata": {},
   "outputs": [
    {
     "output_type": "execute_result",
     "data": {
      "text/plain": "     연번     환자    확진일  거주지 여행력         접촉력 퇴원현황\n0  4251    미부여  9.04.   타시   -   송파구 소재 병원  NaN\n1  4250  20979  9.04.  노원구   -   노원구 빛가온교회  NaN\n2  4249  20974  9.04.  성동구   -   강동구 소재 병원  NaN\n3  4248  20962  9.04.  성북구   -  성북구 사랑제일교회  NaN\n4  4247    미부여  9.03.  성북구   -    8.15도심집회  NaN",
      "text/html": "<div>\n<style scoped>\n    .dataframe tbody tr th:only-of-type {\n        vertical-align: middle;\n    }\n\n    .dataframe tbody tr th {\n        vertical-align: top;\n    }\n\n    .dataframe thead th {\n        text-align: right;\n    }\n</style>\n<table border=\"1\" class=\"dataframe\">\n  <thead>\n    <tr style=\"text-align: right;\">\n      <th></th>\n      <th>연번</th>\n      <th>환자</th>\n      <th>확진일</th>\n      <th>거주지</th>\n      <th>여행력</th>\n      <th>접촉력</th>\n      <th>퇴원현황</th>\n    </tr>\n  </thead>\n  <tbody>\n    <tr>\n      <th>0</th>\n      <td>4251</td>\n      <td>미부여</td>\n      <td>9.04.</td>\n      <td>타시</td>\n      <td>-</td>\n      <td>송파구 소재 병원</td>\n      <td>NaN</td>\n    </tr>\n    <tr>\n      <th>1</th>\n      <td>4250</td>\n      <td>20979</td>\n      <td>9.04.</td>\n      <td>노원구</td>\n      <td>-</td>\n      <td>노원구 빛가온교회</td>\n      <td>NaN</td>\n    </tr>\n    <tr>\n      <th>2</th>\n      <td>4249</td>\n      <td>20974</td>\n      <td>9.04.</td>\n      <td>성동구</td>\n      <td>-</td>\n      <td>강동구 소재 병원</td>\n      <td>NaN</td>\n    </tr>\n    <tr>\n      <th>3</th>\n      <td>4248</td>\n      <td>20962</td>\n      <td>9.04.</td>\n      <td>성북구</td>\n      <td>-</td>\n      <td>성북구 사랑제일교회</td>\n      <td>NaN</td>\n    </tr>\n    <tr>\n      <th>4</th>\n      <td>4247</td>\n      <td>미부여</td>\n      <td>9.03.</td>\n      <td>성북구</td>\n      <td>-</td>\n      <td>8.15도심집회</td>\n      <td>NaN</td>\n    </tr>\n  </tbody>\n</table>\n</div>"
     },
     "metadata": {},
     "execution_count": 11
    }
   ],
   "source": [
    "df_date = df_temp.sort_values([\"연번\"], ascending=False)\n",
    "df_date.head()"
   ]
  },
  {
   "cell_type": "code",
   "execution_count": 24,
   "metadata": {},
   "outputs": [
    {
     "output_type": "execute_result",
     "data": {
      "text/plain": "array(['9.04.', '9.03.', '8.30.', '9.02.', '9.01.', '8.31.', '8.29.',\n       '8.28.', '8.27.', '8.26.', '8.25.', '8.24.', '8.23.', '8.22.',\n       '8.21.', '8.20.', '8.19.', '8.18.', '8.17.', '8.16.', '8.15.',\n       '8.14.', '8.13.', '8.12.', '8.11.', '8.10.', '8.9.', '8.8.',\n       '8.7.', '8.6.', '8.5.', '8.4.', '8.3.', '8.2.', '8.1.', '7.31.',\n       '7.30.', '7.29.', '7.28.', '7.27.', '7.26.', '7.25.', '7.24.',\n       '7.23.', '7.22.', '7.21.', '7.20.', '7.19.', '7.18.', '7.17.',\n       '7.16.', '7.15.', '7.14.', '7.13.', '7.12.', '7.11.', '7.10.',\n       '7.09.', '7.08.', '7.07.', '7.06.', '7.05.', '7.04.', '7.03.',\n       '7.02.', '7.01.', '6.30.', '6.29.', '6.28.', '6.27.', '6.26.',\n       '6.25.', '6.24.', '6.23.', '6.22.', '6.21.', '6.20.', '6.19.',\n       '6.18.', '6.17.', '6.16.', '6.15.', '6.14.', '6.13.', '6.12.',\n       '6.11.', '6.10.', '6.09.', '6.08.', '6.05.', '6.07.', '6.06.',\n       '6.04.', '6.03.', '6.02.', '6.01.', '5.31.', '5.30.', '5.29.',\n       '5.27.', '5.28.', '5.26.', '5.25.', '5.24.', '5.23.', '5.22.',\n       '5.21.', '5.20.', '5.19.', '5.18.', '5.17.', '5.16.', '5.15.',\n       '5.14.', '5.13.', '5.12.', '5.11.', '5.10.', '5.09.', '5.9.',\n       '5.08.', '5.02.', '5.01.', '4.30.', '4.27.', '4.24.', '4.21.',\n       '4.20.', '4.19.', '4.18.', '4.17.', '4.16.', '4.15.', '4.14.',\n       '4.13.', '4.12.', '4.11.', '4.10.', '4.06.', '4.09.', '4.08.',\n       '4.07.', '4.05.', '4.04.', '4.3.', '4.02.', '4.01.', '3.31.',\n       '3.30.', '3.29.', '3.27.', '3.28.', '3.25.', '3.26.', '3.24.',\n       '3.23.', '3.22.', '3.21.', '3.20.', '3.19.', '3.18.', '3.17.',\n       '3.16.', '3.15.', '3.14.', '3.13.', '3.12.', '3.11.', '3.10.',\n       '3.9.', '3.8.', '3.6.', '3.7.', '3.4.', '3.5.', '3.3.', '3.1.',\n       '3.2.', '2.29.', '2.28.', '2.27.', '2.26.', '2.25.', '2.24.',\n       '2.23.', '2.22.', '2.21.', '2.20.', '2.19.', '2.16.', '2.7.',\n       '2.6.', '2.5.', '2.2.', '1.31.', '1.30.', '1.24.'], dtype=object)"
     },
     "metadata": {},
     "execution_count": 24
    }
   ],
   "source": [
    "df_date[\"확진일\"].unique()"
   ]
  },
  {
   "cell_type": "code",
   "execution_count": 12,
   "metadata": {},
   "outputs": [
    {
     "output_type": "execute_result",
     "data": {
      "text/plain": "     연번     환자   확진일  거주지 여행력         접촉력 퇴원현황\n0  4251    미부여  9-04   타시   -   송파구 소재 병원  NaN\n1  4250  20979  9-04  노원구   -   노원구 빛가온교회  NaN\n2  4249  20974  9-04  성동구   -   강동구 소재 병원  NaN\n3  4248  20962  9-04  성북구   -  성북구 사랑제일교회  NaN\n4  4247    미부여  9-03  성북구   -    8.15도심집회  NaN",
      "text/html": "<div>\n<style scoped>\n    .dataframe tbody tr th:only-of-type {\n        vertical-align: middle;\n    }\n\n    .dataframe tbody tr th {\n        vertical-align: top;\n    }\n\n    .dataframe thead th {\n        text-align: right;\n    }\n</style>\n<table border=\"1\" class=\"dataframe\">\n  <thead>\n    <tr style=\"text-align: right;\">\n      <th></th>\n      <th>연번</th>\n      <th>환자</th>\n      <th>확진일</th>\n      <th>거주지</th>\n      <th>여행력</th>\n      <th>접촉력</th>\n      <th>퇴원현황</th>\n    </tr>\n  </thead>\n  <tbody>\n    <tr>\n      <th>0</th>\n      <td>4251</td>\n      <td>미부여</td>\n      <td>9-04</td>\n      <td>타시</td>\n      <td>-</td>\n      <td>송파구 소재 병원</td>\n      <td>NaN</td>\n    </tr>\n    <tr>\n      <th>1</th>\n      <td>4250</td>\n      <td>20979</td>\n      <td>9-04</td>\n      <td>노원구</td>\n      <td>-</td>\n      <td>노원구 빛가온교회</td>\n      <td>NaN</td>\n    </tr>\n    <tr>\n      <th>2</th>\n      <td>4249</td>\n      <td>20974</td>\n      <td>9-04</td>\n      <td>성동구</td>\n      <td>-</td>\n      <td>강동구 소재 병원</td>\n      <td>NaN</td>\n    </tr>\n    <tr>\n      <th>3</th>\n      <td>4248</td>\n      <td>20962</td>\n      <td>9-04</td>\n      <td>성북구</td>\n      <td>-</td>\n      <td>성북구 사랑제일교회</td>\n      <td>NaN</td>\n    </tr>\n    <tr>\n      <th>4</th>\n      <td>4247</td>\n      <td>미부여</td>\n      <td>9-03</td>\n      <td>성북구</td>\n      <td>-</td>\n      <td>8.15도심집회</td>\n      <td>NaN</td>\n    </tr>\n  </tbody>\n</table>\n</div>"
     },
     "metadata": {},
     "execution_count": 12
    }
   ],
   "source": [
    "df_date[\"확진일\"] = df_date[\"확진일\"].str.replace(\".\", \"-\")\n",
    "df_date[\"확진일\"] = df_date[\"확진일\"].str[:-1]\n",
    "df_date.head()"
   ]
  },
  {
   "cell_type": "code",
   "execution_count": 13,
   "metadata": {},
   "outputs": [
    {
     "output_type": "execute_result",
     "data": {
      "text/plain": "     연번     환자         확진일  거주지 여행력         접촉력 퇴원현황\n0  4251    미부여  2020-09-04   타시   -   송파구 소재 병원  NaN\n1  4250  20979  2020-09-04  노원구   -   노원구 빛가온교회  NaN\n2  4249  20974  2020-09-04  성동구   -   강동구 소재 병원  NaN\n3  4248  20962  2020-09-04  성북구   -  성북구 사랑제일교회  NaN\n4  4247    미부여  2020-09-03  성북구   -    8.15도심집회  NaN",
      "text/html": "<div>\n<style scoped>\n    .dataframe tbody tr th:only-of-type {\n        vertical-align: middle;\n    }\n\n    .dataframe tbody tr th {\n        vertical-align: top;\n    }\n\n    .dataframe thead th {\n        text-align: right;\n    }\n</style>\n<table border=\"1\" class=\"dataframe\">\n  <thead>\n    <tr style=\"text-align: right;\">\n      <th></th>\n      <th>연번</th>\n      <th>환자</th>\n      <th>확진일</th>\n      <th>거주지</th>\n      <th>여행력</th>\n      <th>접촉력</th>\n      <th>퇴원현황</th>\n    </tr>\n  </thead>\n  <tbody>\n    <tr>\n      <th>0</th>\n      <td>4251</td>\n      <td>미부여</td>\n      <td>2020-09-04</td>\n      <td>타시</td>\n      <td>-</td>\n      <td>송파구 소재 병원</td>\n      <td>NaN</td>\n    </tr>\n    <tr>\n      <th>1</th>\n      <td>4250</td>\n      <td>20979</td>\n      <td>2020-09-04</td>\n      <td>노원구</td>\n      <td>-</td>\n      <td>노원구 빛가온교회</td>\n      <td>NaN</td>\n    </tr>\n    <tr>\n      <th>2</th>\n      <td>4249</td>\n      <td>20974</td>\n      <td>2020-09-04</td>\n      <td>성동구</td>\n      <td>-</td>\n      <td>강동구 소재 병원</td>\n      <td>NaN</td>\n    </tr>\n    <tr>\n      <th>3</th>\n      <td>4248</td>\n      <td>20962</td>\n      <td>2020-09-04</td>\n      <td>성북구</td>\n      <td>-</td>\n      <td>성북구 사랑제일교회</td>\n      <td>NaN</td>\n    </tr>\n    <tr>\n      <th>4</th>\n      <td>4247</td>\n      <td>미부여</td>\n      <td>2020-09-03</td>\n      <td>성북구</td>\n      <td>-</td>\n      <td>8.15도심집회</td>\n      <td>NaN</td>\n    </tr>\n  </tbody>\n</table>\n</div>"
     },
     "metadata": {},
     "execution_count": 13
    }
   ],
   "source": [
    "df_date[\"확진일\"] = \"2020-0\" + df_date[\"확진일\"]\n",
    "df_date.head()"
   ]
  },
  {
   "cell_type": "code",
   "execution_count": 14,
   "metadata": {},
   "outputs": [
    {
     "output_type": "execute_result",
     "data": {
      "text/plain": "        연번     환자         확진일  거주지 여행력         접촉력 퇴원현황\n3141  1110  12067  2020-06-13  관악구   -        리치웨이   퇴원\n2889  1362  13065  2020-07-04  송파구   -  타시도 확진자 접촉   퇴원\n2382  1869  15106  2020-08-15  강북구   -  성북구 사랑제일교회   퇴원\n2620  1631  14472   2020-08-5  성동구   -      성동구 가족   퇴원\n3849   402   9553  2020-03-28  서초구  미국    해외 접촉 추정   퇴원",
      "text/html": "<div>\n<style scoped>\n    .dataframe tbody tr th:only-of-type {\n        vertical-align: middle;\n    }\n\n    .dataframe tbody tr th {\n        vertical-align: top;\n    }\n\n    .dataframe thead th {\n        text-align: right;\n    }\n</style>\n<table border=\"1\" class=\"dataframe\">\n  <thead>\n    <tr style=\"text-align: right;\">\n      <th></th>\n      <th>연번</th>\n      <th>환자</th>\n      <th>확진일</th>\n      <th>거주지</th>\n      <th>여행력</th>\n      <th>접촉력</th>\n      <th>퇴원현황</th>\n    </tr>\n  </thead>\n  <tbody>\n    <tr>\n      <th>3141</th>\n      <td>1110</td>\n      <td>12067</td>\n      <td>2020-06-13</td>\n      <td>관악구</td>\n      <td>-</td>\n      <td>리치웨이</td>\n      <td>퇴원</td>\n    </tr>\n    <tr>\n      <th>2889</th>\n      <td>1362</td>\n      <td>13065</td>\n      <td>2020-07-04</td>\n      <td>송파구</td>\n      <td>-</td>\n      <td>타시도 확진자 접촉</td>\n      <td>퇴원</td>\n    </tr>\n    <tr>\n      <th>2382</th>\n      <td>1869</td>\n      <td>15106</td>\n      <td>2020-08-15</td>\n      <td>강북구</td>\n      <td>-</td>\n      <td>성북구 사랑제일교회</td>\n      <td>퇴원</td>\n    </tr>\n    <tr>\n      <th>2620</th>\n      <td>1631</td>\n      <td>14472</td>\n      <td>2020-08-5</td>\n      <td>성동구</td>\n      <td>-</td>\n      <td>성동구 가족</td>\n      <td>퇴원</td>\n    </tr>\n    <tr>\n      <th>3849</th>\n      <td>402</td>\n      <td>9553</td>\n      <td>2020-03-28</td>\n      <td>서초구</td>\n      <td>미국</td>\n      <td>해외 접촉 추정</td>\n      <td>퇴원</td>\n    </tr>\n  </tbody>\n</table>\n</div>"
     },
     "metadata": {},
     "execution_count": 14
    }
   ],
   "source": [
    "df_date.sample(5)"
   ]
  },
  {
   "cell_type": "code",
   "execution_count": 32,
   "metadata": {},
   "outputs": [
    {
     "output_type": "execute_result",
     "data": {
      "text/plain": "     연번     환자         확진일  거주지 여행력         접촉력 퇴원현황\n0  4251    미부여  2020-09-04   타시   -   송파구 소재 병원  NaN\n1  4250  20979  2020-09-04  노원구   -   노원구 빛가온교회  NaN\n2  4249  20974  2020-09-04  성동구   -   강동구 소재 병원  NaN\n3  4248  20962  2020-09-04  성북구   -  성북구 사랑제일교회  NaN\n4  4247    미부여  2020-09-03  성북구   -    8.15도심집회  NaN",
      "text/html": "<div>\n<style scoped>\n    .dataframe tbody tr th:only-of-type {\n        vertical-align: middle;\n    }\n\n    .dataframe tbody tr th {\n        vertical-align: top;\n    }\n\n    .dataframe thead th {\n        text-align: right;\n    }\n</style>\n<table border=\"1\" class=\"dataframe\">\n  <thead>\n    <tr style=\"text-align: right;\">\n      <th></th>\n      <th>연번</th>\n      <th>환자</th>\n      <th>확진일</th>\n      <th>거주지</th>\n      <th>여행력</th>\n      <th>접촉력</th>\n      <th>퇴원현황</th>\n    </tr>\n  </thead>\n  <tbody>\n    <tr>\n      <th>0</th>\n      <td>4251</td>\n      <td>미부여</td>\n      <td>2020-09-04</td>\n      <td>타시</td>\n      <td>-</td>\n      <td>송파구 소재 병원</td>\n      <td>NaN</td>\n    </tr>\n    <tr>\n      <th>1</th>\n      <td>4250</td>\n      <td>20979</td>\n      <td>2020-09-04</td>\n      <td>노원구</td>\n      <td>-</td>\n      <td>노원구 빛가온교회</td>\n      <td>NaN</td>\n    </tr>\n    <tr>\n      <th>2</th>\n      <td>4249</td>\n      <td>20974</td>\n      <td>2020-09-04</td>\n      <td>성동구</td>\n      <td>-</td>\n      <td>강동구 소재 병원</td>\n      <td>NaN</td>\n    </tr>\n    <tr>\n      <th>3</th>\n      <td>4248</td>\n      <td>20962</td>\n      <td>2020-09-04</td>\n      <td>성북구</td>\n      <td>-</td>\n      <td>성북구 사랑제일교회</td>\n      <td>NaN</td>\n    </tr>\n    <tr>\n      <th>4</th>\n      <td>4247</td>\n      <td>미부여</td>\n      <td>2020-09-03</td>\n      <td>성북구</td>\n      <td>-</td>\n      <td>8.15도심집회</td>\n      <td>NaN</td>\n    </tr>\n  </tbody>\n</table>\n</div>"
     },
     "metadata": {},
     "execution_count": 32
    }
   ],
   "source": [
    "df = df_date.copy()\n",
    "df.head()"
   ]
  },
  {
   "cell_type": "code",
   "execution_count": 35,
   "metadata": {},
   "outputs": [
    {
     "output_type": "execute_result",
     "data": {
      "text/plain": "     연번     환자         확진일  거주지 여행력         접촉력 퇴원현황\n0  4251    미부여  2020-09-04   타시   -   송파구 소재 병원  NaN\n1  4250  20979  2020-09-04  노원구   -   노원구 빛가온교회  NaN\n2  4249  20974  2020-09-04  성동구   -   강동구 소재 병원  NaN\n3  4248  20962  2020-09-04  성북구   -  성북구 사랑제일교회  NaN\n4  4247    미부여  2020-09-03  성북구   -    8.15도심집회  NaN",
      "text/html": "<div>\n<style scoped>\n    .dataframe tbody tr th:only-of-type {\n        vertical-align: middle;\n    }\n\n    .dataframe tbody tr th {\n        vertical-align: top;\n    }\n\n    .dataframe thead th {\n        text-align: right;\n    }\n</style>\n<table border=\"1\" class=\"dataframe\">\n  <thead>\n    <tr style=\"text-align: right;\">\n      <th></th>\n      <th>연번</th>\n      <th>환자</th>\n      <th>확진일</th>\n      <th>거주지</th>\n      <th>여행력</th>\n      <th>접촉력</th>\n      <th>퇴원현황</th>\n    </tr>\n  </thead>\n  <tbody>\n    <tr>\n      <th>0</th>\n      <td>4251</td>\n      <td>미부여</td>\n      <td>2020-09-04</td>\n      <td>타시</td>\n      <td>-</td>\n      <td>송파구 소재 병원</td>\n      <td>NaN</td>\n    </tr>\n    <tr>\n      <th>1</th>\n      <td>4250</td>\n      <td>20979</td>\n      <td>2020-09-04</td>\n      <td>노원구</td>\n      <td>-</td>\n      <td>노원구 빛가온교회</td>\n      <td>NaN</td>\n    </tr>\n    <tr>\n      <th>2</th>\n      <td>4249</td>\n      <td>20974</td>\n      <td>2020-09-04</td>\n      <td>성동구</td>\n      <td>-</td>\n      <td>강동구 소재 병원</td>\n      <td>NaN</td>\n    </tr>\n    <tr>\n      <th>3</th>\n      <td>4248</td>\n      <td>20962</td>\n      <td>2020-09-04</td>\n      <td>성북구</td>\n      <td>-</td>\n      <td>성북구 사랑제일교회</td>\n      <td>NaN</td>\n    </tr>\n    <tr>\n      <th>4</th>\n      <td>4247</td>\n      <td>미부여</td>\n      <td>2020-09-03</td>\n      <td>성북구</td>\n      <td>-</td>\n      <td>8.15도심집회</td>\n      <td>NaN</td>\n    </tr>\n  </tbody>\n</table>\n</div>"
     },
     "metadata": {},
     "execution_count": 35
    }
   ],
   "source": [
    "df.loc[(df[\"확진일\"].str.len() < 10), '확진일'] = df.loc[(df[\"확진일\"].str.len() < 10), '확진일'].str.replace(\"-0\", \"-\")\n",
    "df.loc[(df[\"확진일\"].str.len() < 10), '확진일'] = df.loc[(df[\"확진일\"].str.len() < 10), '확진일'].str.replace(\"-\", \"-0\")\n",
    "df.head()"
   ]
  },
  {
   "cell_type": "code",
   "execution_count": 36,
   "metadata": {},
   "outputs": [
    {
     "output_type": "execute_result",
     "data": {
      "text/plain": "        연번     환자         확진일   거주지     여행력           접촉력 퇴원현황\n225   4026  20326  2020-09-01   강남구   인도네시아      해외 접촉 추정  NaN\n2672  1579  14202  2020-07-27   용인시     멕시코      해외 접촉 추정   퇴원\n739   3512  19046  2020-08-27   노원구       -    성북구 사랑제일교회  NaN\n2969  1282  12645  2020-06-26    중구  키르기스스탄      해외 접촉 추정   퇴원\n2108  2143  15590  2020-08-17   성북구       -    성북구 사랑제일교회   퇴원\n2182  2069  15462  2020-08-16   노원구       -    성북구 사랑제일교회  NaN\n3965   286   8627  2020-03-19   마포구       -      콜센터직원 접촉   퇴원\n534   3717  20125  2020-08-29    기타       -     영등포구 권능교회  NaN\n162   4089  20578  2020-09-02   송파구       -   서초구 장애인교육시설  NaN\n875   3376  18534  2020-08-26    기타       -          확인 중  NaN\n1373  2878  17159  2020-08-22  동대문구       -    타시도 확진자 접촉  NaN\n4089   162   7727  2020-03-10   강서구       -       구로구 콜센터   퇴원\n2439  1812  14910  2020-08-14   성북구       -    성북구 사랑제일교회   퇴원\n410   3841  19918  2020-08-30   관악구       -  동작구 소재 서울신학교  NaN\n1911  2340  15940  2020-08-18   강동구       -    용인시 우리제일교회   퇴원",
      "text/html": "<div>\n<style scoped>\n    .dataframe tbody tr th:only-of-type {\n        vertical-align: middle;\n    }\n\n    .dataframe tbody tr th {\n        vertical-align: top;\n    }\n\n    .dataframe thead th {\n        text-align: right;\n    }\n</style>\n<table border=\"1\" class=\"dataframe\">\n  <thead>\n    <tr style=\"text-align: right;\">\n      <th></th>\n      <th>연번</th>\n      <th>환자</th>\n      <th>확진일</th>\n      <th>거주지</th>\n      <th>여행력</th>\n      <th>접촉력</th>\n      <th>퇴원현황</th>\n    </tr>\n  </thead>\n  <tbody>\n    <tr>\n      <th>225</th>\n      <td>4026</td>\n      <td>20326</td>\n      <td>2020-09-01</td>\n      <td>강남구</td>\n      <td>인도네시아</td>\n      <td>해외 접촉 추정</td>\n      <td>NaN</td>\n    </tr>\n    <tr>\n      <th>2672</th>\n      <td>1579</td>\n      <td>14202</td>\n      <td>2020-07-27</td>\n      <td>용인시</td>\n      <td>멕시코</td>\n      <td>해외 접촉 추정</td>\n      <td>퇴원</td>\n    </tr>\n    <tr>\n      <th>739</th>\n      <td>3512</td>\n      <td>19046</td>\n      <td>2020-08-27</td>\n      <td>노원구</td>\n      <td>-</td>\n      <td>성북구 사랑제일교회</td>\n      <td>NaN</td>\n    </tr>\n    <tr>\n      <th>2969</th>\n      <td>1282</td>\n      <td>12645</td>\n      <td>2020-06-26</td>\n      <td>중구</td>\n      <td>키르기스스탄</td>\n      <td>해외 접촉 추정</td>\n      <td>퇴원</td>\n    </tr>\n    <tr>\n      <th>2108</th>\n      <td>2143</td>\n      <td>15590</td>\n      <td>2020-08-17</td>\n      <td>성북구</td>\n      <td>-</td>\n      <td>성북구 사랑제일교회</td>\n      <td>퇴원</td>\n    </tr>\n    <tr>\n      <th>2182</th>\n      <td>2069</td>\n      <td>15462</td>\n      <td>2020-08-16</td>\n      <td>노원구</td>\n      <td>-</td>\n      <td>성북구 사랑제일교회</td>\n      <td>NaN</td>\n    </tr>\n    <tr>\n      <th>3965</th>\n      <td>286</td>\n      <td>8627</td>\n      <td>2020-03-19</td>\n      <td>마포구</td>\n      <td>-</td>\n      <td>콜센터직원 접촉</td>\n      <td>퇴원</td>\n    </tr>\n    <tr>\n      <th>534</th>\n      <td>3717</td>\n      <td>20125</td>\n      <td>2020-08-29</td>\n      <td>기타</td>\n      <td>-</td>\n      <td>영등포구 권능교회</td>\n      <td>NaN</td>\n    </tr>\n    <tr>\n      <th>162</th>\n      <td>4089</td>\n      <td>20578</td>\n      <td>2020-09-02</td>\n      <td>송파구</td>\n      <td>-</td>\n      <td>서초구 장애인교육시설</td>\n      <td>NaN</td>\n    </tr>\n    <tr>\n      <th>875</th>\n      <td>3376</td>\n      <td>18534</td>\n      <td>2020-08-26</td>\n      <td>기타</td>\n      <td>-</td>\n      <td>확인 중</td>\n      <td>NaN</td>\n    </tr>\n    <tr>\n      <th>1373</th>\n      <td>2878</td>\n      <td>17159</td>\n      <td>2020-08-22</td>\n      <td>동대문구</td>\n      <td>-</td>\n      <td>타시도 확진자 접촉</td>\n      <td>NaN</td>\n    </tr>\n    <tr>\n      <th>4089</th>\n      <td>162</td>\n      <td>7727</td>\n      <td>2020-03-10</td>\n      <td>강서구</td>\n      <td>-</td>\n      <td>구로구 콜센터</td>\n      <td>퇴원</td>\n    </tr>\n    <tr>\n      <th>2439</th>\n      <td>1812</td>\n      <td>14910</td>\n      <td>2020-08-14</td>\n      <td>성북구</td>\n      <td>-</td>\n      <td>성북구 사랑제일교회</td>\n      <td>퇴원</td>\n    </tr>\n    <tr>\n      <th>410</th>\n      <td>3841</td>\n      <td>19918</td>\n      <td>2020-08-30</td>\n      <td>관악구</td>\n      <td>-</td>\n      <td>동작구 소재 서울신학교</td>\n      <td>NaN</td>\n    </tr>\n    <tr>\n      <th>1911</th>\n      <td>2340</td>\n      <td>15940</td>\n      <td>2020-08-18</td>\n      <td>강동구</td>\n      <td>-</td>\n      <td>용인시 우리제일교회</td>\n      <td>퇴원</td>\n    </tr>\n  </tbody>\n</table>\n</div>"
     },
     "metadata": {},
     "execution_count": 36
    }
   ],
   "source": [
    "df.sample(15)"
   ]
  },
  {
   "cell_type": "code",
   "execution_count": 37,
   "metadata": {},
   "outputs": [],
   "source": [
    "df.to_csv(\"./dataset_predict/df_wrangle.csv\", index=False)"
   ]
  },
  {
   "cell_type": "code",
   "execution_count": 38,
   "metadata": {},
   "outputs": [
    {
     "output_type": "execute_result",
     "data": {
      "text/plain": "           date  new_confirmed\n0    2020-08-26            153\n1    2020-08-18            151\n2    2020-08-15            146\n3    2020-08-27            146\n4    2020-08-22            140\n..          ...            ...\n191  2020-04-15              1\n192  2020-05-17              1\n193  2020-02-02              1\n194  2020-04-24              1\n195  2020-03-03              1\n\n[196 rows x 2 columns]",
      "text/html": "<div>\n<style scoped>\n    .dataframe tbody tr th:only-of-type {\n        vertical-align: middle;\n    }\n\n    .dataframe tbody tr th {\n        vertical-align: top;\n    }\n\n    .dataframe thead th {\n        text-align: right;\n    }\n</style>\n<table border=\"1\" class=\"dataframe\">\n  <thead>\n    <tr style=\"text-align: right;\">\n      <th></th>\n      <th>date</th>\n      <th>new_confirmed</th>\n    </tr>\n  </thead>\n  <tbody>\n    <tr>\n      <th>0</th>\n      <td>2020-08-26</td>\n      <td>153</td>\n    </tr>\n    <tr>\n      <th>1</th>\n      <td>2020-08-18</td>\n      <td>151</td>\n    </tr>\n    <tr>\n      <th>2</th>\n      <td>2020-08-15</td>\n      <td>146</td>\n    </tr>\n    <tr>\n      <th>3</th>\n      <td>2020-08-27</td>\n      <td>146</td>\n    </tr>\n    <tr>\n      <th>4</th>\n      <td>2020-08-22</td>\n      <td>140</td>\n    </tr>\n    <tr>\n      <th>...</th>\n      <td>...</td>\n      <td>...</td>\n    </tr>\n    <tr>\n      <th>191</th>\n      <td>2020-04-15</td>\n      <td>1</td>\n    </tr>\n    <tr>\n      <th>192</th>\n      <td>2020-05-17</td>\n      <td>1</td>\n    </tr>\n    <tr>\n      <th>193</th>\n      <td>2020-02-02</td>\n      <td>1</td>\n    </tr>\n    <tr>\n      <th>194</th>\n      <td>2020-04-24</td>\n      <td>1</td>\n    </tr>\n    <tr>\n      <th>195</th>\n      <td>2020-03-03</td>\n      <td>1</td>\n    </tr>\n  </tbody>\n</table>\n<p>196 rows × 2 columns</p>\n</div>"
     },
     "metadata": {},
     "execution_count": 38
    }
   ],
   "source": [
    "temp = df[\"확진일\"].value_counts().rename_axis('date').reset_index(name='new_confirmed')\n",
    "temp"
   ]
  },
  {
   "cell_type": "code",
   "execution_count": 63,
   "metadata": {},
   "outputs": [
    {
     "output_type": "execute_result",
     "data": {
      "text/plain": "           date  new_confirmed\n183  2020-01-24              1\n170  2020-01-30              3\n163  2020-01-31              3\n193  2020-02-02              1\n171  2020-02-05              2",
      "text/html": "<div>\n<style scoped>\n    .dataframe tbody tr th:only-of-type {\n        vertical-align: middle;\n    }\n\n    .dataframe tbody tr th {\n        vertical-align: top;\n    }\n\n    .dataframe thead th {\n        text-align: right;\n    }\n</style>\n<table border=\"1\" class=\"dataframe\">\n  <thead>\n    <tr style=\"text-align: right;\">\n      <th></th>\n      <th>date</th>\n      <th>new_confirmed</th>\n    </tr>\n  </thead>\n  <tbody>\n    <tr>\n      <th>183</th>\n      <td>2020-01-24</td>\n      <td>1</td>\n    </tr>\n    <tr>\n      <th>170</th>\n      <td>2020-01-30</td>\n      <td>3</td>\n    </tr>\n    <tr>\n      <th>163</th>\n      <td>2020-01-31</td>\n      <td>3</td>\n    </tr>\n    <tr>\n      <th>193</th>\n      <td>2020-02-02</td>\n      <td>1</td>\n    </tr>\n    <tr>\n      <th>171</th>\n      <td>2020-02-05</td>\n      <td>2</td>\n    </tr>\n  </tbody>\n</table>\n</div>"
     },
     "metadata": {},
     "execution_count": 63
    }
   ],
   "source": [
    "df_predict = temp.sort_values(by=\"date\")\n",
    "df_predict.head()"
   ]
  },
  {
   "cell_type": "code",
   "execution_count": 64,
   "metadata": {},
   "outputs": [],
   "source": [
    "df_predict[\"date\"] = pd.to_datetime(df_predict[\"date\"])"
   ]
  },
  {
   "cell_type": "code",
   "execution_count": 69,
   "metadata": {},
   "outputs": [
    {
     "output_type": "execute_result",
     "data": {
      "text/plain": "                 date  new_confirmed\ndate                                \n2020-01-24 2020-01-24              1\n2020-01-30 2020-01-30              3\n2020-01-31 2020-01-31              3\n2020-02-02 2020-02-02              1\n2020-02-05 2020-02-05              2\n...               ...            ...\n2020-08-31 2020-08-31             94\n2020-09-01 2020-09-01            101\n2020-09-02 2020-09-02             81\n2020-09-03 2020-09-03             62\n2020-09-04 2020-09-04             45\n\n[196 rows x 2 columns]",
      "text/html": "<div>\n<style scoped>\n    .dataframe tbody tr th:only-of-type {\n        vertical-align: middle;\n    }\n\n    .dataframe tbody tr th {\n        vertical-align: top;\n    }\n\n    .dataframe thead th {\n        text-align: right;\n    }\n</style>\n<table border=\"1\" class=\"dataframe\">\n  <thead>\n    <tr style=\"text-align: right;\">\n      <th></th>\n      <th>date</th>\n      <th>new_confirmed</th>\n    </tr>\n    <tr>\n      <th>date</th>\n      <th></th>\n      <th></th>\n    </tr>\n  </thead>\n  <tbody>\n    <tr>\n      <th>2020-01-24</th>\n      <td>2020-01-24</td>\n      <td>1</td>\n    </tr>\n    <tr>\n      <th>2020-01-30</th>\n      <td>2020-01-30</td>\n      <td>3</td>\n    </tr>\n    <tr>\n      <th>2020-01-31</th>\n      <td>2020-01-31</td>\n      <td>3</td>\n    </tr>\n    <tr>\n      <th>2020-02-02</th>\n      <td>2020-02-02</td>\n      <td>1</td>\n    </tr>\n    <tr>\n      <th>2020-02-05</th>\n      <td>2020-02-05</td>\n      <td>2</td>\n    </tr>\n    <tr>\n      <th>...</th>\n      <td>...</td>\n      <td>...</td>\n    </tr>\n    <tr>\n      <th>2020-08-31</th>\n      <td>2020-08-31</td>\n      <td>94</td>\n    </tr>\n    <tr>\n      <th>2020-09-01</th>\n      <td>2020-09-01</td>\n      <td>101</td>\n    </tr>\n    <tr>\n      <th>2020-09-02</th>\n      <td>2020-09-02</td>\n      <td>81</td>\n    </tr>\n    <tr>\n      <th>2020-09-03</th>\n      <td>2020-09-03</td>\n      <td>62</td>\n    </tr>\n    <tr>\n      <th>2020-09-04</th>\n      <td>2020-09-04</td>\n      <td>45</td>\n    </tr>\n  </tbody>\n</table>\n<p>196 rows × 2 columns</p>\n</div>"
     },
     "metadata": {},
     "execution_count": 69
    }
   ],
   "source": [
    "df_predict.index = pd.DatetimeIndex(df_predict[\"date\"])\n",
    "df_predict"
   ]
  },
  {
   "cell_type": "code",
   "execution_count": 75,
   "metadata": {},
   "outputs": [
    {
     "output_type": "execute_result",
     "data": {
      "text/plain": "                 date  new_confirmed\ndate                                \n2020-01-24 2020-01-24            1.0\n2020-01-25        NaT            NaN\n2020-01-26        NaT            NaN\n2020-01-27        NaT            NaN\n2020-01-28        NaT            NaN\n...               ...            ...\n2020-08-31 2020-08-31           94.0\n2020-09-01 2020-09-01          101.0\n2020-09-02 2020-09-02           81.0\n2020-09-03 2020-09-03           62.0\n2020-09-04 2020-09-04           45.0\n\n[225 rows x 2 columns]",
      "text/html": "<div>\n<style scoped>\n    .dataframe tbody tr th:only-of-type {\n        vertical-align: middle;\n    }\n\n    .dataframe tbody tr th {\n        vertical-align: top;\n    }\n\n    .dataframe thead th {\n        text-align: right;\n    }\n</style>\n<table border=\"1\" class=\"dataframe\">\n  <thead>\n    <tr style=\"text-align: right;\">\n      <th></th>\n      <th>date</th>\n      <th>new_confirmed</th>\n    </tr>\n    <tr>\n      <th>date</th>\n      <th></th>\n      <th></th>\n    </tr>\n  </thead>\n  <tbody>\n    <tr>\n      <th>2020-01-24</th>\n      <td>2020-01-24</td>\n      <td>1.0</td>\n    </tr>\n    <tr>\n      <th>2020-01-25</th>\n      <td>NaT</td>\n      <td>NaN</td>\n    </tr>\n    <tr>\n      <th>2020-01-26</th>\n      <td>NaT</td>\n      <td>NaN</td>\n    </tr>\n    <tr>\n      <th>2020-01-27</th>\n      <td>NaT</td>\n      <td>NaN</td>\n    </tr>\n    <tr>\n      <th>2020-01-28</th>\n      <td>NaT</td>\n      <td>NaN</td>\n    </tr>\n    <tr>\n      <th>...</th>\n      <td>...</td>\n      <td>...</td>\n    </tr>\n    <tr>\n      <th>2020-08-31</th>\n      <td>2020-08-31</td>\n      <td>94.0</td>\n    </tr>\n    <tr>\n      <th>2020-09-01</th>\n      <td>2020-09-01</td>\n      <td>101.0</td>\n    </tr>\n    <tr>\n      <th>2020-09-02</th>\n      <td>2020-09-02</td>\n      <td>81.0</td>\n    </tr>\n    <tr>\n      <th>2020-09-03</th>\n      <td>2020-09-03</td>\n      <td>62.0</td>\n    </tr>\n    <tr>\n      <th>2020-09-04</th>\n      <td>2020-09-04</td>\n      <td>45.0</td>\n    </tr>\n  </tbody>\n</table>\n<p>225 rows × 2 columns</p>\n</div>"
     },
     "metadata": {},
     "execution_count": 75
    }
   ],
   "source": [
    "df_predict = df_predict.resample('D').max()\n",
    "df_predict"
   ]
  },
  {
   "cell_type": "code",
   "execution_count": 77,
   "metadata": {},
   "outputs": [
    {
     "output_type": "execute_result",
     "data": {
      "text/plain": "                 date  new_confirmed\ndate                                \n2020-01-24 2020-01-24            1.0\n2020-01-25 2020-01-25            NaN\n2020-01-26 2020-01-26            NaN\n2020-01-27 2020-01-27            NaN\n2020-01-28 2020-01-28            NaN\n...               ...            ...\n2020-08-31 2020-08-31           94.0\n2020-09-01 2020-09-01          101.0\n2020-09-02 2020-09-02           81.0\n2020-09-03 2020-09-03           62.0\n2020-09-04 2020-09-04           45.0\n\n[225 rows x 2 columns]",
      "text/html": "<div>\n<style scoped>\n    .dataframe tbody tr th:only-of-type {\n        vertical-align: middle;\n    }\n\n    .dataframe tbody tr th {\n        vertical-align: top;\n    }\n\n    .dataframe thead th {\n        text-align: right;\n    }\n</style>\n<table border=\"1\" class=\"dataframe\">\n  <thead>\n    <tr style=\"text-align: right;\">\n      <th></th>\n      <th>date</th>\n      <th>new_confirmed</th>\n    </tr>\n    <tr>\n      <th>date</th>\n      <th></th>\n      <th></th>\n    </tr>\n  </thead>\n  <tbody>\n    <tr>\n      <th>2020-01-24</th>\n      <td>2020-01-24</td>\n      <td>1.0</td>\n    </tr>\n    <tr>\n      <th>2020-01-25</th>\n      <td>2020-01-25</td>\n      <td>NaN</td>\n    </tr>\n    <tr>\n      <th>2020-01-26</th>\n      <td>2020-01-26</td>\n      <td>NaN</td>\n    </tr>\n    <tr>\n      <th>2020-01-27</th>\n      <td>2020-01-27</td>\n      <td>NaN</td>\n    </tr>\n    <tr>\n      <th>2020-01-28</th>\n      <td>2020-01-28</td>\n      <td>NaN</td>\n    </tr>\n    <tr>\n      <th>...</th>\n      <td>...</td>\n      <td>...</td>\n    </tr>\n    <tr>\n      <th>2020-08-31</th>\n      <td>2020-08-31</td>\n      <td>94.0</td>\n    </tr>\n    <tr>\n      <th>2020-09-01</th>\n      <td>2020-09-01</td>\n      <td>101.0</td>\n    </tr>\n    <tr>\n      <th>2020-09-02</th>\n      <td>2020-09-02</td>\n      <td>81.0</td>\n    </tr>\n    <tr>\n      <th>2020-09-03</th>\n      <td>2020-09-03</td>\n      <td>62.0</td>\n    </tr>\n    <tr>\n      <th>2020-09-04</th>\n      <td>2020-09-04</td>\n      <td>45.0</td>\n    </tr>\n  </tbody>\n</table>\n<p>225 rows × 2 columns</p>\n</div>"
     },
     "metadata": {},
     "execution_count": 77
    }
   ],
   "source": [
    "df_predict[\"date\"] = df_predict.index\n",
    "df_predict"
   ]
  },
  {
   "cell_type": "code",
   "execution_count": 81,
   "metadata": {},
   "outputs": [
    {
     "output_type": "execute_result",
     "data": {
      "text/plain": "                 date  new_confirmed\ndate                                \n2020-01-24 2020-01-24            1.0\n2020-01-25 2020-01-25            0.0\n2020-01-26 2020-01-26            0.0\n2020-01-27 2020-01-27            0.0\n2020-01-28 2020-01-28            0.0\n...               ...            ...\n2020-08-31 2020-08-31           94.0\n2020-09-01 2020-09-01          101.0\n2020-09-02 2020-09-02           81.0\n2020-09-03 2020-09-03           62.0\n2020-09-04 2020-09-04           45.0\n\n[225 rows x 2 columns]",
      "text/html": "<div>\n<style scoped>\n    .dataframe tbody tr th:only-of-type {\n        vertical-align: middle;\n    }\n\n    .dataframe tbody tr th {\n        vertical-align: top;\n    }\n\n    .dataframe thead th {\n        text-align: right;\n    }\n</style>\n<table border=\"1\" class=\"dataframe\">\n  <thead>\n    <tr style=\"text-align: right;\">\n      <th></th>\n      <th>date</th>\n      <th>new_confirmed</th>\n    </tr>\n    <tr>\n      <th>date</th>\n      <th></th>\n      <th></th>\n    </tr>\n  </thead>\n  <tbody>\n    <tr>\n      <th>2020-01-24</th>\n      <td>2020-01-24</td>\n      <td>1.0</td>\n    </tr>\n    <tr>\n      <th>2020-01-25</th>\n      <td>2020-01-25</td>\n      <td>0.0</td>\n    </tr>\n    <tr>\n      <th>2020-01-26</th>\n      <td>2020-01-26</td>\n      <td>0.0</td>\n    </tr>\n    <tr>\n      <th>2020-01-27</th>\n      <td>2020-01-27</td>\n      <td>0.0</td>\n    </tr>\n    <tr>\n      <th>2020-01-28</th>\n      <td>2020-01-28</td>\n      <td>0.0</td>\n    </tr>\n    <tr>\n      <th>...</th>\n      <td>...</td>\n      <td>...</td>\n    </tr>\n    <tr>\n      <th>2020-08-31</th>\n      <td>2020-08-31</td>\n      <td>94.0</td>\n    </tr>\n    <tr>\n      <th>2020-09-01</th>\n      <td>2020-09-01</td>\n      <td>101.0</td>\n    </tr>\n    <tr>\n      <th>2020-09-02</th>\n      <td>2020-09-02</td>\n      <td>81.0</td>\n    </tr>\n    <tr>\n      <th>2020-09-03</th>\n      <td>2020-09-03</td>\n      <td>62.0</td>\n    </tr>\n    <tr>\n      <th>2020-09-04</th>\n      <td>2020-09-04</td>\n      <td>45.0</td>\n    </tr>\n  </tbody>\n</table>\n<p>225 rows × 2 columns</p>\n</div>"
     },
     "metadata": {},
     "execution_count": 81
    }
   ],
   "source": [
    "df_predict = df_predict.fillna(0)\n",
    "df_predict"
   ]
  },
  {
   "cell_type": "code",
   "execution_count": 82,
   "metadata": {},
   "outputs": [],
   "source": [
    "df_predict.to_csv(\"dataset_predict/df_predict.csv\", index=False)"
   ]
  },
  {
   "cell_type": "code",
   "execution_count": null,
   "metadata": {},
   "outputs": [],
   "source": []
  }
 ]
}