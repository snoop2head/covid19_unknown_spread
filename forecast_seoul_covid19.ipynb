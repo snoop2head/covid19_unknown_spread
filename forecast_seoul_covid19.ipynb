{
  "nbformat": 4,
  "nbformat_minor": 0,
  "metadata": {
    "colab": {
      "name": "forecast_seoul_covid19.ipynb",
      "provenance": [],
      "collapsed_sections": [],
      "machine_shape": "hm",
      "authorship_tag": "ABX9TyM8NYiwnfvnA/K9ZP1MXxa1",
      "include_colab_link": true
    },
    "kernelspec": {
      "name": "python3",
      "display_name": "Python 3"
    },
    "accelerator": "GPU"
  },
  "cells": [
    {
      "cell_type": "markdown",
      "metadata": {
        "id": "view-in-github",
        "colab_type": "text"
      },
      "source": [
        "<a href=\"https://colab.research.google.com/github/snoop2head/covid19_unknown_spread/blob/master/forecast_seoul_covid19.ipynb\" target=\"_parent\"><img src=\"https://colab.research.google.com/assets/colab-badge.svg\" alt=\"Open In Colab\"/></a>"
      ]
    },
    {
      "cell_type": "markdown",
      "metadata": {
        "id": "BMak-LGsSDQP"
      },
      "source": [
        "reference: https://github.com/Hvass-Labs/TensorFlow-Tutorials/blob/master/23_Time-Series-Prediction.ipynb"
      ]
    },
    {
      "cell_type": "code",
      "metadata": {
        "id": "Yf-Ml7YLZY3-",
        "outputId": "66e535e9-3bc2-447b-fc93-2644dfb9b57d",
        "colab": {
          "base_uri": "https://localhost:8080/",
          "height": 138
        }
      },
      "source": [
        "!git clone https://github.com/snoop2head/covid19_unknown_spread"
      ],
      "execution_count": 1,
      "outputs": [
        {
          "output_type": "stream",
          "text": [
            "Cloning into 'covid19_unknown_spread'...\n",
            "remote: Enumerating objects: 539, done.\u001b[K\n",
            "remote: Counting objects: 100% (539/539), done.\u001b[K\n",
            "remote: Compressing objects: 100% (398/398), done.\u001b[K\n",
            "remote: Total 539 (delta 227), reused 439 (delta 139), pack-reused 0\u001b[K\n",
            "Receiving objects: 100% (539/539), 26.91 MiB | 10.20 MiB/s, done.\n",
            "Resolving deltas: 100% (227/227), done.\n"
          ],
          "name": "stdout"
        }
      ]
    },
    {
      "cell_type": "code",
      "metadata": {
        "id": "SJgI1suGZz3x",
        "outputId": "8ae59f01-aaa3-4230-cb0d-e9b53aaeff5e",
        "colab": {
          "base_uri": "https://localhost:8080/",
          "height": 35
        }
      },
      "source": [
        "!ls"
      ],
      "execution_count": 2,
      "outputs": [
        {
          "output_type": "stream",
          "text": [
            "covid19_unknown_spread\tsample_data\n"
          ],
          "name": "stdout"
        }
      ]
    },
    {
      "cell_type": "code",
      "metadata": {
        "id": "8ANvvQL4Z4BS",
        "outputId": "21921e00-30d2-4c8a-ce51-8c7b1a1f2156",
        "colab": {
          "base_uri": "https://localhost:8080/",
          "height": 35
        }
      },
      "source": [
        "%cd covid19_unknown_spread/"
      ],
      "execution_count": 3,
      "outputs": [
        {
          "output_type": "stream",
          "text": [
            "/content/covid19_unknown_spread\n"
          ],
          "name": "stdout"
        }
      ]
    },
    {
      "cell_type": "code",
      "metadata": {
        "id": "Q76XJFalDZup",
        "outputId": "c3909d8a-2a5d-44a8-baf4-7be0dd1cfcb0",
        "colab": {
          "base_uri": "https://localhost:8080/",
          "height": 52
        }
      },
      "source": [
        "import numpy as np\n",
        "import pandas as pd\n",
        "print(pd.__version__)\n",
        "print(np.__version__)"
      ],
      "execution_count": 4,
      "outputs": [
        {
          "output_type": "stream",
          "text": [
            "1.1.2\n",
            "1.18.5\n"
          ],
          "name": "stdout"
        }
      ]
    },
    {
      "cell_type": "code",
      "metadata": {
        "id": "ytaU29PvZ8n-",
        "outputId": "9670fce8-6299-4288-804a-29eee9bcfaa6",
        "colab": {
          "base_uri": "https://localhost:8080/",
          "height": 228
        }
      },
      "source": [
        "df = pd.read_csv(\"dataset_predict/df_train.csv\", encoding=\"utf-8\")\n",
        "df = df.set_index(\"date\")\n",
        "df = df.fillna(0)\n",
        "df.head()"
      ],
      "execution_count": 5,
      "outputs": [
        {
          "output_type": "execute_result",
          "data": {
            "text/html": [
              "<div>\n",
              "<style scoped>\n",
              "    .dataframe tbody tr th:only-of-type {\n",
              "        vertical-align: middle;\n",
              "    }\n",
              "\n",
              "    .dataframe tbody tr th {\n",
              "        vertical-align: top;\n",
              "    }\n",
              "\n",
              "    .dataframe thead th {\n",
              "        text-align: right;\n",
              "    }\n",
              "</style>\n",
              "<table border=\"1\" class=\"dataframe\">\n",
              "  <thead>\n",
              "    <tr style=\"text-align: right;\">\n",
              "      <th></th>\n",
              "      <th>new_confirmed</th>\n",
              "      <th>new_untracked</th>\n",
              "      <th>new_no_paths</th>\n",
              "      <th>is_holiday</th>\n",
              "      <th>is_weekend</th>\n",
              "      <th>gov_policy</th>\n",
              "    </tr>\n",
              "    <tr>\n",
              "      <th>date</th>\n",
              "      <th></th>\n",
              "      <th></th>\n",
              "      <th></th>\n",
              "      <th></th>\n",
              "      <th></th>\n",
              "      <th></th>\n",
              "    </tr>\n",
              "  </thead>\n",
              "  <tbody>\n",
              "    <tr>\n",
              "      <th>2020-01-24</th>\n",
              "      <td>1</td>\n",
              "      <td>0</td>\n",
              "      <td>0.0</td>\n",
              "      <td>1</td>\n",
              "      <td>1</td>\n",
              "      <td>0</td>\n",
              "    </tr>\n",
              "    <tr>\n",
              "      <th>2020-01-25</th>\n",
              "      <td>0</td>\n",
              "      <td>0</td>\n",
              "      <td>0.0</td>\n",
              "      <td>1</td>\n",
              "      <td>1</td>\n",
              "      <td>0</td>\n",
              "    </tr>\n",
              "    <tr>\n",
              "      <th>2020-01-26</th>\n",
              "      <td>0</td>\n",
              "      <td>0</td>\n",
              "      <td>0.0</td>\n",
              "      <td>1</td>\n",
              "      <td>1</td>\n",
              "      <td>0</td>\n",
              "    </tr>\n",
              "    <tr>\n",
              "      <th>2020-01-27</th>\n",
              "      <td>0</td>\n",
              "      <td>0</td>\n",
              "      <td>0.0</td>\n",
              "      <td>0</td>\n",
              "      <td>0</td>\n",
              "      <td>0</td>\n",
              "    </tr>\n",
              "    <tr>\n",
              "      <th>2020-01-28</th>\n",
              "      <td>0</td>\n",
              "      <td>0</td>\n",
              "      <td>0.0</td>\n",
              "      <td>0</td>\n",
              "      <td>0</td>\n",
              "      <td>0</td>\n",
              "    </tr>\n",
              "  </tbody>\n",
              "</table>\n",
              "</div>"
            ],
            "text/plain": [
              "            new_confirmed  new_untracked  ...  is_weekend  gov_policy\n",
              "date                                      ...                        \n",
              "2020-01-24              1              0  ...           1           0\n",
              "2020-01-25              0              0  ...           1           0\n",
              "2020-01-26              0              0  ...           1           0\n",
              "2020-01-27              0              0  ...           0           0\n",
              "2020-01-28              0              0  ...           0           0\n",
              "\n",
              "[5 rows x 6 columns]"
            ]
          },
          "metadata": {
            "tags": []
          },
          "execution_count": 5
        }
      ]
    },
    {
      "cell_type": "code",
      "metadata": {
        "id": "GmuWhLq3aDbJ",
        "outputId": "f76b23ff-7a13-4ad2-abbd-9b7390e7628d",
        "colab": {
          "base_uri": "https://localhost:8080/",
          "height": 228
        }
      },
      "source": [
        "df.tail()"
      ],
      "execution_count": 6,
      "outputs": [
        {
          "output_type": "execute_result",
          "data": {
            "text/html": [
              "<div>\n",
              "<style scoped>\n",
              "    .dataframe tbody tr th:only-of-type {\n",
              "        vertical-align: middle;\n",
              "    }\n",
              "\n",
              "    .dataframe tbody tr th {\n",
              "        vertical-align: top;\n",
              "    }\n",
              "\n",
              "    .dataframe thead th {\n",
              "        text-align: right;\n",
              "    }\n",
              "</style>\n",
              "<table border=\"1\" class=\"dataframe\">\n",
              "  <thead>\n",
              "    <tr style=\"text-align: right;\">\n",
              "      <th></th>\n",
              "      <th>new_confirmed</th>\n",
              "      <th>new_untracked</th>\n",
              "      <th>new_no_paths</th>\n",
              "      <th>is_holiday</th>\n",
              "      <th>is_weekend</th>\n",
              "      <th>gov_policy</th>\n",
              "    </tr>\n",
              "    <tr>\n",
              "      <th>date</th>\n",
              "      <th></th>\n",
              "      <th></th>\n",
              "      <th></th>\n",
              "      <th></th>\n",
              "      <th></th>\n",
              "      <th></th>\n",
              "    </tr>\n",
              "  </thead>\n",
              "  <tbody>\n",
              "    <tr>\n",
              "      <th>2020-09-27</th>\n",
              "      <td>18</td>\n",
              "      <td>2</td>\n",
              "      <td>4.0</td>\n",
              "      <td>0</td>\n",
              "      <td>1</td>\n",
              "      <td>2</td>\n",
              "    </tr>\n",
              "    <tr>\n",
              "      <th>2020-09-28</th>\n",
              "      <td>26</td>\n",
              "      <td>9</td>\n",
              "      <td>9.0</td>\n",
              "      <td>0</td>\n",
              "      <td>0</td>\n",
              "      <td>2</td>\n",
              "    </tr>\n",
              "    <tr>\n",
              "      <th>2020-09-29</th>\n",
              "      <td>36</td>\n",
              "      <td>4</td>\n",
              "      <td>2.0</td>\n",
              "      <td>0</td>\n",
              "      <td>0</td>\n",
              "      <td>2</td>\n",
              "    </tr>\n",
              "    <tr>\n",
              "      <th>2020-09-30</th>\n",
              "      <td>30</td>\n",
              "      <td>6</td>\n",
              "      <td>9.0</td>\n",
              "      <td>1</td>\n",
              "      <td>0</td>\n",
              "      <td>2</td>\n",
              "    </tr>\n",
              "    <tr>\n",
              "      <th>2020-10-01</th>\n",
              "      <td>11</td>\n",
              "      <td>3</td>\n",
              "      <td>3.0</td>\n",
              "      <td>1</td>\n",
              "      <td>0</td>\n",
              "      <td>2</td>\n",
              "    </tr>\n",
              "  </tbody>\n",
              "</table>\n",
              "</div>"
            ],
            "text/plain": [
              "            new_confirmed  new_untracked  ...  is_weekend  gov_policy\n",
              "date                                      ...                        \n",
              "2020-09-27             18              2  ...           1           2\n",
              "2020-09-28             26              9  ...           0           2\n",
              "2020-09-29             36              4  ...           0           2\n",
              "2020-09-30             30              6  ...           0           2\n",
              "2020-10-01             11              3  ...           0           2\n",
              "\n",
              "[5 rows x 6 columns]"
            ]
          },
          "metadata": {
            "tags": []
          },
          "execution_count": 6
        }
      ]
    },
    {
      "cell_type": "code",
      "metadata": {
        "id": "ns-8GDY-abLD",
        "outputId": "c219fc1a-6c57-4461-9ba3-30674456a8ab",
        "colab": {
          "base_uri": "https://localhost:8080/",
          "height": 52
        }
      },
      "source": [
        "%matplotlib inline\n",
        "import matplotlib.pyplot as plt\n",
        "import tensorflow as tf\n",
        "import os\n",
        "from sklearn.preprocessing import MinMaxScaler\n",
        "\n",
        "from tensorflow.keras.models import Sequential\n",
        "from tensorflow.keras.layers import Input, Dense, GRU, Embedding\n",
        "from tensorflow.keras.optimizers import RMSprop\n",
        "from tensorflow.keras.callbacks import EarlyStopping, ModelCheckpoint, TensorBoard, ReduceLROnPlateau\n",
        "from tensorflow.keras.backend import square, mean\n",
        "\n",
        "print(tf.keras.__version__)\n",
        "print(tf.__version__)"
      ],
      "execution_count": 7,
      "outputs": [
        {
          "output_type": "stream",
          "text": [
            "2.4.0\n",
            "2.3.0\n"
          ],
          "name": "stdout"
        }
      ]
    },
    {
      "cell_type": "code",
      "metadata": {
        "id": "LAirwKe5w3zz",
        "outputId": "900f8e86-73c6-41b5-da14-f9979395d505",
        "colab": {
          "base_uri": "https://localhost:8080/",
          "height": 530
        }
      },
      "source": [
        "plot_cols = ['new_confirmed', 'new_untracked', 'new_no_paths']\n",
        "plot_features = df[plot_cols]\n",
        "_ = plot_features.plot(subplots=True, figsize=(16,9))"
      ],
      "execution_count": 8,
      "outputs": [
        {
          "output_type": "display_data",
          "data": {
            "image/png": "[encoded data removed]",
            "text/plain": [
              "<Figure size 1152x648 with 3 Axes>"
            ]
          },
          "metadata": {
            "tags": [],
            "needs_background": "light"
          }
        }
      ]
    },
    {
      "cell_type": "code",
      "metadata": {
        "id": "yjf4-h4QxXgF",
        "outputId": "10a608e6-577c-44ca-f56a-1034a87efb6a",
        "colab": {
          "base_uri": "https://localhost:8080/",
          "height": 228
        }
      },
      "source": [
        "df.describe().transpose()"
      ],
      "execution_count": 9,
      "outputs": [
        {
          "output_type": "execute_result",
          "data": {
            "text/html": [
              "<div>\n",
              "<style scoped>\n",
              "    .dataframe tbody tr th:only-of-type {\n",
              "        vertical-align: middle;\n",
              "    }\n",
              "\n",
              "    .dataframe tbody tr th {\n",
              "        vertical-align: top;\n",
              "    }\n",
              "\n",
              "    .dataframe thead th {\n",
              "        text-align: right;\n",
              "    }\n",
              "</style>\n",
              "<table border=\"1\" class=\"dataframe\">\n",
              "  <thead>\n",
              "    <tr style=\"text-align: right;\">\n",
              "      <th></th>\n",
              "      <th>count</th>\n",
              "      <th>mean</th>\n",
              "      <th>std</th>\n",
              "      <th>min</th>\n",
              "      <th>25%</th>\n",
              "      <th>50%</th>\n",
              "      <th>75%</th>\n",
              "      <th>max</th>\n",
              "    </tr>\n",
              "  </thead>\n",
              "  <tbody>\n",
              "    <tr>\n",
              "      <th>new_confirmed</th>\n",
              "      <td>252.0</td>\n",
              "      <td>21.166667</td>\n",
              "      <td>33.082596</td>\n",
              "      <td>0.0</td>\n",
              "      <td>3.0</td>\n",
              "      <td>9.0</td>\n",
              "      <td>20.0</td>\n",
              "      <td>167.0</td>\n",
              "    </tr>\n",
              "    <tr>\n",
              "      <th>new_untracked</th>\n",
              "      <td>252.0</td>\n",
              "      <td>3.698413</td>\n",
              "      <td>7.511234</td>\n",
              "      <td>0.0</td>\n",
              "      <td>0.0</td>\n",
              "      <td>1.0</td>\n",
              "      <td>3.0</td>\n",
              "      <td>44.0</td>\n",
              "    </tr>\n",
              "    <tr>\n",
              "      <th>new_no_paths</th>\n",
              "      <td>252.0</td>\n",
              "      <td>3.535714</td>\n",
              "      <td>6.659229</td>\n",
              "      <td>0.0</td>\n",
              "      <td>0.0</td>\n",
              "      <td>1.0</td>\n",
              "      <td>3.0</td>\n",
              "      <td>36.0</td>\n",
              "    </tr>\n",
              "    <tr>\n",
              "      <th>is_holiday</th>\n",
              "      <td>252.0</td>\n",
              "      <td>0.039683</td>\n",
              "      <td>0.195601</td>\n",
              "      <td>0.0</td>\n",
              "      <td>0.0</td>\n",
              "      <td>0.0</td>\n",
              "      <td>0.0</td>\n",
              "      <td>1.0</td>\n",
              "    </tr>\n",
              "    <tr>\n",
              "      <th>is_weekend</th>\n",
              "      <td>252.0</td>\n",
              "      <td>0.428571</td>\n",
              "      <td>0.495856</td>\n",
              "      <td>0.0</td>\n",
              "      <td>0.0</td>\n",
              "      <td>0.0</td>\n",
              "      <td>1.0</td>\n",
              "      <td>1.0</td>\n",
              "    </tr>\n",
              "    <tr>\n",
              "      <th>gov_policy</th>\n",
              "      <td>252.0</td>\n",
              "      <td>0.476190</td>\n",
              "      <td>1.019447</td>\n",
              "      <td>0.0</td>\n",
              "      <td>0.0</td>\n",
              "      <td>0.0</td>\n",
              "      <td>0.0</td>\n",
              "      <td>3.0</td>\n",
              "    </tr>\n",
              "  </tbody>\n",
              "</table>\n",
              "</div>"
            ],
            "text/plain": [
              "               count       mean        std  min  25%  50%   75%    max\n",
              "new_confirmed  252.0  21.166667  33.082596  0.0  3.0  9.0  20.0  167.0\n",
              "new_untracked  252.0   3.698413   7.511234  0.0  0.0  1.0   3.0   44.0\n",
              "new_no_paths   252.0   3.535714   6.659229  0.0  0.0  1.0   3.0   36.0\n",
              "is_holiday     252.0   0.039683   0.195601  0.0  0.0  0.0   0.0    1.0\n",
              "is_weekend     252.0   0.428571   0.495856  0.0  0.0  0.0   1.0    1.0\n",
              "gov_policy     252.0   0.476190   1.019447  0.0  0.0  0.0   0.0    3.0"
            ]
          },
          "metadata": {
            "tags": []
          },
          "execution_count": 9
        }
      ]
    },
    {
      "cell_type": "code",
      "metadata": {
        "id": "3tszYPUvyInb"
      },
      "source": [
        "shift_days = 1\n",
        "shift_steps = shift_days * 5"
      ],
      "execution_count": 10,
      "outputs": []
    },
    {
      "cell_type": "code",
      "metadata": {
        "id": "jYPgN7qkMMRS"
      },
      "source": [
        "# column that we want to predict\n",
        "target_names = ['new_confirmed']\n",
        "df_targets = df[target_names]\n",
        "\n",
        "# shifting dataframe as much as steps\n",
        "df_targets = df_targets.shift(-shift_steps)"
      ],
      "execution_count": 11,
      "outputs": []
    },
    {
      "cell_type": "code",
      "metadata": {
        "id": "DYS4soq9ypn3",
        "outputId": "08f079d2-82b6-422e-b906-966ad9d5364e",
        "colab": {
          "base_uri": "https://localhost:8080/",
          "height": 228
        }
      },
      "source": [
        "# you can check that top 5 data is topped out\n",
        "df_targets.head()"
      ],
      "execution_count": 12,
      "outputs": [
        {
          "output_type": "execute_result",
          "data": {
            "text/html": [
              "<div>\n",
              "<style scoped>\n",
              "    .dataframe tbody tr th:only-of-type {\n",
              "        vertical-align: middle;\n",
              "    }\n",
              "\n",
              "    .dataframe tbody tr th {\n",
              "        vertical-align: top;\n",
              "    }\n",
              "\n",
              "    .dataframe thead th {\n",
              "        text-align: right;\n",
              "    }\n",
              "</style>\n",
              "<table border=\"1\" class=\"dataframe\">\n",
              "  <thead>\n",
              "    <tr style=\"text-align: right;\">\n",
              "      <th></th>\n",
              "      <th>new_confirmed</th>\n",
              "    </tr>\n",
              "    <tr>\n",
              "      <th>date</th>\n",
              "      <th></th>\n",
              "    </tr>\n",
              "  </thead>\n",
              "  <tbody>\n",
              "    <tr>\n",
              "      <th>2020-01-24</th>\n",
              "      <td>0.0</td>\n",
              "    </tr>\n",
              "    <tr>\n",
              "      <th>2020-01-25</th>\n",
              "      <td>3.0</td>\n",
              "    </tr>\n",
              "    <tr>\n",
              "      <th>2020-01-26</th>\n",
              "      <td>3.0</td>\n",
              "    </tr>\n",
              "    <tr>\n",
              "      <th>2020-01-27</th>\n",
              "      <td>0.0</td>\n",
              "    </tr>\n",
              "    <tr>\n",
              "      <th>2020-01-28</th>\n",
              "      <td>1.0</td>\n",
              "    </tr>\n",
              "  </tbody>\n",
              "</table>\n",
              "</div>"
            ],
            "text/plain": [
              "            new_confirmed\n",
              "date                     \n",
              "2020-01-24            0.0\n",
              "2020-01-25            3.0\n",
              "2020-01-26            3.0\n",
              "2020-01-27            0.0\n",
              "2020-01-28            1.0"
            ]
          },
          "metadata": {
            "tags": []
          },
          "execution_count": 12
        }
      ]
    },
    {
      "cell_type": "code",
      "metadata": {
        "id": "DQumLZjK4q59",
        "outputId": "e6a331c3-e46d-49bc-d361-3a12a96b2b04",
        "colab": {
          "base_uri": "https://localhost:8080/",
          "height": 378
        }
      },
      "source": [
        "df_targets.tail(10)"
      ],
      "execution_count": 13,
      "outputs": [
        {
          "output_type": "execute_result",
          "data": {
            "text/html": [
              "<div>\n",
              "<style scoped>\n",
              "    .dataframe tbody tr th:only-of-type {\n",
              "        vertical-align: middle;\n",
              "    }\n",
              "\n",
              "    .dataframe tbody tr th {\n",
              "        vertical-align: top;\n",
              "    }\n",
              "\n",
              "    .dataframe thead th {\n",
              "        text-align: right;\n",
              "    }\n",
              "</style>\n",
              "<table border=\"1\" class=\"dataframe\">\n",
              "  <thead>\n",
              "    <tr style=\"text-align: right;\">\n",
              "      <th></th>\n",
              "      <th>new_confirmed</th>\n",
              "    </tr>\n",
              "    <tr>\n",
              "      <th>date</th>\n",
              "      <th></th>\n",
              "    </tr>\n",
              "  </thead>\n",
              "  <tbody>\n",
              "    <tr>\n",
              "      <th>2020-09-22</th>\n",
              "      <td>18.0</td>\n",
              "    </tr>\n",
              "    <tr>\n",
              "      <th>2020-09-23</th>\n",
              "      <td>26.0</td>\n",
              "    </tr>\n",
              "    <tr>\n",
              "      <th>2020-09-24</th>\n",
              "      <td>36.0</td>\n",
              "    </tr>\n",
              "    <tr>\n",
              "      <th>2020-09-25</th>\n",
              "      <td>30.0</td>\n",
              "    </tr>\n",
              "    <tr>\n",
              "      <th>2020-09-26</th>\n",
              "      <td>11.0</td>\n",
              "    </tr>\n",
              "    <tr>\n",
              "      <th>2020-09-27</th>\n",
              "      <td>NaN</td>\n",
              "    </tr>\n",
              "    <tr>\n",
              "      <th>2020-09-28</th>\n",
              "      <td>NaN</td>\n",
              "    </tr>\n",
              "    <tr>\n",
              "      <th>2020-09-29</th>\n",
              "      <td>NaN</td>\n",
              "    </tr>\n",
              "    <tr>\n",
              "      <th>2020-09-30</th>\n",
              "      <td>NaN</td>\n",
              "    </tr>\n",
              "    <tr>\n",
              "      <th>2020-10-01</th>\n",
              "      <td>NaN</td>\n",
              "    </tr>\n",
              "  </tbody>\n",
              "</table>\n",
              "</div>"
            ],
            "text/plain": [
              "            new_confirmed\n",
              "date                     \n",
              "2020-09-22           18.0\n",
              "2020-09-23           26.0\n",
              "2020-09-24           36.0\n",
              "2020-09-25           30.0\n",
              "2020-09-26           11.0\n",
              "2020-09-27            NaN\n",
              "2020-09-28            NaN\n",
              "2020-09-29            NaN\n",
              "2020-09-30            NaN\n",
              "2020-10-01            NaN"
            ]
          },
          "metadata": {
            "tags": []
          },
          "execution_count": 13
        }
      ]
    },
    {
      "cell_type": "code",
      "metadata": {
        "id": "AJQKp05f28wz",
        "outputId": "296dac60-bce1-418e-e544-7efda9b88ba1",
        "colab": {
          "base_uri": "https://localhost:8080/",
          "height": 173
        }
      },
      "source": [
        "x_data = df.values[shift_steps:]\n",
        "print(type(x_data))\n",
        "print(\"Shape:\", x_data.shape)\n",
        "x_data"
      ],
      "execution_count": 14,
      "outputs": [
        {
          "output_type": "stream",
          "text": [
            "<class 'numpy.ndarray'>\n",
            "Shape: (247, 6)\n"
          ],
          "name": "stdout"
        },
        {
          "output_type": "execute_result",
          "data": {
            "text/plain": [
              "array([[ 0.,  0.,  0.,  0.,  0.,  0.],\n",
              "       [ 3.,  0.,  1.,  0.,  0.,  0.],\n",
              "       [ 3.,  0.,  2.,  0.,  1.,  0.],\n",
              "       ...,\n",
              "       [36.,  4.,  2.,  0.,  0.,  2.],\n",
              "       [30.,  6.,  9.,  1.,  0.,  2.],\n",
              "       [11.,  3.,  3.,  1.,  0.,  2.]])"
            ]
          },
          "metadata": {
            "tags": []
          },
          "execution_count": 14
        }
      ]
    },
    {
      "cell_type": "code",
      "metadata": {
        "id": "gIiV8SZP3A9g",
        "outputId": "27dcf1f7-c624-404f-929a-0074f5d381b1",
        "colab": {
          "base_uri": "https://localhost:8080/",
          "height": 52
        }
      },
      "source": [
        "y_data = df_targets.values[shift_steps:]\n",
        "print(type(y_data))\n",
        "print(\"Shape:\", y_data.shape)"
      ],
      "execution_count": 15,
      "outputs": [
        {
          "output_type": "stream",
          "text": [
            "<class 'numpy.ndarray'>\n",
            "Shape: (247, 1)\n"
          ],
          "name": "stdout"
        }
      ]
    },
    {
      "cell_type": "code",
      "metadata": {
        "id": "2CmiM1xh6L_h",
        "outputId": "21d061e4-6ce2-46f8-b96f-68a326cb9cda",
        "colab": {
          "base_uri": "https://localhost:8080/",
          "height": 35
        }
      },
      "source": [
        "num_data = len(x_data)\n",
        "num_data"
      ],
      "execution_count": 16,
      "outputs": [
        {
          "output_type": "execute_result",
          "data": {
            "text/plain": [
              "247"
            ]
          },
          "metadata": {
            "tags": []
          },
          "execution_count": 16
        }
      ]
    },
    {
      "cell_type": "code",
      "metadata": {
        "id": "UkHX3R3X6P97",
        "outputId": "5f7250a5-c8bc-4abc-ed3a-904e5f26e28c",
        "colab": {
          "base_uri": "https://localhost:8080/",
          "height": 35
        }
      },
      "source": [
        "# train_split = 0.9\n",
        "# num_train = int(train_split * num_data)\n",
        "num_train = num_data - 5\n",
        "num_train"
      ],
      "execution_count": 17,
      "outputs": [
        {
          "output_type": "execute_result",
          "data": {
            "text/plain": [
              "242"
            ]
          },
          "metadata": {
            "tags": []
          },
          "execution_count": 17
        }
      ]
    },
    {
      "cell_type": "code",
      "metadata": {
        "id": "eeZQZc786YcG",
        "outputId": "48f6cc0f-3f97-470f-d32c-3b9f0035afb7",
        "colab": {
          "base_uri": "https://localhost:8080/",
          "height": 35
        }
      },
      "source": [
        "num_test = num_data - num_train\n",
        "num_test"
      ],
      "execution_count": 18,
      "outputs": [
        {
          "output_type": "execute_result",
          "data": {
            "text/plain": [
              "5"
            ]
          },
          "metadata": {
            "tags": []
          },
          "execution_count": 18
        }
      ]
    },
    {
      "cell_type": "code",
      "metadata": {
        "id": "T3C7FQfj6ZiS",
        "outputId": "15b4914f-389b-434e-f71a-36f90ff02f08",
        "colab": {
          "base_uri": "https://localhost:8080/",
          "height": 35
        }
      },
      "source": [
        "x_train = x_data[0:num_train]\n",
        "x_test = x_data[num_train:]\n",
        "len(x_train) + len(x_test)\n"
      ],
      "execution_count": 19,
      "outputs": [
        {
          "output_type": "execute_result",
          "data": {
            "text/plain": [
              "247"
            ]
          },
          "metadata": {
            "tags": []
          },
          "execution_count": 19
        }
      ]
    },
    {
      "cell_type": "code",
      "metadata": {
        "id": "3npQVM1I6b-d",
        "outputId": "7f1d7890-4590-453e-a4c2-d7d3de66d31c",
        "colab": {
          "base_uri": "https://localhost:8080/",
          "height": 35
        }
      },
      "source": [
        "y_train = y_data[0:num_train]\n",
        "y_test = y_data[num_train:]\n",
        "len(y_train) + len(y_test)"
      ],
      "execution_count": 20,
      "outputs": [
        {
          "output_type": "execute_result",
          "data": {
            "text/plain": [
              "247"
            ]
          },
          "metadata": {
            "tags": []
          },
          "execution_count": 20
        }
      ]
    },
    {
      "cell_type": "code",
      "metadata": {
        "id": "xb_k664R6ukd",
        "outputId": "c76b7947-0a0e-4271-85c3-bffe1c14effa",
        "colab": {
          "base_uri": "https://localhost:8080/",
          "height": 35
        }
      },
      "source": [
        "num_x_signals = x_data.shape[1]\n",
        "num_x_signals"
      ],
      "execution_count": 21,
      "outputs": [
        {
          "output_type": "execute_result",
          "data": {
            "text/plain": [
              "6"
            ]
          },
          "metadata": {
            "tags": []
          },
          "execution_count": 21
        }
      ]
    },
    {
      "cell_type": "code",
      "metadata": {
        "id": "MQtDMBve6wZO",
        "outputId": "9d967a7b-99b7-415b-aaed-4aa7d25e22a6",
        "colab": {
          "base_uri": "https://localhost:8080/",
          "height": 35
        }
      },
      "source": [
        "num_y_signals = y_data.shape[1]\n",
        "num_y_signals"
      ],
      "execution_count": 22,
      "outputs": [
        {
          "output_type": "execute_result",
          "data": {
            "text/plain": [
              "1"
            ]
          },
          "metadata": {
            "tags": []
          },
          "execution_count": 22
        }
      ]
    },
    {
      "cell_type": "code",
      "metadata": {
        "id": "kNJeuFFR68qQ",
        "outputId": "042d6cdf-70ff-45df-9922-12ce3b9b6f1b",
        "colab": {
          "base_uri": "https://localhost:8080/",
          "height": 138
        }
      },
      "source": [
        "x_train"
      ],
      "execution_count": 23,
      "outputs": [
        {
          "output_type": "execute_result",
          "data": {
            "text/plain": [
              "array([[ 0.,  0.,  0.,  0.,  0.,  0.],\n",
              "       [ 3.,  0.,  1.,  0.,  0.,  0.],\n",
              "       [ 3.,  0.,  2.,  0.,  1.,  0.],\n",
              "       ...,\n",
              "       [54.,  7., 10.,  0.,  0.,  2.],\n",
              "       [25.,  2.,  8.,  0.,  1.,  2.],\n",
              "       [35.,  8.,  5.,  0.,  1.,  2.]])"
            ]
          },
          "metadata": {
            "tags": []
          },
          "execution_count": 23
        }
      ]
    },
    {
      "cell_type": "code",
      "metadata": {
        "id": "LbKAKaKH6ygh"
      },
      "source": [
        "# Scaler Class that shrinks number in between 0 and 1 for the purpose of neuron input\n",
        "x_scaler = MinMaxScaler()"
      ],
      "execution_count": 24,
      "outputs": []
    },
    {
      "cell_type": "code",
      "metadata": {
        "id": "XWUFWIwm63j7",
        "outputId": "0739f201-d27a-4ffa-b6de-01e3c5f04062",
        "colab": {
          "base_uri": "https://localhost:8080/",
          "height": 52
        }
      },
      "source": [
        "print(\"Min:\", np.min(x_train))\n",
        "print(\"Max:\", np.max(x_train))"
      ],
      "execution_count": 25,
      "outputs": [
        {
          "output_type": "stream",
          "text": [
            "Min: 0.0\n",
            "Max: 167.0\n"
          ],
          "name": "stdout"
        }
      ]
    },
    {
      "cell_type": "code",
      "metadata": {
        "id": "PfEivhCH7PBg",
        "outputId": "25d4fb53-662b-4240-8266-02696489ef40",
        "colab": {
          "base_uri": "https://localhost:8080/",
          "height": 52
        }
      },
      "source": [
        "x_train_scaled = x_scaler.fit_transform(x_train)\n",
        "print(\"Min:\", np.min(x_train_scaled))\n",
        "print(\"Max:\", np.max(x_train_scaled))"
      ],
      "execution_count": 26,
      "outputs": [
        {
          "output_type": "stream",
          "text": [
            "Min: 0.0\n",
            "Max: 1.0\n"
          ],
          "name": "stdout"
        }
      ]
    },
    {
      "cell_type": "code",
      "metadata": {
        "id": "dKXS6N3JEL3S"
      },
      "source": [
        "x_test_scaled = x_scaler.transform(x_test)"
      ],
      "execution_count": 27,
      "outputs": []
    },
    {
      "cell_type": "code",
      "metadata": {
        "id": "x4QlkJ7eEO_n"
      },
      "source": [
        "y_scaler = MinMaxScaler()\n",
        "y_train_scaled = y_scaler.fit_transform(y_train)\n",
        "y_test_scaled = y_scaler.transform(y_test)"
      ],
      "execution_count": 28,
      "outputs": []
    },
    {
      "cell_type": "code",
      "metadata": {
        "id": "h-gnVNcJEQCh",
        "outputId": "fcbc78fa-5174-406b-8c11-81234ced041d",
        "colab": {
          "base_uri": "https://localhost:8080/",
          "height": 52
        }
      },
      "source": [
        "print(x_train_scaled.shape)\n",
        "print(y_train_scaled.shape)"
      ],
      "execution_count": 29,
      "outputs": [
        {
          "output_type": "stream",
          "text": [
            "(242, 6)\n",
            "(242, 1)\n"
          ],
          "name": "stdout"
        }
      ]
    },
    {
      "cell_type": "code",
      "metadata": {
        "id": "pEoQwWgbER_v"
      },
      "source": [
        "def batch_generator(batch_size, sequence_length):\n",
        "    \"\"\"\n",
        "    Generator function for creating random batches of training-data.\n",
        "    \"\"\"\n",
        "\n",
        "    # Infinite loop.\n",
        "    while True:\n",
        "        # Allocate a new array for the batch of input-signals.\n",
        "        x_shape = (batch_size, sequence_length, num_x_signals)\n",
        "        x_batch = np.zeros(shape=x_shape, dtype=np.float16)\n",
        "\n",
        "        # Allocate a new array for the batch of output-signals.\n",
        "        y_shape = (batch_size, sequence_length, num_y_signals)\n",
        "        y_batch = np.zeros(shape=y_shape, dtype=np.float16)\n",
        "\n",
        "        # Fill the batch with random sequences of data.\n",
        "        for i in range(batch_size):\n",
        "            # Get a random start-index.\n",
        "            # This points somewhere into the training-data.\n",
        "            idx = np.random.randint(num_train - sequence_length)\n",
        "            \n",
        "            # Copy the sequences of data starting at this index.\n",
        "            x_batch[i] = x_train_scaled[idx:idx+sequence_length]\n",
        "            y_batch[i] = y_train_scaled[idx:idx+sequence_length]\n",
        "        \n",
        "        yield (x_batch, y_batch)"
      ],
      "execution_count": 30,
      "outputs": []
    },
    {
      "cell_type": "code",
      "metadata": {
        "id": "P2pOkrFYET0j"
      },
      "source": [
        "batch_size = 256"
      ],
      "execution_count": 31,
      "outputs": []
    },
    {
      "cell_type": "code",
      "metadata": {
        "id": "0KUc3JKOEViw",
        "outputId": "c04ea1da-0920-470a-ebaa-8431864d790a",
        "colab": {
          "base_uri": "https://localhost:8080/",
          "height": 35
        }
      },
      "source": [
        "sequence_length = len(x_train_scaled) -1 \n",
        "sequence_length"
      ],
      "execution_count": 32,
      "outputs": [
        {
          "output_type": "execute_result",
          "data": {
            "text/plain": [
              "241"
            ]
          },
          "metadata": {
            "tags": []
          },
          "execution_count": 32
        }
      ]
    },
    {
      "cell_type": "code",
      "metadata": {
        "id": "4vVOeP7wEWDl"
      },
      "source": [
        "generator = batch_generator(batch_size=batch_size,\n",
        "                            sequence_length=sequence_length)"
      ],
      "execution_count": 33,
      "outputs": []
    },
    {
      "cell_type": "code",
      "metadata": {
        "id": "dLzNGzANEWGi"
      },
      "source": [
        "x_batch, y_batch = next(generator)"
      ],
      "execution_count": 34,
      "outputs": []
    },
    {
      "cell_type": "code",
      "metadata": {
        "id": "ph8HDh1lEWJJ",
        "outputId": "380f7e8a-7a11-4309-fec7-5e80d9689641",
        "colab": {
          "base_uri": "https://localhost:8080/",
          "height": 52
        }
      },
      "source": [
        "print(x_batch.shape)\n",
        "print(y_batch.shape)"
      ],
      "execution_count": 35,
      "outputs": [
        {
          "output_type": "stream",
          "text": [
            "(256, 241, 6)\n",
            "(256, 241, 1)\n"
          ],
          "name": "stdout"
        }
      ]
    },
    {
      "cell_type": "code",
      "metadata": {
        "id": "0QeSIvupEWLx",
        "outputId": "ee10bd8c-b170-474c-8899-adb5b7ec171f",
        "colab": {
          "base_uri": "https://localhost:8080/",
          "height": 282
        }
      },
      "source": [
        "batch = 0   # First sequence in the batch.\n",
        "signal = 0  # First signal from the 20 input-signals.\n",
        "seq = x_batch[batch, :, signal]\n",
        "plt.plot(seq)"
      ],
      "execution_count": 36,
      "outputs": [
        {
          "output_type": "execute_result",
          "data": {
            "text/plain": [
              "[<matplotlib.lines.Line2D at 0x7f87be47b7b8>]"
            ]
          },
          "metadata": {
            "tags": []
          },
          "execution_count": 36
        },
        {
          "output_type": "display_data",
          "data": {
            "image/png": "[encoded data removed]",
            "text/plain": [
              "<Figure size 432x288 with 1 Axes>"
            ]
          },
          "metadata": {
            "tags": [],
            "needs_background": "light"
          }
        }
      ]
    },
    {
      "cell_type": "code",
      "metadata": {
        "id": "B6tvaE3HEWNw",
        "outputId": "45b66e24-2ddc-4a9b-ab33-5e8d13545e96",
        "colab": {
          "base_uri": "https://localhost:8080/",
          "height": 282
        }
      },
      "source": [
        "seq = y_batch[batch, :, signal]\n",
        "plt.plot(seq)"
      ],
      "execution_count": 37,
      "outputs": [
        {
          "output_type": "execute_result",
          "data": {
            "text/plain": [
              "[<matplotlib.lines.Line2D at 0x7f87be45aba8>]"
            ]
          },
          "metadata": {
            "tags": []
          },
          "execution_count": 37
        },
        {
          "output_type": "display_data",
          "data": {
            "image/png": "[encoded data removed]",
            "text/plain": [
              "<Figure size 432x288 with 1 Axes>"
            ]
          },
          "metadata": {
            "tags": [],
            "needs_background": "light"
          }
        }
      ]
    },
    {
      "cell_type": "code",
      "metadata": {
        "id": "mlts8dSBFv0n"
      },
      "source": [
        "validation_data = (np.expand_dims(x_test_scaled, axis=0),\n",
        "                   np.expand_dims(y_test_scaled, axis=0))"
      ],
      "execution_count": 38,
      "outputs": []
    },
    {
      "cell_type": "code",
      "metadata": {
        "id": "Mpu8EyKgF1qd"
      },
      "source": [
        "model = Sequential()"
      ],
      "execution_count": 39,
      "outputs": []
    },
    {
      "cell_type": "code",
      "metadata": {
        "id": "HsnW25TOF3Tu"
      },
      "source": [
        "model.add(GRU(units=512,\n",
        "              return_sequences=True,\n",
        "              input_shape=(None, num_x_signals,)))"
      ],
      "execution_count": 40,
      "outputs": []
    },
    {
      "cell_type": "code",
      "metadata": {
        "id": "Abd_k8HsGOV5"
      },
      "source": [
        "model.add(Dense(num_y_signals, activation='sigmoid'))"
      ],
      "execution_count": 41,
      "outputs": []
    },
    {
      "cell_type": "code",
      "metadata": {
        "id": "hgQqz7JDGPdR"
      },
      "source": [
        "if False:\n",
        "    from tensorflow.python.keras.initializers import RandomUniform\n",
        "\n",
        "    # Maybe use lower init-ranges.\n",
        "    init = RandomUniform(minval=-0.05, maxval=0.05)\n",
        "\n",
        "    model.add(Dense(num_y_signals,\n",
        "                    activation='linear',\n",
        "                    kernel_initializer=init))"
      ],
      "execution_count": 42,
      "outputs": []
    },
    {
      "cell_type": "code",
      "metadata": {
        "id": "wVEuO7w_GQwx"
      },
      "source": [
        "# ignoring data range, based on time steps\n",
        "# warmup_steps = len(x_train) + len(x_test) - 16*7\n",
        "\n",
        "# 바이러스 V형, S형은 더이상 검출되지 않으므로, 이태원클럽 이후에 퍼진 GH형만 따져보자\n",
        "# 즉 이태원 이후의 데이터만 신경을 쓰기로 한다. 1월 24일 ~ 5월 2일 데이터는 무시\n",
        "warmup_steps = 100"
      ],
      "execution_count": 43,
      "outputs": []
    },
    {
      "cell_type": "code",
      "metadata": {
        "id": "qSE8R9YRGSXS"
      },
      "source": [
        "def loss_mse_warmup(y_true, y_pred):\n",
        "    \"\"\"\n",
        "    Calculate the Mean Squared Error between y_true and y_pred,\n",
        "    but ignore the beginning \"warmup\" part of the sequences.\n",
        "    \n",
        "    y_true is the desired output.\n",
        "    y_pred is the model's output.\n",
        "    \"\"\"\n",
        "\n",
        "    # The shape of both input tensors are:\n",
        "    # [batch_size, sequence_length, num_y_signals].\n",
        "\n",
        "    # Ignore the \"warmup\" parts of the sequences\n",
        "    # by taking slices of the tensors.\n",
        "    y_true_slice = y_true[:, warmup_steps:, :]\n",
        "    y_pred_slice = y_pred[:, warmup_steps:, :]\n",
        "\n",
        "    # These sliced tensors both have this shape:\n",
        "    # [batch_size, sequence_length - warmup_steps, num_y_signals]\n",
        "\n",
        "    # Calculat the Mean Squared Error and use it as loss.\n",
        "    mse = mean(square(y_true_slice - y_pred_slice))\n",
        "    \n",
        "    return mse"
      ],
      "execution_count": 44,
      "outputs": []
    },
    {
      "cell_type": "code",
      "metadata": {
        "id": "YaG7NvJ6GTNx"
      },
      "source": [
        "optimizer = RMSprop(lr=1e-3)"
      ],
      "execution_count": 45,
      "outputs": []
    },
    {
      "cell_type": "code",
      "metadata": {
        "id": "s5iPM7S-GUpf"
      },
      "source": [
        "model.compile(loss=loss_mse_warmup, optimizer=optimizer)"
      ],
      "execution_count": 46,
      "outputs": []
    },
    {
      "cell_type": "code",
      "metadata": {
        "id": "T5eEKCL8GVhS",
        "outputId": "7108f67a-09f4-42d8-84cc-eb66199711a4",
        "colab": {
          "base_uri": "https://localhost:8080/",
          "height": 225
        }
      },
      "source": [
        "model.summary()"
      ],
      "execution_count": 47,
      "outputs": [
        {
          "output_type": "stream",
          "text": [
            "Model: \"sequential\"\n",
            "_________________________________________________________________\n",
            "Layer (type)                 Output Shape              Param #   \n",
            "=================================================================\n",
            "gru (GRU)                    (None, None, 512)         798720    \n",
            "_________________________________________________________________\n",
            "dense (Dense)                (None, None, 1)           513       \n",
            "=================================================================\n",
            "Total params: 799,233\n",
            "Trainable params: 799,233\n",
            "Non-trainable params: 0\n",
            "_________________________________________________________________\n"
          ],
          "name": "stdout"
        }
      ]
    },
    {
      "cell_type": "code",
      "metadata": {
        "id": "LP57S1KvGWdQ"
      },
      "source": [
        "path_checkpoint = '/content/covid19_unknown_spread/23_checkpoint.keras'\n",
        "callback_checkpoint = ModelCheckpoint(filepath=path_checkpoint,\n",
        "                                      monitor='val_loss',\n",
        "                                      verbose=1,\n",
        "                                      save_weights_only=True,\n",
        "                                      save_best_only=True)"
      ],
      "execution_count": 48,
      "outputs": []
    },
    {
      "cell_type": "code",
      "metadata": {
        "id": "1cMHbS3ZGZDN"
      },
      "source": [
        "callback_early_stopping = EarlyStopping(monitor='val_loss',\n",
        "                                        patience=10, verbose=1) # stop when result is not improved for 10 epochs"
      ],
      "execution_count": 49,
      "outputs": []
    },
    {
      "cell_type": "code",
      "metadata": {
        "id": "M2_7bPQdGaGK"
      },
      "source": [
        "callback_tensorboard = TensorBoard(log_dir='./23_logs/',\n",
        "                                   histogram_freq=0,\n",
        "                                   write_graph=False)"
      ],
      "execution_count": 50,
      "outputs": []
    },
    {
      "cell_type": "code",
      "metadata": {
        "id": "CetglKPlGa44"
      },
      "source": [
        "callback_reduce_lr = ReduceLROnPlateau(monitor='val_loss',\n",
        "                                       factor=0.1,\n",
        "                                       min_lr=1e-3,# minimum learning rate\n",
        "                                       patience=0,\n",
        "                                       verbose=1)"
      ],
      "execution_count": 51,
      "outputs": []
    },
    {
      "cell_type": "code",
      "metadata": {
        "id": "mwSfEPGWGb2z"
      },
      "source": [
        "callbacks = [callback_early_stopping,\n",
        "             callback_checkpoint,\n",
        "             callback_tensorboard,\n",
        "             callback_reduce_lr]"
      ],
      "execution_count": 52,
      "outputs": []
    },
    {
      "cell_type": "code",
      "metadata": {
        "id": "QDw1GWFUGc2u",
        "outputId": "9c0a228f-e0b7-4b21-b6a6-32bd64e70ace",
        "colab": {
          "base_uri": "https://localhost:8080/",
          "height": 1000
        }
      },
      "source": [
        "%%time\n",
        "model.fit(x=generator,\n",
        "          epochs=20,\n",
        "          steps_per_epoch=100,\n",
        "          validation_data=validation_data,\n",
        "          callbacks=callbacks)"
      ],
      "execution_count": 53,
      "outputs": [
        {
          "output_type": "stream",
          "text": [
            "Epoch 1/20\n",
            "  1/100 [..............................] - ETA: 0s - loss: 0.1507WARNING:tensorflow:From /usr/local/lib/python3.6/dist-packages/tensorflow/python/ops/summary_ops_v2.py:1277: stop (from tensorflow.python.eager.profiler) is deprecated and will be removed after 2020-07-01.\n",
            "Instructions for updating:\n",
            "use `tf.profiler.experimental.stop` instead.\n",
            "  2/100 [..............................] - ETA: 7s - loss: 0.1233WARNING:tensorflow:Callbacks method `on_train_batch_end` is slow compared to the batch time (batch time: 0.0454s vs `on_train_batch_end` time: 0.1091s). Check your callbacks.\n",
            "100/100 [==============================] - ETA: 0s - loss: 0.0310\n",
            "Epoch 00001: val_loss did not improve from inf\n",
            "\n",
            "Epoch 00001: ReduceLROnPlateau reducing learning rate to 0.001.\n",
            "100/100 [==============================] - 5s 52ms/step - loss: 0.0310 - val_loss: nan\n",
            "Epoch 2/20\n",
            " 99/100 [============================>.] - ETA: 0s - loss: 0.0204\n",
            "Epoch 00002: val_loss did not improve from inf\n",
            "\n",
            "Epoch 00002: ReduceLROnPlateau reducing learning rate to 0.001.\n",
            "100/100 [==============================] - 5s 46ms/step - loss: 0.0204 - val_loss: nan\n",
            "Epoch 3/20\n",
            "100/100 [==============================] - ETA: 0s - loss: 0.0189\n",
            "Epoch 00003: val_loss did not improve from inf\n",
            "\n",
            "Epoch 00003: ReduceLROnPlateau reducing learning rate to 0.001.\n",
            "100/100 [==============================] - 5s 46ms/step - loss: 0.0189 - val_loss: nan\n",
            "Epoch 4/20\n",
            "100/100 [==============================] - ETA: 0s - loss: 0.0177\n",
            "Epoch 00004: val_loss did not improve from inf\n",
            "\n",
            "Epoch 00004: ReduceLROnPlateau reducing learning rate to 0.001.\n",
            "100/100 [==============================] - 5s 46ms/step - loss: 0.0177 - val_loss: nan\n",
            "Epoch 5/20\n",
            "100/100 [==============================] - ETA: 0s - loss: 0.0085\n",
            "Epoch 00005: val_loss did not improve from inf\n",
            "\n",
            "Epoch 00005: ReduceLROnPlateau reducing learning rate to 0.001.\n",
            "100/100 [==============================] - 5s 46ms/step - loss: 0.0085 - val_loss: nan\n",
            "Epoch 6/20\n",
            "100/100 [==============================] - ETA: 0s - loss: 0.0127\n",
            "Epoch 00006: val_loss did not improve from inf\n",
            "\n",
            "Epoch 00006: ReduceLROnPlateau reducing learning rate to 0.001.\n",
            "100/100 [==============================] - 5s 46ms/step - loss: 0.0127 - val_loss: nan\n",
            "Epoch 7/20\n",
            " 99/100 [============================>.] - ETA: 0s - loss: 0.0033\n",
            "Epoch 00007: val_loss did not improve from inf\n",
            "\n",
            "Epoch 00007: ReduceLROnPlateau reducing learning rate to 0.001.\n",
            "100/100 [==============================] - 5s 46ms/step - loss: 0.0033 - val_loss: nan\n",
            "Epoch 8/20\n",
            " 99/100 [============================>.] - ETA: 0s - loss: 0.0022\n",
            "Epoch 00008: val_loss did not improve from inf\n",
            "\n",
            "Epoch 00008: ReduceLROnPlateau reducing learning rate to 0.001.\n",
            "100/100 [==============================] - 5s 46ms/step - loss: 0.0022 - val_loss: nan\n",
            "Epoch 9/20\n",
            " 99/100 [============================>.] - ETA: 0s - loss: 0.0016\n",
            "Epoch 00009: val_loss did not improve from inf\n",
            "\n",
            "Epoch 00009: ReduceLROnPlateau reducing learning rate to 0.001.\n",
            "100/100 [==============================] - 5s 47ms/step - loss: 0.0016 - val_loss: nan\n",
            "Epoch 10/20\n",
            " 99/100 [============================>.] - ETA: 0s - loss: 0.0015\n",
            "Epoch 00010: val_loss did not improve from inf\n",
            "\n",
            "Epoch 00010: ReduceLROnPlateau reducing learning rate to 0.001.\n",
            "100/100 [==============================] - 5s 47ms/step - loss: 0.0014 - val_loss: nan\n",
            "Epoch 00010: early stopping\n",
            "CPU times: user 48.8 s, sys: 8.99 s, total: 57.8 s\n",
            "Wall time: 55.6 s\n"
          ],
          "name": "stdout"
        },
        {
          "output_type": "execute_result",
          "data": {
            "text/plain": [
              "<tensorflow.python.keras.callbacks.History at 0x7f87b020c358>"
            ]
          },
          "metadata": {
            "tags": []
          },
          "execution_count": 53
        }
      ]
    },
    {
      "cell_type": "code",
      "metadata": {
        "id": "zgE_MB_ppSV3",
        "outputId": "a170f8b3-754c-4777-cdb4-d5e902998c00",
        "colab": {
          "base_uri": "https://localhost:8080/",
          "height": 52
        }
      },
      "source": [
        "%reset plot_comparison"
      ],
      "execution_count": 61,
      "outputs": [
        {
          "output_type": "stream",
          "text": [
            "Once deleted, variables cannot be recovered. Proceed (y/[n])? y\n",
            "Don't know how to reset  plot_comparison, please run `%reset?` for details\n"
          ],
          "name": "stdout"
        }
      ]
    },
    {
      "cell_type": "code",
      "metadata": {
        "id": "rfeAzPNIGn0D"
      },
      "source": [
        "def plot_comparison_train(start_idx, length=100, train=True):\n",
        "    \"\"\"\n",
        "    Plot the predicted and true output-signals.\n",
        "    \n",
        "    :param start_idx: Start-index for the time-series.\n",
        "    :param length: Sequence-length to process and plot.\n",
        "    :param train: Boolean whether to use training- or test-set.\n",
        "    \"\"\"\n",
        "    \n",
        "    if train:\n",
        "        # Use training-data.\n",
        "        x = x_train_scaled\n",
        "        y_true = y_train\n",
        "    if not train:\n",
        "        # Use test-data.\n",
        "        x = x_test_scaled\n",
        "        y_true = y_test\n",
        "    \n",
        "    # End-index for the sequences.\n",
        "    end_idx = start_idx + length\n",
        "    \n",
        "    # Select the sequences from the given start-index and\n",
        "    # of the given length.\n",
        "    x = x[start_idx:end_idx]\n",
        "    y_true = y_true[start_idx:end_idx]\n",
        "    \n",
        "    # Input-signals for the model.\n",
        "    x = np.expand_dims(x, axis=0)\n",
        "\n",
        "    # Use the model to predict the output-signals.\n",
        "    y_pred = model.predict(x)\n",
        "    \n",
        "    # The output of the model is between 0 and 1.\n",
        "    # Do an inverse map to get it back to the scale\n",
        "    # of the original data-set.\n",
        "    y_pred_rescaled = y_scaler.inverse_transform(y_pred[0])\n",
        "    # print(len(y_pred_rescaled))\n",
        "\n",
        "    if train:\n",
        "      # 바이러스 V형, S형은 더이상 검출되지 않으므로, 이태원클럽 이후에 퍼진 GH형만 따져보자\n",
        "      # 즉 이태원 이후의 데이터만 신경을 쓰기로 한다. 1월 24일 ~ 5월 2일 데이터는 무시\n",
        "      warmup_steps = 100\n",
        "    if not train:\n",
        "      warmup_steps = 0\n",
        "    \n",
        "    # For each output-signal.\n",
        "    for signal in range(len(target_names)):\n",
        "        # Get the output-signal predicted by the model.\n",
        "        signal_pred = y_pred_rescaled[:, signal]\n",
        "        \n",
        "        # Get the true output-signal from the data-set.\n",
        "        # print(signal)\n",
        "        signal_true = y_true[:, signal]\n",
        "\n",
        "        # Make the plotting-canvas bigger.\n",
        "        plt.figure(figsize=(15,5))\n",
        "        \n",
        "        # Plot and compare the two signals.\n",
        "        plt.plot(signal_true, label='true')\n",
        "        plt.plot(signal_pred, label='pred')\n",
        "        \n",
        "        # Plot grey box for warmup-period.\n",
        "        p = plt.axvspan(0, warmup_steps, facecolor='black', alpha=0.15)\n",
        "        \n",
        "        # Plot labels etc.\n",
        "        plt.ylabel(target_names[signal])\n",
        "        plt.legend()\n",
        "        plt.show()\n",
        "    return y_pred_rescaled"
      ],
      "execution_count": 62,
      "outputs": []
    },
    {
      "cell_type": "code",
      "metadata": {
        "id": "u3DogFygGrdD",
        "outputId": "0b5a82ee-7693-481e-afc3-9754dd28b81b",
        "colab": {
          "base_uri": "https://localhost:8080/",
          "height": 1000
        }
      },
      "source": [
        "plot_comparison_train(start_idx=0, length=len(x_data), train=True)"
      ],
      "execution_count": 63,
      "outputs": [
        {
          "output_type": "display_data",
          "data": {
            "image/png": "[encoded data removed]",
            "text/plain": [
              "<Figure size 1080x360 with 1 Axes>"
            ]
          },
          "metadata": {
            "tags": [],
            "needs_background": "light"
          }
        },
        {
          "output_type": "execute_result",
          "data": {
            "text/plain": [
              "array([[ 49.71191   ],\n",
              "       [ 34.115967  ],\n",
              "       [ 18.540897  ],\n",
              "       [ 15.5318985 ],\n",
              "       [  7.6682    ],\n",
              "       [  5.294399  ],\n",
              "       [  1.8662868 ],\n",
              "       [  2.6262975 ],\n",
              "       [  4.168559  ],\n",
              "       [  4.9133224 ],\n",
              "       [  5.870222  ],\n",
              "       [  3.7703302 ],\n",
              "       [  2.5542762 ],\n",
              "       [  1.0155014 ],\n",
              "       [  1.830226  ],\n",
              "       [  3.737979  ],\n",
              "       [  4.346132  ],\n",
              "       [  5.8192573 ],\n",
              "       [  5.779109  ],\n",
              "       [  5.9477816 ],\n",
              "       [  2.5243053 ],\n",
              "       [  4.8335347 ],\n",
              "       [ 11.33966   ],\n",
              "       [ 10.87665   ],\n",
              "       [ 13.757309  ],\n",
              "       [ 17.553064  ],\n",
              "       [ 26.091356  ],\n",
              "       [ 32.46097   ],\n",
              "       [ 38.171837  ],\n",
              "       [ 27.945358  ],\n",
              "       [ 21.747055  ],\n",
              "       [ 18.814135  ],\n",
              "       [ 11.990044  ],\n",
              "       [  8.379252  ],\n",
              "       [  1.2941456 ],\n",
              "       [  1.8980665 ],\n",
              "       [  1.9373336 ],\n",
              "       [  5.211842  ],\n",
              "       [ 14.402808  ],\n",
              "       [ 15.889807  ],\n",
              "       [ 38.403244  ],\n",
              "       [ 40.611763  ],\n",
              "       [ 50.840626  ],\n",
              "       [ 29.634203  ],\n",
              "       [ 14.442538  ],\n",
              "       [ 16.025764  ],\n",
              "       [  8.73501   ],\n",
              "       [  4.6569757 ],\n",
              "       [  1.2490289 ],\n",
              "       [  1.738127  ],\n",
              "       [  4.3330874 ],\n",
              "       [ 10.777273  ],\n",
              "       [ 15.470112  ],\n",
              "       [ 19.92573   ],\n",
              "       [ 41.08683   ],\n",
              "       [ 26.892704  ],\n",
              "       [ 34.69274   ],\n",
              "       [ 24.322355  ],\n",
              "       [ 12.931536  ],\n",
              "       [ 16.006378  ],\n",
              "       [ 10.97656   ],\n",
              "       [  5.928157  ],\n",
              "       [  2.277753  ],\n",
              "       [  2.6943362 ],\n",
              "       [  4.566225  ],\n",
              "       [ 12.167929  ],\n",
              "       [ 30.336802  ],\n",
              "       [ 43.44019   ],\n",
              "       [116.30609   ],\n",
              "       [ 80.77392   ],\n",
              "       [ 96.399895  ],\n",
              "       [ 85.58558   ],\n",
              "       [ 39.326126  ],\n",
              "       [ 23.588833  ],\n",
              "       [  9.532569  ],\n",
              "       [  4.5075994 ],\n",
              "       [  1.2308804 ],\n",
              "       [  1.2013245 ],\n",
              "       [  2.0189545 ],\n",
              "       [  3.5022836 ],\n",
              "       [  5.1178875 ],\n",
              "       [  3.2786324 ],\n",
              "       [  2.0109928 ],\n",
              "       [  0.73684466],\n",
              "       [  1.2127438 ],\n",
              "       [  2.5234957 ],\n",
              "       [  3.5100186 ],\n",
              "       [  4.824385  ],\n",
              "       [  3.5127213 ],\n",
              "       [  3.198087  ],\n",
              "       [  1.2738104 ],\n",
              "       [  2.2112463 ],\n",
              "       [  3.3728664 ],\n",
              "       [  6.294315  ],\n",
              "       [  4.224764  ],\n",
              "       [  3.0105526 ],\n",
              "       [  2.4040105 ],\n",
              "       [  1.065925  ],\n",
              "       [  3.8492854 ],\n",
              "       [  2.5631592 ],\n",
              "       [  4.7067647 ],\n",
              "       [  9.466434  ],\n",
              "       [  9.778109  ],\n",
              "       [ 15.870199  ],\n",
              "       [  7.490244  ],\n",
              "       [  8.6753025 ],\n",
              "       [  9.306577  ],\n",
              "       [  8.516084  ],\n",
              "       [  9.092124  ],\n",
              "       [  5.2863393 ],\n",
              "       [  3.6426232 ],\n",
              "       [  1.4131632 ],\n",
              "       [  2.3583999 ],\n",
              "       [  4.1097684 ],\n",
              "       [  4.8048325 ],\n",
              "       [  7.4040604 ],\n",
              "       [  6.677423  ],\n",
              "       [  7.838055  ],\n",
              "       [  6.588701  ],\n",
              "       [ 14.963825  ],\n",
              "       [ 18.43217   ],\n",
              "       [ 12.985582  ],\n",
              "       [ 13.801953  ],\n",
              "       [ 12.072455  ],\n",
              "       [ 12.677313  ],\n",
              "       [  7.5697503 ],\n",
              "       [ 10.58259   ],\n",
              "       [ 13.079982  ],\n",
              "       [ 15.285987  ],\n",
              "       [ 19.20983   ],\n",
              "       [ 28.013243  ],\n",
              "       [ 13.302194  ],\n",
              "       [  8.955195  ],\n",
              "       [ 11.555077  ],\n",
              "       [ 15.411715  ],\n",
              "       [ 20.854145  ],\n",
              "       [ 20.283958  ],\n",
              "       [ 19.353271  ],\n",
              "       [ 20.241352  ],\n",
              "       [ 10.012904  ],\n",
              "       [ 14.704973  ],\n",
              "       [ 15.554726  ],\n",
              "       [ 14.858775  ],\n",
              "       [ 17.513674  ],\n",
              "       [ 16.127607  ],\n",
              "       [ 14.311672  ],\n",
              "       [  6.1905785 ],\n",
              "       [  7.1837044 ],\n",
              "       [ 10.936134  ],\n",
              "       [  8.3760605 ],\n",
              "       [ 10.464316  ],\n",
              "       [  9.445638  ],\n",
              "       [  7.6584473 ],\n",
              "       [  3.3266163 ],\n",
              "       [  5.9217205 ],\n",
              "       [  8.770145  ],\n",
              "       [  8.136214  ],\n",
              "       [ 12.608709  ],\n",
              "       [ 11.053436  ],\n",
              "       [ 11.53528   ],\n",
              "       [  5.827525  ],\n",
              "       [  7.2319794 ],\n",
              "       [  8.659039  ],\n",
              "       [  8.776962  ],\n",
              "       [ 12.110808  ],\n",
              "       [ 13.10799   ],\n",
              "       [ 13.198021  ],\n",
              "       [  5.45482   ],\n",
              "       [  7.5963783 ],\n",
              "       [  8.234783  ],\n",
              "       [  7.127268  ],\n",
              "       [ 11.199124  ],\n",
              "       [  8.94021   ],\n",
              "       [  9.425736  ],\n",
              "       [  4.862117  ],\n",
              "       [  8.574675  ],\n",
              "       [ 12.757836  ],\n",
              "       [  9.432549  ],\n",
              "       [ 11.080248  ],\n",
              "       [ 10.609696  ],\n",
              "       [  8.51362   ],\n",
              "       [  4.02505   ],\n",
              "       [  4.670759  ],\n",
              "       [  6.828307  ],\n",
              "       [  7.169521  ],\n",
              "       [  8.254686  ],\n",
              "       [  6.928326  ],\n",
              "       [  6.653068  ],\n",
              "       [  2.6025805 ],\n",
              "       [  4.65116   ],\n",
              "       [  8.2922325 ],\n",
              "       [ 17.252052  ],\n",
              "       [ 30.249128  ],\n",
              "       [ 67.83445   ],\n",
              "       [139.19687   ],\n",
              "       [ 92.397194  ],\n",
              "       [128.41254   ],\n",
              "       [144.81187   ],\n",
              "       [130.64227   ],\n",
              "       [127.29095   ],\n",
              "       [127.4566    ],\n",
              "       [142.67308   ],\n",
              "       [ 93.11038   ],\n",
              "       [136.54724   ],\n",
              "       [117.37634   ],\n",
              "       [156.51979   ],\n",
              "       [160.1931    ],\n",
              "       [116.54391   ],\n",
              "       [162.54143   ],\n",
              "       [ 65.433556  ],\n",
              "       [101.535835  ],\n",
              "       [ 83.62904   ],\n",
              "       [ 59.88615   ],\n",
              "       [ 42.118282  ],\n",
              "       [ 51.524654  ],\n",
              "       [ 54.472816  ],\n",
              "       [ 41.382927  ],\n",
              "       [ 73.063095  ],\n",
              "       [ 28.289225  ],\n",
              "       [ 44.811256  ],\n",
              "       [ 62.472286  ],\n",
              "       [ 46.91027   ],\n",
              "       [ 32.473927  ],\n",
              "       [ 39.807137  ],\n",
              "       [ 33.904926  ],\n",
              "       [ 48.2318    ],\n",
              "       [ 59.643227  ],\n",
              "       [ 43.251083  ],\n",
              "       [ 36.421177  ],\n",
              "       [ 28.717775  ],\n",
              "       [ 20.555733  ],\n",
              "       [ 37.22545   ],\n",
              "       [ 37.717167  ],\n",
              "       [ 26.225758  ],\n",
              "       [ 53.43297   ],\n",
              "       [ 25.055548  ],\n",
              "       [ 34.033596  ],\n",
              "       [ 18.161482  ],\n",
              "       [ 22.871023  ],\n",
              "       [ 35.448982  ],\n",
              "       [ 30.62459   ],\n",
              "       [ 38.210735  ]], dtype=float32)"
            ]
          },
          "metadata": {
            "tags": []
          },
          "execution_count": 63
        }
      ]
    },
    {
      "cell_type": "code",
      "metadata": {
        "id": "TIMUP_PTI3tP",
        "outputId": "4f4cee3b-a03b-4377-adf8-edb3320b94f0",
        "colab": {
          "base_uri": "https://localhost:8080/",
          "height": 406
        }
      },
      "source": [
        "plot_comparison_train(start_idx=0, length=5, train=False)"
      ],
      "execution_count": 64,
      "outputs": [
        {
          "output_type": "display_data",
          "data": {
            "image/png": "[encoded data removed]",
            "text/plain": [
              "<Figure size 1080x360 with 1 Axes>"
            ]
          },
          "metadata": {
            "tags": [],
            "needs_background": "light"
          }
        },
        {
          "output_type": "execute_result",
          "data": {
            "text/plain": [
              "array([[ 57.507866],\n",
              "       [101.06736 ],\n",
              "       [ 62.12883 ],\n",
              "       [ 69.04919 ],\n",
              "       [ 39.893597]], dtype=float32)"
            ]
          },
          "metadata": {
            "tags": []
          },
          "execution_count": 64
        }
      ]
    },
    {
      "cell_type": "code",
      "metadata": {
        "id": "fzAuLZBErFLw"
      },
      "source": [
        ""
      ],
      "execution_count": 56,
      "outputs": []
    }
  ]
}