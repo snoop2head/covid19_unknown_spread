{
  "nbformat": 4,
  "nbformat_minor": 0,
  "metadata": {
    "colab": {
      "name": "forecast_seoul_covid19.ipynb",
      "provenance": [],
      "collapsed_sections": [],
      "machine_shape": "hm",
      "authorship_tag": "ABX9TyO0yUkIg4hBnX6gNMpqtqKc",
      "include_colab_link": true
    },
    "kernelspec": {
      "name": "python3",
      "display_name": "Python 3"
    },
    "accelerator": "GPU"
  },
  "cells": [
    {
      "cell_type": "markdown",
      "metadata": {
        "id": "view-in-github",
        "colab_type": "text"
      },
      "source": [
        "<a href=\"https://colab.research.google.com/github/snoop2head/covid19_unknown_spread/blob/master/forecast_seoul_covid19.ipynb\" target=\"_parent\"><img src=\"https://colab.research.google.com/assets/colab-badge.svg\" alt=\"Open In Colab\"/></a>"
      ]
    },
    {
      "cell_type": "markdown",
      "metadata": {
        "id": "BMak-LGsSDQP"
      },
      "source": [
        "reference: https://github.com/Hvass-Labs/TensorFlow-Tutorials/blob/master/23_Time-Series-Prediction.ipynb"
      ]
    },
    {
      "cell_type": "code",
      "metadata": {
        "id": "Yf-Ml7YLZY3-",
        "colab": {
          "base_uri": "https://localhost:8080/"
        },
        "outputId": "3cf014e7-4ea8-4e29-d2a0-c1b34cd3ea6f"
      },
      "source": [
        "!git clone https://github.com/snoop2head/covid19_unknown_spread"
      ],
      "execution_count": 1,
      "outputs": [
        {
          "output_type": "stream",
          "text": [
            "Cloning into 'covid19_unknown_spread'...\n",
            "remote: Enumerating objects: 52, done.\u001b[K\n",
            "remote: Counting objects: 100% (52/52), done.\u001b[K\n",
            "remote: Compressing objects: 100% (39/39), done.\u001b[K\n",
            "remote: Total 594 (delta 22), reused 41 (delta 13), pack-reused 542\u001b[K\n",
            "Receiving objects: 100% (594/594), 37.09 MiB | 20.75 MiB/s, done.\n",
            "Resolving deltas: 100% (248/248), done.\n"
          ],
          "name": "stdout"
        }
      ]
    },
    {
      "cell_type": "code",
      "metadata": {
        "id": "SJgI1suGZz3x",
        "colab": {
          "base_uri": "https://localhost:8080/"
        },
        "outputId": "41783c7e-8fb5-4e99-d63a-97230e0cbf7f"
      },
      "source": [
        "!ls"
      ],
      "execution_count": 2,
      "outputs": [
        {
          "output_type": "stream",
          "text": [
            "covid19_unknown_spread\tsample_data\n"
          ],
          "name": "stdout"
        }
      ]
    },
    {
      "cell_type": "code",
      "metadata": {
        "id": "8ANvvQL4Z4BS",
        "colab": {
          "base_uri": "https://localhost:8080/"
        },
        "outputId": "6fbab11f-725f-433b-e807-662040cb824d"
      },
      "source": [
        "%cd covid19_unknown_spread/"
      ],
      "execution_count": 3,
      "outputs": [
        {
          "output_type": "stream",
          "text": [
            "/content/covid19_unknown_spread\n"
          ],
          "name": "stdout"
        }
      ]
    },
    {
      "cell_type": "code",
      "metadata": {
        "id": "Q76XJFalDZup",
        "colab": {
          "base_uri": "https://localhost:8080/"
        },
        "outputId": "b820d73d-c986-4b7f-bf73-485c3a17bc39"
      },
      "source": [
        "import numpy as np\n",
        "import pandas as pd\n",
        "print(pd.__version__)\n",
        "print(np.__version__)"
      ],
      "execution_count": 4,
      "outputs": [
        {
          "output_type": "stream",
          "text": [
            "1.1.5\n",
            "1.19.4\n"
          ],
          "name": "stdout"
        }
      ]
    },
    {
      "cell_type": "code",
      "metadata": {
        "id": "ytaU29PvZ8n-",
        "colab": {
          "base_uri": "https://localhost:8080/",
          "height": 228
        },
        "outputId": "906cff03-a316-47eb-fbb2-1e8aad04e69b"
      },
      "source": [
        "df = pd.read_csv(\"dataset_predict/df_train.csv\", encoding=\"utf-8\")\n",
        "df = df.set_index(\"date\")\n",
        "df = df.fillna(0)\n",
        "df.head()"
      ],
      "execution_count": 5,
      "outputs": [
        {
          "output_type": "execute_result",
          "data": {
            "text/html": [
              "<div>\n",
              "<style scoped>\n",
              "    .dataframe tbody tr th:only-of-type {\n",
              "        vertical-align: middle;\n",
              "    }\n",
              "\n",
              "    .dataframe tbody tr th {\n",
              "        vertical-align: top;\n",
              "    }\n",
              "\n",
              "    .dataframe thead th {\n",
              "        text-align: right;\n",
              "    }\n",
              "</style>\n",
              "<table border=\"1\" class=\"dataframe\">\n",
              "  <thead>\n",
              "    <tr style=\"text-align: right;\">\n",
              "      <th></th>\n",
              "      <th>new_confirmed</th>\n",
              "      <th>new_untracked</th>\n",
              "      <th>new_no_paths</th>\n",
              "      <th>is_holiday</th>\n",
              "      <th>is_weekend</th>\n",
              "      <th>gov_policy</th>\n",
              "    </tr>\n",
              "    <tr>\n",
              "      <th>date</th>\n",
              "      <th></th>\n",
              "      <th></th>\n",
              "      <th></th>\n",
              "      <th></th>\n",
              "      <th></th>\n",
              "      <th></th>\n",
              "    </tr>\n",
              "  </thead>\n",
              "  <tbody>\n",
              "    <tr>\n",
              "      <th>2020-01-24</th>\n",
              "      <td>1</td>\n",
              "      <td>0</td>\n",
              "      <td>0.0</td>\n",
              "      <td>1</td>\n",
              "      <td>1</td>\n",
              "      <td>0</td>\n",
              "    </tr>\n",
              "    <tr>\n",
              "      <th>2020-01-25</th>\n",
              "      <td>0</td>\n",
              "      <td>0</td>\n",
              "      <td>0.0</td>\n",
              "      <td>1</td>\n",
              "      <td>1</td>\n",
              "      <td>0</td>\n",
              "    </tr>\n",
              "    <tr>\n",
              "      <th>2020-01-26</th>\n",
              "      <td>0</td>\n",
              "      <td>0</td>\n",
              "      <td>0.0</td>\n",
              "      <td>1</td>\n",
              "      <td>1</td>\n",
              "      <td>0</td>\n",
              "    </tr>\n",
              "    <tr>\n",
              "      <th>2020-01-27</th>\n",
              "      <td>0</td>\n",
              "      <td>0</td>\n",
              "      <td>0.0</td>\n",
              "      <td>0</td>\n",
              "      <td>0</td>\n",
              "      <td>0</td>\n",
              "    </tr>\n",
              "    <tr>\n",
              "      <th>2020-01-28</th>\n",
              "      <td>0</td>\n",
              "      <td>0</td>\n",
              "      <td>0.0</td>\n",
              "      <td>0</td>\n",
              "      <td>0</td>\n",
              "      <td>0</td>\n",
              "    </tr>\n",
              "  </tbody>\n",
              "</table>\n",
              "</div>"
            ],
            "text/plain": [
              "            new_confirmed  new_untracked  ...  is_weekend  gov_policy\n",
              "date                                      ...                        \n",
              "2020-01-24              1              0  ...           1           0\n",
              "2020-01-25              0              0  ...           1           0\n",
              "2020-01-26              0              0  ...           1           0\n",
              "2020-01-27              0              0  ...           0           0\n",
              "2020-01-28              0              0  ...           0           0\n",
              "\n",
              "[5 rows x 6 columns]"
            ]
          },
          "metadata": {
            "tags": []
          },
          "execution_count": 5
        }
      ]
    },
    {
      "cell_type": "code",
      "metadata": {
        "id": "GmuWhLq3aDbJ",
        "colab": {
          "base_uri": "https://localhost:8080/",
          "height": 228
        },
        "outputId": "c19e0a3b-36bb-4fbd-9d8b-b440c68c5aed"
      },
      "source": [
        "df.tail()"
      ],
      "execution_count": 6,
      "outputs": [
        {
          "output_type": "execute_result",
          "data": {
            "text/html": [
              "<div>\n",
              "<style scoped>\n",
              "    .dataframe tbody tr th:only-of-type {\n",
              "        vertical-align: middle;\n",
              "    }\n",
              "\n",
              "    .dataframe tbody tr th {\n",
              "        vertical-align: top;\n",
              "    }\n",
              "\n",
              "    .dataframe thead th {\n",
              "        text-align: right;\n",
              "    }\n",
              "</style>\n",
              "<table border=\"1\" class=\"dataframe\">\n",
              "  <thead>\n",
              "    <tr style=\"text-align: right;\">\n",
              "      <th></th>\n",
              "      <th>new_confirmed</th>\n",
              "      <th>new_untracked</th>\n",
              "      <th>new_no_paths</th>\n",
              "      <th>is_holiday</th>\n",
              "      <th>is_weekend</th>\n",
              "      <th>gov_policy</th>\n",
              "    </tr>\n",
              "    <tr>\n",
              "      <th>date</th>\n",
              "      <th></th>\n",
              "      <th></th>\n",
              "      <th></th>\n",
              "      <th></th>\n",
              "      <th></th>\n",
              "      <th></th>\n",
              "    </tr>\n",
              "  </thead>\n",
              "  <tbody>\n",
              "    <tr>\n",
              "      <th>2020-12-22</th>\n",
              "      <td>375</td>\n",
              "      <td>161</td>\n",
              "      <td>69.0</td>\n",
              "      <td>0</td>\n",
              "      <td>0</td>\n",
              "      <td>3</td>\n",
              "    </tr>\n",
              "    <tr>\n",
              "      <th>2020-12-23</th>\n",
              "      <td>319</td>\n",
              "      <td>147</td>\n",
              "      <td>81.0</td>\n",
              "      <td>0</td>\n",
              "      <td>0</td>\n",
              "      <td>3</td>\n",
              "    </tr>\n",
              "    <tr>\n",
              "      <th>2020-12-24</th>\n",
              "      <td>552</td>\n",
              "      <td>100</td>\n",
              "      <td>103.0</td>\n",
              "      <td>0</td>\n",
              "      <td>0</td>\n",
              "      <td>3</td>\n",
              "    </tr>\n",
              "    <tr>\n",
              "      <th>2020-12-25</th>\n",
              "      <td>467</td>\n",
              "      <td>150</td>\n",
              "      <td>175.0</td>\n",
              "      <td>1</td>\n",
              "      <td>1</td>\n",
              "      <td>3</td>\n",
              "    </tr>\n",
              "    <tr>\n",
              "      <th>2020-12-26</th>\n",
              "      <td>361</td>\n",
              "      <td>120</td>\n",
              "      <td>118.0</td>\n",
              "      <td>0</td>\n",
              "      <td>1</td>\n",
              "      <td>3</td>\n",
              "    </tr>\n",
              "  </tbody>\n",
              "</table>\n",
              "</div>"
            ],
            "text/plain": [
              "            new_confirmed  new_untracked  ...  is_weekend  gov_policy\n",
              "date                                      ...                        \n",
              "2020-12-22            375            161  ...           0           3\n",
              "2020-12-23            319            147  ...           0           3\n",
              "2020-12-24            552            100  ...           0           3\n",
              "2020-12-25            467            150  ...           1           3\n",
              "2020-12-26            361            120  ...           1           3\n",
              "\n",
              "[5 rows x 6 columns]"
            ]
          },
          "metadata": {
            "tags": []
          },
          "execution_count": 6
        }
      ]
    },
    {
      "cell_type": "code",
      "metadata": {
        "id": "ns-8GDY-abLD",
        "colab": {
          "base_uri": "https://localhost:8080/"
        },
        "outputId": "ce1d130d-abaf-479b-fab3-1f69e149b242"
      },
      "source": [
        "%matplotlib inline\n",
        "import matplotlib.pyplot as plt\n",
        "import tensorflow as tf\n",
        "import os\n",
        "from sklearn.preprocessing import MinMaxScaler\n",
        "\n",
        "from tensorflow.keras.models import Sequential\n",
        "from tensorflow.keras.layers import Input, Dense, GRU, Embedding\n",
        "from tensorflow.keras.optimizers import RMSprop\n",
        "from tensorflow.keras.callbacks import EarlyStopping, ModelCheckpoint, TensorBoard, ReduceLROnPlateau\n",
        "from tensorflow.keras.backend import square, mean\n",
        "\n",
        "print(tf.keras.__version__)\n",
        "print(tf.__version__)"
      ],
      "execution_count": 7,
      "outputs": [
        {
          "output_type": "stream",
          "text": [
            "2.4.0\n",
            "2.4.0\n"
          ],
          "name": "stdout"
        }
      ]
    },
    {
      "cell_type": "code",
      "metadata": {
        "id": "LAirwKe5w3zz",
        "colab": {
          "base_uri": "https://localhost:8080/",
          "height": 530
        },
        "outputId": "8f24556c-a619-4153-9958-5dd8fbd9aeb0"
      },
      "source": [
        "plot_cols = ['new_confirmed', 'new_untracked', 'new_no_paths']\n",
        "plot_features = df[plot_cols]\n",
        "_ = plot_features.plot(subplots=True, figsize=(16,9))"
      ],
      "execution_count": 8,
      "outputs": [
        {
          "output_type": "display_data",
          "data": {
            "image/png": "[encoded data removed]",
            "text/plain": [
              "<Figure size 1152x648 with 3 Axes>"
            ]
          },
          "metadata": {
            "tags": [],
            "needs_background": "light"
          }
        }
      ]
    },
    {
      "cell_type": "code",
      "metadata": {
        "id": "yjf4-h4QxXgF",
        "colab": {
          "base_uri": "https://localhost:8080/",
          "height": 228
        },
        "outputId": "31f9f012-6826-477a-d9e5-3e56d1ca0218"
      },
      "source": [
        "df.describe().transpose()"
      ],
      "execution_count": 9,
      "outputs": [
        {
          "output_type": "execute_result",
          "data": {
            "text/html": [
              "<div>\n",
              "<style scoped>\n",
              "    .dataframe tbody tr th:only-of-type {\n",
              "        vertical-align: middle;\n",
              "    }\n",
              "\n",
              "    .dataframe tbody tr th {\n",
              "        vertical-align: top;\n",
              "    }\n",
              "\n",
              "    .dataframe thead th {\n",
              "        text-align: right;\n",
              "    }\n",
              "</style>\n",
              "<table border=\"1\" class=\"dataframe\">\n",
              "  <thead>\n",
              "    <tr style=\"text-align: right;\">\n",
              "      <th></th>\n",
              "      <th>count</th>\n",
              "      <th>mean</th>\n",
              "      <th>std</th>\n",
              "      <th>min</th>\n",
              "      <th>25%</th>\n",
              "      <th>50%</th>\n",
              "      <th>75%</th>\n",
              "      <th>max</th>\n",
              "    </tr>\n",
              "  </thead>\n",
              "  <tbody>\n",
              "    <tr>\n",
              "      <th>new_confirmed</th>\n",
              "      <td>338.0</td>\n",
              "      <td>50.976331</td>\n",
              "      <td>90.007184</td>\n",
              "      <td>0.0</td>\n",
              "      <td>6.0</td>\n",
              "      <td>15.5</td>\n",
              "      <td>43.75</td>\n",
              "      <td>552.0</td>\n",
              "    </tr>\n",
              "    <tr>\n",
              "      <th>new_untracked</th>\n",
              "      <td>338.0</td>\n",
              "      <td>11.355030</td>\n",
              "      <td>25.974959</td>\n",
              "      <td>0.0</td>\n",
              "      <td>0.0</td>\n",
              "      <td>2.0</td>\n",
              "      <td>7.00</td>\n",
              "      <td>161.0</td>\n",
              "    </tr>\n",
              "    <tr>\n",
              "      <th>new_no_paths</th>\n",
              "      <td>338.0</td>\n",
              "      <td>12.535503</td>\n",
              "      <td>27.380172</td>\n",
              "      <td>0.0</td>\n",
              "      <td>0.0</td>\n",
              "      <td>2.0</td>\n",
              "      <td>8.75</td>\n",
              "      <td>175.0</td>\n",
              "    </tr>\n",
              "    <tr>\n",
              "      <th>is_holiday</th>\n",
              "      <td>338.0</td>\n",
              "      <td>0.041420</td>\n",
              "      <td>0.199555</td>\n",
              "      <td>0.0</td>\n",
              "      <td>0.0</td>\n",
              "      <td>0.0</td>\n",
              "      <td>0.00</td>\n",
              "      <td>1.0</td>\n",
              "    </tr>\n",
              "    <tr>\n",
              "      <th>is_weekend</th>\n",
              "      <td>338.0</td>\n",
              "      <td>0.431953</td>\n",
              "      <td>0.496082</td>\n",
              "      <td>0.0</td>\n",
              "      <td>0.0</td>\n",
              "      <td>0.0</td>\n",
              "      <td>1.00</td>\n",
              "      <td>1.0</td>\n",
              "    </tr>\n",
              "    <tr>\n",
              "      <th>gov_policy</th>\n",
              "      <td>338.0</td>\n",
              "      <td>0.920118</td>\n",
              "      <td>1.182016</td>\n",
              "      <td>0.0</td>\n",
              "      <td>0.0</td>\n",
              "      <td>0.0</td>\n",
              "      <td>2.00</td>\n",
              "      <td>3.0</td>\n",
              "    </tr>\n",
              "  </tbody>\n",
              "</table>\n",
              "</div>"
            ],
            "text/plain": [
              "               count       mean        std  min  25%   50%    75%    max\n",
              "new_confirmed  338.0  50.976331  90.007184  0.0  6.0  15.5  43.75  552.0\n",
              "new_untracked  338.0  11.355030  25.974959  0.0  0.0   2.0   7.00  161.0\n",
              "new_no_paths   338.0  12.535503  27.380172  0.0  0.0   2.0   8.75  175.0\n",
              "is_holiday     338.0   0.041420   0.199555  0.0  0.0   0.0   0.00    1.0\n",
              "is_weekend     338.0   0.431953   0.496082  0.0  0.0   0.0   1.00    1.0\n",
              "gov_policy     338.0   0.920118   1.182016  0.0  0.0   0.0   2.00    3.0"
            ]
          },
          "metadata": {
            "tags": []
          },
          "execution_count": 9
        }
      ]
    },
    {
      "cell_type": "code",
      "metadata": {
        "id": "3tszYPUvyInb"
      },
      "source": [
        "shift_days = 1\n",
        "shift_steps = shift_days * 5"
      ],
      "execution_count": 10,
      "outputs": []
    },
    {
      "cell_type": "code",
      "metadata": {
        "id": "jYPgN7qkMMRS"
      },
      "source": [
        "# column that we want to predict\n",
        "target_names = ['new_confirmed']\n",
        "df_targets = df[target_names]\n",
        "\n",
        "# shifting dataframe as much as steps\n",
        "df_targets = df_targets.shift(-shift_steps)"
      ],
      "execution_count": 11,
      "outputs": []
    },
    {
      "cell_type": "code",
      "metadata": {
        "id": "DYS4soq9ypn3",
        "colab": {
          "base_uri": "https://localhost:8080/",
          "height": 228
        },
        "outputId": "430eefd7-e69b-42b9-fd54-aaa13a2ec55b"
      },
      "source": [
        "# you can check that top 5 data is topped out\n",
        "df_targets.head()"
      ],
      "execution_count": 12,
      "outputs": [
        {
          "output_type": "execute_result",
          "data": {
            "text/html": [
              "<div>\n",
              "<style scoped>\n",
              "    .dataframe tbody tr th:only-of-type {\n",
              "        vertical-align: middle;\n",
              "    }\n",
              "\n",
              "    .dataframe tbody tr th {\n",
              "        vertical-align: top;\n",
              "    }\n",
              "\n",
              "    .dataframe thead th {\n",
              "        text-align: right;\n",
              "    }\n",
              "</style>\n",
              "<table border=\"1\" class=\"dataframe\">\n",
              "  <thead>\n",
              "    <tr style=\"text-align: right;\">\n",
              "      <th></th>\n",
              "      <th>new_confirmed</th>\n",
              "    </tr>\n",
              "    <tr>\n",
              "      <th>date</th>\n",
              "      <th></th>\n",
              "    </tr>\n",
              "  </thead>\n",
              "  <tbody>\n",
              "    <tr>\n",
              "      <th>2020-01-24</th>\n",
              "      <td>0.0</td>\n",
              "    </tr>\n",
              "    <tr>\n",
              "      <th>2020-01-25</th>\n",
              "      <td>3.0</td>\n",
              "    </tr>\n",
              "    <tr>\n",
              "      <th>2020-01-26</th>\n",
              "      <td>3.0</td>\n",
              "    </tr>\n",
              "    <tr>\n",
              "      <th>2020-01-27</th>\n",
              "      <td>0.0</td>\n",
              "    </tr>\n",
              "    <tr>\n",
              "      <th>2020-01-28</th>\n",
              "      <td>1.0</td>\n",
              "    </tr>\n",
              "  </tbody>\n",
              "</table>\n",
              "</div>"
            ],
            "text/plain": [
              "            new_confirmed\n",
              "date                     \n",
              "2020-01-24            0.0\n",
              "2020-01-25            3.0\n",
              "2020-01-26            3.0\n",
              "2020-01-27            0.0\n",
              "2020-01-28            1.0"
            ]
          },
          "metadata": {
            "tags": []
          },
          "execution_count": 12
        }
      ]
    },
    {
      "cell_type": "code",
      "metadata": {
        "id": "DQumLZjK4q59",
        "colab": {
          "base_uri": "https://localhost:8080/",
          "height": 378
        },
        "outputId": "d4a25ab5-4b5b-4a7a-d9f1-df8d502fda65"
      },
      "source": [
        "df_targets.tail(10)"
      ],
      "execution_count": 13,
      "outputs": [
        {
          "output_type": "execute_result",
          "data": {
            "text/html": [
              "<div>\n",
              "<style scoped>\n",
              "    .dataframe tbody tr th:only-of-type {\n",
              "        vertical-align: middle;\n",
              "    }\n",
              "\n",
              "    .dataframe tbody tr th {\n",
              "        vertical-align: top;\n",
              "    }\n",
              "\n",
              "    .dataframe thead th {\n",
              "        text-align: right;\n",
              "    }\n",
              "</style>\n",
              "<table border=\"1\" class=\"dataframe\">\n",
              "  <thead>\n",
              "    <tr style=\"text-align: right;\">\n",
              "      <th></th>\n",
              "      <th>new_confirmed</th>\n",
              "    </tr>\n",
              "    <tr>\n",
              "      <th>date</th>\n",
              "      <th></th>\n",
              "    </tr>\n",
              "  </thead>\n",
              "  <tbody>\n",
              "    <tr>\n",
              "      <th>2020-12-17</th>\n",
              "      <td>375.0</td>\n",
              "    </tr>\n",
              "    <tr>\n",
              "      <th>2020-12-18</th>\n",
              "      <td>319.0</td>\n",
              "    </tr>\n",
              "    <tr>\n",
              "      <th>2020-12-19</th>\n",
              "      <td>552.0</td>\n",
              "    </tr>\n",
              "    <tr>\n",
              "      <th>2020-12-20</th>\n",
              "      <td>467.0</td>\n",
              "    </tr>\n",
              "    <tr>\n",
              "      <th>2020-12-21</th>\n",
              "      <td>361.0</td>\n",
              "    </tr>\n",
              "    <tr>\n",
              "      <th>2020-12-22</th>\n",
              "      <td>NaN</td>\n",
              "    </tr>\n",
              "    <tr>\n",
              "      <th>2020-12-23</th>\n",
              "      <td>NaN</td>\n",
              "    </tr>\n",
              "    <tr>\n",
              "      <th>2020-12-24</th>\n",
              "      <td>NaN</td>\n",
              "    </tr>\n",
              "    <tr>\n",
              "      <th>2020-12-25</th>\n",
              "      <td>NaN</td>\n",
              "    </tr>\n",
              "    <tr>\n",
              "      <th>2020-12-26</th>\n",
              "      <td>NaN</td>\n",
              "    </tr>\n",
              "  </tbody>\n",
              "</table>\n",
              "</div>"
            ],
            "text/plain": [
              "            new_confirmed\n",
              "date                     \n",
              "2020-12-17          375.0\n",
              "2020-12-18          319.0\n",
              "2020-12-19          552.0\n",
              "2020-12-20          467.0\n",
              "2020-12-21          361.0\n",
              "2020-12-22            NaN\n",
              "2020-12-23            NaN\n",
              "2020-12-24            NaN\n",
              "2020-12-25            NaN\n",
              "2020-12-26            NaN"
            ]
          },
          "metadata": {
            "tags": []
          },
          "execution_count": 13
        }
      ]
    },
    {
      "cell_type": "code",
      "metadata": {
        "id": "AJQKp05f28wz",
        "colab": {
          "base_uri": "https://localhost:8080/"
        },
        "outputId": "652ef32e-ade9-4221-c46a-b9f91f09415b"
      },
      "source": [
        "x_data = df.values[shift_steps:]\n",
        "print(type(x_data))\n",
        "print(\"Shape:\", x_data.shape)\n",
        "x_data"
      ],
      "execution_count": 14,
      "outputs": [
        {
          "output_type": "stream",
          "text": [
            "<class 'numpy.ndarray'>\n",
            "Shape: (333, 6)\n"
          ],
          "name": "stdout"
        },
        {
          "output_type": "execute_result",
          "data": {
            "text/plain": [
              "array([[  0.,   0.,   0.,   0.,   0.,   0.],\n",
              "       [  3.,   0.,   1.,   0.,   0.,   0.],\n",
              "       [  3.,   0.,   2.,   0.,   1.,   0.],\n",
              "       ...,\n",
              "       [552., 100., 103.,   0.,   0.,   3.],\n",
              "       [467., 150., 175.,   1.,   1.,   3.],\n",
              "       [361., 120., 118.,   0.,   1.,   3.]])"
            ]
          },
          "metadata": {
            "tags": []
          },
          "execution_count": 14
        }
      ]
    },
    {
      "cell_type": "code",
      "metadata": {
        "id": "gIiV8SZP3A9g",
        "colab": {
          "base_uri": "https://localhost:8080/"
        },
        "outputId": "edea9daa-8edc-4f92-fc24-20aa71b3c45a"
      },
      "source": [
        "y_data = df_targets.values[shift_steps:]\n",
        "print(type(y_data))\n",
        "print(\"Shape:\", y_data.shape)"
      ],
      "execution_count": 15,
      "outputs": [
        {
          "output_type": "stream",
          "text": [
            "<class 'numpy.ndarray'>\n",
            "Shape: (333, 1)\n"
          ],
          "name": "stdout"
        }
      ]
    },
    {
      "cell_type": "code",
      "metadata": {
        "id": "2CmiM1xh6L_h",
        "colab": {
          "base_uri": "https://localhost:8080/"
        },
        "outputId": "0b1357cf-f5f9-475a-8835-9f3d02110053"
      },
      "source": [
        "num_data = len(x_data)\n",
        "num_data"
      ],
      "execution_count": 16,
      "outputs": [
        {
          "output_type": "execute_result",
          "data": {
            "text/plain": [
              "333"
            ]
          },
          "metadata": {
            "tags": []
          },
          "execution_count": 16
        }
      ]
    },
    {
      "cell_type": "code",
      "metadata": {
        "id": "UkHX3R3X6P97",
        "colab": {
          "base_uri": "https://localhost:8080/"
        },
        "outputId": "939f1234-eb98-4e3f-bbe0-7e62d8dab08d"
      },
      "source": [
        "# train_split = 0.9\n",
        "# num_train = int(train_split * num_data)\n",
        "num_train = num_data - 5\n",
        "num_train"
      ],
      "execution_count": 17,
      "outputs": [
        {
          "output_type": "execute_result",
          "data": {
            "text/plain": [
              "328"
            ]
          },
          "metadata": {
            "tags": []
          },
          "execution_count": 17
        }
      ]
    },
    {
      "cell_type": "code",
      "metadata": {
        "id": "eeZQZc786YcG",
        "colab": {
          "base_uri": "https://localhost:8080/"
        },
        "outputId": "498927f9-88f7-4895-fff0-9b6ab90732db"
      },
      "source": [
        "num_test = num_data - num_train\n",
        "num_test"
      ],
      "execution_count": 18,
      "outputs": [
        {
          "output_type": "execute_result",
          "data": {
            "text/plain": [
              "5"
            ]
          },
          "metadata": {
            "tags": []
          },
          "execution_count": 18
        }
      ]
    },
    {
      "cell_type": "code",
      "metadata": {
        "id": "T3C7FQfj6ZiS",
        "colab": {
          "base_uri": "https://localhost:8080/"
        },
        "outputId": "b5ab7efc-ac39-4b0c-f2ea-6107f59dde24"
      },
      "source": [
        "x_train = x_data[0:num_train]\n",
        "x_test = x_data[num_train:]\n",
        "len(x_train) + len(x_test)\n"
      ],
      "execution_count": 19,
      "outputs": [
        {
          "output_type": "execute_result",
          "data": {
            "text/plain": [
              "333"
            ]
          },
          "metadata": {
            "tags": []
          },
          "execution_count": 19
        }
      ]
    },
    {
      "cell_type": "code",
      "metadata": {
        "id": "3npQVM1I6b-d",
        "colab": {
          "base_uri": "https://localhost:8080/"
        },
        "outputId": "f867e8fe-969d-4e2a-86c2-654673e84df6"
      },
      "source": [
        "y_train = y_data[0:num_train]\n",
        "y_test = y_data[num_train:]\n",
        "len(y_train) + len(y_test)"
      ],
      "execution_count": 20,
      "outputs": [
        {
          "output_type": "execute_result",
          "data": {
            "text/plain": [
              "333"
            ]
          },
          "metadata": {
            "tags": []
          },
          "execution_count": 20
        }
      ]
    },
    {
      "cell_type": "code",
      "metadata": {
        "id": "xb_k664R6ukd",
        "colab": {
          "base_uri": "https://localhost:8080/"
        },
        "outputId": "0d8e843e-dfeb-428b-d61e-fc4b8dd68ee2"
      },
      "source": [
        "num_x_signals = x_data.shape[1]\n",
        "num_x_signals"
      ],
      "execution_count": 21,
      "outputs": [
        {
          "output_type": "execute_result",
          "data": {
            "text/plain": [
              "6"
            ]
          },
          "metadata": {
            "tags": []
          },
          "execution_count": 21
        }
      ]
    },
    {
      "cell_type": "code",
      "metadata": {
        "id": "MQtDMBve6wZO",
        "colab": {
          "base_uri": "https://localhost:8080/"
        },
        "outputId": "33ca5d87-5328-4a57-98a1-8eddf80e2b90"
      },
      "source": [
        "num_y_signals = y_data.shape[1]\n",
        "num_y_signals"
      ],
      "execution_count": 22,
      "outputs": [
        {
          "output_type": "execute_result",
          "data": {
            "text/plain": [
              "1"
            ]
          },
          "metadata": {
            "tags": []
          },
          "execution_count": 22
        }
      ]
    },
    {
      "cell_type": "code",
      "metadata": {
        "id": "kNJeuFFR68qQ",
        "colab": {
          "base_uri": "https://localhost:8080/"
        },
        "outputId": "de543ea4-2c16-4bb5-8c5d-3a47eea2753b"
      },
      "source": [
        "x_train"
      ],
      "execution_count": 23,
      "outputs": [
        {
          "output_type": "execute_result",
          "data": {
            "text/plain": [
              "array([[  0.,   0.,   0.,   0.,   0.,   0.],\n",
              "       [  3.,   0.,   1.,   0.,   0.,   0.],\n",
              "       [  3.,   0.,   2.,   0.,   1.,   0.],\n",
              "       ...,\n",
              "       [472.,  85., 108.,   0.,   1.,   3.],\n",
              "       [328., 115., 107.,   0.,   1.,   3.],\n",
              "       [317.,  88., 130.,   0.,   0.,   3.]])"
            ]
          },
          "metadata": {
            "tags": []
          },
          "execution_count": 23
        }
      ]
    },
    {
      "cell_type": "code",
      "metadata": {
        "id": "LbKAKaKH6ygh"
      },
      "source": [
        "# Scaler Class that shrinks number in between 0 and 1 for the purpose of neuron input\n",
        "x_scaler = MinMaxScaler()"
      ],
      "execution_count": 24,
      "outputs": []
    },
    {
      "cell_type": "code",
      "metadata": {
        "id": "XWUFWIwm63j7",
        "colab": {
          "base_uri": "https://localhost:8080/"
        },
        "outputId": "10a901ea-3523-4054-b825-0dd212f4d0e0"
      },
      "source": [
        "print(\"Min:\", np.min(x_train))\n",
        "print(\"Max:\", np.max(x_train))"
      ],
      "execution_count": 25,
      "outputs": [
        {
          "output_type": "stream",
          "text": [
            "Min: 0.0\n",
            "Max: 472.0\n"
          ],
          "name": "stdout"
        }
      ]
    },
    {
      "cell_type": "code",
      "metadata": {
        "id": "PfEivhCH7PBg",
        "colab": {
          "base_uri": "https://localhost:8080/"
        },
        "outputId": "e1ed6d26-3343-404c-ed34-c01888fc8cb4"
      },
      "source": [
        "x_train_scaled = x_scaler.fit_transform(x_train)\n",
        "print(\"Min:\", np.min(x_train_scaled))\n",
        "print(\"Max:\", np.max(x_train_scaled))"
      ],
      "execution_count": 26,
      "outputs": [
        {
          "output_type": "stream",
          "text": [
            "Min: 0.0\n",
            "Max: 1.0\n"
          ],
          "name": "stdout"
        }
      ]
    },
    {
      "cell_type": "code",
      "metadata": {
        "id": "dKXS6N3JEL3S"
      },
      "source": [
        "x_test_scaled = x_scaler.transform(x_test)"
      ],
      "execution_count": 27,
      "outputs": []
    },
    {
      "cell_type": "code",
      "metadata": {
        "id": "x4QlkJ7eEO_n"
      },
      "source": [
        "y_scaler = MinMaxScaler()\n",
        "y_train_scaled = y_scaler.fit_transform(y_train)\n",
        "y_test_scaled = y_scaler.transform(y_test)"
      ],
      "execution_count": 28,
      "outputs": []
    },
    {
      "cell_type": "code",
      "metadata": {
        "id": "h-gnVNcJEQCh",
        "colab": {
          "base_uri": "https://localhost:8080/"
        },
        "outputId": "89545e1a-6c70-46f4-80a8-f036d80e7474"
      },
      "source": [
        "print(x_train_scaled.shape)\n",
        "print(y_train_scaled.shape)"
      ],
      "execution_count": 29,
      "outputs": [
        {
          "output_type": "stream",
          "text": [
            "(328, 6)\n",
            "(328, 1)\n"
          ],
          "name": "stdout"
        }
      ]
    },
    {
      "cell_type": "code",
      "metadata": {
        "id": "pEoQwWgbER_v"
      },
      "source": [
        "def batch_generator(batch_size, sequence_length):\n",
        "    \"\"\"\n",
        "    Generator function for creating random batches of training-data.\n",
        "    \"\"\"\n",
        "\n",
        "    # Infinite loop.\n",
        "    while True:\n",
        "        # Allocate a new array for the batch of input-signals.\n",
        "        x_shape = (batch_size, sequence_length, num_x_signals)\n",
        "        x_batch = np.zeros(shape=x_shape, dtype=np.float16)\n",
        "\n",
        "        # Allocate a new array for the batch of output-signals.\n",
        "        y_shape = (batch_size, sequence_length, num_y_signals)\n",
        "        y_batch = np.zeros(shape=y_shape, dtype=np.float16)\n",
        "\n",
        "        # Fill the batch with random sequences of data.\n",
        "        for i in range(batch_size):\n",
        "            # Get a random start-index.\n",
        "            # This points somewhere into the training-data.\n",
        "            idx = np.random.randint(num_train - sequence_length)\n",
        "            \n",
        "            # Copy the sequences of data starting at this index.\n",
        "            x_batch[i] = x_train_scaled[idx:idx+sequence_length]\n",
        "            y_batch[i] = y_train_scaled[idx:idx+sequence_length]\n",
        "        \n",
        "        yield (x_batch, y_batch)"
      ],
      "execution_count": 30,
      "outputs": []
    },
    {
      "cell_type": "code",
      "metadata": {
        "id": "P2pOkrFYET0j"
      },
      "source": [
        "batch_size = 256"
      ],
      "execution_count": 31,
      "outputs": []
    },
    {
      "cell_type": "code",
      "metadata": {
        "id": "0KUc3JKOEViw",
        "colab": {
          "base_uri": "https://localhost:8080/"
        },
        "outputId": "62205b7b-2702-461b-b403-95b1df6123aa"
      },
      "source": [
        "sequence_length = len(x_train_scaled) -1 \n",
        "sequence_length"
      ],
      "execution_count": 32,
      "outputs": [
        {
          "output_type": "execute_result",
          "data": {
            "text/plain": [
              "327"
            ]
          },
          "metadata": {
            "tags": []
          },
          "execution_count": 32
        }
      ]
    },
    {
      "cell_type": "code",
      "metadata": {
        "id": "4vVOeP7wEWDl"
      },
      "source": [
        "generator = batch_generator(batch_size=batch_size,\n",
        "                            sequence_length=sequence_length)"
      ],
      "execution_count": 33,
      "outputs": []
    },
    {
      "cell_type": "code",
      "metadata": {
        "id": "dLzNGzANEWGi"
      },
      "source": [
        "x_batch, y_batch = next(generator)"
      ],
      "execution_count": 34,
      "outputs": []
    },
    {
      "cell_type": "code",
      "metadata": {
        "id": "ph8HDh1lEWJJ",
        "colab": {
          "base_uri": "https://localhost:8080/"
        },
        "outputId": "7205e1cf-2e49-4ab2-c970-baf04dbe2635"
      },
      "source": [
        "print(x_batch.shape)\n",
        "print(y_batch.shape)"
      ],
      "execution_count": 35,
      "outputs": [
        {
          "output_type": "stream",
          "text": [
            "(256, 327, 6)\n",
            "(256, 327, 1)\n"
          ],
          "name": "stdout"
        }
      ]
    },
    {
      "cell_type": "code",
      "metadata": {
        "id": "0QeSIvupEWLx",
        "colab": {
          "base_uri": "https://localhost:8080/",
          "height": 282
        },
        "outputId": "fd7c9361-74f9-4883-cbed-18b20a804c56"
      },
      "source": [
        "batch = 0   # First sequence in the batch.\n",
        "signal = 0  # First signal from the 20 input-signals.\n",
        "seq = x_batch[batch, :, signal]\n",
        "plt.plot(seq)"
      ],
      "execution_count": 36,
      "outputs": [
        {
          "output_type": "execute_result",
          "data": {
            "text/plain": [
              "[<matplotlib.lines.Line2D at 0x7f419606bb70>]"
            ]
          },
          "metadata": {
            "tags": []
          },
          "execution_count": 36
        },
        {
          "output_type": "display_data",
          "data": {
            "image/png": "[encoded data removed]",
            "text/plain": [
              "<Figure size 432x288 with 1 Axes>"
            ]
          },
          "metadata": {
            "tags": [],
            "needs_background": "light"
          }
        }
      ]
    },
    {
      "cell_type": "code",
      "metadata": {
        "id": "B6tvaE3HEWNw",
        "colab": {
          "base_uri": "https://localhost:8080/",
          "height": 282
        },
        "outputId": "92f04599-7e8d-4e2d-fdf8-1f74c5d58851"
      },
      "source": [
        "seq = y_batch[batch, :, signal]\n",
        "plt.plot(seq)"
      ],
      "execution_count": 37,
      "outputs": [
        {
          "output_type": "execute_result",
          "data": {
            "text/plain": [
              "[<matplotlib.lines.Line2D at 0x7f4195fd9630>]"
            ]
          },
          "metadata": {
            "tags": []
          },
          "execution_count": 37
        },
        {
          "output_type": "display_data",
          "data": {
            "image/png": "[encoded data removed]",
            "text/plain": [
              "<Figure size 432x288 with 1 Axes>"
            ]
          },
          "metadata": {
            "tags": [],
            "needs_background": "light"
          }
        }
      ]
    },
    {
      "cell_type": "code",
      "metadata": {
        "id": "mlts8dSBFv0n"
      },
      "source": [
        "validation_data = (np.expand_dims(x_test_scaled, axis=0),\n",
        "                   np.expand_dims(y_test_scaled, axis=0))"
      ],
      "execution_count": 38,
      "outputs": []
    },
    {
      "cell_type": "code",
      "metadata": {
        "id": "Mpu8EyKgF1qd"
      },
      "source": [
        "model = Sequential()"
      ],
      "execution_count": 39,
      "outputs": []
    },
    {
      "cell_type": "code",
      "metadata": {
        "id": "HsnW25TOF3Tu"
      },
      "source": [
        "model.add(GRU(units=512,\n",
        "              return_sequences=True,\n",
        "              input_shape=(None, num_x_signals,)))"
      ],
      "execution_count": 40,
      "outputs": []
    },
    {
      "cell_type": "code",
      "metadata": {
        "id": "Abd_k8HsGOV5"
      },
      "source": [
        "model.add(Dense(num_y_signals, activation='sigmoid'))"
      ],
      "execution_count": 41,
      "outputs": []
    },
    {
      "cell_type": "code",
      "metadata": {
        "id": "hgQqz7JDGPdR"
      },
      "source": [
        "if False:\n",
        "    from tensorflow.python.keras.initializers import RandomUniform\n",
        "\n",
        "    # Maybe use lower init-ranges.\n",
        "    init = RandomUniform(minval=-0.05, maxval=0.05)\n",
        "\n",
        "    model.add(Dense(num_y_signals,\n",
        "                    activation='linear',\n",
        "                    kernel_initializer=init))"
      ],
      "execution_count": 42,
      "outputs": []
    },
    {
      "cell_type": "code",
      "metadata": {
        "id": "wVEuO7w_GQwx"
      },
      "source": [
        "# ignoring data range, based on time steps\n",
        "# warmup_steps = len(x_train) + len(x_test) - 16*7\n",
        "\n",
        "# 바이러스 V형, S형은 더이상 검출되지 않으므로, 이태원클럽 이후에 퍼진 GH형만 따져보자\n",
        "# 즉 이태원 이후의 데이터만 신경을 쓰기로 한다. 1월 24일 ~ 5월 2일 데이터는 무시\n",
        "warmup_steps = 100"
      ],
      "execution_count": 43,
      "outputs": []
    },
    {
      "cell_type": "code",
      "metadata": {
        "id": "qSE8R9YRGSXS"
      },
      "source": [
        "def loss_mse_warmup(y_true, y_pred):\n",
        "    \"\"\"\n",
        "    Calculate the Mean Squared Error between y_true and y_pred,\n",
        "    but ignore the beginning \"warmup\" part of the sequences.\n",
        "    \n",
        "    y_true is the desired output.\n",
        "    y_pred is the model's output.\n",
        "    \"\"\"\n",
        "\n",
        "    # The shape of both input tensors are:\n",
        "    # [batch_size, sequence_length, num_y_signals].\n",
        "\n",
        "    # Ignore the \"warmup\" parts of the sequences\n",
        "    # by taking slices of the tensors.\n",
        "    y_true_slice = y_true[:, warmup_steps:, :]\n",
        "    y_pred_slice = y_pred[:, warmup_steps:, :]\n",
        "\n",
        "    # These sliced tensors both have this shape:\n",
        "    # [batch_size, sequence_length - warmup_steps, num_y_signals]\n",
        "\n",
        "    # Calculat the Mean Squared Error and use it as loss.\n",
        "    mse = mean(square(y_true_slice - y_pred_slice))\n",
        "    \n",
        "    return mse"
      ],
      "execution_count": 44,
      "outputs": []
    },
    {
      "cell_type": "code",
      "metadata": {
        "id": "YaG7NvJ6GTNx"
      },
      "source": [
        "optimizer = RMSprop(lr=1e-3)"
      ],
      "execution_count": 45,
      "outputs": []
    },
    {
      "cell_type": "code",
      "metadata": {
        "id": "s5iPM7S-GUpf"
      },
      "source": [
        "model.compile(loss=loss_mse_warmup, optimizer=optimizer)"
      ],
      "execution_count": 46,
      "outputs": []
    },
    {
      "cell_type": "code",
      "metadata": {
        "id": "T5eEKCL8GVhS",
        "colab": {
          "base_uri": "https://localhost:8080/"
        },
        "outputId": "8405bcf1-267c-47f3-8696-e7846024317c"
      },
      "source": [
        "model.summary()"
      ],
      "execution_count": 47,
      "outputs": [
        {
          "output_type": "stream",
          "text": [
            "Model: \"sequential\"\n",
            "_________________________________________________________________\n",
            "Layer (type)                 Output Shape              Param #   \n",
            "=================================================================\n",
            "gru (GRU)                    (None, None, 512)         798720    \n",
            "_________________________________________________________________\n",
            "dense (Dense)                (None, None, 1)           513       \n",
            "=================================================================\n",
            "Total params: 799,233\n",
            "Trainable params: 799,233\n",
            "Non-trainable params: 0\n",
            "_________________________________________________________________\n"
          ],
          "name": "stdout"
        }
      ]
    },
    {
      "cell_type": "code",
      "metadata": {
        "id": "LP57S1KvGWdQ"
      },
      "source": [
        "path_checkpoint = '/content/covid19_unknown_spread/23_checkpoint.keras'\n",
        "callback_checkpoint = ModelCheckpoint(filepath=path_checkpoint,\n",
        "                                      monitor='val_loss',\n",
        "                                      verbose=1,\n",
        "                                      save_weights_only=True,\n",
        "                                      save_best_only=True)"
      ],
      "execution_count": 48,
      "outputs": []
    },
    {
      "cell_type": "code",
      "metadata": {
        "id": "1cMHbS3ZGZDN"
      },
      "source": [
        "callback_early_stopping = EarlyStopping(monitor='val_loss',\n",
        "                                        patience=10, verbose=1) # stop when result is not improved for 10 epochs"
      ],
      "execution_count": 49,
      "outputs": []
    },
    {
      "cell_type": "code",
      "metadata": {
        "id": "M2_7bPQdGaGK"
      },
      "source": [
        "callback_tensorboard = TensorBoard(log_dir='./23_logs/',\n",
        "                                   histogram_freq=0,\n",
        "                                   write_graph=False)"
      ],
      "execution_count": 50,
      "outputs": []
    },
    {
      "cell_type": "code",
      "metadata": {
        "id": "CetglKPlGa44"
      },
      "source": [
        "callback_reduce_lr = ReduceLROnPlateau(monitor='val_loss',\n",
        "                                       factor=0.1,\n",
        "                                       min_lr=1e-3,# minimum learning rate\n",
        "                                       patience=0,\n",
        "                                       verbose=1)"
      ],
      "execution_count": 51,
      "outputs": []
    },
    {
      "cell_type": "code",
      "metadata": {
        "id": "mwSfEPGWGb2z"
      },
      "source": [
        "callbacks = [callback_early_stopping,\n",
        "             callback_checkpoint,\n",
        "             callback_tensorboard,\n",
        "             callback_reduce_lr]"
      ],
      "execution_count": 52,
      "outputs": []
    },
    {
      "cell_type": "code",
      "metadata": {
        "id": "QDw1GWFUGc2u",
        "colab": {
          "base_uri": "https://localhost:8080/"
        },
        "outputId": "f54d86ac-1d12-49be-d169-ecd82b8f421e"
      },
      "source": [
        "%%time\n",
        "model.fit(x=generator,\n",
        "          epochs=20,\n",
        "          steps_per_epoch=100,\n",
        "          validation_data=validation_data,\n",
        "          callbacks=callbacks)"
      ],
      "execution_count": 53,
      "outputs": [
        {
          "output_type": "stream",
          "text": [
            "Epoch 1/20\n",
            "100/100 [==============================] - 13s 71ms/step - loss: 0.0277 - val_loss: nan\n",
            "\n",
            "Epoch 00001: val_loss did not improve from inf\n",
            "\n",
            "Epoch 00001: ReduceLROnPlateau reducing learning rate to 0.001.\n",
            "Epoch 2/20\n",
            "100/100 [==============================] - 6s 64ms/step - loss: 0.0048 - val_loss: nan\n",
            "\n",
            "Epoch 00002: val_loss did not improve from inf\n",
            "\n",
            "Epoch 00002: ReduceLROnPlateau reducing learning rate to 0.001.\n",
            "Epoch 3/20\n",
            "100/100 [==============================] - 6s 64ms/step - loss: 0.0032 - val_loss: nan\n",
            "\n",
            "Epoch 00003: val_loss did not improve from inf\n",
            "\n",
            "Epoch 00003: ReduceLROnPlateau reducing learning rate to 0.001.\n",
            "Epoch 4/20\n",
            "100/100 [==============================] - 6s 64ms/step - loss: 0.0025 - val_loss: nan\n",
            "\n",
            "Epoch 00004: val_loss did not improve from inf\n",
            "\n",
            "Epoch 00004: ReduceLROnPlateau reducing learning rate to 0.001.\n",
            "Epoch 5/20\n",
            "100/100 [==============================] - 6s 64ms/step - loss: 0.0020 - val_loss: nan\n",
            "\n",
            "Epoch 00005: val_loss did not improve from inf\n",
            "\n",
            "Epoch 00005: ReduceLROnPlateau reducing learning rate to 0.001.\n",
            "Epoch 6/20\n",
            "100/100 [==============================] - 6s 65ms/step - loss: 0.0015 - val_loss: nan\n",
            "\n",
            "Epoch 00006: val_loss did not improve from inf\n",
            "\n",
            "Epoch 00006: ReduceLROnPlateau reducing learning rate to 0.001.\n",
            "Epoch 7/20\n",
            "100/100 [==============================] - 6s 64ms/step - loss: 0.0013 - val_loss: nan\n",
            "\n",
            "Epoch 00007: val_loss did not improve from inf\n",
            "\n",
            "Epoch 00007: ReduceLROnPlateau reducing learning rate to 0.001.\n",
            "Epoch 8/20\n",
            "100/100 [==============================] - 6s 64ms/step - loss: 0.0010 - val_loss: nan\n",
            "\n",
            "Epoch 00008: val_loss did not improve from inf\n",
            "\n",
            "Epoch 00008: ReduceLROnPlateau reducing learning rate to 0.001.\n",
            "Epoch 9/20\n",
            "100/100 [==============================] - 6s 64ms/step - loss: 0.0013 - val_loss: nan\n",
            "\n",
            "Epoch 00009: val_loss did not improve from inf\n",
            "\n",
            "Epoch 00009: ReduceLROnPlateau reducing learning rate to 0.001.\n",
            "Epoch 10/20\n",
            "100/100 [==============================] - 7s 65ms/step - loss: 0.0010 - val_loss: nan\n",
            "\n",
            "Epoch 00010: val_loss did not improve from inf\n",
            "\n",
            "Epoch 00010: ReduceLROnPlateau reducing learning rate to 0.001.\n",
            "Epoch 00010: early stopping\n",
            "CPU times: user 58 s, sys: 13.7 s, total: 1min 11s\n",
            "Wall time: 1min 10s\n"
          ],
          "name": "stdout"
        },
        {
          "output_type": "execute_result",
          "data": {
            "text/plain": [
              "<tensorflow.python.keras.callbacks.History at 0x7f41805aff28>"
            ]
          },
          "metadata": {
            "tags": []
          },
          "execution_count": 53
        }
      ]
    },
    {
      "cell_type": "code",
      "metadata": {
        "id": "rfeAzPNIGn0D"
      },
      "source": [
        "def plot_comparison_train(start_idx, length=100, train=True):\n",
        "    \"\"\"\n",
        "    Plot the predicted and true output-signals.\n",
        "    \n",
        "    :param start_idx: Start-index for the time-series.\n",
        "    :param length: Sequence-length to process and plot.\n",
        "    :param train: Boolean whether to use training- or test-set.\n",
        "    \"\"\"\n",
        "    \n",
        "    if train:\n",
        "        # Use training-data.\n",
        "        x = x_train_scaled\n",
        "        y_true = y_train\n",
        "    if not train:\n",
        "        # Use test-data.\n",
        "        x = x_test_scaled\n",
        "        y_true = y_test\n",
        "    \n",
        "    # End-index for the sequences.\n",
        "    end_idx = start_idx + length\n",
        "    \n",
        "    # Select the sequences from the given start-index and\n",
        "    # of the given length.\n",
        "    x = x[start_idx:end_idx]\n",
        "    y_true = y_true[start_idx:end_idx]\n",
        "    \n",
        "    # Input-signals for the model.\n",
        "    x = np.expand_dims(x, axis=0)\n",
        "\n",
        "    # Use the model to predict the output-signals.\n",
        "    y_pred = model.predict(x)\n",
        "    \n",
        "    # The output of the model is between 0 and 1.\n",
        "    # Do an inverse map to get it back to the scale\n",
        "    # of the original data-set.\n",
        "    y_pred_rescaled = y_scaler.inverse_transform(y_pred[0])\n",
        "    # print(len(y_pred_rescaled))\n",
        "\n",
        "    if train:\n",
        "      # 바이러스 V형, S형은 더이상 검출되지 않으므로, 이태원클럽 이후에 퍼진 GH형만 따져보자\n",
        "      # 즉 이태원 이후의 데이터만 신경을 쓰기로 한다. 1월 24일 ~ 5월 2일 데이터는 무시\n",
        "      warmup_steps = 100\n",
        "    if not train:\n",
        "      warmup_steps = 0\n",
        "    \n",
        "    # For each output-signal.\n",
        "    for signal in range(len(target_names)):\n",
        "        # Get the output-signal predicted by the model.\n",
        "        signal_pred = y_pred_rescaled[:, signal]\n",
        "        \n",
        "        # Get the true output-signal from the data-set.\n",
        "        # print(signal)\n",
        "        signal_true = y_true[:, signal]\n",
        "\n",
        "        # Make the plotting-canvas bigger.\n",
        "        plt.figure(figsize=(15,5))\n",
        "        \n",
        "        # Plot and compare the two signals.\n",
        "        plt.plot(signal_true, label='true')\n",
        "        plt.plot(signal_pred, label='pred')\n",
        "        \n",
        "        # Plot grey box for warmup-period.\n",
        "        p = plt.axvspan(0, warmup_steps, facecolor='black', alpha=0.15)\n",
        "        \n",
        "        # Plot labels etc.\n",
        "        plt.ylabel(target_names[signal])\n",
        "        plt.legend()\n",
        "        plt.show()\n",
        "    return y_pred_rescaled"
      ],
      "execution_count": 54,
      "outputs": []
    },
    {
      "cell_type": "code",
      "metadata": {
        "id": "u3DogFygGrdD",
        "colab": {
          "base_uri": "https://localhost:8080/",
          "height": 1000
        },
        "outputId": "0392797e-bfc4-4969-91b4-89f2a5ea76bc"
      },
      "source": [
        "plot_comparison_train(start_idx=0, length=len(x_data), train=True)"
      ],
      "execution_count": 55,
      "outputs": [
        {
          "output_type": "display_data",
          "data": {
            "image/png": "[encoded data removed]",
            "text/plain": [
              "<Figure size 1080x360 with 1 Axes>"
            ]
          },
          "metadata": {
            "tags": [],
            "needs_background": "light"
          }
        },
        {
          "output_type": "execute_result",
          "data": {
            "text/plain": [
              "array([[168.21155  ],\n",
              "       [ 96.31845  ],\n",
              "       [ 48.12196  ],\n",
              "       [ 25.59613  ],\n",
              "       [ 16.52188  ],\n",
              "       [ 13.58657  ],\n",
              "       [  6.8157835],\n",
              "       [  4.3575873],\n",
              "       [  2.8716264],\n",
              "       [  1.9588151],\n",
              "       [  1.6935289],\n",
              "       [  1.7978696],\n",
              "       [  2.2233806],\n",
              "       [  2.148776 ],\n",
              "       [  2.8867204],\n",
              "       [  5.022904 ],\n",
              "       [ 10.647789 ],\n",
              "       [ 24.648111 ],\n",
              "       [ 50.394062 ],\n",
              "       [ 85.90993  ],\n",
              "       [ 83.37456  ],\n",
              "       [ 98.46351  ],\n",
              "       [ 93.80665  ],\n",
              "       [ 62.487827 ],\n",
              "       [ 29.184372 ],\n",
              "       [ 15.959035 ],\n",
              "       [ 11.543228 ],\n",
              "       [  6.8149724],\n",
              "       [  5.5456896],\n",
              "       [  4.8258023],\n",
              "       [  4.0478086],\n",
              "       [  3.5896156],\n",
              "       [  3.3613782],\n",
              "       [  9.264383 ],\n",
              "       [  6.47279  ],\n",
              "       [  5.8066998],\n",
              "       [  5.063397 ],\n",
              "       [  4.412442 ],\n",
              "       [  4.4830537],\n",
              "       [  5.1827435],\n",
              "       [  7.3655314],\n",
              "       [  8.913366 ],\n",
              "       [ 12.9072485],\n",
              "       [ 17.840368 ],\n",
              "       [ 24.695137 ],\n",
              "       [ 30.876883 ],\n",
              "       [ 39.762325 ],\n",
              "       [ 60.00543  ],\n",
              "       [ 48.08331  ],\n",
              "       [ 50.23975  ],\n",
              "       [ 47.026474 ],\n",
              "       [ 36.492836 ],\n",
              "       [ 20.168446 ],\n",
              "       [ 11.175713 ],\n",
              "       [  7.905754 ],\n",
              "       [  4.3188677],\n",
              "       [  3.6161056],\n",
              "       [  3.6711452],\n",
              "       [  4.1475496],\n",
              "       [  6.1226673],\n",
              "       [ 10.283405 ],\n",
              "       [ 15.9032   ],\n",
              "       [ 15.040736 ],\n",
              "       [ 16.14153  ],\n",
              "       [ 18.286572 ],\n",
              "       [ 25.64593  ],\n",
              "       [ 38.233196 ],\n",
              "       [ 52.379738 ],\n",
              "       [ 74.63825  ],\n",
              "       [ 59.74475  ],\n",
              "       [ 60.37626  ],\n",
              "       [ 52.89064  ],\n",
              "       [ 34.143208 ],\n",
              "       [ 15.2226925],\n",
              "       [  7.356371 ],\n",
              "       [  4.7176304],\n",
              "       [  2.421734 ],\n",
              "       [  1.9402804],\n",
              "       [  1.9441565],\n",
              "       [  2.129554 ],\n",
              "       [  2.7997074],\n",
              "       [  3.6589189],\n",
              "       [  4.46467  ],\n",
              "       [  3.6056478],\n",
              "       [  3.9205291],\n",
              "       [  5.2366924],\n",
              "       [  8.3578005],\n",
              "       [ 14.701631 ],\n",
              "       [ 23.302452 ],\n",
              "       [ 33.7581   ],\n",
              "       [ 27.502937 ],\n",
              "       [ 26.572535 ],\n",
              "       [ 19.370905 ],\n",
              "       [ 23.063896 ],\n",
              "       [ 19.067833 ],\n",
              "       [ 15.805548 ],\n",
              "       [ 13.286615 ],\n",
              "       [  8.066929 ],\n",
              "       [ 11.201034 ],\n",
              "       [  5.996707 ],\n",
              "       [  3.6329803],\n",
              "       [  2.9130683],\n",
              "       [  2.3401735],\n",
              "       [  2.278072 ],\n",
              "       [  1.8025755],\n",
              "       [  2.067143 ],\n",
              "       [  2.782059 ],\n",
              "       [  3.8471706],\n",
              "       [  5.3723507],\n",
              "       [  6.264589 ],\n",
              "       [  7.0581903],\n",
              "       [  5.4348316],\n",
              "       [  5.754237 ],\n",
              "       [  6.4139085],\n",
              "       [  7.5366874],\n",
              "       [  9.6043005],\n",
              "       [ 12.001321 ],\n",
              "       [ 14.331841 ],\n",
              "       [ 11.775612 ],\n",
              "       [ 13.941563 ],\n",
              "       [ 16.261772 ],\n",
              "       [ 17.127014 ],\n",
              "       [ 15.2532015],\n",
              "       [ 13.491747 ],\n",
              "       [ 14.77424  ],\n",
              "       [ 11.2029   ],\n",
              "       [ 11.155991 ],\n",
              "       [ 10.974995 ],\n",
              "       [ 11.849589 ],\n",
              "       [ 14.843486 ],\n",
              "       [ 32.047398 ],\n",
              "       [ 37.177822 ],\n",
              "       [ 22.249247 ],\n",
              "       [ 19.889935 ],\n",
              "       [ 18.124918 ],\n",
              "       [ 16.852198 ],\n",
              "       [ 13.195883 ],\n",
              "       [  8.170713 ],\n",
              "       [  6.0388427],\n",
              "       [  3.8757818],\n",
              "       [  4.432577 ],\n",
              "       [  5.811219 ],\n",
              "       [  7.773977 ],\n",
              "       [  9.994677 ],\n",
              "       [ 10.827423 ],\n",
              "       [ 10.728887 ],\n",
              "       [  7.4244018],\n",
              "       [  7.331217 ],\n",
              "       [  8.620335 ],\n",
              "       [ 10.884328 ],\n",
              "       [ 13.645185 ],\n",
              "       [ 15.298303 ],\n",
              "       [ 16.905577 ],\n",
              "       [ 11.673659 ],\n",
              "       [ 11.2323885],\n",
              "       [ 10.9154005],\n",
              "       [ 10.261529 ],\n",
              "       [ 10.16369  ],\n",
              "       [ 10.170793 ],\n",
              "       [ 10.4193325],\n",
              "       [  7.0863347],\n",
              "       [  6.3659754],\n",
              "       [  6.405918 ],\n",
              "       [  7.315264 ],\n",
              "       [  9.724161 ],\n",
              "       [ 14.278587 ],\n",
              "       [ 19.6161   ],\n",
              "       [ 15.23096  ],\n",
              "       [ 13.9210005],\n",
              "       [ 12.8437395],\n",
              "       [ 12.439085 ],\n",
              "       [ 13.70291  ],\n",
              "       [ 17.649397 ],\n",
              "       [ 27.120403 ],\n",
              "       [ 25.454037 ],\n",
              "       [ 27.421648 ],\n",
              "       [ 27.17951  ],\n",
              "       [ 23.703594 ],\n",
              "       [ 17.961134 ],\n",
              "       [ 17.061922 ],\n",
              "       [ 20.502745 ],\n",
              "       [ 15.76553  ],\n",
              "       [ 13.406386 ],\n",
              "       [ 10.989342 ],\n",
              "       [  8.898785 ],\n",
              "       [  8.025027 ],\n",
              "       [  9.712576 ],\n",
              "       [ 14.3367195],\n",
              "       [ 12.59519  ],\n",
              "       [ 12.895842 ],\n",
              "       [ 14.494941 ],\n",
              "       [ 22.952755 ],\n",
              "       [ 43.540928 ],\n",
              "       [ 82.63106  ],\n",
              "       [136.35422  ],\n",
              "       [120.59058  ],\n",
              "       [128.61691  ],\n",
              "       [129.53441  ],\n",
              "       [128.17223  ],\n",
              "       [129.18236  ],\n",
              "       [125.333    ],\n",
              "       [141.58849  ],\n",
              "       [106.71026  ],\n",
              "       [132.8553   ],\n",
              "       [136.31326  ],\n",
              "       [152.06471  ],\n",
              "       [163.72594  ],\n",
              "       [116.23544  ],\n",
              "       [165.3307   ],\n",
              "       [ 82.325676 ],\n",
              "       [101.2816   ],\n",
              "       [ 85.16317  ],\n",
              "       [ 64.844185 ],\n",
              "       [ 72.28959  ],\n",
              "       [ 52.665337 ],\n",
              "       [ 59.468365 ],\n",
              "       [ 58.44801  ],\n",
              "       [ 56.098038 ],\n",
              "       [ 51.542213 ],\n",
              "       [ 53.874817 ],\n",
              "       [ 55.263424 ],\n",
              "       [ 46.519657 ],\n",
              "       [ 52.428753 ],\n",
              "       [ 42.753952 ],\n",
              "       [ 41.08244  ],\n",
              "       [ 46.240803 ],\n",
              "       [ 51.102337 ],\n",
              "       [ 47.88613  ],\n",
              "       [ 41.668545 ],\n",
              "       [ 33.546425 ],\n",
              "       [ 30.058441 ],\n",
              "       [ 36.01265  ],\n",
              "       [ 38.235683 ],\n",
              "       [ 39.16828  ],\n",
              "       [ 35.49328  ],\n",
              "       [ 27.953314 ],\n",
              "       [ 27.04091  ],\n",
              "       [ 25.685066 ],\n",
              "       [ 23.651983 ],\n",
              "       [ 28.329165 ],\n",
              "       [ 29.978779 ],\n",
              "       [ 30.929043 ],\n",
              "       [ 25.692875 ],\n",
              "       [ 24.970718 ],\n",
              "       [ 22.850903 ],\n",
              "       [ 15.975357 ],\n",
              "       [ 15.403824 ],\n",
              "       [ 18.074087 ],\n",
              "       [ 20.181519 ],\n",
              "       [ 27.01021  ],\n",
              "       [ 27.647886 ],\n",
              "       [ 22.87981  ],\n",
              "       [ 19.02431  ],\n",
              "       [ 17.420113 ],\n",
              "       [ 14.300778 ],\n",
              "       [ 19.586388 ],\n",
              "       [ 19.233353 ],\n",
              "       [ 18.927551 ],\n",
              "       [ 16.140083 ],\n",
              "       [ 16.374598 ],\n",
              "       [ 16.810995 ],\n",
              "       [ 17.343931 ],\n",
              "       [ 16.953146 ],\n",
              "       [ 15.311014 ],\n",
              "       [ 15.260705 ],\n",
              "       [ 14.40106  ],\n",
              "       [ 16.704433 ],\n",
              "       [ 25.041908 ],\n",
              "       [ 41.59434  ],\n",
              "       [ 51.316227 ],\n",
              "       [ 46.167904 ],\n",
              "       [ 44.21402  ],\n",
              "       [ 36.7797   ],\n",
              "       [ 33.19548  ],\n",
              "       [ 40.760883 ],\n",
              "       [ 48.787525 ],\n",
              "       [ 54.793594 ],\n",
              "       [ 50.817726 ],\n",
              "       [ 47.61031  ],\n",
              "       [ 43.756275 ],\n",
              "       [ 45.620045 ],\n",
              "       [ 50.60892  ],\n",
              "       [ 60.230667 ],\n",
              "       [ 78.131386 ],\n",
              "       [ 85.82943  ],\n",
              "       [ 83.0708   ],\n",
              "       [ 74.857    ],\n",
              "       [ 73.42736  ],\n",
              "       [ 92.73063  ],\n",
              "       [115.82733  ],\n",
              "       [140.4715   ],\n",
              "       [143.05907  ],\n",
              "       [137.39177  ],\n",
              "       [129.95804  ],\n",
              "       [130.09615  ],\n",
              "       [153.0338   ],\n",
              "       [211.56062  ],\n",
              "       [222.24518  ],\n",
              "       [174.9675   ],\n",
              "       [165.55928  ],\n",
              "       [149.52159  ],\n",
              "       [167.91289  ],\n",
              "       [188.40768  ],\n",
              "       [263.45602  ],\n",
              "       [294.72342  ],\n",
              "       [240.00467  ],\n",
              "       [238.47324  ],\n",
              "       [235.82101  ],\n",
              "       [226.84068  ],\n",
              "       [267.21738  ],\n",
              "       [274.857    ],\n",
              "       [280.92288  ],\n",
              "       [355.87415  ],\n",
              "       [311.3702   ],\n",
              "       [244.73206  ],\n",
              "       [265.61942  ],\n",
              "       [380.36154  ],\n",
              "       [430.36795  ],\n",
              "       [400.76776  ],\n",
              "       [299.94492  ],\n",
              "       [479.4555   ],\n",
              "       [350.3153   ],\n",
              "       [336.95264  ],\n",
              "       [389.51782  ],\n",
              "       [331.9128   ],\n",
              "       [541.20135  ],\n",
              "       [479.53662  ],\n",
              "       [343.5195   ]], dtype=float32)"
            ]
          },
          "metadata": {
            "tags": []
          },
          "execution_count": 55
        }
      ]
    },
    {
      "cell_type": "code",
      "metadata": {
        "id": "TIMUP_PTI3tP",
        "colab": {
          "base_uri": "https://localhost:8080/",
          "height": 406
        },
        "outputId": "a5d54e95-0cf4-474d-b43f-a1b8cbd66131"
      },
      "source": [
        "plot_comparison_train(start_idx=0, length=5, train=False)"
      ],
      "execution_count": 56,
      "outputs": [
        {
          "output_type": "display_data",
          "data": {
            "image/png": "[encoded data removed]",
            "text/plain": [
              "<Figure size 1080x360 with 1 Axes>"
            ]
          },
          "metadata": {
            "tags": [],
            "needs_background": "light"
          }
        },
        {
          "output_type": "execute_result",
          "data": {
            "text/plain": [
              "array([[500.552  ],\n",
              "       [469.7735 ],\n",
              "       [457.32355],\n",
              "       [508.67627],\n",
              "       [412.559  ]], dtype=float32)"
            ]
          },
          "metadata": {
            "tags": []
          },
          "execution_count": 56
        }
      ]
    },
    {
      "cell_type": "code",
      "metadata": {
        "id": "fzAuLZBErFLw"
      },
      "source": [
        ""
      ],
      "execution_count": null,
      "outputs": []
    }
  ]
}