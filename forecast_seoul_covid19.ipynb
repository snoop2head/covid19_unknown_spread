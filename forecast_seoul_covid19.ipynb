{
  "nbformat": 4,
  "nbformat_minor": 0,
  "metadata": {
    "colab": {
      "name": "forecast_seoul_covid19.ipynb",
      "provenance": [],
      "collapsed_sections": [],
      "machine_shape": "hm",
      "authorship_tag": "ABX9TyN+FeEnrOlRK8VYrQns3V7E",
      "include_colab_link": true
    },
    "kernelspec": {
      "name": "python3",
      "display_name": "Python 3"
    },
    "accelerator": "GPU"
  },
  "cells": [
    {
      "cell_type": "markdown",
      "metadata": {
        "id": "view-in-github",
        "colab_type": "text"
      },
      "source": [
        "<a href=\"https://colab.research.google.com/github/snoop2head/covid19_unknown_spread/blob/master/forecast_seoul_covid19.ipynb\" target=\"_parent\"><img src=\"https://colab.research.google.com/assets/colab-badge.svg\" alt=\"Open In Colab\"/></a>"
      ]
    },
    {
      "cell_type": "code",
      "metadata": {
        "id": "q4tM2iY-SA5N",
        "colab_type": "code",
        "colab": {}
      },
      "source": [
        ""
      ],
      "execution_count": null,
      "outputs": []
    },
    {
      "cell_type": "markdown",
      "metadata": {
        "id": "BMak-LGsSDQP",
        "colab_type": "text"
      },
      "source": [
        "reference: https://github.com/Hvass-Labs/TensorFlow-Tutorials/blob/master/23_Time-Series-Prediction.ipynb"
      ]
    },
    {
      "cell_type": "code",
      "metadata": {
        "id": "Yf-Ml7YLZY3-",
        "colab_type": "code",
        "colab": {
          "base_uri": "https://localhost:8080/",
          "height": 35
        },
        "outputId": "70bf6115-9675-4c4e-b53d-c67efcaeaf54"
      },
      "source": [
        "!git clone https://github.com/snoop2head/covid19_unknown_spread"
      ],
      "execution_count": 1,
      "outputs": [
        {
          "output_type": "stream",
          "text": [
            "fatal: destination path 'covid19_unknown_spread' already exists and is not an empty directory.\n"
          ],
          "name": "stdout"
        }
      ]
    },
    {
      "cell_type": "code",
      "metadata": {
        "id": "SJgI1suGZz3x",
        "colab_type": "code",
        "colab": {
          "base_uri": "https://localhost:8080/",
          "height": 35
        },
        "outputId": "b61e935e-7ea6-4a93-ac32-b4d187f93774"
      },
      "source": [
        "!ls"
      ],
      "execution_count": 2,
      "outputs": [
        {
          "output_type": "stream",
          "text": [
            "covid19_unknown_spread\tsample_data\n"
          ],
          "name": "stdout"
        }
      ]
    },
    {
      "cell_type": "code",
      "metadata": {
        "id": "8ANvvQL4Z4BS",
        "colab_type": "code",
        "colab": {
          "base_uri": "https://localhost:8080/",
          "height": 35
        },
        "outputId": "d2f35183-d39c-40bd-8d26-b7185374bec3"
      },
      "source": [
        "%cd covid19_unknown_spread/"
      ],
      "execution_count": 3,
      "outputs": [
        {
          "output_type": "stream",
          "text": [
            "/content/covid19_unknown_spread\n"
          ],
          "name": "stdout"
        }
      ]
    },
    {
      "cell_type": "code",
      "metadata": {
        "id": "Q76XJFalDZup",
        "colab_type": "code",
        "colab": {
          "base_uri": "https://localhost:8080/",
          "height": 52
        },
        "outputId": "35ceab29-0db9-48cf-c6df-6d977fa79a7c"
      },
      "source": [
        "import numpy as np\n",
        "import pandas as pd\n",
        "print(pd.__version__)\n",
        "print(np.__version__)"
      ],
      "execution_count": 4,
      "outputs": [
        {
          "output_type": "stream",
          "text": [
            "1.0.5\n",
            "1.18.5\n"
          ],
          "name": "stdout"
        }
      ]
    },
    {
      "cell_type": "code",
      "metadata": {
        "id": "ytaU29PvZ8n-",
        "colab_type": "code",
        "colab": {
          "base_uri": "https://localhost:8080/",
          "height": 228
        },
        "outputId": "fb975ab4-44bd-40e0-babb-1673d002b047"
      },
      "source": [
        "df = pd.read_csv(\"dataset_predict/df_train.csv\", encoding=\"utf-8\")\n",
        "df = df.set_index(\"date\")\n",
        "df = df.fillna(0)\n",
        "df.head()"
      ],
      "execution_count": 5,
      "outputs": [
        {
          "output_type": "execute_result",
          "data": {
            "text/html": [
              "<div>\n",
              "<style scoped>\n",
              "    .dataframe tbody tr th:only-of-type {\n",
              "        vertical-align: middle;\n",
              "    }\n",
              "\n",
              "    .dataframe tbody tr th {\n",
              "        vertical-align: top;\n",
              "    }\n",
              "\n",
              "    .dataframe thead th {\n",
              "        text-align: right;\n",
              "    }\n",
              "</style>\n",
              "<table border=\"1\" class=\"dataframe\">\n",
              "  <thead>\n",
              "    <tr style=\"text-align: right;\">\n",
              "      <th></th>\n",
              "      <th>new_confirmed</th>\n",
              "      <th>new_untracked</th>\n",
              "      <th>new_no_paths</th>\n",
              "      <th>is_holiday</th>\n",
              "      <th>is_weekend</th>\n",
              "      <th>gov_policy</th>\n",
              "    </tr>\n",
              "    <tr>\n",
              "      <th>date</th>\n",
              "      <th></th>\n",
              "      <th></th>\n",
              "      <th></th>\n",
              "      <th></th>\n",
              "      <th></th>\n",
              "      <th></th>\n",
              "    </tr>\n",
              "  </thead>\n",
              "  <tbody>\n",
              "    <tr>\n",
              "      <th>2020-01-24</th>\n",
              "      <td>1</td>\n",
              "      <td>0</td>\n",
              "      <td>0.0</td>\n",
              "      <td>1</td>\n",
              "      <td>1</td>\n",
              "      <td>0</td>\n",
              "    </tr>\n",
              "    <tr>\n",
              "      <th>2020-01-25</th>\n",
              "      <td>0</td>\n",
              "      <td>0</td>\n",
              "      <td>0.0</td>\n",
              "      <td>1</td>\n",
              "      <td>1</td>\n",
              "      <td>0</td>\n",
              "    </tr>\n",
              "    <tr>\n",
              "      <th>2020-01-26</th>\n",
              "      <td>0</td>\n",
              "      <td>0</td>\n",
              "      <td>0.0</td>\n",
              "      <td>1</td>\n",
              "      <td>1</td>\n",
              "      <td>0</td>\n",
              "    </tr>\n",
              "    <tr>\n",
              "      <th>2020-01-27</th>\n",
              "      <td>0</td>\n",
              "      <td>0</td>\n",
              "      <td>0.0</td>\n",
              "      <td>0</td>\n",
              "      <td>0</td>\n",
              "      <td>0</td>\n",
              "    </tr>\n",
              "    <tr>\n",
              "      <th>2020-01-28</th>\n",
              "      <td>0</td>\n",
              "      <td>0</td>\n",
              "      <td>0.0</td>\n",
              "      <td>0</td>\n",
              "      <td>0</td>\n",
              "      <td>0</td>\n",
              "    </tr>\n",
              "  </tbody>\n",
              "</table>\n",
              "</div>"
            ],
            "text/plain": [
              "            new_confirmed  new_untracked  ...  is_weekend  gov_policy\n",
              "date                                      ...                        \n",
              "2020-01-24              1              0  ...           1           0\n",
              "2020-01-25              0              0  ...           1           0\n",
              "2020-01-26              0              0  ...           1           0\n",
              "2020-01-27              0              0  ...           0           0\n",
              "2020-01-28              0              0  ...           0           0\n",
              "\n",
              "[5 rows x 6 columns]"
            ]
          },
          "metadata": {
            "tags": []
          },
          "execution_count": 5
        }
      ]
    },
    {
      "cell_type": "code",
      "metadata": {
        "id": "GmuWhLq3aDbJ",
        "colab_type": "code",
        "colab": {
          "base_uri": "https://localhost:8080/",
          "height": 228
        },
        "outputId": "c87f7d30-4cba-4162-b617-00b645d86e27"
      },
      "source": [
        "df.tail()"
      ],
      "execution_count": 6,
      "outputs": [
        {
          "output_type": "execute_result",
          "data": {
            "text/html": [
              "<div>\n",
              "<style scoped>\n",
              "    .dataframe tbody tr th:only-of-type {\n",
              "        vertical-align: middle;\n",
              "    }\n",
              "\n",
              "    .dataframe tbody tr th {\n",
              "        vertical-align: top;\n",
              "    }\n",
              "\n",
              "    .dataframe thead th {\n",
              "        text-align: right;\n",
              "    }\n",
              "</style>\n",
              "<table border=\"1\" class=\"dataframe\">\n",
              "  <thead>\n",
              "    <tr style=\"text-align: right;\">\n",
              "      <th></th>\n",
              "      <th>new_confirmed</th>\n",
              "      <th>new_untracked</th>\n",
              "      <th>new_no_paths</th>\n",
              "      <th>is_holiday</th>\n",
              "      <th>is_weekend</th>\n",
              "      <th>gov_policy</th>\n",
              "    </tr>\n",
              "    <tr>\n",
              "      <th>date</th>\n",
              "      <th></th>\n",
              "      <th></th>\n",
              "      <th></th>\n",
              "      <th></th>\n",
              "      <th></th>\n",
              "      <th></th>\n",
              "    </tr>\n",
              "  </thead>\n",
              "  <tbody>\n",
              "    <tr>\n",
              "      <th>2020-09-14</th>\n",
              "      <td>36</td>\n",
              "      <td>10</td>\n",
              "      <td>10.0</td>\n",
              "      <td>0</td>\n",
              "      <td>0</td>\n",
              "      <td>0</td>\n",
              "    </tr>\n",
              "    <tr>\n",
              "      <th>2020-09-15</th>\n",
              "      <td>49</td>\n",
              "      <td>14</td>\n",
              "      <td>13.0</td>\n",
              "      <td>0</td>\n",
              "      <td>0</td>\n",
              "      <td>0</td>\n",
              "    </tr>\n",
              "    <tr>\n",
              "      <th>2020-09-16</th>\n",
              "      <td>62</td>\n",
              "      <td>27</td>\n",
              "      <td>16.0</td>\n",
              "      <td>0</td>\n",
              "      <td>0</td>\n",
              "      <td>0</td>\n",
              "    </tr>\n",
              "    <tr>\n",
              "      <th>2020-09-17</th>\n",
              "      <td>43</td>\n",
              "      <td>13</td>\n",
              "      <td>15.0</td>\n",
              "      <td>0</td>\n",
              "      <td>0</td>\n",
              "      <td>0</td>\n",
              "    </tr>\n",
              "    <tr>\n",
              "      <th>2020-09-18</th>\n",
              "      <td>40</td>\n",
              "      <td>8</td>\n",
              "      <td>10.0</td>\n",
              "      <td>0</td>\n",
              "      <td>1</td>\n",
              "      <td>0</td>\n",
              "    </tr>\n",
              "  </tbody>\n",
              "</table>\n",
              "</div>"
            ],
            "text/plain": [
              "            new_confirmed  new_untracked  ...  is_weekend  gov_policy\n",
              "date                                      ...                        \n",
              "2020-09-14             36             10  ...           0           0\n",
              "2020-09-15             49             14  ...           0           0\n",
              "2020-09-16             62             27  ...           0           0\n",
              "2020-09-17             43             13  ...           0           0\n",
              "2020-09-18             40              8  ...           1           0\n",
              "\n",
              "[5 rows x 6 columns]"
            ]
          },
          "metadata": {
            "tags": []
          },
          "execution_count": 6
        }
      ]
    },
    {
      "cell_type": "code",
      "metadata": {
        "id": "ns-8GDY-abLD",
        "colab_type": "code",
        "colab": {
          "base_uri": "https://localhost:8080/",
          "height": 52
        },
        "outputId": "05eea29d-708f-4c4c-bf64-ed911f965c61"
      },
      "source": [
        "%matplotlib inline\n",
        "import matplotlib.pyplot as plt\n",
        "import tensorflow as tf\n",
        "import os\n",
        "from sklearn.preprocessing import MinMaxScaler\n",
        "\n",
        "from tensorflow.keras.models import Sequential\n",
        "from tensorflow.keras.layers import Input, Dense, GRU, Embedding\n",
        "from tensorflow.keras.optimizers import RMSprop\n",
        "from tensorflow.keras.callbacks import EarlyStopping, ModelCheckpoint, TensorBoard, ReduceLROnPlateau\n",
        "from tensorflow.keras.backend import square, mean\n",
        "\n",
        "print(tf.keras.__version__)\n",
        "print(tf.__version__)"
      ],
      "execution_count": 7,
      "outputs": [
        {
          "output_type": "stream",
          "text": [
            "2.4.0\n",
            "2.3.0\n"
          ],
          "name": "stdout"
        }
      ]
    },
    {
      "cell_type": "code",
      "metadata": {
        "id": "LAirwKe5w3zz",
        "colab_type": "code",
        "colab": {
          "base_uri": "https://localhost:8080/",
          "height": 377
        },
        "outputId": "00821e6b-07c8-4eea-c97c-72909d38a63d"
      },
      "source": [
        "plot_cols = ['new_confirmed', 'new_untracked', 'new_no_paths']\n",
        "plot_features = df[plot_cols]\n",
        "_ = plot_features.plot(subplots=True, figsize=(16,9))"
      ],
      "execution_count": 8,
      "outputs": [
        {
          "output_type": "display_data",
          "data": {
            "image/png": "[encoded data removed]",
            "text/plain": [
              "<Figure size 1152x648 with 3 Axes>"
            ]
          },
          "metadata": {
            "tags": [],
            "needs_background": "light"
          }
        }
      ]
    },
    {
      "cell_type": "code",
      "metadata": {
        "id": "yjf4-h4QxXgF",
        "colab_type": "code",
        "colab": {
          "base_uri": "https://localhost:8080/",
          "height": 228
        },
        "outputId": "12da4da5-00dd-4f06-9865-2ddd22181cf5"
      },
      "source": [
        "df.describe().transpose()"
      ],
      "execution_count": 9,
      "outputs": [
        {
          "output_type": "execute_result",
          "data": {
            "text/html": [
              "<div>\n",
              "<style scoped>\n",
              "    .dataframe tbody tr th:only-of-type {\n",
              "        vertical-align: middle;\n",
              "    }\n",
              "\n",
              "    .dataframe tbody tr th {\n",
              "        vertical-align: top;\n",
              "    }\n",
              "\n",
              "    .dataframe thead th {\n",
              "        text-align: right;\n",
              "    }\n",
              "</style>\n",
              "<table border=\"1\" class=\"dataframe\">\n",
              "  <thead>\n",
              "    <tr style=\"text-align: right;\">\n",
              "      <th></th>\n",
              "      <th>count</th>\n",
              "      <th>mean</th>\n",
              "      <th>std</th>\n",
              "      <th>min</th>\n",
              "      <th>25%</th>\n",
              "      <th>50%</th>\n",
              "      <th>75%</th>\n",
              "      <th>max</th>\n",
              "    </tr>\n",
              "  </thead>\n",
              "  <tbody>\n",
              "    <tr>\n",
              "      <th>new_confirmed</th>\n",
              "      <td>239.0</td>\n",
              "      <td>20.686192</td>\n",
              "      <td>33.818439</td>\n",
              "      <td>0.0</td>\n",
              "      <td>3.0</td>\n",
              "      <td>9.0</td>\n",
              "      <td>18.5</td>\n",
              "      <td>167.0</td>\n",
              "    </tr>\n",
              "    <tr>\n",
              "      <th>new_untracked</th>\n",
              "      <td>239.0</td>\n",
              "      <td>3.652720</td>\n",
              "      <td>7.765517</td>\n",
              "      <td>0.0</td>\n",
              "      <td>0.0</td>\n",
              "      <td>1.0</td>\n",
              "      <td>3.0</td>\n",
              "      <td>44.0</td>\n",
              "    </tr>\n",
              "    <tr>\n",
              "      <th>new_no_paths</th>\n",
              "      <td>239.0</td>\n",
              "      <td>3.460251</td>\n",
              "      <td>6.859139</td>\n",
              "      <td>0.0</td>\n",
              "      <td>0.0</td>\n",
              "      <td>1.0</td>\n",
              "      <td>2.0</td>\n",
              "      <td>36.0</td>\n",
              "    </tr>\n",
              "    <tr>\n",
              "      <th>is_holiday</th>\n",
              "      <td>239.0</td>\n",
              "      <td>0.033473</td>\n",
              "      <td>0.180245</td>\n",
              "      <td>0.0</td>\n",
              "      <td>0.0</td>\n",
              "      <td>0.0</td>\n",
              "      <td>0.0</td>\n",
              "      <td>1.0</td>\n",
              "    </tr>\n",
              "    <tr>\n",
              "      <th>is_weekend</th>\n",
              "      <td>239.0</td>\n",
              "      <td>0.430962</td>\n",
              "      <td>0.496250</td>\n",
              "      <td>0.0</td>\n",
              "      <td>0.0</td>\n",
              "      <td>0.0</td>\n",
              "      <td>1.0</td>\n",
              "      <td>1.0</td>\n",
              "    </tr>\n",
              "    <tr>\n",
              "      <th>gov_policy</th>\n",
              "      <td>239.0</td>\n",
              "      <td>0.351464</td>\n",
              "      <td>0.953712</td>\n",
              "      <td>0.0</td>\n",
              "      <td>0.0</td>\n",
              "      <td>0.0</td>\n",
              "      <td>0.0</td>\n",
              "      <td>3.0</td>\n",
              "    </tr>\n",
              "  </tbody>\n",
              "</table>\n",
              "</div>"
            ],
            "text/plain": [
              "               count       mean        std  min  25%  50%   75%    max\n",
              "new_confirmed  239.0  20.686192  33.818439  0.0  3.0  9.0  18.5  167.0\n",
              "new_untracked  239.0   3.652720   7.765517  0.0  0.0  1.0   3.0   44.0\n",
              "new_no_paths   239.0   3.460251   6.859139  0.0  0.0  1.0   2.0   36.0\n",
              "is_holiday     239.0   0.033473   0.180245  0.0  0.0  0.0   0.0    1.0\n",
              "is_weekend     239.0   0.430962   0.496250  0.0  0.0  0.0   1.0    1.0\n",
              "gov_policy     239.0   0.351464   0.953712  0.0  0.0  0.0   0.0    3.0"
            ]
          },
          "metadata": {
            "tags": []
          },
          "execution_count": 9
        }
      ]
    },
    {
      "cell_type": "code",
      "metadata": {
        "id": "3tszYPUvyInb",
        "colab_type": "code",
        "colab": {}
      },
      "source": [
        "shift_days = 1\n",
        "shift_steps = shift_days * 5"
      ],
      "execution_count": 10,
      "outputs": []
    },
    {
      "cell_type": "code",
      "metadata": {
        "id": "jYPgN7qkMMRS",
        "colab_type": "code",
        "colab": {}
      },
      "source": [
        "# column that we want to predict\n",
        "target_names = ['new_confirmed']\n",
        "df_targets = df[target_names]\n",
        "\n",
        "# shifting dataframe as much as steps\n",
        "df_targets = df_targets.shift(-shift_steps)"
      ],
      "execution_count": 11,
      "outputs": []
    },
    {
      "cell_type": "code",
      "metadata": {
        "id": "DYS4soq9ypn3",
        "colab_type": "code",
        "colab": {
          "base_uri": "https://localhost:8080/",
          "height": 228
        },
        "outputId": "ab1266f8-c679-49a0-dce2-123cea56b6d6"
      },
      "source": [
        "# you can check that top 5 data is topped out\n",
        "df_targets.head()"
      ],
      "execution_count": 12,
      "outputs": [
        {
          "output_type": "execute_result",
          "data": {
            "text/html": [
              "<div>\n",
              "<style scoped>\n",
              "    .dataframe tbody tr th:only-of-type {\n",
              "        vertical-align: middle;\n",
              "    }\n",
              "\n",
              "    .dataframe tbody tr th {\n",
              "        vertical-align: top;\n",
              "    }\n",
              "\n",
              "    .dataframe thead th {\n",
              "        text-align: right;\n",
              "    }\n",
              "</style>\n",
              "<table border=\"1\" class=\"dataframe\">\n",
              "  <thead>\n",
              "    <tr style=\"text-align: right;\">\n",
              "      <th></th>\n",
              "      <th>new_confirmed</th>\n",
              "    </tr>\n",
              "    <tr>\n",
              "      <th>date</th>\n",
              "      <th></th>\n",
              "    </tr>\n",
              "  </thead>\n",
              "  <tbody>\n",
              "    <tr>\n",
              "      <th>2020-01-24</th>\n",
              "      <td>0.0</td>\n",
              "    </tr>\n",
              "    <tr>\n",
              "      <th>2020-01-25</th>\n",
              "      <td>3.0</td>\n",
              "    </tr>\n",
              "    <tr>\n",
              "      <th>2020-01-26</th>\n",
              "      <td>3.0</td>\n",
              "    </tr>\n",
              "    <tr>\n",
              "      <th>2020-01-27</th>\n",
              "      <td>0.0</td>\n",
              "    </tr>\n",
              "    <tr>\n",
              "      <th>2020-01-28</th>\n",
              "      <td>1.0</td>\n",
              "    </tr>\n",
              "  </tbody>\n",
              "</table>\n",
              "</div>"
            ],
            "text/plain": [
              "            new_confirmed\n",
              "date                     \n",
              "2020-01-24            0.0\n",
              "2020-01-25            3.0\n",
              "2020-01-26            3.0\n",
              "2020-01-27            0.0\n",
              "2020-01-28            1.0"
            ]
          },
          "metadata": {
            "tags": []
          },
          "execution_count": 12
        }
      ]
    },
    {
      "cell_type": "code",
      "metadata": {
        "id": "DQumLZjK4q59",
        "colab_type": "code",
        "colab": {
          "base_uri": "https://localhost:8080/",
          "height": 378
        },
        "outputId": "d6c3bfc6-f030-47e4-bdd0-073e2cb4a030"
      },
      "source": [
        "df_targets.tail(10)"
      ],
      "execution_count": 13,
      "outputs": [
        {
          "output_type": "execute_result",
          "data": {
            "text/html": [
              "<div>\n",
              "<style scoped>\n",
              "    .dataframe tbody tr th:only-of-type {\n",
              "        vertical-align: middle;\n",
              "    }\n",
              "\n",
              "    .dataframe tbody tr th {\n",
              "        vertical-align: top;\n",
              "    }\n",
              "\n",
              "    .dataframe thead th {\n",
              "        text-align: right;\n",
              "    }\n",
              "</style>\n",
              "<table border=\"1\" class=\"dataframe\">\n",
              "  <thead>\n",
              "    <tr style=\"text-align: right;\">\n",
              "      <th></th>\n",
              "      <th>new_confirmed</th>\n",
              "    </tr>\n",
              "    <tr>\n",
              "      <th>date</th>\n",
              "      <th></th>\n",
              "    </tr>\n",
              "  </thead>\n",
              "  <tbody>\n",
              "    <tr>\n",
              "      <th>2020-09-09</th>\n",
              "      <td>36.0</td>\n",
              "    </tr>\n",
              "    <tr>\n",
              "      <th>2020-09-10</th>\n",
              "      <td>49.0</td>\n",
              "    </tr>\n",
              "    <tr>\n",
              "      <th>2020-09-11</th>\n",
              "      <td>62.0</td>\n",
              "    </tr>\n",
              "    <tr>\n",
              "      <th>2020-09-12</th>\n",
              "      <td>43.0</td>\n",
              "    </tr>\n",
              "    <tr>\n",
              "      <th>2020-09-13</th>\n",
              "      <td>40.0</td>\n",
              "    </tr>\n",
              "    <tr>\n",
              "      <th>2020-09-14</th>\n",
              "      <td>NaN</td>\n",
              "    </tr>\n",
              "    <tr>\n",
              "      <th>2020-09-15</th>\n",
              "      <td>NaN</td>\n",
              "    </tr>\n",
              "    <tr>\n",
              "      <th>2020-09-16</th>\n",
              "      <td>NaN</td>\n",
              "    </tr>\n",
              "    <tr>\n",
              "      <th>2020-09-17</th>\n",
              "      <td>NaN</td>\n",
              "    </tr>\n",
              "    <tr>\n",
              "      <th>2020-09-18</th>\n",
              "      <td>NaN</td>\n",
              "    </tr>\n",
              "  </tbody>\n",
              "</table>\n",
              "</div>"
            ],
            "text/plain": [
              "            new_confirmed\n",
              "date                     \n",
              "2020-09-09           36.0\n",
              "2020-09-10           49.0\n",
              "2020-09-11           62.0\n",
              "2020-09-12           43.0\n",
              "2020-09-13           40.0\n",
              "2020-09-14            NaN\n",
              "2020-09-15            NaN\n",
              "2020-09-16            NaN\n",
              "2020-09-17            NaN\n",
              "2020-09-18            NaN"
            ]
          },
          "metadata": {
            "tags": []
          },
          "execution_count": 13
        }
      ]
    },
    {
      "cell_type": "code",
      "metadata": {
        "id": "AJQKp05f28wz",
        "colab_type": "code",
        "colab": {
          "base_uri": "https://localhost:8080/",
          "height": 173
        },
        "outputId": "292c4457-f1cd-4266-edde-9899488c6dbe"
      },
      "source": [
        "x_data = df.values[shift_steps:]\n",
        "print(type(x_data))\n",
        "print(\"Shape:\", x_data.shape)\n",
        "x_data"
      ],
      "execution_count": 14,
      "outputs": [
        {
          "output_type": "stream",
          "text": [
            "<class 'numpy.ndarray'>\n",
            "Shape: (234, 6)\n"
          ],
          "name": "stdout"
        },
        {
          "output_type": "execute_result",
          "data": {
            "text/plain": [
              "array([[ 0.,  0.,  0.,  0.,  0.,  0.],\n",
              "       [ 3.,  0.,  1.,  0.,  0.,  0.],\n",
              "       [ 3.,  0.,  2.,  0.,  1.,  0.],\n",
              "       ...,\n",
              "       [62., 27., 16.,  0.,  0.,  0.],\n",
              "       [43., 13., 15.,  0.,  0.,  0.],\n",
              "       [40.,  8., 10.,  0.,  1.,  0.]])"
            ]
          },
          "metadata": {
            "tags": []
          },
          "execution_count": 14
        }
      ]
    },
    {
      "cell_type": "code",
      "metadata": {
        "id": "gIiV8SZP3A9g",
        "colab_type": "code",
        "colab": {
          "base_uri": "https://localhost:8080/",
          "height": 52
        },
        "outputId": "6d32fdd8-f462-400a-85ce-91c31784dc79"
      },
      "source": [
        "y_data = df_targets.values[shift_steps:]\n",
        "print(type(y_data))\n",
        "print(\"Shape:\", y_data.shape)"
      ],
      "execution_count": 15,
      "outputs": [
        {
          "output_type": "stream",
          "text": [
            "<class 'numpy.ndarray'>\n",
            "Shape: (234, 1)\n"
          ],
          "name": "stdout"
        }
      ]
    },
    {
      "cell_type": "code",
      "metadata": {
        "id": "2CmiM1xh6L_h",
        "colab_type": "code",
        "colab": {
          "base_uri": "https://localhost:8080/",
          "height": 35
        },
        "outputId": "42ce34c1-014f-49ce-8705-40d4c996f044"
      },
      "source": [
        "num_data = len(x_data)\n",
        "num_data"
      ],
      "execution_count": 16,
      "outputs": [
        {
          "output_type": "execute_result",
          "data": {
            "text/plain": [
              "234"
            ]
          },
          "metadata": {
            "tags": []
          },
          "execution_count": 16
        }
      ]
    },
    {
      "cell_type": "code",
      "metadata": {
        "id": "UkHX3R3X6P97",
        "colab_type": "code",
        "colab": {
          "base_uri": "https://localhost:8080/",
          "height": 35
        },
        "outputId": "4de391bf-b5e7-4881-b43d-da3cf0fd8388"
      },
      "source": [
        "# train_split = 0.9\n",
        "# num_train = int(train_split * num_data)\n",
        "num_train = num_data - 5\n",
        "num_train"
      ],
      "execution_count": 17,
      "outputs": [
        {
          "output_type": "execute_result",
          "data": {
            "text/plain": [
              "229"
            ]
          },
          "metadata": {
            "tags": []
          },
          "execution_count": 17
        }
      ]
    },
    {
      "cell_type": "code",
      "metadata": {
        "id": "eeZQZc786YcG",
        "colab_type": "code",
        "colab": {
          "base_uri": "https://localhost:8080/",
          "height": 35
        },
        "outputId": "d95340eb-41e2-4404-d704-503713b69e0e"
      },
      "source": [
        "num_test = num_data - num_train\n",
        "num_test"
      ],
      "execution_count": 18,
      "outputs": [
        {
          "output_type": "execute_result",
          "data": {
            "text/plain": [
              "5"
            ]
          },
          "metadata": {
            "tags": []
          },
          "execution_count": 18
        }
      ]
    },
    {
      "cell_type": "code",
      "metadata": {
        "id": "T3C7FQfj6ZiS",
        "colab_type": "code",
        "colab": {
          "base_uri": "https://localhost:8080/",
          "height": 35
        },
        "outputId": "f8b7980c-7c6b-4837-f1be-8ee233b4687f"
      },
      "source": [
        "x_train = x_data[0:num_train]\n",
        "x_test = x_data[num_train:]\n",
        "len(x_train) + len(x_test)\n"
      ],
      "execution_count": 19,
      "outputs": [
        {
          "output_type": "execute_result",
          "data": {
            "text/plain": [
              "234"
            ]
          },
          "metadata": {
            "tags": []
          },
          "execution_count": 19
        }
      ]
    },
    {
      "cell_type": "code",
      "metadata": {
        "id": "3npQVM1I6b-d",
        "colab_type": "code",
        "colab": {
          "base_uri": "https://localhost:8080/",
          "height": 35
        },
        "outputId": "8cf000e3-7654-4599-c006-131ddfbc6f9a"
      },
      "source": [
        "y_train = y_data[0:num_train]\n",
        "y_test = y_data[num_train:]\n",
        "len(y_train) + len(y_test)"
      ],
      "execution_count": 20,
      "outputs": [
        {
          "output_type": "execute_result",
          "data": {
            "text/plain": [
              "234"
            ]
          },
          "metadata": {
            "tags": []
          },
          "execution_count": 20
        }
      ]
    },
    {
      "cell_type": "code",
      "metadata": {
        "id": "xb_k664R6ukd",
        "colab_type": "code",
        "colab": {
          "base_uri": "https://localhost:8080/",
          "height": 35
        },
        "outputId": "668befcc-e157-48e1-928d-579fac0e661b"
      },
      "source": [
        "num_x_signals = x_data.shape[1]\n",
        "num_x_signals"
      ],
      "execution_count": 21,
      "outputs": [
        {
          "output_type": "execute_result",
          "data": {
            "text/plain": [
              "6"
            ]
          },
          "metadata": {
            "tags": []
          },
          "execution_count": 21
        }
      ]
    },
    {
      "cell_type": "code",
      "metadata": {
        "id": "MQtDMBve6wZO",
        "colab_type": "code",
        "colab": {
          "base_uri": "https://localhost:8080/",
          "height": 35
        },
        "outputId": "c3ad8ba4-2d06-45f5-9ce6-03defd0231e9"
      },
      "source": [
        "num_y_signals = y_data.shape[1]\n",
        "num_y_signals"
      ],
      "execution_count": 22,
      "outputs": [
        {
          "output_type": "execute_result",
          "data": {
            "text/plain": [
              "1"
            ]
          },
          "metadata": {
            "tags": []
          },
          "execution_count": 22
        }
      ]
    },
    {
      "cell_type": "code",
      "metadata": {
        "id": "kNJeuFFR68qQ",
        "colab_type": "code",
        "colab": {
          "base_uri": "https://localhost:8080/",
          "height": 138
        },
        "outputId": "d6c4350f-fcc9-47e1-b473-777619b64f8a"
      },
      "source": [
        "x_train"
      ],
      "execution_count": 23,
      "outputs": [
        {
          "output_type": "execute_result",
          "data": {
            "text/plain": [
              "array([[ 0.,  0.,  0.,  0.,  0.,  0.],\n",
              "       [ 3.,  0.,  1.,  0.,  0.,  0.],\n",
              "       [ 3.,  0.,  2.,  0.,  1.,  0.],\n",
              "       ...,\n",
              "       [49., 13., 11.,  0.,  1.,  3.],\n",
              "       [34., 13., 12.,  0.,  1.,  3.],\n",
              "       [41.,  8., 15.,  0.,  1.,  3.]])"
            ]
          },
          "metadata": {
            "tags": []
          },
          "execution_count": 23
        }
      ]
    },
    {
      "cell_type": "code",
      "metadata": {
        "id": "LbKAKaKH6ygh",
        "colab_type": "code",
        "colab": {}
      },
      "source": [
        "# Scaler Class that shrinks number in between 0 and 1 for the purpose of neuron input\n",
        "x_scaler = MinMaxScaler()"
      ],
      "execution_count": 24,
      "outputs": []
    },
    {
      "cell_type": "code",
      "metadata": {
        "id": "XWUFWIwm63j7",
        "colab_type": "code",
        "colab": {
          "base_uri": "https://localhost:8080/",
          "height": 52
        },
        "outputId": "85ff56c4-4f51-4f4e-8ad5-50ad053e815b"
      },
      "source": [
        "print(\"Min:\", np.min(x_train))\n",
        "print(\"Max:\", np.max(x_train))"
      ],
      "execution_count": 25,
      "outputs": [
        {
          "output_type": "stream",
          "text": [
            "Min: 0.0\n",
            "Max: 167.0\n"
          ],
          "name": "stdout"
        }
      ]
    },
    {
      "cell_type": "code",
      "metadata": {
        "id": "PfEivhCH7PBg",
        "colab_type": "code",
        "colab": {
          "base_uri": "https://localhost:8080/",
          "height": 52
        },
        "outputId": "a3919782-cae4-4ad8-ca22-50d58b1621a2"
      },
      "source": [
        "x_train_scaled = x_scaler.fit_transform(x_train)\n",
        "print(\"Min:\", np.min(x_train_scaled))\n",
        "print(\"Max:\", np.max(x_train_scaled))"
      ],
      "execution_count": 26,
      "outputs": [
        {
          "output_type": "stream",
          "text": [
            "Min: 0.0\n",
            "Max: 1.0\n"
          ],
          "name": "stdout"
        }
      ]
    },
    {
      "cell_type": "code",
      "metadata": {
        "id": "dKXS6N3JEL3S",
        "colab_type": "code",
        "colab": {}
      },
      "source": [
        "x_test_scaled = x_scaler.transform(x_test)"
      ],
      "execution_count": 27,
      "outputs": []
    },
    {
      "cell_type": "code",
      "metadata": {
        "id": "x4QlkJ7eEO_n",
        "colab_type": "code",
        "colab": {}
      },
      "source": [
        "y_scaler = MinMaxScaler()\n",
        "y_train_scaled = y_scaler.fit_transform(y_train)\n",
        "y_test_scaled = y_scaler.transform(y_test)"
      ],
      "execution_count": 28,
      "outputs": []
    },
    {
      "cell_type": "code",
      "metadata": {
        "id": "h-gnVNcJEQCh",
        "colab_type": "code",
        "colab": {
          "base_uri": "https://localhost:8080/",
          "height": 52
        },
        "outputId": "f14ecf04-a7cc-4ed0-f306-52875983080d"
      },
      "source": [
        "print(x_train_scaled.shape)\n",
        "print(y_train_scaled.shape)"
      ],
      "execution_count": 29,
      "outputs": [
        {
          "output_type": "stream",
          "text": [
            "(229, 6)\n",
            "(229, 1)\n"
          ],
          "name": "stdout"
        }
      ]
    },
    {
      "cell_type": "code",
      "metadata": {
        "id": "pEoQwWgbER_v",
        "colab_type": "code",
        "colab": {}
      },
      "source": [
        "def batch_generator(batch_size, sequence_length):\n",
        "    \"\"\"\n",
        "    Generator function for creating random batches of training-data.\n",
        "    \"\"\"\n",
        "\n",
        "    # Infinite loop.\n",
        "    while True:\n",
        "        # Allocate a new array for the batch of input-signals.\n",
        "        x_shape = (batch_size, sequence_length, num_x_signals)\n",
        "        x_batch = np.zeros(shape=x_shape, dtype=np.float16)\n",
        "\n",
        "        # Allocate a new array for the batch of output-signals.\n",
        "        y_shape = (batch_size, sequence_length, num_y_signals)\n",
        "        y_batch = np.zeros(shape=y_shape, dtype=np.float16)\n",
        "\n",
        "        # Fill the batch with random sequences of data.\n",
        "        for i in range(batch_size):\n",
        "            # Get a random start-index.\n",
        "            # This points somewhere into the training-data.\n",
        "            idx = np.random.randint(num_train - sequence_length)\n",
        "            \n",
        "            # Copy the sequences of data starting at this index.\n",
        "            x_batch[i] = x_train_scaled[idx:idx+sequence_length]\n",
        "            y_batch[i] = y_train_scaled[idx:idx+sequence_length]\n",
        "        \n",
        "        yield (x_batch, y_batch)"
      ],
      "execution_count": 30,
      "outputs": []
    },
    {
      "cell_type": "code",
      "metadata": {
        "id": "P2pOkrFYET0j",
        "colab_type": "code",
        "colab": {}
      },
      "source": [
        "batch_size = 256"
      ],
      "execution_count": 31,
      "outputs": []
    },
    {
      "cell_type": "code",
      "metadata": {
        "id": "0KUc3JKOEViw",
        "colab_type": "code",
        "colab": {
          "base_uri": "https://localhost:8080/",
          "height": 35
        },
        "outputId": "aa60fbe1-aae8-451d-9ae1-c9d08ad42729"
      },
      "source": [
        "sequence_length = len(x_train_scaled) -1 \n",
        "sequence_length"
      ],
      "execution_count": 32,
      "outputs": [
        {
          "output_type": "execute_result",
          "data": {
            "text/plain": [
              "228"
            ]
          },
          "metadata": {
            "tags": []
          },
          "execution_count": 32
        }
      ]
    },
    {
      "cell_type": "code",
      "metadata": {
        "id": "4vVOeP7wEWDl",
        "colab_type": "code",
        "colab": {}
      },
      "source": [
        "generator = batch_generator(batch_size=batch_size,\n",
        "                            sequence_length=sequence_length)"
      ],
      "execution_count": 33,
      "outputs": []
    },
    {
      "cell_type": "code",
      "metadata": {
        "id": "dLzNGzANEWGi",
        "colab_type": "code",
        "colab": {}
      },
      "source": [
        "x_batch, y_batch = next(generator)"
      ],
      "execution_count": 34,
      "outputs": []
    },
    {
      "cell_type": "code",
      "metadata": {
        "id": "ph8HDh1lEWJJ",
        "colab_type": "code",
        "colab": {
          "base_uri": "https://localhost:8080/",
          "height": 52
        },
        "outputId": "19e7b37a-ca94-4e12-e7e7-58587c45e100"
      },
      "source": [
        "print(x_batch.shape)\n",
        "print(y_batch.shape)"
      ],
      "execution_count": 35,
      "outputs": [
        {
          "output_type": "stream",
          "text": [
            "(256, 228, 6)\n",
            "(256, 228, 1)\n"
          ],
          "name": "stdout"
        }
      ]
    },
    {
      "cell_type": "code",
      "metadata": {
        "id": "0QeSIvupEWLx",
        "colab_type": "code",
        "colab": {
          "base_uri": "https://localhost:8080/",
          "height": 282
        },
        "outputId": "71bcb46b-13be-463b-9105-86e8bd1eed40"
      },
      "source": [
        "batch = 0   # First sequence in the batch.\n",
        "signal = 0  # First signal from the 20 input-signals.\n",
        "seq = x_batch[batch, :, signal]\n",
        "plt.plot(seq)"
      ],
      "execution_count": 36,
      "outputs": [
        {
          "output_type": "execute_result",
          "data": {
            "text/plain": [
              "[<matplotlib.lines.Line2D at 0x7f1db146fef0>]"
            ]
          },
          "metadata": {
            "tags": []
          },
          "execution_count": 36
        },
        {
          "output_type": "display_data",
          "data": {
            "image/png": "[encoded data removed]",
            "text/plain": [
              "<Figure size 432x288 with 1 Axes>"
            ]
          },
          "metadata": {
            "tags": [],
            "needs_background": "light"
          }
        }
      ]
    },
    {
      "cell_type": "code",
      "metadata": {
        "id": "B6tvaE3HEWNw",
        "colab_type": "code",
        "colab": {
          "base_uri": "https://localhost:8080/",
          "height": 282
        },
        "outputId": "091d0de4-8181-4754-b6bd-cac090b658d4"
      },
      "source": [
        "seq = y_batch[batch, :, signal]\n",
        "plt.plot(seq)"
      ],
      "execution_count": 37,
      "outputs": [
        {
          "output_type": "execute_result",
          "data": {
            "text/plain": [
              "[<matplotlib.lines.Line2D at 0x7f1db13d2cf8>]"
            ]
          },
          "metadata": {
            "tags": []
          },
          "execution_count": 37
        },
        {
          "output_type": "display_data",
          "data": {
            "image/png": "[encoded data removed]",
            "text/plain": [
              "<Figure size 432x288 with 1 Axes>"
            ]
          },
          "metadata": {
            "tags": [],
            "needs_background": "light"
          }
        }
      ]
    },
    {
      "cell_type": "code",
      "metadata": {
        "id": "mlts8dSBFv0n",
        "colab_type": "code",
        "colab": {}
      },
      "source": [
        "validation_data = (np.expand_dims(x_test_scaled, axis=0),\n",
        "                   np.expand_dims(y_test_scaled, axis=0))"
      ],
      "execution_count": 38,
      "outputs": []
    },
    {
      "cell_type": "code",
      "metadata": {
        "id": "Mpu8EyKgF1qd",
        "colab_type": "code",
        "colab": {}
      },
      "source": [
        "model = Sequential()"
      ],
      "execution_count": 39,
      "outputs": []
    },
    {
      "cell_type": "code",
      "metadata": {
        "id": "HsnW25TOF3Tu",
        "colab_type": "code",
        "colab": {}
      },
      "source": [
        "model.add(GRU(units=512,\n",
        "              return_sequences=True,\n",
        "              input_shape=(None, num_x_signals,)))"
      ],
      "execution_count": 40,
      "outputs": []
    },
    {
      "cell_type": "code",
      "metadata": {
        "id": "Abd_k8HsGOV5",
        "colab_type": "code",
        "colab": {}
      },
      "source": [
        "model.add(Dense(num_y_signals, activation='sigmoid'))"
      ],
      "execution_count": 41,
      "outputs": []
    },
    {
      "cell_type": "code",
      "metadata": {
        "id": "hgQqz7JDGPdR",
        "colab_type": "code",
        "colab": {}
      },
      "source": [
        "if False:\n",
        "    from tensorflow.python.keras.initializers import RandomUniform\n",
        "\n",
        "    # Maybe use lower init-ranges.\n",
        "    init = RandomUniform(minval=-0.05, maxval=0.05)\n",
        "\n",
        "    model.add(Dense(num_y_signals,\n",
        "                    activation='linear',\n",
        "                    kernel_initializer=init))"
      ],
      "execution_count": 42,
      "outputs": []
    },
    {
      "cell_type": "code",
      "metadata": {
        "id": "wVEuO7w_GQwx",
        "colab_type": "code",
        "colab": {}
      },
      "source": [
        "# ignoring data range, based on time steps\n",
        "# warmup_steps = len(x_train) + len(x_test) - 16*7\n",
        "\n",
        "# 바이러스 V형, S형은 더이상 검출되지 않으므로, 이태원클럽 이후에 퍼진 GH형만 따져보자\n",
        "# 즉 이태원 이후의 데이터만 신경을 쓰기로 한다. 1월 24일 ~ 5월 2일 데이터는 무시\n",
        "warmup_steps = 100"
      ],
      "execution_count": 43,
      "outputs": []
    },
    {
      "cell_type": "code",
      "metadata": {
        "id": "qSE8R9YRGSXS",
        "colab_type": "code",
        "colab": {}
      },
      "source": [
        "def loss_mse_warmup(y_true, y_pred):\n",
        "    \"\"\"\n",
        "    Calculate the Mean Squared Error between y_true and y_pred,\n",
        "    but ignore the beginning \"warmup\" part of the sequences.\n",
        "    \n",
        "    y_true is the desired output.\n",
        "    y_pred is the model's output.\n",
        "    \"\"\"\n",
        "\n",
        "    # The shape of both input tensors are:\n",
        "    # [batch_size, sequence_length, num_y_signals].\n",
        "\n",
        "    # Ignore the \"warmup\" parts of the sequences\n",
        "    # by taking slices of the tensors.\n",
        "    y_true_slice = y_true[:, warmup_steps:, :]\n",
        "    y_pred_slice = y_pred[:, warmup_steps:, :]\n",
        "\n",
        "    # These sliced tensors both have this shape:\n",
        "    # [batch_size, sequence_length - warmup_steps, num_y_signals]\n",
        "\n",
        "    # Calculat the Mean Squared Error and use it as loss.\n",
        "    mse = mean(square(y_true_slice - y_pred_slice))\n",
        "    \n",
        "    return mse"
      ],
      "execution_count": 44,
      "outputs": []
    },
    {
      "cell_type": "code",
      "metadata": {
        "id": "YaG7NvJ6GTNx",
        "colab_type": "code",
        "colab": {}
      },
      "source": [
        "optimizer = RMSprop(lr=1e-3)"
      ],
      "execution_count": 45,
      "outputs": []
    },
    {
      "cell_type": "code",
      "metadata": {
        "id": "s5iPM7S-GUpf",
        "colab_type": "code",
        "colab": {}
      },
      "source": [
        "model.compile(loss=loss_mse_warmup, optimizer=optimizer)"
      ],
      "execution_count": 46,
      "outputs": []
    },
    {
      "cell_type": "code",
      "metadata": {
        "id": "T5eEKCL8GVhS",
        "colab_type": "code",
        "colab": {
          "base_uri": "https://localhost:8080/",
          "height": 225
        },
        "outputId": "4b9d9150-2ada-40a2-8e5d-787a5c4c067b"
      },
      "source": [
        "model.summary()"
      ],
      "execution_count": 47,
      "outputs": [
        {
          "output_type": "stream",
          "text": [
            "Model: \"sequential\"\n",
            "_________________________________________________________________\n",
            "Layer (type)                 Output Shape              Param #   \n",
            "=================================================================\n",
            "gru (GRU)                    (None, None, 512)         798720    \n",
            "_________________________________________________________________\n",
            "dense (Dense)                (None, None, 1)           513       \n",
            "=================================================================\n",
            "Total params: 799,233\n",
            "Trainable params: 799,233\n",
            "Non-trainable params: 0\n",
            "_________________________________________________________________\n"
          ],
          "name": "stdout"
        }
      ]
    },
    {
      "cell_type": "code",
      "metadata": {
        "id": "LP57S1KvGWdQ",
        "colab_type": "code",
        "colab": {}
      },
      "source": [
        "path_checkpoint = '/content/covid19_unknown_spread/23_checkpoint.keras'\n",
        "callback_checkpoint = ModelCheckpoint(filepath=path_checkpoint,\n",
        "                                      monitor='val_loss',\n",
        "                                      verbose=1,\n",
        "                                      save_weights_only=True,\n",
        "                                      save_best_only=True)"
      ],
      "execution_count": 48,
      "outputs": []
    },
    {
      "cell_type": "code",
      "metadata": {
        "id": "1cMHbS3ZGZDN",
        "colab_type": "code",
        "colab": {}
      },
      "source": [
        "callback_early_stopping = EarlyStopping(monitor='val_loss',\n",
        "                                        patience=10, verbose=1) # stop when result is not improved for 10 epochs"
      ],
      "execution_count": 49,
      "outputs": []
    },
    {
      "cell_type": "code",
      "metadata": {
        "id": "M2_7bPQdGaGK",
        "colab_type": "code",
        "colab": {}
      },
      "source": [
        "callback_tensorboard = TensorBoard(log_dir='./23_logs/',\n",
        "                                   histogram_freq=0,\n",
        "                                   write_graph=False)"
      ],
      "execution_count": 50,
      "outputs": []
    },
    {
      "cell_type": "code",
      "metadata": {
        "id": "CetglKPlGa44",
        "colab_type": "code",
        "colab": {}
      },
      "source": [
        "callback_reduce_lr = ReduceLROnPlateau(monitor='val_loss',\n",
        "                                       factor=0.1,\n",
        "                                       min_lr=1e-3,# minimum learning rate\n",
        "                                       patience=0,\n",
        "                                       verbose=1)"
      ],
      "execution_count": 51,
      "outputs": []
    },
    {
      "cell_type": "code",
      "metadata": {
        "id": "mwSfEPGWGb2z",
        "colab_type": "code",
        "colab": {}
      },
      "source": [
        "callbacks = [callback_early_stopping,\n",
        "             callback_checkpoint,\n",
        "             callback_tensorboard,\n",
        "             callback_reduce_lr]"
      ],
      "execution_count": 52,
      "outputs": []
    },
    {
      "cell_type": "code",
      "metadata": {
        "id": "QDw1GWFUGc2u",
        "colab_type": "code",
        "colab": {
          "base_uri": "https://localhost:8080/",
          "height": 1000
        },
        "outputId": "68fbceab-6440-4175-d60c-94f6d0e5d07c"
      },
      "source": [
        "%%time\n",
        "model.fit(x=generator,\n",
        "          epochs=20,\n",
        "          steps_per_epoch=100,\n",
        "          validation_data=validation_data,\n",
        "          callbacks=callbacks)"
      ],
      "execution_count": 53,
      "outputs": [
        {
          "output_type": "stream",
          "text": [
            "Epoch 1/20\n",
            "  1/100 [..............................] - ETA: 0s - loss: 0.1533WARNING:tensorflow:From /usr/local/lib/python3.6/dist-packages/tensorflow/python/ops/summary_ops_v2.py:1277: stop (from tensorflow.python.eager.profiler) is deprecated and will be removed after 2020-07-01.\n",
            "Instructions for updating:\n",
            "use `tf.profiler.experimental.stop` instead.\n",
            "  2/100 [..............................] - ETA: 5s - loss: 0.1247WARNING:tensorflow:Callbacks method `on_train_batch_end` is slow compared to the batch time (batch time: 0.0331s vs `on_train_batch_end` time: 0.0860s). Check your callbacks.\n",
            " 99/100 [============================>.] - ETA: 0s - loss: 0.0380\n",
            "Epoch 00001: val_loss did not improve from inf\n",
            "\n",
            "Epoch 00001: ReduceLROnPlateau reducing learning rate to 0.001.\n",
            "100/100 [==============================] - 5s 49ms/step - loss: 0.0379 - val_loss: nan\n",
            "Epoch 2/20\n",
            " 99/100 [============================>.] - ETA: 0s - loss: 0.0739\n",
            "Epoch 00002: val_loss did not improve from inf\n",
            "\n",
            "Epoch 00002: ReduceLROnPlateau reducing learning rate to 0.001.\n",
            "100/100 [==============================] - 4s 43ms/step - loss: 0.0742 - val_loss: nan\n",
            "Epoch 3/20\n",
            " 99/100 [============================>.] - ETA: 0s - loss: 0.0813\n",
            "Epoch 00003: val_loss did not improve from inf\n",
            "\n",
            "Epoch 00003: ReduceLROnPlateau reducing learning rate to 0.001.\n",
            "100/100 [==============================] - 4s 43ms/step - loss: 0.0807 - val_loss: nan\n",
            "Epoch 4/20\n",
            " 99/100 [============================>.] - ETA: 0s - loss: 0.0225\n",
            "Epoch 00004: val_loss did not improve from inf\n",
            "\n",
            "Epoch 00004: ReduceLROnPlateau reducing learning rate to 0.001.\n",
            "100/100 [==============================] - 4s 43ms/step - loss: 0.0225 - val_loss: nan\n",
            "Epoch 5/20\n",
            " 99/100 [============================>.] - ETA: 0s - loss: 0.0139\n",
            "Epoch 00005: val_loss did not improve from inf\n",
            "\n",
            "Epoch 00005: ReduceLROnPlateau reducing learning rate to 0.001.\n",
            "100/100 [==============================] - 4s 43ms/step - loss: 0.0138 - val_loss: nan\n",
            "Epoch 6/20\n",
            " 99/100 [============================>.] - ETA: 0s - loss: 0.0070\n",
            "Epoch 00006: val_loss did not improve from inf\n",
            "\n",
            "Epoch 00006: ReduceLROnPlateau reducing learning rate to 0.001.\n",
            "100/100 [==============================] - 4s 43ms/step - loss: 0.0070 - val_loss: nan\n",
            "Epoch 7/20\n",
            " 99/100 [============================>.] - ETA: 0s - loss: 0.0032\n",
            "Epoch 00007: val_loss did not improve from inf\n",
            "\n",
            "Epoch 00007: ReduceLROnPlateau reducing learning rate to 0.001.\n",
            "100/100 [==============================] - 4s 43ms/step - loss: 0.0032 - val_loss: nan\n",
            "Epoch 8/20\n",
            " 99/100 [============================>.] - ETA: 0s - loss: 0.0305\n",
            "Epoch 00008: val_loss did not improve from inf\n",
            "\n",
            "Epoch 00008: ReduceLROnPlateau reducing learning rate to 0.001.\n",
            "100/100 [==============================] - 4s 43ms/step - loss: 0.0302 - val_loss: nan\n",
            "Epoch 9/20\n",
            " 99/100 [============================>.] - ETA: 0s - loss: 0.0150\n",
            "Epoch 00009: val_loss did not improve from inf\n",
            "\n",
            "Epoch 00009: ReduceLROnPlateau reducing learning rate to 0.001.\n",
            "100/100 [==============================] - 4s 43ms/step - loss: 0.0150 - val_loss: nan\n",
            "Epoch 10/20\n",
            " 99/100 [============================>.] - ETA: 0s - loss: 0.0199\n",
            "Epoch 00010: val_loss did not improve from inf\n",
            "\n",
            "Epoch 00010: ReduceLROnPlateau reducing learning rate to 0.001.\n",
            "100/100 [==============================] - 4s 43ms/step - loss: 0.0198 - val_loss: nan\n",
            "Epoch 00010: early stopping\n",
            "CPU times: user 46 s, sys: 8.65 s, total: 54.6 s\n",
            "Wall time: 48 s\n"
          ],
          "name": "stdout"
        },
        {
          "output_type": "execute_result",
          "data": {
            "text/plain": [
              "<tensorflow.python.keras.callbacks.History at 0x7f1da01de320>"
            ]
          },
          "metadata": {
            "tags": []
          },
          "execution_count": 53
        }
      ]
    },
    {
      "cell_type": "code",
      "metadata": {
        "id": "rfeAzPNIGn0D",
        "colab_type": "code",
        "colab": {}
      },
      "source": [
        "def plot_comparison(start_idx, length=100, train=True):\n",
        "    \"\"\"\n",
        "    Plot the predicted and true output-signals.\n",
        "    \n",
        "    :param start_idx: Start-index for the time-series.\n",
        "    :param length: Sequence-length to process and plot.\n",
        "    :param train: Boolean whether to use training- or test-set.\n",
        "    \"\"\"\n",
        "    \n",
        "    if train:\n",
        "        # Use training-data.\n",
        "        x = x_train_scaled\n",
        "        y_true = y_train\n",
        "    if not train:\n",
        "        # Use test-data.\n",
        "        x = x_test_scaled\n",
        "        y_true = y_test\n",
        "    \n",
        "    # End-index for the sequences.\n",
        "    end_idx = start_idx + length\n",
        "    \n",
        "    # Select the sequences from the given start-index and\n",
        "    # of the given length.\n",
        "    x = x[start_idx:end_idx]\n",
        "    y_true = y_true[start_idx:end_idx]\n",
        "    \n",
        "    # Input-signals for the model.\n",
        "    x = np.expand_dims(x, axis=0)\n",
        "\n",
        "    # Use the model to predict the output-signals.\n",
        "    y_pred = model.predict(x)\n",
        "    \n",
        "    # The output of the model is between 0 and 1.\n",
        "    # Do an inverse map to get it back to the scale\n",
        "    # of the original data-set.\n",
        "    y_pred_rescaled = y_scaler.inverse_transform(y_pred[0])\n",
        "    print(len(y_pred_rescaled))\n",
        "\n",
        "    if train:\n",
        "      # 바이러스 V형, S형은 더이상 검출되지 않으므로, 이태원클럽 이후에 퍼진 GH형만 따져보자\n",
        "      # 즉 이태원 이후의 데이터만 신경을 쓰기로 한다. 1월 24일 ~ 5월 2일 데이터는 무시\n",
        "      warmup_steps = 100\n",
        "    if not train:\n",
        "      warmup_steps = 0\n",
        "    \n",
        "    # For each output-signal.\n",
        "    for signal in range(len(target_names)):\n",
        "        # Get the output-signal predicted by the model.\n",
        "        signal_pred = y_pred_rescaled[:, signal]\n",
        "        \n",
        "        # Get the true output-signal from the data-set.\n",
        "        print(signal)\n",
        "        signal_true = y_true[:, signal]\n",
        "\n",
        "        # Make the plotting-canvas bigger.\n",
        "        plt.figure(figsize=(15,5))\n",
        "        \n",
        "        # Plot and compare the two signals.\n",
        "        plt.plot(signal_true, label='true')\n",
        "        plt.plot(signal_pred, label='pred')\n",
        "        \n",
        "        # Plot grey box for warmup-period.\n",
        "        p = plt.axvspan(0, warmup_steps, facecolor='black', alpha=0.15)\n",
        "        \n",
        "        # Plot labels etc.\n",
        "        plt.ylabel(target_names[signal])\n",
        "        plt.legend()\n",
        "        plt.show()\n",
        "    return y_pred_rescaled"
      ],
      "execution_count": 64,
      "outputs": []
    },
    {
      "cell_type": "code",
      "metadata": {
        "id": "u3DogFygGrdD",
        "colab_type": "code",
        "colab": {
          "base_uri": "https://localhost:8080/",
          "height": 1000
        },
        "outputId": "afcafe51-fd31-4af7-ac37-6c5629cb2aa0"
      },
      "source": [
        "plot_comparison(start_idx=0, length=len(x_data), train=True)"
      ],
      "execution_count": 65,
      "outputs": [
        {
          "output_type": "stream",
          "text": [
            "229\n",
            "0\n"
          ],
          "name": "stdout"
        },
        {
          "output_type": "display_data",
          "data": {
            "image/png": "[encoded data removed]",
            "text/plain": [
              "<Figure size 1080x360 with 1 Axes>"
            ]
          },
          "metadata": {
            "tags": [],
            "needs_background": "light"
          }
        },
        {
          "output_type": "execute_result",
          "data": {
            "text/plain": [
              "array([[ 57.312984 ],\n",
              "       [ 51.761734 ],\n",
              "       [ 56.05142  ],\n",
              "       [104.83153  ],\n",
              "       [145.37988  ],\n",
              "       [156.16724  ],\n",
              "       [ 53.311874 ],\n",
              "       [ 48.21708  ],\n",
              "       [101.52176  ],\n",
              "       [ 78.42078  ],\n",
              "       [ 12.561055 ],\n",
              "       [  9.291628 ],\n",
              "       [ 11.90494  ],\n",
              "       [  6.98824  ],\n",
              "       [  4.9819684],\n",
              "       [  3.633795 ],\n",
              "       [  2.8137786],\n",
              "       [  2.3635764],\n",
              "       [  1.8404732],\n",
              "       [  1.8188742],\n",
              "       [  1.2806058],\n",
              "       [  1.6929052],\n",
              "       [  2.675047 ],\n",
              "       [  2.813144 ],\n",
              "       [  2.976582 ],\n",
              "       [  2.5959318],\n",
              "       [  3.727319 ],\n",
              "       [  9.111102 ],\n",
              "       [ 11.115515 ],\n",
              "       [ 12.168811 ],\n",
              "       [ 10.82099  ],\n",
              "       [  9.075847 ],\n",
              "       [  6.2281446],\n",
              "       [ 13.640325 ],\n",
              "       [  4.998002 ],\n",
              "       [  5.683496 ],\n",
              "       [  4.4116564],\n",
              "       [  6.2320423],\n",
              "       [  8.64151  ],\n",
              "       [ 10.50536  ],\n",
              "       [ 25.861345 ],\n",
              "       [ 29.88537  ],\n",
              "       [ 33.52653  ],\n",
              "       [ 20.708187 ],\n",
              "       [ 12.543764 ],\n",
              "       [  9.112647 ],\n",
              "       [  6.838434 ],\n",
              "       [ 14.868576 ],\n",
              "       [  6.0390787],\n",
              "       [  6.5120826],\n",
              "       [  7.96036  ],\n",
              "       [ 13.406693 ],\n",
              "       [ 11.642177 ],\n",
              "       [  9.518444 ],\n",
              "       [ 14.667147 ],\n",
              "       [ 10.795938 ],\n",
              "       [ 13.665993 ],\n",
              "       [ 13.965054 ],\n",
              "       [  9.9332075],\n",
              "       [  9.587748 ],\n",
              "       [ 11.814918 ],\n",
              "       [ 23.198135 ],\n",
              "       [ 13.977274 ],\n",
              "       [ 13.793769 ],\n",
              "       [ 13.180856 ],\n",
              "       [ 19.68241  ],\n",
              "       [ 25.130999 ],\n",
              "       [ 18.180395 ],\n",
              "       [ 28.190844 ],\n",
              "       [ 13.322666 ],\n",
              "       [ 16.492704 ],\n",
              "       [ 13.150246 ],\n",
              "       [  8.555572 ],\n",
              "       [  4.3921757],\n",
              "       [  4.2205353],\n",
              "       [  5.5548825],\n",
              "       [  3.2845416],\n",
              "       [  2.8373861],\n",
              "       [  2.757579 ],\n",
              "       [  2.4299707],\n",
              "       [  2.4583442],\n",
              "       [  2.4954379],\n",
              "       [  3.567229 ],\n",
              "       [  2.0116396],\n",
              "       [  2.0095854],\n",
              "       [  2.1716013],\n",
              "       [  2.240184 ],\n",
              "       [  2.923792 ],\n",
              "       [  3.336749 ],\n",
              "       [  6.031093 ],\n",
              "       [  3.2949374],\n",
              "       [  3.3834627],\n",
              "       [  4.661996 ],\n",
              "       [  7.0460267],\n",
              "       [  6.1386166],\n",
              "       [  9.03434  ],\n",
              "       [ 16.259209 ],\n",
              "       [  8.834868 ],\n",
              "       [ 15.139729 ],\n",
              "       [  8.665138 ],\n",
              "       [  8.268411 ],\n",
              "       [ 12.490999 ],\n",
              "       [ 18.403688 ],\n",
              "       [ 36.238544 ],\n",
              "       [ 18.253687 ],\n",
              "       [ 18.621923 ],\n",
              "       [ 20.300585 ],\n",
              "       [ 15.033934 ],\n",
              "       [  9.316557 ],\n",
              "       [  9.280015 ],\n",
              "       [ 20.764145 ],\n",
              "       [ 10.794116 ],\n",
              "       [ 10.9604225],\n",
              "       [  8.888572 ],\n",
              "       [  6.3254724],\n",
              "       [  5.9250317],\n",
              "       [  7.142552 ],\n",
              "       [ 13.428289 ],\n",
              "       [ 14.474186 ],\n",
              "       [ 25.142092 ],\n",
              "       [ 30.38823  ],\n",
              "       [ 20.709637 ],\n",
              "       [ 14.84204  ],\n",
              "       [ 11.5576515],\n",
              "       [ 28.794289 ],\n",
              "       [ 23.81512  ],\n",
              "       [ 29.84507  ],\n",
              "       [ 26.168756 ],\n",
              "       [ 22.69708  ],\n",
              "       [ 19.80086  ],\n",
              "       [ 22.137579 ],\n",
              "       [ 33.30401  ],\n",
              "       [ 17.435125 ],\n",
              "       [ 22.158155 ],\n",
              "       [ 27.254751 ],\n",
              "       [ 36.07225  ],\n",
              "       [ 17.792475 ],\n",
              "       [ 13.672835 ],\n",
              "       [ 20.65574  ],\n",
              "       [ 16.717896 ],\n",
              "       [ 26.094543 ],\n",
              "       [ 28.672832 ],\n",
              "       [ 22.904446 ],\n",
              "       [ 15.605367 ],\n",
              "       [ 11.5255   ],\n",
              "       [ 16.490728 ],\n",
              "       [ 10.664743 ],\n",
              "       [ 12.506219 ],\n",
              "       [ 17.559875 ],\n",
              "       [ 12.886918 ],\n",
              "       [  9.903909 ],\n",
              "       [  8.413755 ],\n",
              "       [ 15.083452 ],\n",
              "       [  8.8058605],\n",
              "       [ 14.256564 ],\n",
              "       [ 15.122761 ],\n",
              "       [ 11.443537 ],\n",
              "       [ 10.723343 ],\n",
              "       [  9.062053 ],\n",
              "       [ 13.476682 ],\n",
              "       [  8.863595 ],\n",
              "       [  9.650098 ],\n",
              "       [ 11.012772 ],\n",
              "       [  8.575378 ],\n",
              "       [  9.077491 ],\n",
              "       [ 12.507774 ],\n",
              "       [ 22.932442 ],\n",
              "       [ 10.168869 ],\n",
              "       [ 11.945255 ],\n",
              "       [ 12.774428 ],\n",
              "       [  9.2542925],\n",
              "       [  9.647952 ],\n",
              "       [ 11.93511  ],\n",
              "       [ 29.690733 ],\n",
              "       [ 20.555197 ],\n",
              "       [ 28.445372 ],\n",
              "       [ 34.975117 ],\n",
              "       [ 20.218048 ],\n",
              "       [ 13.2259865],\n",
              "       [ 12.420006 ],\n",
              "       [ 20.984621 ],\n",
              "       [ 12.399161 ],\n",
              "       [ 11.625109 ],\n",
              "       [ 11.720896 ],\n",
              "       [  8.468554 ],\n",
              "       [  6.010748 ],\n",
              "       [  6.165048 ],\n",
              "       [ 13.869529 ],\n",
              "       [  7.114092 ],\n",
              "       [  8.737326 ],\n",
              "       [ 10.35013  ],\n",
              "       [ 18.334005 ],\n",
              "       [ 24.695866 ],\n",
              "       [ 36.47998  ],\n",
              "       [ 55.503716 ],\n",
              "       [ 36.07951  ],\n",
              "       [ 86.33523  ],\n",
              "       [111.17948  ],\n",
              "       [109.26385  ],\n",
              "       [116.543724 ],\n",
              "       [115.99761  ],\n",
              "       [133.87144  ],\n",
              "       [ 92.82859  ],\n",
              "       [129.12904  ],\n",
              "       [113.90844  ],\n",
              "       [147.96597  ],\n",
              "       [152.94757  ],\n",
              "       [115.71969  ],\n",
              "       [158.7981   ],\n",
              "       [ 73.203415 ],\n",
              "       [107.60794  ],\n",
              "       [ 86.797134 ],\n",
              "       [ 68.28485  ],\n",
              "       [ 50.3591   ],\n",
              "       [ 54.73511  ],\n",
              "       [ 50.644207 ],\n",
              "       [ 46.342705 ],\n",
              "       [ 73.87784  ],\n",
              "       [ 21.35144  ],\n",
              "       [ 46.679447 ],\n",
              "       [ 67.073235 ],\n",
              "       [ 48.488422 ],\n",
              "       [ 34.11161  ],\n",
              "       [ 35.951126 ],\n",
              "       [ 35.44245  ],\n",
              "       [ 52.206856 ],\n",
              "       [ 65.05458  ],\n",
              "       [ 41.279976 ],\n",
              "       [ 20.73534  ]], dtype=float32)"
            ]
          },
          "metadata": {
            "tags": []
          },
          "execution_count": 65
        }
      ]
    },
    {
      "cell_type": "code",
      "metadata": {
        "id": "TIMUP_PTI3tP",
        "colab_type": "code",
        "colab": {
          "base_uri": "https://localhost:8080/",
          "height": 441
        },
        "outputId": "4938ba86-c847-466e-9d80-c25da78def47"
      },
      "source": [
        "plot_comparison(start_idx=0, length=5, train=False)"
      ],
      "execution_count": 66,
      "outputs": [
        {
          "output_type": "stream",
          "text": [
            "5\n",
            "0\n"
          ],
          "name": "stdout"
        },
        {
          "output_type": "display_data",
          "data": {
            "image/png": "[encoded data removed]",
            "text/plain": [
              "<Figure size 1080x360 with 1 Axes>"
            ]
          },
          "metadata": {
            "tags": [],
            "needs_background": "light"
          }
        },
        {
          "output_type": "execute_result",
          "data": {
            "text/plain": [
              "array([[135.94965],\n",
              "       [163.57576],\n",
              "       [164.89693],\n",
              "       [139.16423],\n",
              "       [ 66.96966]], dtype=float32)"
            ]
          },
          "metadata": {
            "tags": []
          },
          "execution_count": 66
        }
      ]
    },
    {
      "cell_type": "code",
      "metadata": {
        "id": "fzAuLZBErFLw",
        "colab_type": "code",
        "colab": {}
      },
      "source": [
        ""
      ],
      "execution_count": null,
      "outputs": []
    }
  ]
}